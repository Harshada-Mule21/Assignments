{
 "cells": [
  {
   "cell_type": "markdown",
   "id": "1509546a",
   "metadata": {},
   "source": [
    "# For Loop :-"
   ]
  },
  {
   "cell_type": "markdown",
   "id": "a15db223",
   "metadata": {},
   "source": []
  },
  {
   "cell_type": "markdown",
   "id": "af9272de",
   "metadata": {},
   "source": [
    "# 1. Write a Python program to print numbers from 1 to 10 using a for loop."
   ]
  },
  {
   "cell_type": "code",
   "execution_count": 1,
   "id": "3aea62f9",
   "metadata": {},
   "outputs": [
    {
     "name": "stdout",
     "output_type": "stream",
     "text": [
      "1\n",
      "2\n",
      "3\n",
      "4\n",
      "5\n",
      "6\n",
      "7\n",
      "8\n",
      "9\n",
      "10\n"
     ]
    }
   ],
   "source": [
    "for i in range(1,11):\n",
    "    print(i)"
   ]
  },
  {
   "cell_type": "markdown",
   "id": "d238024c",
   "metadata": {},
   "source": [
    "# 2. Explain the difference between a for loop and a while loop in Python."
   ]
  },
  {
   "cell_type": "raw",
   "id": "866bd3ca",
   "metadata": {},
   "source": [
    "For loop :\n",
    "\n",
    "    For loop is used to iterate over a sequence of items.\n",
    "    For loops are designed for iterating over a sequence of items. Eg. list, tuple, etc.\n",
    "    For loop require a sequence to iterate over.\n",
    "    For loop is typically used for iterating over a fixed sequence of items.\n",
    "    For loop is more efficient than a while loop when iterating over sequences, since the number of iterations is predetermined and the loop can be optimized accordingly.\n",
    "    \n",
    "    \n",
    "    \n",
    "While loop :\n",
    "\n",
    "    While loop is used to repeatedly execute a block of statements while a condition is true.\n",
    "    While loop is used when the number of iterations is not known in advance or when we want to repeat a block of code until a certain condition is met.\n",
    "    While the loop requires an initial condition that is tested at the beginning of the loop.\n",
    "    While loop is used for more complex control flow situations.\n",
    "    While a loop may be more efficient in certain situations where the condition being tested can be evaluated quickly.\n",
    "    "
   ]
  },
  {
   "cell_type": "markdown",
   "id": "4f765dad",
   "metadata": {},
   "source": [
    "# 3. Write a Python program to calculate the sum of all numbers from 1 to 100 using a for loop."
   ]
  },
  {
   "cell_type": "code",
   "execution_count": 2,
   "id": "69019900",
   "metadata": {},
   "outputs": [
    {
     "name": "stdout",
     "output_type": "stream",
     "text": [
      "Sum of numbers from 1 to 100:  {5050}\n"
     ]
    }
   ],
   "source": [
    "s=0\n",
    "for i in range(1,101):\n",
    "    s+=i\n",
    "print(f\"Sum of numbers from 1 to 100: \",{s})"
   ]
  },
  {
   "cell_type": "markdown",
   "id": "932ec6d2",
   "metadata": {},
   "source": [
    "# 4. How do you iterate through a list using a for loop in Python?"
   ]
  },
  {
   "cell_type": "code",
   "execution_count": 3,
   "id": "32b09c73",
   "metadata": {},
   "outputs": [
    {
     "name": "stdout",
     "output_type": "stream",
     "text": [
      "New York\n",
      "Beijing\n",
      "Cairo\n",
      "Mumbai\n",
      "Mexico\n"
     ]
    }
   ],
   "source": [
    "# for item in list:\n",
    "    \n",
    "# In this syntax, the for loop statement assigns an individual element of the list to the item variable in each iteration.\n",
    "\n",
    "# Inside the body of the loop, you can manipulate each list element individually.\n",
    "\n",
    "# For example, the following defines a list of cities and uses a for loop to iterate over the list:\n",
    "\n",
    "cities = ['New York', 'Beijing', 'Cairo', 'Mumbai', 'Mexico']\n",
    "\n",
    "for city in cities:\n",
    "    print(city)"
   ]
  },
  {
   "cell_type": "code",
   "execution_count": 4,
   "id": "60d698fa",
   "metadata": {},
   "outputs": [
    {
     "name": "stdout",
     "output_type": "stream",
     "text": [
      "(0, 'New York')\n",
      "(1, 'Beijing')\n",
      "(2, 'Cairo')\n",
      "(3, 'Mumbai')\n",
      "(4, 'Mexico')\n"
     ]
    }
   ],
   "source": [
    "# Using Python for loop to iterate over a list with index\n",
    "# Sometimes, you may want to access indexes of elements inside the loop. In these cases, you can use the enumerate() function.\n",
    "\n",
    "# The enumerate() function returns a tuple that contains the current index and element of the list.\n",
    "\n",
    "# The following example defines a list of cities and uses a for loop with the enumerate() function to iterate over the list:\n",
    "\n",
    "cities = ['New York', 'Beijing', 'Cairo', 'Mumbai', 'Mexico']\n",
    "\n",
    "for item in enumerate(cities):\n",
    "    print(item)"
   ]
  },
  {
   "cell_type": "markdown",
   "id": "580f6355",
   "metadata": {},
   "source": [
    "# 5. Write a Python program to find the product of all elements in a list using a for loop."
   ]
  },
  {
   "cell_type": "code",
   "execution_count": 5,
   "id": "11c0844f",
   "metadata": {},
   "outputs": [
    {
     "name": "stdout",
     "output_type": "stream",
     "text": [
      "120\n"
     ]
    }
   ],
   "source": [
    "lst = [1,2,3,4,5]\n",
    "p = 1     #Initializing a variable=1\n",
    "for i in lst:\n",
    "    p*=i    #calculating product\n",
    "print(p)"
   ]
  },
  {
   "cell_type": "markdown",
   "id": "4f6e0488",
   "metadata": {},
   "source": [
    "# 6. Create a Python program that prints all even numbers from 1 to 20 using a for loop."
   ]
  },
  {
   "cell_type": "code",
   "execution_count": 6,
   "id": "bf1df8f3",
   "metadata": {},
   "outputs": [
    {
     "name": "stdout",
     "output_type": "stream",
     "text": [
      "Even numbers are:\n",
      "2 ,4 ,6 ,8 ,10 ,12 ,14 ,16 ,18 ,20 ,"
     ]
    }
   ],
   "source": [
    "print(\"Even numbers are:\")\n",
    "for i in range(1,21):\n",
    "    if i%2 == 0:\n",
    "        print(i,',',end='')"
   ]
  },
  {
   "cell_type": "markdown",
   "id": "b3eddd6c",
   "metadata": {},
   "source": [
    "# 7. Write a Python program that calculates the factorial of a number using a for loop."
   ]
  },
  {
   "cell_type": "code",
   "execution_count": 7,
   "id": "5082465c",
   "metadata": {},
   "outputs": [
    {
     "name": "stdout",
     "output_type": "stream",
     "text": [
      "Factorial of given number:  120\n"
     ]
    }
   ],
   "source": [
    "n = 5\n",
    "fact = 1\n",
    "for i in range(1,n+1):\n",
    "    fact = fact*i\n",
    "print(\"Factorial of given number: \",fact)"
   ]
  },
  {
   "cell_type": "markdown",
   "id": "dfa31118",
   "metadata": {},
   "source": [
    "# 8. How can you iterate through the characters of a string using a for loop in Python?"
   ]
  },
  {
   "cell_type": "raw",
   "id": "4e4a68cb",
   "metadata": {},
   "source": [
    "You can use for loop to iterate over a string and get each character of the string. Let’s take a string and iterate it using for loop, for every iteration to get each character presented in the string."
   ]
  },
  {
   "cell_type": "code",
   "execution_count": 9,
   "id": "9f7b16d9",
   "metadata": {},
   "outputs": [
    {
     "name": "stdout",
     "output_type": "stream",
     "text": [
      "String is: SparkByExample\n",
      "Characters of string:\n",
      "S p a r k B y E x a m p l e "
     ]
    }
   ],
   "source": [
    "str = \"SparkByExample\"\n",
    "print(\"String is:\", str)\n",
    "print(\"Characters of string:\")\n",
    "for char in str:\n",
    "\tprint(char,end=' ')"
   ]
  },
  {
   "cell_type": "markdown",
   "id": "519055ee",
   "metadata": {},
   "source": [
    "# 9. Write a Python program to find the largest number in a list using a for loop."
   ]
  },
  {
   "cell_type": "code",
   "execution_count": 17,
   "id": "284a07e0",
   "metadata": {},
   "outputs": [
    {
     "name": "stdout",
     "output_type": "stream",
     "text": [
      "90\n"
     ]
    }
   ],
   "source": [
    "lst = [4,7,3,8,9,4,5,90]\n",
    "large = lst[0]  #Initializing 0th item as largest one\n",
    "for i in lst:\n",
    "    if i>large:\n",
    "        large=i\n",
    "    \n",
    "print(large)"
   ]
  },
  {
   "cell_type": "markdown",
   "id": "874dc97c",
   "metadata": {},
   "source": [
    "# 10. Create a Python program that prints the Fibonacci sequence up to a specified limit using a for loop."
   ]
  },
  {
   "cell_type": "code",
   "execution_count": 23,
   "id": "602b6463",
   "metadata": {},
   "outputs": [
    {
     "name": "stdout",
     "output_type": "stream",
     "text": [
      "0\n",
      "1\n",
      "1\n",
      "2\n",
      "3\n",
      "5\n",
      "8\n",
      "13\n",
      "21\n",
      "34\n",
      "55\n",
      "89\n"
     ]
    }
   ],
   "source": [
    "n = 10     #Fibonacci series upto 10 limit\n",
    "a = 0\n",
    "b = 1\n",
    "print(a)   #Initializing first two numbers a,b\n",
    "print(b)\n",
    "for i in range(n):\n",
    "    c = a+b    #Third number is addition of first two\n",
    "    print(c)\n",
    "    a,b=b,c"
   ]
  },
  {
   "cell_type": "markdown",
   "id": "e922cede",
   "metadata": {},
   "source": [
    "# 11. Write a Python program to count the number of vowels in a given string using a for loop."
   ]
  },
  {
   "cell_type": "code",
   "execution_count": 24,
   "id": "fcfe7a1b",
   "metadata": {},
   "outputs": [
    {
     "name": "stdout",
     "output_type": "stream",
     "text": [
      "Number of vowels is: 6\n"
     ]
    }
   ],
   "source": [
    "s = 'I am learning python'\n",
    "c = 0    #Initializing count variable\n",
    "for char in s:\n",
    "    if char in \"aeiouAEIOU\":\n",
    "        c+=1\n",
    "print(f'Number of vowels is: {c}')"
   ]
  },
  {
   "cell_type": "markdown",
   "id": "9fcadcf6",
   "metadata": {},
   "source": [
    "# 12. Create a Python program that generates a multiplication table for a given number using a for loop."
   ]
  },
  {
   "cell_type": "code",
   "execution_count": 25,
   "id": "9bb3fe70",
   "metadata": {},
   "outputs": [
    {
     "name": "stdout",
     "output_type": "stream",
     "text": [
      "Multiplication table for 10\n",
      "10*1==10\n",
      "10*2==20\n",
      "10*3==30\n",
      "10*4==40\n",
      "10*5==50\n",
      "10*6==60\n",
      "10*7==70\n",
      "10*8==80\n",
      "10*9==90\n",
      "10*10==100\n"
     ]
    }
   ],
   "source": [
    "n = 10\n",
    "print(\"Multiplication table for 10\")\n",
    "for i in range(1,11):\n",
    "    print(f'{n}*{i}=={n*i}')"
   ]
  },
  {
   "cell_type": "markdown",
   "id": "876c5fa1",
   "metadata": {},
   "source": [
    "# 13. Write a Python program to reverse a list using a for loop."
   ]
  },
  {
   "cell_type": "code",
   "execution_count": 26,
   "id": "ee016881",
   "metadata": {},
   "outputs": [
    {
     "name": "stdout",
     "output_type": "stream",
     "text": [
      "List before reverse :  [1, 2, 3, 4, 5]\n",
      "List after reverse :  [5, 4, 3, 2, 1]\n"
     ]
    }
   ],
   "source": [
    "original_list = [1, 2, 3, 4, 5]\n",
    "print(\"List before reverse : \",original_list)\n",
    "reversed_list = []\n",
    "for value in original_list:\n",
    "    reversed_list = [value] + reversed_list\n",
    "print(\"List after reverse : \", reversed_list)"
   ]
  },
  {
   "cell_type": "markdown",
   "id": "5ebbc130",
   "metadata": {},
   "source": [
    "# 15. Explain how to use a for loop to iterate through the keys and values of a dictionary in Python."
   ]
  },
  {
   "cell_type": "code",
   "execution_count": 27,
   "id": "65359311",
   "metadata": {},
   "outputs": [
    {
     "name": "stdout",
     "output_type": "stream",
     "text": [
      "key1 1\n",
      "key2 2\n",
      "key3 3\n"
     ]
    }
   ],
   "source": [
    "# To iterate through dictionary key-value pairs, use the items() method.\n",
    "\n",
    "d = {'key1': 1, 'key2': 2, 'key3': 3}\n",
    "\n",
    "for k, v in d.items():\n",
    "    print(k, v)"
   ]
  },
  {
   "cell_type": "code",
   "execution_count": 28,
   "id": "955b9e47",
   "metadata": {},
   "outputs": [
    {
     "name": "stdout",
     "output_type": "stream",
     "text": [
      "1\n",
      "2\n",
      "3\n"
     ]
    }
   ],
   "source": [
    "# To iterate through dictionary values, use the values() method.\n",
    "\n",
    "for v in d.values():\n",
    "    print(v)"
   ]
  },
  {
   "cell_type": "code",
   "execution_count": 29,
   "id": "ce9f5753",
   "metadata": {},
   "outputs": [
    {
     "name": "stdout",
     "output_type": "stream",
     "text": [
      "key1\n",
      "key2\n",
      "key3\n"
     ]
    }
   ],
   "source": [
    "#  you can iterate through dictionary keys by directly using the dictionary object, but you can also use keys()\n",
    "for k in d.keys():\n",
    "    print(k)"
   ]
  },
  {
   "cell_type": "markdown",
   "id": "82980616",
   "metadata": {},
   "source": [
    "# 16. Write a Python program to find the GCD (Greatest Common Divisor) of two numbers using a for loop."
   ]
  },
  {
   "cell_type": "markdown",
   "id": "84279415",
   "metadata": {},
   "source": [
    "# 17. Create a Python program that checks if a string is a palindrome using a for loop."
   ]
  },
  {
   "cell_type": "code",
   "execution_count": 48,
   "id": "bbcd76d2",
   "metadata": {},
   "outputs": [
    {
     "name": "stdout",
     "output_type": "stream",
     "text": [
      "Enter string: dad\n",
      "The string is a palindrome.\n"
     ]
    }
   ],
   "source": [
    "#Define a function \n",
    "def Palindrome(string): \n",
    "    for i in range(int(len(string)/2)): \n",
    "        if string[i] != string[len(string)-i-1]: \n",
    "            return \"The string is not a palindrome.\" \n",
    "    return \"The string is a palindrome.\" \n",
    " \n",
    "#Enter input string \n",
    "string = input(\"Enter string: \") \n",
    " \n",
    "print(Palindrome(string))"
   ]
  },
  {
   "cell_type": "markdown",
   "id": "8e3b2527",
   "metadata": {},
   "source": [
    "# 18. Write a Python program to remove duplicates from a list using a for loop."
   ]
  },
  {
   "cell_type": "code",
   "execution_count": 50,
   "id": "1ebc466a",
   "metadata": {},
   "outputs": [
    {
     "name": "stdout",
     "output_type": "stream",
     "text": [
      "['Python', 'R', 'C#', 'Java']\n"
     ]
    }
   ],
   "source": [
    "# Using for-loop\n",
    "students = ['Python', 'R', 'C#', 'Python', 'R', 'Java']\n",
    "\n",
    "new_list = []\n",
    "\n",
    "for one_student_choice in students:\n",
    "    if one_student_choice not in new_list:\n",
    "        new_list.append(one_student_choice)\n",
    "\n",
    "print(new_list)"
   ]
  },
  {
   "cell_type": "markdown",
   "id": "5fccfffc",
   "metadata": {},
   "source": [
    "# 19. Create a Python program that counts the number of words in a sentence using a for loop."
   ]
  },
  {
   "cell_type": "code",
   "execution_count": 51,
   "id": "31504fa9",
   "metadata": {},
   "outputs": [
    {
     "name": "stdout",
     "output_type": "stream",
     "text": [
      "{'the': 2, 'quick': 1, 'brown': 1, 'fox': 1, 'jumps': 1, 'over': 1, 'lazy': 1, 'dog.': 1}\n"
     ]
    }
   ],
   "source": [
    "def word_count(str):\n",
    "    counts = dict()\n",
    "    words = str.split()\n",
    "\n",
    "    for word in words:\n",
    "        if word in counts:\n",
    "            counts[word] += 1\n",
    "        else:\n",
    "            counts[word] = 1\n",
    "\n",
    "    return counts\n",
    "\n",
    "print( word_count('the quick brown fox jumps over the lazy dog.'))"
   ]
  },
  {
   "cell_type": "markdown",
   "id": "d209f1c9",
   "metadata": {},
   "source": [
    "# 20. Write a Python program to find the sum of all odd numbers from 1 to 50 using a for loop."
   ]
  },
  {
   "cell_type": "code",
   "execution_count": 52,
   "id": "37b99673",
   "metadata": {},
   "outputs": [
    {
     "name": "stdout",
     "output_type": "stream",
     "text": [
      "Sum of Odd Number using for loop \n",
      "Enter the starting value : 1\n",
      "Enter the ending value : 50\n",
      "Sum of odd number is  625\n"
     ]
    }
   ],
   "source": [
    "print(\"Sum of Odd Number using for loop \")\n",
    "\n",
    "start = int(input(\"Enter the starting value : \"))\n",
    "end   = int(input(\"Enter the ending value : \"))\n",
    "\n",
    "result=0\n",
    "\n",
    "for x in range(start,end):\n",
    "    if(x % 2 == 1):\n",
    "        result=result+x\n",
    "        \n",
    "print(\"Sum of odd number is \",result)"
   ]
  },
  {
   "cell_type": "markdown",
   "id": "cf8d4244",
   "metadata": {},
   "source": [
    "# 21. Write a Python program that checks if a given year is a leap year using a for loop."
   ]
  },
  {
   "cell_type": "code",
   "execution_count": 53,
   "id": "73da6d03",
   "metadata": {},
   "outputs": [
    {
     "name": "stdout",
     "output_type": "stream",
     "text": [
      "Leap Year\n"
     ]
    }
   ],
   "source": [
    "year = 2000\n",
    "\n",
    "if (year%400 == 0) or (year%4==0 and year%100!=0):\n",
    "    print(\"Leap Year\")\n",
    "else:\n",
    "    print(\"Not a Leap Year\")"
   ]
  },
  {
   "cell_type": "markdown",
   "id": "6ba0840b",
   "metadata": {},
   "source": [
    "# 22. Create a Python program that calculates the square root of a number using a for loop."
   ]
  },
  {
   "cell_type": "code",
   "execution_count": 54,
   "id": "c56b87de",
   "metadata": {},
   "outputs": [
    {
     "name": "stdout",
     "output_type": "stream",
     "text": [
      "Enter a Number: 9\n",
      "\n",
      "Square Root of 9.00 = 3.00\n"
     ]
    }
   ],
   "source": [
    "def sqrt(n):\n",
    "    return n ** 0.5\n",
    "\n",
    "print(\"Enter a Number: \", end=\"\")\n",
    "num = int(input())\n",
    "\n",
    "res = sqrt(num)\n",
    "print(\"\\nSquare Root of %0.2f = %0.2f\" %(num, res))"
   ]
  },
  {
   "cell_type": "markdown",
   "id": "c1dcfa24",
   "metadata": {},
   "source": [
    "# 23. Write a Python program to find the LCM (Least Common Multiple) of two numbers using a for loop."
   ]
  },
  {
   "cell_type": "code",
   "execution_count": 55,
   "id": "db0befda",
   "metadata": {},
   "outputs": [
    {
     "name": "stdout",
     "output_type": "stream",
     "text": [
      "Enter first number: 3\n",
      "Enter second number: 4\n",
      "The L.C.M. of 3 and 4 is 12\n"
     ]
    }
   ],
   "source": [
    "# defining a function to calculate LCM  \n",
    "def calculate_lcm(x, y):  \n",
    "    # selecting the greater number  \n",
    "    if x > y:  \n",
    "        greater = x  \n",
    "    else:  \n",
    "        greater = y  \n",
    "    while(True):  \n",
    "        if((greater % x == 0) and (greater % y == 0)):  \n",
    "            lcm = greater  \n",
    "            break  \n",
    "        greater += 1  \n",
    "    return lcm    \n",
    "  \n",
    "# taking input from users  \n",
    "num1 = int(input(\"Enter first number: \"))  \n",
    "num2 = int(input(\"Enter second number: \"))  \n",
    "# printing the result for the users  \n",
    "print(\"The L.C.M. of\", num1,\"and\", num2,\"is\", calculate_lcm(num1, num2))  "
   ]
  },
  {
   "cell_type": "markdown",
   "id": "7e843e07",
   "metadata": {},
   "source": []
  },
  {
   "cell_type": "markdown",
   "id": "2c660e48",
   "metadata": {},
   "source": [
    "# If else :"
   ]
  },
  {
   "cell_type": "code",
   "execution_count": null,
   "id": "c85425a0",
   "metadata": {},
   "outputs": [],
   "source": []
  },
  {
   "cell_type": "markdown",
   "id": "2a0640cf",
   "metadata": {},
   "source": [
    "# 1. Write a Python program to check if a number is positive, negative, or zero using an if-else statement."
   ]
  },
  {
   "cell_type": "code",
   "execution_count": 57,
   "id": "86049039",
   "metadata": {},
   "outputs": [
    {
     "name": "stdout",
     "output_type": "stream",
     "text": [
      "Enter the number: -8\n",
      "Number is Negetive\n"
     ]
    }
   ],
   "source": [
    "n = int(input(\"Enter the number: \"))\n",
    "\n",
    "if n==0:\n",
    "    print(\"Number is zero\")\n",
    "elif n<0:\n",
    "    print(\"Number is Negetive\")\n",
    "elif n>0:\n",
    "    print(\"Number is positive\")\n",
    "else:\n",
    "    print(\"Invalid input\")"
   ]
  },
  {
   "cell_type": "markdown",
   "id": "9a670967",
   "metadata": {},
   "source": [
    "# 2. Create a Python program that checks if a given number is even or odd using an if-else statement."
   ]
  },
  {
   "cell_type": "code",
   "execution_count": 58,
   "id": "b32cc83a",
   "metadata": {},
   "outputs": [
    {
     "name": "stdout",
     "output_type": "stream",
     "text": [
      "Enter any number: 5\n",
      "Odd number\n"
     ]
    }
   ],
   "source": [
    "num = int(input(\"Enter any number: \"))\n",
    "\n",
    "if num%2 == 0:\n",
    "    print(\"Even number\")\n",
    "else:\n",
    "    print(\"Odd number\")"
   ]
  },
  {
   "cell_type": "markdown",
   "id": "536ed42b",
   "metadata": {},
   "source": [
    "# 3. How can you use nested if-else statements in Python, and provide an example?"
   ]
  },
  {
   "cell_type": "markdown",
   "id": "c18d2a9b",
   "metadata": {},
   "source": [
    "Nested if-else statements in Python allow you to test multiple conditions and execute different code blocks based on the results of these tests. The basic syntax of a nested if-else statement is as follows: "
   ]
  },
  {
   "cell_type": "raw",
   "id": "973dab4b",
   "metadata": {},
   "source": [
    "# Syntax of nested if else\n",
    "if condition1:\n",
    "    # Execute if condition1 is true\n",
    "    if condition2:\n",
    "        # Execute if both condition1 and condition2 are true\n",
    "    else:\n",
    "        # Execute if condition1 is true but condition2 is false\n",
    "else:\n",
    "    # Execute if condition1 is false"
   ]
  },
  {
   "cell_type": "raw",
   "id": "bf14122e",
   "metadata": {},
   "source": [
    "Let’s have an example of Python nested “if else”. consider the following scenario:\n",
    "\n",
    "<!-- If num is greater than 0, check if num is even by checking if the remainder when num is divided by 2 is 0. -->\n",
    "<!-- If the remainder is 0, execute the code block that prints the message “The number is positive and even.” -->\n",
    "<!-- If the remainder is not 0, execute the code block that prints the message “The number is positive but odd.” -->\n",
    "<!-- If num is not greater than 0, execute the code block that prints the message “The number is not positive.” -->\n",
    "<!-- Now we can implement this case scenario with Python nested if else statement: -->"
   ]
  },
  {
   "cell_type": "code",
   "execution_count": 59,
   "id": "a7ab0b59",
   "metadata": {},
   "outputs": [
    {
     "name": "stdout",
     "output_type": "stream",
     "text": [
      "The number is positive and even.\n"
     ]
    }
   ],
   "source": [
    "# Simpler example of a nested if-else statement\n",
    "num = 10\n",
    "\n",
    "if num > 0:\n",
    "    if num % 2 == 0:\n",
    "        print(\"The number is positive and even.\")\n",
    "    else:\n",
    "        print(\"The number is positive but odd.\")\n",
    "else:\n",
    "    print(\"The number is not positive.\")"
   ]
  },
  {
   "cell_type": "markdown",
   "id": "1afd84bf",
   "metadata": {},
   "source": [
    "# 4. Write a Python program to determine the largest of three numbers using if-else."
   ]
  },
  {
   "cell_type": "code",
   "execution_count": 60,
   "id": "b967d190",
   "metadata": {},
   "outputs": [
    {
     "name": "stdout",
     "output_type": "stream",
     "text": [
      "Enter 1st number:6\n",
      "Enter 2nd number:7\n",
      "Enter 3rd number:4\n",
      "Largest number is\n",
      "7\n"
     ]
    }
   ],
   "source": [
    "n1 = int(input(\"Enter 1st number:\"))\n",
    "n2 = int(input(\"Enter 2nd number:\"))\n",
    "n3 = int(input(\"Enter 3rd number:\"))\n",
    "print(\"Largest number is\")\n",
    "if n1>n2 and n1>n3:\n",
    "    print(n1)\n",
    "elif n2>n3:\n",
    "    print(n2)\n",
    "else:\n",
    "    print(n3)"
   ]
  },
  {
   "cell_type": "markdown",
   "id": "a5a2d87f",
   "metadata": {},
   "source": [
    "# 5. Write a Python program that calculates the absolute value of a number using if-else."
   ]
  },
  {
   "cell_type": "code",
   "execution_count": 61,
   "id": "5286c135",
   "metadata": {},
   "outputs": [
    {
     "name": "stdout",
     "output_type": "stream",
     "text": [
      "Enter any number: -2\n",
      "2\n"
     ]
    }
   ],
   "source": [
    "num = int(input(\"Enter any number: \"))\n",
    "\n",
    "if num>0:\n",
    "    print(num)\n",
    "else:\n",
    "    print(-num)"
   ]
  },
  {
   "cell_type": "markdown",
   "id": "91ec87d5",
   "metadata": {},
   "source": [
    "# 6. Create a Python program that checks if a given character is a vowel or consonant using if-else."
   ]
  },
  {
   "cell_type": "code",
   "execution_count": 63,
   "id": "0599c879",
   "metadata": {},
   "outputs": [
    {
     "name": "stdout",
     "output_type": "stream",
     "text": [
      "Enter a character: d\n",
      "The character 'd' is a consonant!\n"
     ]
    }
   ],
   "source": [
    "# Python program to check whether the given character  \n",
    "# is a vowel or consonant  \n",
    "  \n",
    "# Get an input character from the user  \n",
    "character = input(\"Enter a character: \")  \n",
    "  \n",
    "# Creating a list of vowels  \n",
    "vowels = ['a', 'e', 'i', 'o', 'u', 'A', 'E', 'I', 'O', 'U']  \n",
    "  \n",
    "# Check if the character is a vowel or not  \n",
    "if character in vowels:  \n",
    "    print(f\"The character '{character}' is a vowel!\")  \n",
    "else:  \n",
    "    print(f\"The character '{character}' is a consonant!\")  "
   ]
  },
  {
   "cell_type": "markdown",
   "id": "876a6b98",
   "metadata": {},
   "source": [
    "# 7. Write a Python program to determine if a user is eligible to vote based on their age using if-else."
   ]
  },
  {
   "cell_type": "code",
   "execution_count": 64,
   "id": "f9a9bbcc",
   "metadata": {},
   "outputs": [
    {
     "name": "stdout",
     "output_type": "stream",
     "text": [
      "Enter person's age: 54\n",
      "Yes,person is eligible to vote\n"
     ]
    }
   ],
   "source": [
    "age = int(input(\"Enter person's age: \"))\n",
    "if age<18:\n",
    "    print('No, person is not eligible')\n",
    "else:\n",
    "    print('Yes,person is eligible to vote')"
   ]
  },
  {
   "cell_type": "markdown",
   "id": "05605ff1",
   "metadata": {},
   "source": [
    "# 8. Create a Python program that calculates the discount amount based on the purchase amount\n",
    "using if-else."
   ]
  },
  {
   "cell_type": "code",
   "execution_count": 66,
   "id": "ef525290",
   "metadata": {},
   "outputs": [
    {
     "name": "stdout",
     "output_type": "stream",
     "text": [
      "Enter purchase amount 7625\n",
      "Discount Amount = 262.50\n",
      "Net Bill Amount = 7362.50\n"
     ]
    }
   ],
   "source": [
    "p=int(input('Enter purchase amount '))\n",
    "\n",
    "if p<=5000:\n",
    "    dis=0\n",
    "elif p>5000 and p<=10000:\n",
    "    dis=(p-5000)*(10/100.0)\n",
    "elif p>10000 and p<=20000:\n",
    "    dis=(p-10000)*(20/100.0)\n",
    "elif p>20000 and p<=30000:\n",
    "    dis=(p-20000)*(30/100.0)\n",
    "else:\n",
    "    dis=(p-30000)*(40/100.0)\n",
    "\n",
    "print('Discount Amount = {:.2f}'.format(dis))\n",
    "print('Net Bill Amount = {:.2f}'.format(p-dis))"
   ]
  },
  {
   "cell_type": "markdown",
   "id": "0026b6f6",
   "metadata": {},
   "source": [
    "# 10. Create a Python program that determines the grade of a student based on their score using\n",
    "if-else."
   ]
  },
  {
   "cell_type": "code",
   "execution_count": 67,
   "id": "3b358b69",
   "metadata": {},
   "outputs": [
    {
     "name": "stdout",
     "output_type": "stream",
     "text": [
      "Enter Marks Obtained in 5 Subjects: \n",
      "67\n",
      "73\n",
      "78\n",
      "77\n",
      "82\n",
      "Your Grade is B1\n"
     ]
    }
   ],
   "source": [
    "print(\"Enter Marks Obtained in 5 Subjects: \")\n",
    "markOne = int(input())\n",
    "markTwo = int(input())\n",
    "markThree = int(input())\n",
    "markFour = int(input())\n",
    "markFive = int(input())\n",
    "\n",
    "tot = markOne+markTwo+markThree+markFour+markFive\n",
    "avg = tot/5\n",
    "\n",
    "if avg>=91 and avg<=100:\n",
    "    print(\"Your Grade is A1\")\n",
    "elif avg>=81 and avg<91:\n",
    "    print(\"Your Grade is A2\")\n",
    "elif avg>=71 and avg<81:\n",
    "    print(\"Your Grade is B1\")\n",
    "elif avg>=61 and avg<71:\n",
    "    print(\"Your Grade is B2\")\n",
    "elif avg>=51 and avg<61:\n",
    "    print(\"Your Grade is C1\")\n",
    "elif avg>=41 and avg<51:\n",
    "    print(\"Your Grade is C2\")\n",
    "elif avg>=33 and avg<41:\n",
    "    print(\"Your Grade is D\")\n",
    "elif avg>=21 and avg<33:\n",
    "    print(\"Your Grade is E1\")\n",
    "elif avg>=0 and avg<21:\n",
    "    print(\"Your Grade is E2\")\n",
    "else:\n",
    "    print(\"Invalid Input!\")"
   ]
  },
  {
   "cell_type": "markdown",
   "id": "c0dc283f",
   "metadata": {},
   "source": [
    "# 11. Write a Python program to check if a string is empty or not using if-else."
   ]
  },
  {
   "cell_type": "code",
   "execution_count": 68,
   "id": "5b21b4bb",
   "metadata": {},
   "outputs": [
    {
     "name": "stdout",
     "output_type": "stream",
     "text": [
      "The string is not empty.\n"
     ]
    }
   ],
   "source": [
    "# define a non-empty string\n",
    "my_string = \"lorem ipsum\"\n",
    "# check if the string is empty using boolean evaluation\n",
    "\n",
    "if not my_string:\n",
    "    print(\"The string is empty!\")\n",
    "else:\n",
    "    print(\"The string is not empty.\")"
   ]
  },
  {
   "cell_type": "markdown",
   "id": "d0d946b3",
   "metadata": {},
   "source": [
    "# 12. Create a Python program that identifies the type of a triangle (e.g., equilateral, isosceles, orscalene) based on input values using if-else."
   ]
  },
  {
   "cell_type": "code",
   "execution_count": 69,
   "id": "1912efa1",
   "metadata": {},
   "outputs": [
    {
     "name": "stdout",
     "output_type": "stream",
     "text": [
      "Enter x: 6\n",
      "Enter y: 3\n",
      "Enter z: 5\n",
      "Scalene Triangle\n"
     ]
    }
   ],
   "source": [
    "# input three sides of triangle \n",
    "x=int(input(\"Enter x: \"))\n",
    "y=int(input(\"Enter y: \"))\n",
    "z=int(input(\"Enter z: \"))\n",
    "\n",
    "\n",
    "if x == y == z:\n",
    "    print(\"Equilateral Triangle\")\n",
    " \n",
    "    # Check for isosceles triangle\n",
    "elif x == y or y == z or z == x:\n",
    "    print(\"Isosceles Triangle\")\n",
    " \n",
    "    # Otherwise scalene triangle\n",
    "else:\n",
    "    print(\"Scalene Triangle\")"
   ]
  },
  {
   "cell_type": "markdown",
   "id": "facf70eb",
   "metadata": {},
   "source": [
    "# 13. Write a Python program to determine the day of the week based on a user-provided number using if-else."
   ]
  },
  {
   "cell_type": "code",
   "execution_count": 70,
   "id": "1725e33f",
   "metadata": {},
   "outputs": [
    {
     "name": "stdout",
     "output_type": "stream",
     "text": [
      "Enter weekday number (1-7) : 4\n",
      "\n",
      "Thursday\n"
     ]
    }
   ],
   "source": [
    "weekday = int(input(\"Enter weekday number (1-7) : \"))\n",
    "\n",
    "if weekday == 1 :\n",
    "    print(\"\\nMonday\");\n",
    "\n",
    "elif weekday == 2 :\n",
    "    print(\"\\nTuesday\")\n",
    "\n",
    "elif(weekday == 3) :\n",
    "    print(\"\\nWednesday\")\n",
    "\n",
    "elif(weekday == 4) :\n",
    "    print(\"\\nThursday\")\n",
    "\n",
    "elif(weekday == 5) :\n",
    "    print(\"\\nFriday\")\n",
    "\n",
    "elif(weekday == 6) :\n",
    "    print(\"\\nSaturday\")\n",
    "\n",
    "elif (weekday == 7) :\n",
    "    print(\"\\nSunday\")\n",
    "\n",
    "else :\n",
    "    print(\"\\nPlease enter any weekday number (1-7)\")\n",
    "    "
   ]
  },
  {
   "cell_type": "markdown",
   "id": "6c53a2f5",
   "metadata": {},
   "source": [
    "# 14. Create a Python program that checks if a given year is a leap year using both if-else and a function."
   ]
  },
  {
   "cell_type": "code",
   "execution_count": 71,
   "id": "5dfdf63a",
   "metadata": {},
   "outputs": [
    {
     "name": "stdout",
     "output_type": "stream",
     "text": [
      "Enter year to be checked: 2020\n",
      "The year is a leap year!\n"
     ]
    }
   ],
   "source": [
    "year = int(input(\"Enter year to be checked: \"))\n",
    " \n",
    "if year % 4 == 0:\n",
    "    if year % 100 == 0:\n",
    "        if year % 400 == 0:\n",
    "            print(\"The year is a leap year!\")\n",
    "        else:\n",
    "            print(\"The year is not a leap year!\")\n",
    "    else:\n",
    "        print(\"The year is a leap year!\")\n",
    "else:\n",
    "    print(\"The year is not a leap year!\")"
   ]
  },
  {
   "cell_type": "markdown",
   "id": "3a24b43f",
   "metadata": {},
   "source": [
    "# 15. How do you use the \"assert\" statement in Python to add debugging checks within if-else blocks?"
   ]
  },
  {
   "cell_type": "markdown",
   "id": "5996defe",
   "metadata": {},
   "source": [
    "In Python, assertions are statements that you can use to set sanity checks during the development process. Assertions allow you to test the correctness of your code by checking if some specific conditions remain true, which can come in handy while you’re debugging code.\n",
    "\n",
    "The assertion condition should always be true unless you have a bug in your program. If the condition turns out to be false, then the assertion raises an exception and terminates the execution of your program.\n",
    "\n",
    "With assertions, you can set checks to make sure that invariants within your code stay invariant. By doing so, you can check assumptions like preconditions and postconditions. For example, you can test conditions along the lines of This argument is not None or This return value is a string. \n",
    "\n",
    "Assertions are mainly for debugging. They’ll help you ensure that you don’t introduce new bugs while adding features and fixing other bugs in your code. However, they can have other interesting use cases within your development process. These use cases include documenting and testing your code.\n",
    "\n",
    "The primary role of assertions is to trigger the alarms when a bug appears in a program. In this context, assertions mean Make sure that this condition remains true. Otherwise, throw an error.\n",
    "\n",
    "In practice, you can use assertions to check preconditions and postconditions in your programs at development time. For example, programmers often place assertions at the beginning of functions to check if the input is valid (preconditions). Programmers also place assertions before functions’ return values to check if the output is valid (postconditions)."
   ]
  },
  {
   "cell_type": "markdown",
   "id": "5dfed4c2",
   "metadata": {},
   "source": [
    "# 16. Create a Python program that determines the eligibility of a person for a senior citizen discount based on age using if-else."
   ]
  },
  {
   "cell_type": "code",
   "execution_count": 74,
   "id": "6535be11",
   "metadata": {},
   "outputs": [
    {
     "name": "stdout",
     "output_type": "stream",
     "text": [
      "How old are you?: 73\n",
      "What state do you live in?: MH\n",
      "You qualify for a discount!\n",
      "You qualify for a discount!\n"
     ]
    }
   ],
   "source": [
    "def main():\n",
    "    age = eval(input(\"How old are you?: \"))\n",
    "    state = input(\"What state do you live in?: \")\n",
    "\n",
    "    if age >= 70:\n",
    "        print(\"You qualify for a discount!\")\n",
    "\n",
    "        if state == \"MH\":\n",
    "            print(\"You qualify for a discount!\")\n",
    "        else:\n",
    "            print(\"You do not qualify for a discount!\")\n",
    "    else:\n",
    "        print(\"You do not qualify for a discount!\")\n",
    "\n",
    "main()"
   ]
  },
  {
   "cell_type": "markdown",
   "id": "229d0f30",
   "metadata": {},
   "source": [
    "# 17. Write a Python program to categorize a given character as uppercase, lowercase, or neither using if-else."
   ]
  },
  {
   "cell_type": "code",
   "execution_count": 75,
   "id": "8d9b47e5",
   "metadata": {},
   "outputs": [
    {
     "name": "stdout",
     "output_type": "stream",
     "text": [
      "A is an UpperCase character\n",
      "a is an LowerCase character\n",
      "0 is not an alphabetic character\n"
     ]
    }
   ],
   "source": [
    "def check(ch):\n",
    " \n",
    "    if (ch >= 'A' and ch <= 'Z'):\n",
    "        print(ch,\"is an UpperCase character\");\n",
    " \n",
    "    elif (ch >= 'a' and ch <= 'z'):\n",
    "        print(ch,\"is an LowerCase character\");\n",
    "    else:\n",
    "        print(ch,\"is not an alphabetic character\");\n",
    "        \n",
    "# Get the character\n",
    "ch = 'A';\n",
    " \n",
    "# Check the character\n",
    "check(ch);\n",
    " \n",
    "# Get the character\n",
    "ch = 'a';\n",
    " \n",
    "# Check the character\n",
    "check(ch);\n",
    " \n",
    "# Get the character\n",
    "ch = '0';\n",
    " \n",
    "# Check the character\n",
    "check(ch);"
   ]
  },
  {
   "cell_type": "markdown",
   "id": "ed6a7c09",
   "metadata": {},
   "source": [
    "# 18. Write a Python program to determine the roots of a quadratic equation using if-else."
   ]
  },
  {
   "cell_type": "code",
   "execution_count": 76,
   "id": "c73f6ef7",
   "metadata": {},
   "outputs": [
    {
     "name": "stdout",
     "output_type": "stream",
     "text": [
      "Enter a:4\n",
      "Enter b:3\n",
      "Enter c:5\n",
      "Complex Roots\n",
      "-0.375  + i 8.426149773176359\n",
      "-0.375  - i 8.426149773176359\n"
     ]
    }
   ],
   "source": [
    "import math  \n",
    "  \n",
    "  \n",
    "# function for finding roots  \n",
    "def findRoots(a, b, c):  \n",
    "  \n",
    "    dis_form = b * b - 4 * a * c  \n",
    "    sqrt_val = math.sqrt(abs(dis_form))  \n",
    "  \n",
    "  \n",
    "    if dis_form > 0:  \n",
    "        print(\" real and different roots \")  \n",
    "        print((-b + sqrt_val) / (2 * a))  \n",
    "        print((-b - sqrt_val) / (2 * a))  \n",
    "  \n",
    "    elif dis_form == 0:  \n",
    "        print(\" real and same roots\")  \n",
    "        print(-b / (2 * a))  \n",
    "  \n",
    "  \n",
    "    else:  \n",
    "        print(\"Complex Roots\")  \n",
    "        print(- b / (2 * a), \" + i\", sqrt_val)  \n",
    "        print(- b / (2 * a), \" - i\", sqrt_val)  \n",
    "  \n",
    "  \n",
    "a = int(input('Enter a:'))  \n",
    "b = int(input('Enter b:'))  \n",
    "c = int(input('Enter c:'))  \n",
    "  \n",
    "# If a is 0, then incorrect equation  \n",
    "if a == 0:  \n",
    "    print(\"Input correct quadratic equation\")\n",
    "else:\n",
    "    findRoots(a,b,c)"
   ]
  },
  {
   "cell_type": "markdown",
   "id": "0e3409c0",
   "metadata": {},
   "source": [
    "# 19. Create a Python program that checks if a given year is a century year or not using if-else."
   ]
  },
  {
   "cell_type": "code",
   "execution_count": 77,
   "id": "478a8acf",
   "metadata": {},
   "outputs": [
    {
     "name": "stdout",
     "output_type": "stream",
     "text": [
      "Enter the year: 2000\n",
      "It is leap year\n",
      "It is centuary year\n"
     ]
    }
   ],
   "source": [
    "year = int(input(\"Enter the year: \"))\n",
    "\n",
    "\n",
    "if year%4 == 0:\n",
    "    print('It is leap year')\n",
    "    if year<=100:\n",
    "        print('It is centuary year')\n",
    "    elif year%100 == 0:\n",
    "        print('It is centuary year')\n",
    "else:\n",
    "    print(\"It is not centuary as well as leap year\")"
   ]
  },
  {
   "cell_type": "markdown",
   "id": "a8bfb38f",
   "metadata": {},
   "source": [
    "# 20. Write a Python program to determine if a given number is a perfect square using if-else."
   ]
  },
  {
   "cell_type": "code",
   "execution_count": 79,
   "id": "eba646e9",
   "metadata": {},
   "outputs": [
    {
     "name": "stdout",
     "output_type": "stream",
     "text": [
      "The number is a perfect square\n"
     ]
    }
   ],
   "source": [
    "import math  \n",
    "num = 25  \n",
    "sqrt_num = math.sqrt(num)  \n",
    "if sqrt_num.is_integer():  \n",
    "    print(\"The number is a perfect square\")  \n",
    "else:  \n",
    "    print(\"The number is not a perfect square\")  "
   ]
  },
  {
   "cell_type": "markdown",
   "id": "c2aebcd9",
   "metadata": {},
   "source": [
    "# 21. Explain the purpose of the \"continue\" and \"break\" statements within if-else loops."
   ]
  },
  {
   "cell_type": "markdown",
   "id": "f4fc1cbf",
   "metadata": {},
   "source": [
    "Break: A break statement in Python alters the flow of a loop by terminating it once a specified condition is met.\n",
    "\n",
    "Continue: The continue statement in Python is used to skip the remaining code inside a loop for the current iteration only."
   ]
  },
  {
   "cell_type": "code",
   "execution_count": 80,
   "id": "eef968a5",
   "metadata": {},
   "outputs": [
    {
     "name": "stdout",
     "output_type": "stream",
     "text": [
      "Iteration: 0\n",
      "Iteration: 1\n",
      "Iteration: 2\n",
      "Iteration: 3\n",
      "Iteration: 4\n"
     ]
    }
   ],
   "source": [
    "# For example:\n",
    "for num in range(0,10):\n",
    "    if num == 5:\n",
    "        break\n",
    "    print(f'Iteration: {num}')"
   ]
  },
  {
   "cell_type": "code",
   "execution_count": 81,
   "id": "3b623781",
   "metadata": {},
   "outputs": [
    {
     "name": "stdout",
     "output_type": "stream",
     "text": [
      "Iteration: 0\n",
      "Iteration: 1\n",
      "Iteration: 2\n",
      "Iteration: 3\n",
      "Iteration: 4\n",
      "Iteration: 6\n",
      "Iteration: 7\n",
      "Iteration: 8\n",
      "Iteration: 9\n"
     ]
    }
   ],
   "source": [
    "for num in range(0,10):\n",
    "    if num == 5:\n",
    "        continue\n",
    "    print(f'Iteration: {num}')"
   ]
  },
  {
   "cell_type": "markdown",
   "id": "2edd8cd0",
   "metadata": {},
   "source": [
    "# 22. Create a Python program that calculates the BMI (Body Mass Index) of a person based on their weight and height using if-else."
   ]
  },
  {
   "cell_type": "code",
   "execution_count": 82,
   "id": "53f0a51b",
   "metadata": {},
   "outputs": [
    {
     "name": "stdout",
     "output_type": "stream",
     "text": [
      "Enter your height in meters: 1.68\n",
      "Enter your weight in kg: 53\n",
      "Your BMI is:  18.78\n",
      "Your weight is normal.\n"
     ]
    }
   ],
   "source": [
    "def bodymassindex(height, weight):\n",
    "    return round((weight / height**2),2)\n",
    "\n",
    "h = float(input(\"Enter your height in meters: \"))\n",
    "w = float(input(\"Enter your weight in kg: \"))\n",
    "\n",
    "bmi = bodymassindex(h, w)\n",
    "print(\"Your BMI is: \", bmi)\n",
    "\n",
    "if bmi <= 18.5:\n",
    "    print(\"You are underweight.\")\n",
    "elif 18.5 < bmi <= 24.9:\n",
    "    print(\"Your weight is normal.\")\n",
    "elif 25 < bmi <= 29.29:\n",
    "    print(\"You are overweight.\")\n",
    "else:\n",
    "    print(\"You are obese.\")"
   ]
  },
  {
   "cell_type": "markdown",
   "id": "f74d36e0",
   "metadata": {},
   "source": [
    "# 23. How can you use the \"filter()\" function with if-else statements to filter elements from a list?"
   ]
  },
  {
   "cell_type": "markdown",
   "id": "2a186df5",
   "metadata": {},
   "source": [
    "The filter() method is a built-in python function that filters the given set of iterable with the help of a function that tests each element in the sequence to be True or False. It is useful when you have to iterate over a set of elements and differentiate elements on the basis of specific criteria.\n",
    "\n",
    "This function plays the role of a decision function because it provides the criteria to filter out unwanted values from the input set and to keep those values that you want in the resulting set as per the provided condition.\n",
    "\n",
    "The filter method is more efficient than the for-loop because it returns a filter object, which is an iterator that yields values on demand, promoting a lazy evaluation strategy. Returning an iterator makes filter() more memory efficient than an equivalent for loop.\n"
   ]
  },
  {
   "cell_type": "code",
   "execution_count": 83,
   "id": "d9228d8d",
   "metadata": {},
   "outputs": [
    {
     "name": "stdout",
     "output_type": "stream",
     "text": [
      "[80, 90, 82, 90, 91, 84, 82, 94, 99, 89, 87, 81, 94]\n"
     ]
    }
   ],
   "source": [
    "numbers = [70, 60, 80, 90, 50,82,90,91,84,82,94,99,78,65,61,45,89,87,49,76,81,94]\n",
    " #function to check scores above 80\n",
    "def check_score(number):\n",
    "    if number >=80:\n",
    "          return True  \n",
    "\n",
    "    return False\n",
    "\n",
    "# Extract elements from the numbers list for which check_score() returns True\n",
    "#using filter function on list numbers to extract scores above 80\n",
    "percentage_score = filter(check_score, numbers)\n",
    "\n",
    "# converting to list\n",
    "scores = list(percentage_score)\n",
    "print(scores)"
   ]
  },
  {
   "cell_type": "markdown",
   "id": "99dfb38f",
   "metadata": {},
   "source": [
    "# 24. Write a Python program to determine if a given number is prime or not using if-else."
   ]
  },
  {
   "cell_type": "code",
   "execution_count": 84,
   "id": "8403d844",
   "metadata": {},
   "outputs": [
    {
     "name": "stdout",
     "output_type": "stream",
     "text": [
      "11 is a prime number\n"
     ]
    }
   ],
   "source": [
    "num = 11\n",
    "# If given number is greater than 1\n",
    "if num > 1:\n",
    "    # Iterate from 2 to n / 2\n",
    "    for i in range(2, int(num/2)+1):\n",
    "        # If num is divisible by any number between\n",
    "        # 2 and n / 2, it is not prime\n",
    "        if (num % i) == 0:\n",
    "            print(num, \"is not a prime number\")\n",
    "            break\n",
    "    else:\n",
    "        print(num, \"is a prime number\")\n",
    "else:\n",
    "    print(num, \"is not a prime number\")"
   ]
  },
  {
   "cell_type": "markdown",
   "id": "c28a107b",
   "metadata": {},
   "source": []
  },
  {
   "cell_type": "markdown",
   "id": "81e979c9",
   "metadata": {},
   "source": [
    "# Map :-"
   ]
  },
  {
   "cell_type": "markdown",
   "id": "7f264784",
   "metadata": {},
   "source": [
    "# 1. Explain the purpose of the `map()` function in Python and provide an example of how it can beused to apply a function to each element of an iterable."
   ]
  },
  {
   "cell_type": "markdown",
   "id": "c5308f22",
   "metadata": {},
   "source": [
    "Map in Python is a function that works as an iterator to return a result after applying a function to every item of an iterable (tuple, lists, etc.). It is used when you want to apply a single transformation function to all the iterable elements. The iterable and function are passed as arguments to the map in Python.\n",
    "\n",
    "Syntax of Map in Python\n",
    "The syntax of the Python map() function is:\n",
    "\n",
    "map(function, iterables)\n",
    "\n",
    "In the above syntax:\n",
    "\n",
    "function: It is the transformation function through which all the items of the iterable will be passed.\n",
    "iterables: It is the iterable (sequence, collection like list or tuple) that you want to map."
   ]
  },
  {
   "cell_type": "code",
   "execution_count": 85,
   "id": "0845dc4e",
   "metadata": {},
   "outputs": [
    {
     "name": "stdout",
     "output_type": "stream",
     "text": [
      "<map object at 0x00000161D85C6EE0>\n",
      "[9, 25, 49, 121, 169]\n"
     ]
    }
   ],
   "source": [
    "def mul(i):\n",
    "\n",
    "    return i * i\n",
    "\n",
    "# Using the map function\n",
    "\n",
    "x = map(mul, (3, 5, 7, 11, 13))\n",
    "\n",
    "print (x)\n",
    "\n",
    "print(list(x))"
   ]
  },
  {
   "cell_type": "markdown",
   "id": "622e56fb",
   "metadata": {},
   "source": [
    "# 2. Write a Python program that uses the `map()` function to square each element of a list of numbers."
   ]
  },
  {
   "cell_type": "code",
   "execution_count": 86,
   "id": "1867e316",
   "metadata": {},
   "outputs": [
    {
     "name": "stdout",
     "output_type": "stream",
     "text": [
      "[2, 3, 4, 5]\n",
      "[4, 9, 16, 25]\n"
     ]
    }
   ],
   "source": [
    "lst = [2,3,4,5]\n",
    "sqr=list(map(lambda x:x**2,lst))\n",
    "print(lst)\n",
    "print(sqr)"
   ]
  },
  {
   "cell_type": "markdown",
   "id": "0ba8cb22",
   "metadata": {},
   "source": [
    "# 3. How does the `map()` function differ from a list comprehension in Python, and when would you choose one over the other?"
   ]
  },
  {
   "cell_type": "markdown",
   "id": "c6149c25",
   "metadata": {},
   "source": [
    "Suppose we have a function and we want to compute this function for different values in a single line of code . This is where map() function plays its role ! map() function returns a map object(which is an iterator) of the results after applying the given function to each item of a given iterable (list, tuple etc.)\n",
    "\n",
    "Syntax: map(funcname, iterables)\n",
    "\n",
    "Parameters:\n",
    "\n",
    "funcname: It is the name of the function which is already defined and is to be executed for each item.\n",
    "\n",
    "iterables: It can be list, tuples or any other iterable object.\n",
    "\n",
    "Return Type: Returns a map object after applying the given function to each item of a given iterable (list, tuple etc.)"
   ]
  },
  {
   "cell_type": "code",
   "execution_count": 87,
   "id": "de090571",
   "metadata": {},
   "outputs": [
    {
     "name": "stdout",
     "output_type": "stream",
     "text": [
      "<map object at 0x00000161D85C6250>\n",
      "[4, 88, 11.0, 12, -14]\n"
     ]
    }
   ],
   "source": [
    "# function to double the number \n",
    "def num (n) : \n",
    "    return n * 2\n",
    "          \n",
    "lst = [2, 44, 5.5, 6, -7] \n",
    "  \n",
    "# suppose we want to call function \n",
    "# 'num' for each element of lst, \n",
    "# we use map \n",
    "  \n",
    "# creates a map object \n",
    "x = map(num, lst)  \n",
    "print(x)  \n",
    "  \n",
    "# returns list \n",
    "print(list(x))   "
   ]
  },
  {
   "cell_type": "markdown",
   "id": "5a9fb102",
   "metadata": {},
   "source": [
    "List Comprehension is a substitute for the lambda function, map(), filter() and reduce(). It follows the form of the mathematical set-builder notation. It provide a concise way to create lists.\n",
    "\n",
    "Syntax:\n",
    "\n",
    "[ expression for item in list if conditional ]\n",
    "\n",
    "Parameters:\n",
    "\n",
    "Expression – based on the variable used for each element\n",
    "for ..in – ‘for’ followed by the variable name to use, followed by ‘in’\n",
    "if – to filter\n",
    "Example:"
   ]
  },
  {
   "cell_type": "code",
   "execution_count": 88,
   "id": "58388fc2",
   "metadata": {},
   "outputs": [
    {
     "name": "stdout",
     "output_type": "stream",
     "text": [
      "[4, 88, 11.0, 12, -14]\n"
     ]
    }
   ],
   "source": [
    "lst = [2, 44, 5.5, 6, -7] \n",
    "  \n",
    "# to double the number \n",
    "# list comprehension \n",
    "x = [i * 2 for i in lst ]  \n",
    "print(x) "
   ]
  },
  {
   "cell_type": "markdown",
   "id": "16670ed9",
   "metadata": {},
   "source": [
    "# 4. Create a Python program that uses the `map()` function to convert a list of names to uppercase."
   ]
  },
  {
   "cell_type": "code",
   "execution_count": 91,
   "id": "5853674d",
   "metadata": {},
   "outputs": [
    {
     "name": "stdout",
     "output_type": "stream",
     "text": [
      "['harshada', 'pratik', 'rutuja', 'omkar']\n",
      "['HARSHADA', 'PRATIK', 'RUTUJA', 'OMKAR']\n"
     ]
    }
   ],
   "source": [
    "names = ['harshada','pratik','rutuja','omkar']  #list of names\n",
    "upper_case = list(map(lambda s:s.upper(),names))#map function to convert into uppercase\n",
    "print(names)\n",
    "print(upper_case)"
   ]
  },
  {
   "cell_type": "markdown",
   "id": "0809162a",
   "metadata": {},
   "source": [
    "# 5. Write a Python program that uses the `map()` function to calculate the length of each word in a list of strings."
   ]
  },
  {
   "cell_type": "code",
   "execution_count": 92,
   "id": "4df56245",
   "metadata": {},
   "outputs": [
    {
     "name": "stdout",
     "output_type": "stream",
     "text": [
      "['harshada', 'pratik', 'rutuja', 'omkar']\n",
      "[8, 6, 6, 5]\n"
     ]
    }
   ],
   "source": [
    "names = ['harshada','pratik','rutuja','omkar']  #List of words\n",
    "length = list(map(lambda s:len(s),names))\n",
    "print(names)\n",
    "print(length)"
   ]
  },
  {
   "cell_type": "markdown",
   "id": "a1bd581e",
   "metadata": {},
   "source": [
    "# 6. How can you use the `map()` function to apply a custom function to elements of multiple lists simultaneously in Python?"
   ]
  },
  {
   "cell_type": "markdown",
   "id": "47527e2b",
   "metadata": {},
   "source": [
    "According to the documentation, map() takes a function object and an iterable (or multiple iterables) as arguments and returns an iterator that yields transformed items on demand. The function’s signature is defined as follows:\n",
    "\n",
    "map(function, iterable[, iterable1, iterable2,..., iterableN])\n",
    "map() applies function to each item in iterable in a loop and returns a new iterator that yields transformed items on demand. function can be any Python function that takes a number of arguments equal to the number of iterables you pass to map().\n",
    "\n",
    "Note: The first argument to map() is a function object, which means that you need to pass a function without calling it. That is, without using a pair of parentheses.\n",
    "\n",
    "This first argument to map() is a transformation function. In other words, it’s the function that transforms each original item into a new (transformed) item. Even though the Python documentation calls this argument function, it can be any Python callable. This includes built-in functions, classes, methods, lambda functions, and user-defined functions.\n",
    "\n",
    "The operation that map() performs is commonly known as a mapping because it maps every item in an input iterable to a new item in a resulting iterable. To do that, map() applies a transformation function to all the items in the input iterable."
   ]
  },
  {
   "cell_type": "code",
   "execution_count": 93,
   "id": "c657a258",
   "metadata": {},
   "outputs": [
    {
     "data": {
      "text/plain": [
       "[1, 4, 9, 16, 25]"
      ]
     },
     "execution_count": 93,
     "metadata": {},
     "output_type": "execute_result"
    }
   ],
   "source": [
    "def square(number):\n",
    "    return number ** 2\n",
    "\n",
    "\n",
    "numbers = [1, 2, 3, 4, 5]\n",
    "squared = map(square, numbers)\n",
    "\n",
    "list(squared)"
   ]
  },
  {
   "cell_type": "markdown",
   "id": "fcb62588",
   "metadata": {},
   "source": [
    "square() is a transformation function that maps a number to its square value. The call to map() applies square() to all of the values in numbers and returns an iterator that yields square values. Then you call list() on map() to create a list object containing the square values."
   ]
  },
  {
   "cell_type": "markdown",
   "id": "69f17ed8",
   "metadata": {},
   "source": [
    "# 7. Create a Python program that uses `map()` to convert a list of temperatures from Celsius to Fahrenheit."
   ]
  },
  {
   "cell_type": "code",
   "execution_count": 95,
   "id": "a1b9ab41",
   "metadata": {},
   "outputs": [
    {
     "name": "stdout",
     "output_type": "stream",
     "text": [
      "[37, 38, 40, 43, 45]\n",
      "degree celcius to fahrenheit\n",
      "[98.6, 100.4, 104.0, 109.4, 113.0]\n"
     ]
    }
   ],
   "source": [
    "c_temp = [37,38,40,43,45]\n",
    "# The Fahrenheit to Celsius formula is expressed as fahrenheit = (celsius * 9/5) + 32\n",
    "print(c_temp)\n",
    "print(f'degree celcius to fahrenheit')\n",
    "\n",
    "def farenheit(temp):\n",
    "    fah = (temp * 9/5) + 32\n",
    "    return fah\n",
    "\n",
    "fah_tem = list(map(farenheit,c_temp))\n",
    "print(fah_tem)"
   ]
  },
  {
   "cell_type": "markdown",
   "id": "52eb8950",
   "metadata": {},
   "source": [
    "# 8. Write a Python program that uses the `map()` function to round each element of a list of floating-point numbers to the nearest integer."
   ]
  },
  {
   "cell_type": "code",
   "execution_count": 98,
   "id": "4370eff0",
   "metadata": {},
   "outputs": [
    {
     "name": "stdout",
     "output_type": "stream",
     "text": [
      "[30.464913, 5.21, 6.98955, 2.7849]\n",
      "floating-point numbers to the nearest integer\n",
      "[30, 5, 7, 3]\n"
     ]
    }
   ],
   "source": [
    "l = [30.464913,5.210,6.98955,2.78490]\n",
    "print(l)\n",
    "print(\"floating-point numbers to the nearest integer\")\n",
    "\n",
    "itr = list(map(round,l))\n",
    "print(itr)"
   ]
  },
  {
   "cell_type": "markdown",
   "id": "43e59958",
   "metadata": {},
   "source": []
  },
  {
   "cell_type": "markdown",
   "id": "19ecfab1",
   "metadata": {},
   "source": [
    "# Reduce :-"
   ]
  },
  {
   "cell_type": "markdown",
   "id": "7c2ebaf6",
   "metadata": {},
   "source": [
    "# 1. What is the `reduce()` function in Python, and what module should you import to use it? Provide an example of its basic usage."
   ]
  },
  {
   "cell_type": "markdown",
   "id": "54c72be5",
   "metadata": {},
   "source": [
    "The reduce(fun,seq) function is used to apply a particular function passed in its argument to all of the list elements mentioned in the sequence passed along.This function is defined in “functools” module.\n",
    "\n",
    "Working :  \n",
    "\n",
    "-At first step, first two elements of sequence are picked and the result is obtained.\n",
    "-Next step is to apply the same function to the previously attained result and the number just succeeding the second element and the result is again stored.\n",
    "-This process continues till no more elements are left in the container.\n",
    "-The final returned result is returned and printed on console."
   ]
  },
  {
   "cell_type": "code",
   "execution_count": 1,
   "id": "773cda88",
   "metadata": {},
   "outputs": [
    {
     "name": "stdout",
     "output_type": "stream",
     "text": [
      "The sum of the list elements is : 17\n",
      "The maximum element of the list is : 6\n"
     ]
    }
   ],
   "source": [
    "# python code to demonstrate working of reduce() \n",
    "  \n",
    "# importing functools for reduce() \n",
    "import functools \n",
    "  \n",
    "# initializing list \n",
    "lis = [1, 3, 5, 6, 2] \n",
    "  \n",
    "# using reduce to compute sum of list \n",
    "print(\"The sum of the list elements is : \", end=\"\") \n",
    "print(functools.reduce(lambda a, b: a+b, lis)) \n",
    "  \n",
    "# using reduce to compute maximum element from list \n",
    "print(\"The maximum element of the list is : \", end=\"\") \n",
    "print(functools.reduce(lambda a, b: a if a > b else b, lis)) "
   ]
  },
  {
   "cell_type": "markdown",
   "id": "10fc70be",
   "metadata": {},
   "source": [
    "# 2. Write a Python program that uses the `reduce()` function to find the product of all elements in a list."
   ]
  },
  {
   "cell_type": "code",
   "execution_count": 3,
   "id": "8de8e809",
   "metadata": {},
   "outputs": [
    {
     "name": "stdout",
     "output_type": "stream",
     "text": [
      "Product of all elements in list is:  180\n"
     ]
    }
   ],
   "source": [
    "from functools import reduce\n",
    "lis = [1, 3, 5, 6, 2] \n",
    "\n",
    "p = reduce(lambda a,b:a*b,lis)\n",
    "print(\"Product of all elements in list is: \",p)"
   ]
  },
  {
   "cell_type": "markdown",
   "id": "ebb512cb",
   "metadata": {},
   "source": [
    "# 3. Create a Python program that uses `reduce()` to find the maximum element in a list of numbers."
   ]
  },
  {
   "cell_type": "code",
   "execution_count": 5,
   "id": "4f74aa63",
   "metadata": {},
   "outputs": [
    {
     "name": "stdout",
     "output_type": "stream",
     "text": [
      "The maximum element of the list is : 6\n"
     ]
    }
   ],
   "source": [
    "# initializing list \n",
    "lis = [1, 3, 5, 6, 2]  \n",
    "  \n",
    "# using reduce to compute maximum element from list \n",
    "print(\"The maximum element of the list is : \", end=\"\") \n",
    "print(functools.reduce(lambda a, b: a if a > b else b, lis)) "
   ]
  },
  {
   "cell_type": "markdown",
   "id": "cb7bedbd",
   "metadata": {},
   "source": [
    "# 4. How can you use the `reduce()` function to concatenate a list of strings into a single string?"
   ]
  },
  {
   "cell_type": "code",
   "execution_count": 7,
   "id": "7aca012d",
   "metadata": {},
   "outputs": [
    {
     "name": "stdout",
     "output_type": "stream",
     "text": [
      "['apple', 'banana', 'orange', 'grape']\n",
      "apple, banana, orange, grape\n"
     ]
    }
   ],
   "source": [
    "fruits = ['apple', 'banana', 'orange', 'grape']\n",
    "\n",
    "def concatenate_strings(str1, str2):\n",
    "    return str1 + ', ' + str2\n",
    "\n",
    "result = reduce(concatenate_strings, fruits)\n",
    "print(fruits)\n",
    "print(result)"
   ]
  },
  {
   "cell_type": "markdown",
   "id": "5901aa85",
   "metadata": {},
   "source": [
    "# 5. Write a Python program that calculates the factorial of a number using the `reduce()` function."
   ]
  },
  {
   "cell_type": "code",
   "execution_count": 10,
   "id": "5411eb5b",
   "metadata": {},
   "outputs": [
    {
     "name": "stdout",
     "output_type": "stream",
     "text": [
      "Enter number: 5\n",
      "5 != 120\n"
     ]
    }
   ],
   "source": [
    "n = int(input('Enter number: '))\n",
    "\n",
    "\n",
    "factorial = reduce(lambda x, y: x * y, range(1, n+1))\n",
    "\n",
    "print('%d != %d' %(n, factorial))"
   ]
  },
  {
   "cell_type": "markdown",
   "id": "b9cbb6e4",
   "metadata": {},
   "source": [
    "# 7. Write a Python program that uses the `reduce()` function to find the sum of the digits of a given number."
   ]
  },
  {
   "cell_type": "code",
   "execution_count": 15,
   "id": "d1560163",
   "metadata": {},
   "outputs": [
    {
     "name": "stdout",
     "output_type": "stream",
     "text": [
      "Enter Number: 34567\n",
      "25\n"
     ]
    }
   ],
   "source": [
    "n = input(\"Enter Number: \")\n",
    "\n",
    "print(reduce(lambda i,j:int(i)+int(j),n))"
   ]
  },
  {
   "cell_type": "markdown",
   "id": "e846e6ad",
   "metadata": {},
   "source": []
  },
  {
   "cell_type": "markdown",
   "id": "f2b3aa6d",
   "metadata": {},
   "source": [
    "# Filter :-"
   ]
  },
  {
   "cell_type": "markdown",
   "id": "9b0ec159",
   "metadata": {},
   "source": [
    "# 1. Explain the purpose of the `filter()` function in Python and provide an example of how it can be used to filter elements from an iterable."
   ]
  },
  {
   "cell_type": "markdown",
   "id": "33082810",
   "metadata": {},
   "source": [
    "The filter() function selects elements from an iterable (list, tuple etc.) based on the output of a function.\n",
    "\n",
    "The function is applied to each element of the iterable and if it returns True, the element is selected by the filter() function."
   ]
  },
  {
   "cell_type": "markdown",
   "id": "c6d2664a",
   "metadata": {},
   "source": [
    "The syntax of filter() is:\n",
    "\n",
    "filter(function, iterable)\n",
    "\n",
    "filter() Arguments:\n",
    "The filter() function takes two arguments:\n",
    "\n",
    "function - a function\n",
    "\n",
    "iterable - an iterable like sets, lists, tuples etc.\n",
    "\n",
    "filter() Return Value:\n",
    "The filter() function returns an iterator.\n",
    "\n",
    "Note: You can easily convert iterators to sequences like lists, tuples, strings etc.\n",
    "\n"
   ]
  },
  {
   "cell_type": "code",
   "execution_count": 16,
   "id": "a634cb11",
   "metadata": {},
   "outputs": [
    {
     "name": "stdout",
     "output_type": "stream",
     "text": [
      "('a', 'e', 'i', 'o')\n"
     ]
    }
   ],
   "source": [
    "letters = ['a', 'b', 'd', 'e', 'i', 'j', 'o']\n",
    "\n",
    "# a function that returns True if letter is vowel\n",
    "def filter_vowels(letter):\n",
    "    vowels = ['a', 'e', 'i', 'o', 'u']\n",
    "    return True if letter in vowels else False\n",
    "\n",
    "filtered_vowels = filter(filter_vowels, letters)\n",
    "\n",
    "# converting to tuple\n",
    "vowels = tuple(filtered_vowels)\n",
    "print(vowels)"
   ]
  },
  {
   "cell_type": "markdown",
   "id": "479e9cc6",
   "metadata": {},
   "source": [
    "# 2. Write a Python program that uses the `filter()` function to select even numbers from a list of integers."
   ]
  },
  {
   "cell_type": "code",
   "execution_count": 23,
   "id": "cb9c1883",
   "metadata": {},
   "outputs": [
    {
     "name": "stdout",
     "output_type": "stream",
     "text": [
      "[2, 4]\n"
     ]
    }
   ],
   "source": [
    "# Initialisation of list\n",
    "lis1 = [1, 2, 3, 4, 5]\n",
    " \n",
    "# def is_even(x): \n",
    "#     return x % 2 == 0\n",
    " \n",
    "# using filter\n",
    "lis2 = list(filter(lambda a: a%2==0 ,lis1))\n",
    " \n",
    "# Printing output\n",
    "print(lis2)"
   ]
  },
  {
   "cell_type": "markdown",
   "id": "8e10e1b4",
   "metadata": {},
   "source": [
    "# 3. Create a Python program that uses the `filter()` function to select names that start with a specific letter from a list of strings."
   ]
  },
  {
   "cell_type": "code",
   "execution_count": 26,
   "id": "74df9bb8",
   "metadata": {},
   "outputs": [
    {
     "name": "stdout",
     "output_type": "stream",
     "text": [
      "['akash', 'akshat']\n"
     ]
    }
   ],
   "source": [
    "# initializing list\n",
    "test_list = ['akash', 'Nikhil', 'Manjeet', 'akshat']\n",
    "\n",
    "a = list(filter(lambda s: s.startswith('a'),test_list))  #to check string startswith a\n",
    "print(a)"
   ]
  },
  {
   "cell_type": "markdown",
   "id": "de88253a",
   "metadata": {},
   "source": [
    "# 4. Write a Python program that uses the `filter()` function to select prime numbers from a list of integers."
   ]
  },
  {
   "cell_type": "code",
   "execution_count": 27,
   "id": "9d56f446",
   "metadata": {},
   "outputs": [
    {
     "name": "stdout",
     "output_type": "stream",
     "text": [
      "[2, 3, 5, 7, 11, 13, 17, 19, 23, 29]\n"
     ]
    }
   ],
   "source": [
    "# importing math library\n",
    "import math\n",
    "\n",
    "# creating function\n",
    "def main(x):\n",
    "\n",
    "   # checking for negative numbers\n",
    "    if x <= 1:\n",
    "        return False\n",
    "\n",
    "   #  for loop to iterate through number range to find its root if exist\n",
    "    for i in range(2, int(math.sqrt(x)) + 1):\n",
    "        if x % i == 0:\n",
    "            return False\n",
    "\n",
    "   # else return true\n",
    "    return True\n",
    "\n",
    "# using filter function\n",
    "print(list(filter(main, range(30))))"
   ]
  },
  {
   "cell_type": "markdown",
   "id": "9af6f4d6",
   "metadata": {},
   "source": [
    "# 5. How can you use the `filter()` function to remove None values from a list in Python?"
   ]
  },
  {
   "cell_type": "code",
   "execution_count": 28,
   "id": "f174e19e",
   "metadata": {},
   "outputs": [
    {
     "name": "stdout",
     "output_type": "stream",
     "text": [
      "The original list is : [1, None, 4, None, None, 5, 8, None, False]\n",
      "List after removal of None values : [1, 4, 5, 8, False]\n"
     ]
    }
   ],
   "source": [
    "# initializing list\n",
    "test_list = [1, None, 4, None, None, 5, 8, None, False]\n",
    " \n",
    "# printing original list\n",
    "print (\"The original list is : \" + str(test_list))\n",
    " \n",
    "# using filter()\n",
    "# to remove None values in list\n",
    "res = list(filter(lambda item: item is not None, test_list))\n",
    " \n",
    "# printing result\n",
    "print (\"List after removal of None values : \" + str(res))"
   ]
  },
  {
   "cell_type": "markdown",
   "id": "7704ee2b",
   "metadata": {},
   "source": [
    "# 6. Create a Python program that uses `filter()` to select words longer than a certain length from a list of strings."
   ]
  },
  {
   "cell_type": "code",
   "execution_count": 3,
   "id": "eed151d0",
   "metadata": {},
   "outputs": [
    {
     "name": "stdout",
     "output_type": "stream",
     "text": [
      "['The', 'quick', 'brown', 'fox', 'jumps', 'over', 'the', 'lazy', 'dog']\n",
      "words having length more than 3\n",
      "['quick', 'brown', 'jumps', 'over', 'lazy']\n"
     ]
    }
   ],
   "source": [
    "s = \"The quick brown fox jumps over the lazy dog\"\n",
    "s  = s.split()\n",
    "print(s)\n",
    "print(\"words having length more than 3\")\n",
    "\n",
    "res = list(filter(lambda s:len(s)>3,s))\n",
    "print(res)"
   ]
  },
  {
   "cell_type": "markdown",
   "id": "edb70473",
   "metadata": {},
   "source": [
    "# 7. Write a Python program that uses the `filter()` function to select elements greater than a specified threshold from a list of values."
   ]
  },
  {
   "cell_type": "code",
   "execution_count": 4,
   "id": "55ce25ff",
   "metadata": {},
   "outputs": [
    {
     "name": "stdout",
     "output_type": "stream",
     "text": [
      "Original list of numbers: [20, 15, 24, 37, 23, 11, 7]\n",
      "\n",
      "Filters out all elements less than or equal to a specified value 20 :\n",
      "[20, 15, 11, 7]\n"
     ]
    }
   ],
   "source": [
    "def filter_numbers_less_than(numbers, threshold):\n",
    "    \"\"\"\n",
    "    Filters out all elements less than or equal to a specified value from a list of numbers.\n",
    "\n",
    "    Args:\n",
    "        numbers (list): A list of numbers.\n",
    "        threshold (float): The threshold value to compare against.\n",
    "\n",
    "    Returns:\n",
    "        list: A new list containing only the numbers less than or equal to the threshold.\n",
    "    \"\"\"\n",
    "    # Define the filtering function\n",
    "    def is_less_than_threshold(num):\n",
    "        return num <= threshold\n",
    "\n",
    "    # Use the filter function to filter out numbers\n",
    "    filtered_numbers = list(filter(is_less_than_threshold, numbers))\n",
    "\n",
    "    return filtered_numbers\n",
    "\n",
    "# Example usage:\n",
    "numbers = [20, 15, 24, 37, 23, 11, 7]\n",
    "print(\"Original list of numbers:\",numbers)\n",
    "threshold = 20\n",
    "print(\"\\nFilters out all elements less than or equal to a specified value\",threshold,\":\")\n",
    "result = filter_numbers_less_than(numbers, threshold)\n",
    "print(result)"
   ]
  },
  {
   "cell_type": "markdown",
   "id": "e0be1e46",
   "metadata": {},
   "source": []
  },
  {
   "cell_type": "markdown",
   "id": "31c7cbcb",
   "metadata": {},
   "source": [
    "# Recursion:-"
   ]
  },
  {
   "cell_type": "markdown",
   "id": "11629430",
   "metadata": {},
   "source": [
    "# 1. Explain the concept of recursion in Python. How does it differ from iteration?"
   ]
  },
  {
   "cell_type": "markdown",
   "id": "da563758",
   "metadata": {},
   "source": [
    "Recursion is defined as a process in which a function calls itself repeatedly. Recursion uses selection structure. If the recursion step does not reduce the problem in a manner that converges on some condition, called base condition, then an infinite recursion occurs. An infinite recursion can crash the system. Recursion terminates when a base case is recognized.\n",
    "\n",
    "Because of the overhead of maintaining the stack, the recursion process is usually slower than iteration. Also, recursion uses more memory than iteration. However, it makes the code smaller, thus it is an amazing technique that makes it easier to read and write the code."
   ]
  },
  {
   "cell_type": "code",
   "execution_count": 5,
   "id": "98ab7050",
   "metadata": {},
   "outputs": [],
   "source": [
    "# Example:\n",
    "def fibonacci(n):\n",
    "    # Base case\n",
    "    if n <= 1:\n",
    "        return n\n",
    "    # Recursive case\n",
    "    else:\n",
    "        return fibonacci(n-1) + fibonacci(n-2)"
   ]
  },
  {
   "cell_type": "markdown",
   "id": "dceb1f02",
   "metadata": {},
   "source": [
    "# 2. Write a Python program to calculate the factorial of a number using recursion."
   ]
  },
  {
   "cell_type": "code",
   "execution_count": 6,
   "id": "72fff959",
   "metadata": {},
   "outputs": [
    {
     "name": "stdout",
     "output_type": "stream",
     "text": [
      "Enter a number: 4\n",
      "The factorial of 4 is 24\n"
     ]
    }
   ],
   "source": [
    "def recur_factorial(n):  \n",
    "    if n == 1:  \n",
    "        return n  \n",
    "    else:  \n",
    "        return n*recur_factorial(n-1)  \n",
    "# take input from the user  \n",
    "num = int(input(\"Enter a number: \"))  \n",
    "# check is the number is negative  \n",
    "if num < 0:  \n",
    "    print(\"Sorry, factorial does not exist for negative numbers\")  \n",
    "elif num == 0:  \n",
    "    print(\"The factorial of 0 is 1\")  \n",
    "else:  \n",
    "    print(\"The factorial of\",num,\"is\",recur_factorial(num))  "
   ]
  },
  {
   "cell_type": "markdown",
   "id": "0b4c7e38",
   "metadata": {},
   "source": [
    "# 3. Create a recursive Python function to find the nth Fibonacci number."
   ]
  },
  {
   "cell_type": "code",
   "execution_count": 7,
   "id": "7a7a19db",
   "metadata": {},
   "outputs": [
    {
     "name": "stdout",
     "output_type": "stream",
     "text": [
      "34\n"
     ]
    }
   ],
   "source": [
    "# Function for nth Fibonacci number\n",
    " \n",
    "def Fibonacci(n):\n",
    "    if n<= 0:\n",
    "        print(\"Incorrect input\")\n",
    "    # First Fibonacci number is 0\n",
    "    elif n == 1:\n",
    "        return 0\n",
    "    # Second Fibonacci number is 1\n",
    "    elif n == 2:\n",
    "        return 1\n",
    "    else:\n",
    "        return Fibonacci(n-1)+Fibonacci(n-2)\n",
    "#Driver Program\n",
    " \n",
    "print(Fibonacci(10))"
   ]
  },
  {
   "cell_type": "markdown",
   "id": "7d8603bc",
   "metadata": {},
   "source": [
    "# 4. Write a recursive Python function to calculate the sum of all elements in a list."
   ]
  },
  {
   "cell_type": "code",
   "execution_count": 8,
   "id": "06ada4e9",
   "metadata": {},
   "outputs": [
    {
     "name": "stdout",
     "output_type": "stream",
     "text": [
      "42\n"
     ]
    }
   ],
   "source": [
    "myList=[23,4,2,6,7]\n",
    " \n",
    "def sumOfList(myList, nSum):\n",
    "    if len(myList):\n",
    "        return sumOfList(myList[1:], nSum+myList[0])\n",
    "    else:\n",
    "        return nSum\n",
    "         \n",
    "print(sumOfList(myList, 0))"
   ]
  },
  {
   "cell_type": "markdown",
   "id": "abad363e",
   "metadata": {},
   "source": [
    "# 5. How can you prevent a recursive function from running indefinitely, causing a stack overflow error?"
   ]
  },
  {
   "cell_type": "markdown",
   "id": "1126b3ec",
   "metadata": {},
   "source": [
    "In a typical recursive function, we usually make the recursive calls first, and then take the return value of the recursive call to calculate the result. Therefore, we only get the final result after all the recursive calls have returned some value. But in a tail recursive function, the various calculations and statements are performed first and the recursive call to the function is made after that. By doing this, we pass the results of the current step to the next recursive call to the function. Hence, the last statement in a Tail recursive function is the recursive call to the function. \n",
    "This means that when we perform the next recursive call to the function, the current stack frame (occupied by the current function call) is not needed anymore. This allows us to optimize the code. We Simply reuse the current stack frame for the next recursive step and repeat this process for all the other function calls.\n",
    "Using regular recursion, each recursive call pushes another entry onto the call stack. When the functions return, they are popped from the stack. In the case of tail recursion, we can optimize it so that only one stack entry is used for all the recursive calls of the function. This means that even on large inputs, there can be no stack overflow. This is called Tail recursion optimization.\n",
    "Languages such as lisp and c/c++ have this sort of optimization. But, the Python interpreter doesn’t perform tail recursion optimization. Due to this, the recursion limit of python is usually set to a small value (approx, 10^4). This means that when you provide a large input to the recursive function, you will get an error. This is done to avoid a stack overflow. The Python interpreter limits the recursion limit so that infinite recursions are avoided. \n",
    "  \n",
    "Handling recursion limit –\n",
    "The “sys” module in Python provides a function called setrecursionlimit() to modify the recursion limit in Python. It takes one parameter, the value of the new recursion limit. By default, this value is usually 10^3. If you are dealing with large inputs, you can set it to, 10^6 so that large inputs can be handled without any errors.\n",
    "Example:\n",
    "Consider a program to compute the factorial of a number using recursion. When given a large input, the program crashes and gives a “maximum recursion depth exceeded error”."
   ]
  },
  {
   "cell_type": "code",
   "execution_count": 9,
   "id": "f03dd9c9",
   "metadata": {},
   "outputs": [
    {
     "name": "stdout",
     "output_type": "stream",
     "text": [
      "Enter the number: \n",
      "1000\n",
      "402387260077093773543702433923003985719374864210714632543799910429938512398629020592044208486969404800479988610197196058631666872994808558901323829669944590997424504087073759918823627727188732519779505950995276120874975462497043601418278094646496291056393887437886487337119181045825783647849977012476632889835955735432513185323958463075557409114262417474349347553428646576611667797396668820291207379143853719588249808126867838374559731746136085379534524221586593201928090878297308431392844403281231558611036976801357304216168747609675871348312025478589320767169132448426236131412508780208000261683151027341827977704784635868170164365024153691398281264810213092761244896359928705114964975419909342221566832572080821333186116811553615836546984046708975602900950537616475847728421889679646244945160765353408198901385442487984959953319101723355556602139450399736280750137837615307127761926849034352625200015888535147331611702103968175921510907788019393178114194545257223865541461062892187960223838971476088506276862967146674697562911234082439208160153780889893964518263243671616762179168909779911903754031274622289988005195444414282012187361745992642956581746628302955570299024324153181617210465832036786906117260158783520751516284225540265170483304226143974286933061690897968482590125458327168226458066526769958652682272807075781391858178889652208164348344825993266043367660176999612831860788386150279465955131156552036093988180612138558600301435694527224206344631797460594682573103790084024432438465657245014402821885252470935190620929023136493273497565513958720559654228749774011413346962715422845862377387538230483865688976461927383814900140767310446640259899490222221765904339901886018566526485061799702356193897017860040811889729918311021171229845901641921068884387121855646124960798722908519296819372388642614839657382291123125024186649353143970137428531926649875337218940694281434118520158014123344828015051399694290153483077644569099073152433278288269864602789864321139083506217095002597389863554277196742822248757586765752344220207573630569498825087968928162753848863396909959826280956121450994871701244516461260379029309120889086942028510640182154399457156805941872748998094254742173582401063677404595741785160829230135358081840096996372524230560855903700624271243416909004153690105933983835777939410970027753472000000000000000000000000000000000000000000000000000000000000000000000000000000000000000000000000000000000000000000000000000000000000000000000000000000000000000000000000000000000000000000000000000000000000000000000000000000000000000000000000000000000\n"
     ]
    }
   ],
   "source": [
    "# importing the sys module\n",
    "import sys\n",
    " \n",
    "# the setrecursionlimit function is\n",
    "# used to modify the default recursion\n",
    "# limit set by python. Using this, \n",
    "# we can increase the recursion limit\n",
    "# to satisfy our needs\n",
    " \n",
    "sys.setrecursionlimit(10**6)\n",
    " \n",
    "# a simple recursive function\n",
    "# to compute the factorial of a number\n",
    "# it takes one parameter, the \n",
    "# number whose factorial we \n",
    "# want to compute and returns\n",
    "# its factorial\n",
    "def fact(n):\n",
    " \n",
    "    if(n == 0):\n",
    "        return 1\n",
    " \n",
    "    return n * fact(n - 1)\n",
    " \n",
    "if __name__ == '__main__':\n",
    " \n",
    "    # taking input\n",
    "    f = int(input('Enter the number: \\n'))\n",
    " \n",
    "    print(fact(f))"
   ]
  },
  {
   "cell_type": "markdown",
   "id": "dd0cb906",
   "metadata": {},
   "source": [
    "# 6. Create a recursive Python function to find the greatest common divisor (GCD) of two numbers using the Euclidean algorithm."
   ]
  },
  {
   "cell_type": "code",
   "execution_count": 12,
   "id": "247c6f77",
   "metadata": {},
   "outputs": [
    {
     "name": "stdout",
     "output_type": "stream",
     "text": [
      "Enter first number:15\n",
      "Enter second number:30\n",
      "GCD is: \n",
      "15\n"
     ]
    }
   ],
   "source": [
    "def gcd(a,b):\n",
    "    if(b==0):\n",
    "        return a\n",
    "    else:\n",
    "        return gcd(b,a%b)\n",
    "a=int(input(\"Enter first number:\"))\n",
    "b=int(input(\"Enter second number:\"))\n",
    "GCD=gcd(a,b)\n",
    "print(\"GCD is: \")\n",
    "print(GCD)"
   ]
  },
  {
   "cell_type": "markdown",
   "id": "c9eed9aa",
   "metadata": {},
   "source": [
    "# 7. Write a recursive Python function to reverse a string."
   ]
  },
  {
   "cell_type": "code",
   "execution_count": 13,
   "id": "fa7c0ae3",
   "metadata": {},
   "outputs": [
    {
     "name": "stdout",
     "output_type": "stream",
     "text": [
      "Enter your string:harshada\n",
      "Given String: harshada\n",
      "reversed String: adahsrah\n"
     ]
    }
   ],
   "source": [
    "def reverse_str(my_str):\n",
    "    if len(my_str) == 0:\n",
    "        return my_str\n",
    "    else:\n",
    "        return reverse_str(my_str[1:]) + my_str[0]\n",
    "\n",
    "my_string = input('Enter your string:')\n",
    "print(f\"Given String: {my_string}\")\n",
    "print(f\"reversed String: {reverse_str(my_string)}\")"
   ]
  },
  {
   "cell_type": "markdown",
   "id": "7eb0746e",
   "metadata": {},
   "source": [
    "# 8. Create a recursive Python function to calculate the power of a number (x^n)."
   ]
  },
  {
   "cell_type": "code",
   "execution_count": 14,
   "id": "60658323",
   "metadata": {},
   "outputs": [
    {
     "name": "stdout",
     "output_type": "stream",
     "text": [
      "25\n"
     ]
    }
   ],
   "source": [
    "# Python3 code to recursively find\n",
    "# the power of a number\n",
    " \n",
    "# Recursive function to find N^P.\n",
    "def power(N, P):\n",
    " \n",
    "    # If power is 0 then return 1\n",
    "    # if condition is true\n",
    "    # only then it will enter it,\n",
    "    # otherwise not\n",
    "    if P == 0:\n",
    "        return 1\n",
    " \n",
    "    # Recurrence relation\n",
    "    return (N*power(N, P-1))\n",
    " \n",
    "N = 5\n",
    "P = 2\n",
    "print(power(N, P))"
   ]
  },
  {
   "cell_type": "markdown",
   "id": "da92d76e",
   "metadata": {},
   "source": [
    "# 9. Write a recursive Python function to find all permutations of a given string."
   ]
  },
  {
   "cell_type": "code",
   "execution_count": 16,
   "id": "32085749",
   "metadata": {},
   "outputs": [
    {
     "name": "stdout",
     "output_type": "stream",
     "text": [
      "ABC\n",
      "ACB\n",
      "BAC\n",
      "BCA\n",
      "CBA\n",
      "CAB\n"
     ]
    }
   ],
   "source": [
    "# Python3 program to print all permutations with\n",
    "# duplicates allowed\n",
    " \n",
    "def toString(List):\n",
    "    return ''.join(List)\n",
    " \n",
    "# Function to print permutations of string\n",
    "# This function takes three parameters:\n",
    "# 1. String\n",
    "# 2. Starting index of the string\n",
    "# 3. Ending index of the string.\n",
    "def permute(a, l, r):\n",
    "    if l == r:\n",
    "        print(toString(a))\n",
    "    else:\n",
    "        for i in range(l, r):\n",
    "            a[l], a[i] = a[i], a[l]\n",
    "            permute(a, l+1, r)\n",
    "            a[l], a[i] = a[i], a[l]  # backtrack\n",
    " \n",
    " \n",
    "# Driver code\n",
    "string = \"ABC\"\n",
    "n = len(string)\n",
    "a = list(string)\n",
    " \n",
    "# Function call\n",
    "permute(a, 0, n)\n",
    " \n",
    "# This code is contributed by Bhavya Jain"
   ]
  },
  {
   "cell_type": "markdown",
   "id": "d6b11333",
   "metadata": {},
   "source": [
    "# 10. Write a recursive Python function to check if a string is a palindrome."
   ]
  },
  {
   "cell_type": "code",
   "execution_count": 17,
   "id": "0693cc09",
   "metadata": {},
   "outputs": [
    {
     "name": "stdout",
     "output_type": "stream",
     "text": [
      "Enter string:dad\n",
      "String is a palindrome!\n"
     ]
    }
   ],
   "source": [
    "def is_palindrome(s):\n",
    "    if len(s) < 1:\n",
    "        return True\n",
    "    else:\n",
    "        if s[0] == s[-1]:\n",
    "            return is_palindrome(s[1:-1])\n",
    "        else:\n",
    "            return False\n",
    "a=str(input(\"Enter string:\"))\n",
    "if(is_palindrome(a)==True):\n",
    "    print(\"String is a palindrome!\")\n",
    "else:\n",
    "    print(\"String isn't a palindrome!\")"
   ]
  },
  {
   "cell_type": "markdown",
   "id": "d704eef7",
   "metadata": {},
   "source": [
    "# 11. Create a recursive Python function to generate all possible combinations of a list of elements."
   ]
  },
  {
   "cell_type": "code",
   "execution_count": 18,
   "id": "2904fddc",
   "metadata": {},
   "outputs": [
    {
     "name": "stdout",
     "output_type": "stream",
     "text": [
      "All possible pairs: [(1, 7), (1, 4), (1, 3), (7, 4), (7, 3), (4, 3)]\n"
     ]
    }
   ],
   "source": [
    "# Python program for the above approach\n",
    " \n",
    "# Function to find all pairs\n",
    "def all_pairs(lst):\n",
    "    if len(lst) <= 1:\n",
    "        return []\n",
    "     \n",
    "    pairs = [(lst[0], x) for x in lst[1:]]\n",
    "     \n",
    "    return pairs + all_pairs(lst[1:])\n",
    "   \n",
    "# Driver Code\n",
    "lst = [1, 7, 4, 3]\n",
    "pairs = all_pairs(lst)\n",
    " \n",
    "print(\"All possible pairs:\", pairs)"
   ]
  },
  {
   "cell_type": "markdown",
   "id": "fe7b9b35",
   "metadata": {},
   "source": []
  },
  {
   "cell_type": "markdown",
   "id": "c73dd9a5",
   "metadata": {},
   "source": [
    "# Function Parameters and Arguments:"
   ]
  },
  {
   "cell_type": "markdown",
   "id": "50297f5d",
   "metadata": {},
   "source": [
    "# 1. Explain the concepts of formal parameters and actual arguments in Python functions."
   ]
  },
  {
   "cell_type": "markdown",
   "id": "0ef8a4cd",
   "metadata": {},
   "source": [
    "A parameter is an optional list of parameters that you define both pass information into the procedure and send information out of procedure back to the calling program. Parameter is also known as argument. When you define a parameter, you also specify the way in which it can be used. There are three different modes of parameter or argument.\n",
    "\n",
    "1. Actual Parameters :\n",
    "The arguments that are passed in a function call are called actual arguments. These arguments are defined in the calling function. These are the variables or expressions referenced in the parameter list of a subprogram call. There is no need to specify datatype in actual parameter."
   ]
  },
  {
   "cell_type": "raw",
   "id": "9d6008d7",
   "metadata": {},
   "source": [
    "Example :\n",
    "\n",
    "// X and Y NUMBER ARE ACTUAL PARAMETERS\n",
    "SQL> CREATE OR REPLACE FUNCTION FUNC1(X NUMBER, \n",
    "                                         Y NUMBER) \n",
    "2    RETURN NUMBER IS\n",
    "3    R NUMBER;\n",
    "4    BEGIN\n",
    "5    R:=X+Y;\n",
    "6    RETURN(R);\n",
    "7    END;\n",
    "8    /\n",
    "FUNCTION CREATED."
   ]
  },
  {
   "cell_type": "markdown",
   "id": "3b1fdf02",
   "metadata": {},
   "source": [
    "2. Formal Parameters :\n",
    "These are the variables or expressions referenced in the parameter list of a subprogram specification. The datatype of the receiving value must be defined. The scope of formal arguments is local to the function definition in which they are used."
   ]
  },
  {
   "cell_type": "raw",
   "id": "ce32783c",
   "metadata": {},
   "source": [
    "Example :\n",
    "\n",
    "SQL> DECLARE\n",
    "2    N1 NUMBER:=10;\n",
    "3    N2 NUMBER:=20;\n",
    "4    S NUMBER;\n",
    "5    BEGIN\n",
    "6    S:=FUNC1(N1, N2);\n",
    "7    DBMS_OUTOUT.PUT_LINE('RESULT IS: '||S);\n",
    "8    END;\n",
    "9    /\n"
   ]
  },
  {
   "cell_type": "markdown",
   "id": "1cf25e59",
   "metadata": {},
   "source": [
    "# 2. Write a Python program that defines a function with default argument values."
   ]
  },
  {
   "cell_type": "markdown",
   "id": "c9c192b6",
   "metadata": {},
   "source": [
    "Python has a different way of representing syntax and default values for function arguments. Default values indicate that the function argument will take that value if no argument value is passed during the function call. The default value is assigned by using the assignment(=) operator of the form keywordname=value.\n",
    "Let’s understand this through a function student. The function student contains 3-arguments out of which 2 arguments are assigned with default values. So, the function student accepts one required argument (firstname), and rest two arguments are optional. "
   ]
  },
  {
   "cell_type": "code",
   "execution_count": 19,
   "id": "610a28e2",
   "metadata": {},
   "outputs": [],
   "source": [
    "def student(firstname, lastname ='Mark', standard ='Fifth'):\n",
    " \n",
    "     print(firstname, lastname, 'studies in', standard, 'Standard')"
   ]
  },
  {
   "cell_type": "markdown",
   "id": "01820300",
   "metadata": {},
   "source": [
    "# 3. How do you use keyword arguments in Python function calls? Provide an example."
   ]
  },
  {
   "cell_type": "code",
   "execution_count": 20,
   "id": "1f3aea48",
   "metadata": {},
   "outputs": [
    {
     "name": "stdout",
     "output_type": "stream",
     "text": [
      "John Mark studies in Fifth Standard\n",
      "John Mark studies in Seventh Standard\n",
      "John Gates studies in Fifth Standard\n"
     ]
    }
   ],
   "source": [
    "def student(firstname, lastname ='Mark', standard ='Fifth'):\n",
    "     print(firstname, lastname, 'studies in', standard, 'Standard')\n",
    " \n",
    "# 1 keyword argument\n",
    "student(firstname ='John')     \n",
    " \n",
    "# 2 keyword arguments                 \n",
    "student(firstname ='John', standard ='Seventh')  \n",
    " \n",
    "# 2 keyword arguments \n",
    "student(lastname ='Gates', firstname ='John') "
   ]
  },
  {
   "cell_type": "markdown",
   "id": "035cba51",
   "metadata": {},
   "source": [
    "In the first call, there is only one required keyword argument. In the second call, one is a required argument and one is optional(standard), whose value gets replaced from default to a new passing value. In the third call, we can see that order in keyword argument is not important. "
   ]
  },
  {
   "cell_type": "markdown",
   "id": "60c784b7",
   "metadata": {},
   "source": [
    "# 4. Create a Python function that accepts a variable number of arguments and calculates their sum."
   ]
  },
  {
   "cell_type": "code",
   "execution_count": 21,
   "id": "057c1bfd",
   "metadata": {},
   "outputs": [
    {
     "name": "stdout",
     "output_type": "stream",
     "text": [
      "Sum is 6\n",
      "Sum is 100\n",
      "Sum is 35\n"
     ]
    }
   ],
   "source": [
    "def add_num(*args):\n",
    "   sum = 0\n",
    "   for num in args:\n",
    "      sum += num\n",
    "   return sum\n",
    "result = add_num(1, 2, 3)\n",
    "print('Sum is', result)\n",
    "result = add_num(10, 20, 30, 40)\n",
    "print('Sum is', result)\n",
    "22\n",
    "result = add_num(5, 6, 7, 8, 9)\n",
    "print('Sum is', result)"
   ]
  },
  {
   "cell_type": "markdown",
   "id": "d84430a0",
   "metadata": {},
   "source": [
    "# 5. What is the purpose of the `*args` and `**kwargs` syntax in function parameter lists?"
   ]
  },
  {
   "cell_type": "markdown",
   "id": "d9a13520",
   "metadata": {},
   "source": [
    "Python *args\n",
    "As in the above example we are not sure about the number of arguments that can be passed to a function. Python has *args which allow us to pass the variable number of non keyword arguments to function.\n",
    "\n",
    "In the function, we should use an asterisk * before the parameter name to pass variable length arguments.The arguments are passed as a tuple and these passed arguments make tuple inside the function with same name as the parameter excluding asterisk"
   ]
  },
  {
   "cell_type": "markdown",
   "id": "881d5cd5",
   "metadata": {},
   "source": [
    "Python **kwargs\n",
    "Python passes variable length non keyword argument to function using *args but we cannot use this to pass keyword argument. For this problem Python has got a solution called **kwargs, it allows us to pass the variable length of keyword arguments to the function.\n",
    "\n",
    "In the function, we use the double asterisk ** before the parameter name to denote this type of argument. The arguments are passed as a dictionary and these arguments make a dictionary inside function with name same as the parameter excluding double asterisk **."
   ]
  },
  {
   "cell_type": "markdown",
   "id": "71aef8cf",
   "metadata": {},
   "source": []
  },
  {
   "cell_type": "markdown",
   "id": "c50b03ad",
   "metadata": {},
   "source": [
    "# Return Values and Scoping:"
   ]
  },
  {
   "cell_type": "markdown",
   "id": "042eb371",
   "metadata": {},
   "source": [
    "# 1. Describe the role of the `return` statement in Python functions and provide examples."
   ]
  },
  {
   "cell_type": "markdown",
   "id": "beea9767",
   "metadata": {},
   "source": [
    "A return statement is used to end the execution of the function call and “returns” the result (value of the expression following the return keyword) to the caller. The statements after the return statements are not executed. If the return statement is without any expression, then the special value None is returned. A return statement is overall used to invoke a function so that the passed statements can be executed."
   ]
  },
  {
   "cell_type": "raw",
   "id": "a7bc7923",
   "metadata": {},
   "source": [
    "Syntax:\n",
    "    def fun():\n",
    "    statements\n",
    "    .\n",
    "    .\n",
    "    return [expression]"
   ]
  },
  {
   "cell_type": "markdown",
   "id": "ffa6215e",
   "metadata": {},
   "source": [
    "# 2. Explain the concept of variable scope in Python, including local and global variables."
   ]
  },
  {
   "cell_type": "markdown",
   "id": "b3540e8a",
   "metadata": {},
   "source": [
    "Python Local Variables\n",
    "Local variables in Python are those which are initialized inside a function and belong only to that particular function. It cannot be accessed anywhere outside the function. Let’s see how to create a local variable."
   ]
  },
  {
   "cell_type": "raw",
   "id": "f6fa4c4e",
   "metadata": {},
   "source": [
    "def f():\n",
    " \n",
    "    # local variable\n",
    "    s = \"I love Geeksforgeeks\"\n",
    "    print(s)\n",
    " \n",
    " \n",
    "# Driver code\n",
    "f()"
   ]
  },
  {
   "cell_type": "markdown",
   "id": "eece2ac6",
   "metadata": {},
   "source": [
    "Python Global Variables\n",
    "These are those which are defined outside any function and which are accessible throughout the program, i.e., inside and outside of every function. Let’s see how to create a Python global variable."
   ]
  },
  {
   "cell_type": "raw",
   "id": "7067a40c",
   "metadata": {},
   "source": [
    "# This function uses global variable s\n",
    "def f():\n",
    "    print(\"Inside Function\", s)\n",
    " \n",
    "# Global scope\n",
    "s = \"I love Geeksforgeeks\"\n",
    "f()\n",
    "print(\"Outside Function\", s)"
   ]
  },
  {
   "cell_type": "markdown",
   "id": "bce2d94a",
   "metadata": {},
   "source": [
    "# 3. Write a Python program that demonstrates the use of global variables within functions."
   ]
  },
  {
   "cell_type": "code",
   "execution_count": 24,
   "id": "91385bd6",
   "metadata": {},
   "outputs": [
    {
     "ename": "UnboundLocalError",
     "evalue": "local variable 'c' referenced before assignment",
     "output_type": "error",
     "traceback": [
      "\u001b[1;31m---------------------------------------------------------------------------\u001b[0m",
      "\u001b[1;31mUnboundLocalError\u001b[0m                         Traceback (most recent call last)",
      "\u001b[1;32m~\\AppData\\Local\\Temp\\6\\ipykernel_33772\\4113633212.py\u001b[0m in \u001b[0;36m<module>\u001b[1;34m\u001b[0m\n\u001b[0;32m      8\u001b[0m \u001b[1;33m\u001b[0m\u001b[0m\n\u001b[0;32m      9\u001b[0m \u001b[1;33m\u001b[0m\u001b[0m\n\u001b[1;32m---> 10\u001b[1;33m \u001b[0mprint_globals\u001b[0m\u001b[1;33m(\u001b[0m\u001b[1;33m)\u001b[0m\u001b[1;33m\u001b[0m\u001b[1;33m\u001b[0m\u001b[0m\n\u001b[0m",
      "\u001b[1;32m~\\AppData\\Local\\Temp\\6\\ipykernel_33772\\4113633212.py\u001b[0m in \u001b[0;36mprint_globals\u001b[1;34m()\u001b[0m\n\u001b[0;32m      4\u001b[0m \u001b[1;33m\u001b[0m\u001b[0m\n\u001b[0;32m      5\u001b[0m \u001b[1;32mdef\u001b[0m \u001b[0mprint_globals\u001b[0m\u001b[1;33m(\u001b[0m\u001b[1;33m)\u001b[0m\u001b[1;33m:\u001b[0m\u001b[1;33m\u001b[0m\u001b[1;33m\u001b[0m\u001b[0m\n\u001b[1;32m----> 6\u001b[1;33m     \u001b[0mprint\u001b[0m\u001b[1;33m(\u001b[0m\u001b[0ma\u001b[0m\u001b[1;33m,\u001b[0m \u001b[0mb\u001b[0m\u001b[1;33m,\u001b[0m \u001b[0mc\u001b[0m\u001b[1;33m)\u001b[0m\u001b[1;33m\u001b[0m\u001b[1;33m\u001b[0m\u001b[0m\n\u001b[0m\u001b[0;32m      7\u001b[0m     \u001b[0mc\u001b[0m \u001b[1;33m=\u001b[0m \u001b[1;36m100\u001b[0m\u001b[1;33m\u001b[0m\u001b[1;33m\u001b[0m\u001b[0m\n\u001b[0;32m      8\u001b[0m \u001b[1;33m\u001b[0m\u001b[0m\n",
      "\u001b[1;31mUnboundLocalError\u001b[0m: local variable 'c' referenced before assignment"
     ]
    }
   ],
   "source": [
    "a = 10\n",
    "b = 20\n",
    "c = 30\n",
    "\n",
    "def print_globals():\n",
    "    print(a, b, c)\n",
    "    c = 100\n",
    "    print(c)\n",
    "    \n",
    "print_globals()\n",
    "\n",
    "# >>> # Expected output\n",
    "# >>> print_globals()\n",
    "# 10 20 30\n",
    "# 100"
   ]
  },
  {
   "cell_type": "markdown",
   "id": "3d10ab0c",
   "metadata": {},
   "source": [
    "# 5. How can you access variables defined outside a function from within the function?"
   ]
  },
  {
   "cell_type": "code",
   "execution_count": 25,
   "id": "aa40fd33",
   "metadata": {},
   "outputs": [
    {
     "name": "stdout",
     "output_type": "stream",
     "text": [
      "The value of x is 10\n"
     ]
    }
   ],
   "source": [
    "# Here's an example of a global variable:\n",
    "\n",
    "x = 10 \n",
    "\n",
    "def showX():\n",
    "    print(\"The value of x is\", x)\n",
    "    \n",
    "showX()\n",
    "# The value of x is 10\n",
    "# The variable x in the code above was declared outside a function: x = 10."
   ]
  },
  {
   "cell_type": "markdown",
   "id": "8ad5f70e",
   "metadata": {},
   "source": []
  },
  {
   "cell_type": "markdown",
   "id": "a1f4c278",
   "metadata": {},
   "source": [
    "# Lambda Functions and Higher-Order Functions:"
   ]
  },
  {
   "cell_type": "markdown",
   "id": "60f5ba0a",
   "metadata": {},
   "source": [
    "# 1. What are lambda functions in Python, and when are they typically used?"
   ]
  },
  {
   "cell_type": "markdown",
   "id": "a5dbeb22",
   "metadata": {},
   "source": [
    "Python Lambda Functions are anonymous function means that the function is without a name. As we already know that the def keyword is used to define a normal function in Python. Similarly, the lambda keyword is used to define an anonymous function in Python. "
   ]
  },
  {
   "cell_type": "markdown",
   "id": "0638882f",
   "metadata": {},
   "source": [
    "Python Lambda Function Syntax\n",
    "Syntax: lambda arguments : expression\n",
    "\n",
    "This function can have any number of arguments but only one expression, which is evaluated and returned.\n",
    "One is free to use lambda functions wherever function objects are required.\n",
    "You need to keep in your knowledge that lambda functions are syntactically restricted to a single expression.\n",
    "It has various uses in particular fields of programming, besides other types of expressions in functions."
   ]
  },
  {
   "cell_type": "code",
   "execution_count": 26,
   "id": "0c8590a8",
   "metadata": {},
   "outputs": [
    {
     "name": "stdout",
     "output_type": "stream",
     "text": [
      "HARSHADA\n"
     ]
    }
   ],
   "source": [
    "str1 = 'harshada'\n",
    " \n",
    "upper = lambda string: string.upper()\n",
    "print(upper(str1))"
   ]
  },
  {
   "cell_type": "markdown",
   "id": "79849bc1",
   "metadata": {},
   "source": [
    "# 2. Write a Python program that uses lambda functions to sort a list of tuples based on the second element."
   ]
  },
  {
   "cell_type": "code",
   "execution_count": 27,
   "id": "c266b8b9",
   "metadata": {},
   "outputs": [
    {
     "name": "stdout",
     "output_type": "stream",
     "text": [
      "Original list of tuples:\n",
      "[('English', 88), ('Science', 90), ('Maths', 97), ('Social sciences', 82)]\n",
      "\n",
      "Sorting the List of Tuples:\n",
      "[('Social sciences', 82), ('English', 88), ('Science', 90), ('Maths', 97)]\n"
     ]
    }
   ],
   "source": [
    "subject_marks = [('English', 88), ('Science', 90), ('Maths', 97), ('Social sciences', 82)]\n",
    "print(\"Original list of tuples:\")\n",
    "print(subject_marks)\n",
    "subject_marks.sort(key = lambda x: x[1])\n",
    "print(\"\\nSorting the List of Tuples:\")\n",
    "print(subject_marks)"
   ]
  },
  {
   "cell_type": "markdown",
   "id": "f4adaa22",
   "metadata": {},
   "source": [
    "# 3. Explain the concept of higher-order functions in Python, and provide an example."
   ]
  },
  {
   "cell_type": "markdown",
   "id": "a262362f",
   "metadata": {},
   "source": [
    "A function is called Higher Order Function if it contains other functions as a parameter or returns a function as an output i.e, the functions that operate with another function are known as Higher order Functions. It is worth knowing that this higher order function is applicable for functions and methods as well that takes functions as a parameter or returns a function as a result. Python too supports the concepts of higher order functions."
   ]
  },
  {
   "cell_type": "raw",
   "id": "9a5f4f2c",
   "metadata": {},
   "source": [
    "Properties of higher-order functions:\n",
    "\n",
    "A function is an instance of the Object type.\n",
    "You can store the function in a variable.\n",
    "You can pass the function as a parameter to another function.\n",
    "You can return the function from a function.\n",
    "You can store them in data structures such as hash tables, lists, …"
   ]
  },
  {
   "cell_type": "markdown",
   "id": "1eb2bcfb",
   "metadata": {},
   "source": [
    "# 4. Create a Python function that takes a list of numbers and a function as arguments, applying the function to each element in the list."
   ]
  },
  {
   "cell_type": "markdown",
   "id": "1ab7f11a",
   "metadata": {},
   "source": [
    "map() methods take two arguments: iterables and functions and returns a map object. We use list() to convert the map object to a list."
   ]
  },
  {
   "cell_type": "code",
   "execution_count": 28,
   "id": "2cca62b5",
   "metadata": {},
   "outputs": [
    {
     "name": "stdout",
     "output_type": "stream",
     "text": [
      "[2, 4, 6]\n"
     ]
    }
   ],
   "source": [
    "def double(integer):\n",
    "    return integer*2\n",
    " \n",
    " \n",
    "# driver code\n",
    "integer_list = [1, 2, 3]\n",
    " \n",
    "# Map method returns a map object\n",
    "# so we cast it into list using list()\n",
    "output_list = list(map(double, integer_list))\n",
    " \n",
    "print(output_list)"
   ]
  },
  {
   "cell_type": "markdown",
   "id": "89ea5da2",
   "metadata": {},
   "source": [
    "# Built-in Functions:"
   ]
  },
  {
   "cell_type": "markdown",
   "id": "8e0e88d7",
   "metadata": {},
   "source": [
    "# 1. Describe the role of built-in functions like `len()`, `max()`, and `min()` in Python."
   ]
  },
  {
   "cell_type": "raw",
   "id": "f8509e7a",
   "metadata": {},
   "source": [
    "min(): gives the smallest element in the tuple as an output. Hence, the name is min()."
   ]
  },
  {
   "cell_type": "raw",
   "id": "94544c2b",
   "metadata": {},
   "source": [
    "max(): gives the largest element in the tuple as an output. Hence, the name is max()."
   ]
  },
  {
   "cell_type": "raw",
   "id": "64bdc3bb",
   "metadata": {},
   "source": [
    "The len() Function\n",
    "This function returns the number of elements present in a tuple. Moreover, it is necessary to provide a tuple to the len() function."
   ]
  },
  {
   "cell_type": "markdown",
   "id": "ddd9f542",
   "metadata": {},
   "source": [
    "# 2. Write a Python program that uses the `map()` function to apply a function to each element of a list."
   ]
  },
  {
   "cell_type": "code",
   "execution_count": 30,
   "id": "8942e388",
   "metadata": {},
   "outputs": [
    {
     "name": "stdout",
     "output_type": "stream",
     "text": [
      "[2, 4, 6]\n"
     ]
    }
   ],
   "source": [
    "def double(integer):\n",
    "    return integer*2\n",
    " \n",
    " \n",
    "# driver code\n",
    "integer_list = [1, 2, 3]\n",
    " \n",
    "# Map method returns a map object\n",
    "# so we cast it into list using list()\n",
    "output_list = list(map(double, integer_list))\n",
    " \n",
    "print(output_list)"
   ]
  },
  {
   "cell_type": "markdown",
   "id": "c6218e74",
   "metadata": {},
   "source": [
    "# 3. How does the `filter()` function work in Python, and when would you use it?"
   ]
  },
  {
   "cell_type": "raw",
   "id": "9432b123",
   "metadata": {},
   "source": [
    "The syntax for the filter() function in Python is - "
   ]
  },
  {
   "cell_type": "markdown",
   "id": "b5be5547",
   "metadata": {},
   "source": [
    "              filter(function, iterable)"
   ]
  },
  {
   "cell_type": "raw",
   "id": "ecd18550",
   "metadata": {},
   "source": [
    "The two parameters are the following - \n",
    "\n",
    "Function - It works on each element of the iterable and tests whether the returned value is true or false. The output sequence will contain all those elements of the iterable for which the function has returned True. It can also be mentioned as None. In such a case, the output sequence will simply contain all those elements that satisfy the boolean condition True.\n",
    "\n",
    "Iterable - It is the iterable or the list of items on which the filtering is to be performed on. An iterable can be a set, list, tuple, dictionary, etc.\n",
    "The filter() method in Python will return an iterator that will contain all the elements of the original iterable that has passed the function check."
   ]
  },
  {
   "cell_type": "markdown",
   "id": "771457f0",
   "metadata": {},
   "source": [
    "# 4. Create a Python program that uses the `reduce()` function to find the product of all elements in a list."
   ]
  },
  {
   "cell_type": "code",
   "execution_count": 31,
   "id": "f0bfefc4",
   "metadata": {},
   "outputs": [
    {
     "name": "stdout",
     "output_type": "stream",
     "text": [
      "6\n",
      "24\n"
     ]
    }
   ],
   "source": [
    "# Python3 program to multiply all values in the\n",
    "# list using lambda function and reduce()\n",
    " \n",
    "from functools import reduce\n",
    "list1 = [1, 2, 3]\n",
    "list2 = [3, 2, 4]\n",
    " \n",
    " \n",
    "result1 = reduce((lambda x, y: x * y), list1)\n",
    "result2 = reduce((lambda x, y: x * y), list2)\n",
    "print(result1)\n",
    "print(result2)"
   ]
  },
  {
   "cell_type": "markdown",
   "id": "c6770ba8",
   "metadata": {},
   "source": []
  },
  {
   "cell_type": "markdown",
   "id": "4e158682",
   "metadata": {},
   "source": [
    "# Function Documentation and Best Practices:"
   ]
  },
  {
   "cell_type": "markdown",
   "id": "064614a6",
   "metadata": {},
   "source": [
    "# 1. Explain the purpose of docstrings in Python functions and how to write them."
   ]
  },
  {
   "cell_type": "raw",
   "id": "a4b1888c",
   "metadata": {},
   "source": [
    "Python documentation strings (or docstrings) provide a convenient way of associating documentation with Python modules, functions, classes, and methods. It’s specified in source code that is used, like a comment, to document a specific segment of code. Unlike conventional source code comments, the docstring should describe what the function does, not how.\n",
    "\n",
    "Declaring Docstrings: The docstrings are declared using ”’triple single quotes”’ or “”” triple double quotes “”” just below the class, method, or function declaration. All functions should have a docstring.\n",
    "\n",
    "Accessing Docstrings: The docstrings can be accessed using the __doc__ method of the object or using the help function. The below examples demonstrate how to declare and access a docstring."
   ]
  },
  {
   "cell_type": "raw",
   "id": "1b698c9a",
   "metadata": {},
   "source": [
    "What should a docstring look like?\n",
    "\n",
    "The doc string line should begin with a capital letter and end with a period.\n",
    "The first line should be a short description.\n",
    "If there are more lines in the documentation string, the second line should be blank, visually separating the summary from the rest of the description.\n",
    "The following lines should be one or more paragraphs describing the object’s calling conventions, side effects, etc."
   ]
  },
  {
   "cell_type": "code",
   "execution_count": 33,
   "id": "9e3b7e0f",
   "metadata": {},
   "outputs": [
    {
     "name": "stdout",
     "output_type": "stream",
     "text": [
      "Using __doc__:\n",
      "Demonstrates triple double quotes\n",
      "    docstrings and does nothing really.\n",
      "Using help:\n",
      "Help on function my_function in module __main__:\n",
      "\n",
      "my_function()\n",
      "    Demonstrates triple double quotes\n",
      "    docstrings and does nothing really.\n",
      "\n"
     ]
    }
   ],
   "source": [
    "def my_function():\n",
    "    '''Demonstrates triple double quotes\n",
    "    docstrings and does nothing really.'''\n",
    "  \n",
    "    return None\n",
    " \n",
    "print(\"Using __doc__:\")\n",
    "print(my_function.__doc__)\n",
    " \n",
    "print(\"Using help:\")\n",
    "help(my_function)"
   ]
  },
  {
   "cell_type": "code",
   "execution_count": null,
   "id": "3ab4069b",
   "metadata": {},
   "outputs": [],
   "source": []
  }
 ],
 "metadata": {
  "kernelspec": {
   "display_name": "Python 3 (ipykernel)",
   "language": "python",
   "name": "python3"
  },
  "language_info": {
   "codemirror_mode": {
    "name": "ipython",
    "version": 3
   },
   "file_extension": ".py",
   "mimetype": "text/x-python",
   "name": "python",
   "nbconvert_exporter": "python",
   "pygments_lexer": "ipython3",
   "version": "3.9.13"
  }
 },
 "nbformat": 4,
 "nbformat_minor": 5
}
