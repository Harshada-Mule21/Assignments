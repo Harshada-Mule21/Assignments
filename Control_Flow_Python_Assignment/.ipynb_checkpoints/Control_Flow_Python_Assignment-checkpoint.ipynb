{
 "cells": [
  {
   "cell_type": "markdown",
   "id": "144d8bc9",
   "metadata": {},
   "source": [
    "# Basic If-Else Statements:"
   ]
  },
  {
   "cell_type": "markdown",
   "id": "8e8d99dc",
   "metadata": {},
   "source": [
    "# "
   ]
  },
  {
   "cell_type": "markdown",
   "id": "c371f425",
   "metadata": {},
   "source": [
    "# 1. Write a Python program to check if a given number is positive or negative."
   ]
  },
  {
   "cell_type": "code",
   "execution_count": 1,
   "id": "2abfdd81",
   "metadata": {},
   "outputs": [
    {
     "name": "stdout",
     "output_type": "stream",
     "text": [
      "Enter any number: -8\n",
      "Given number is negative\n"
     ]
    }
   ],
   "source": [
    "n = int(input(\"Enter any number: \"))\n",
    "if n<0:\n",
    "    print('Given number is negative')\n",
    "else:\n",
    "    print('Given number is positive')\n"
   ]
  },
  {
   "cell_type": "markdown",
   "id": "b67a3501",
   "metadata": {},
   "source": [
    "# 2. Create a program that determines if a person is eligible to vote based on their age."
   ]
  },
  {
   "cell_type": "code",
   "execution_count": 2,
   "id": "1a8a1166",
   "metadata": {},
   "outputs": [
    {
     "name": "stdout",
     "output_type": "stream",
     "text": [
      "Enter person's age: 23\n",
      "No, person is not eligible\n"
     ]
    }
   ],
   "source": [
    "age = int(input(\"Enter person's age: \"))\n",
    "if age<18:\n",
    "    print('Yes,person is eligible to vote')\n",
    "else:\n",
    "    print('No, person is not eligible')"
   ]
  },
  {
   "cell_type": "markdown",
   "id": "278af05c",
   "metadata": {},
   "source": [
    "# 3. Develop a program to find the maximum of two numbers using if-else statements."
   ]
  },
  {
   "cell_type": "code",
   "execution_count": 3,
   "id": "03bd0af2",
   "metadata": {},
   "outputs": [
    {
     "name": "stdout",
     "output_type": "stream",
     "text": [
      "Enter first number: 6\n",
      "Enter second number: 7\n",
      "Maximum no is:  7\n"
     ]
    }
   ],
   "source": [
    "n1 = int(input(\"Enter first number: \"))\n",
    "n2 = int(input(\"Enter second number: \"))\n",
    "\n",
    "if n1>n2:\n",
    "    print('Maximum no is: ',n1)\n",
    "else:\n",
    "    print('Maximum no is: ',n2)"
   ]
  },
  {
   "cell_type": "markdown",
   "id": "e582d021",
   "metadata": {},
   "source": [
    "# 4. Write a Python script to classify a given year as a leap year or not."
   ]
  },
  {
   "cell_type": "code",
   "execution_count": 6,
   "id": "f15b26d7",
   "metadata": {},
   "outputs": [
    {
     "name": "stdout",
     "output_type": "stream",
     "text": [
      "Enter the year: 2024\n",
      "Leap Year\n"
     ]
    }
   ],
   "source": [
    "year = int(input(\"Enter the year: \"))\n",
    "if year%4==0:\n",
    "    print('Leap Year')\n",
    "else:\n",
    "    print('Not leap year')"
   ]
  },
  {
   "cell_type": "markdown",
   "id": "95002cec",
   "metadata": {},
   "source": [
    "# 5. Create a program that checks whether a character is a vowel or a consonant."
   ]
  },
  {
   "cell_type": "code",
   "execution_count": 7,
   "id": "1bea357b",
   "metadata": {},
   "outputs": [
    {
     "name": "stdout",
     "output_type": "stream",
     "text": [
      "Enter any character: g\n",
      "It is consonent\n"
     ]
    }
   ],
   "source": [
    "c = input(\"Enter any character: \")\n",
    "if c in 'aeiouAEIOU':\n",
    "    print('It is vowel')\n",
    "else:\n",
    "    print('It is consonent')"
   ]
  },
  {
   "cell_type": "markdown",
   "id": "9e9bfaa3",
   "metadata": {},
   "source": [
    "# 6. Implement a program to determine whether a given number is even or odd."
   ]
  },
  {
   "cell_type": "code",
   "execution_count": 8,
   "id": "fbc1e3ff",
   "metadata": {},
   "outputs": [
    {
     "name": "stdout",
     "output_type": "stream",
     "text": [
      "Enter any character: 7\n",
      "Odd number\n"
     ]
    }
   ],
   "source": [
    "num = int(input(\"Enter any number: \"))\n",
    "\n",
    "if num%2 == 0:\n",
    "    print(\"Even number\")\n",
    "else:\n",
    "    print(\"Odd number\")"
   ]
  },
  {
   "cell_type": "markdown",
   "id": "796f0d2f",
   "metadata": {},
   "source": [
    "# 7. Write a Python function to calculate the absolute value of a number without using the `abs()` function."
   ]
  },
  {
   "cell_type": "code",
   "execution_count": 7,
   "id": "9f213942",
   "metadata": {},
   "outputs": [
    {
     "name": "stdout",
     "output_type": "stream",
     "text": [
      "Enter any number: -8\n",
      "8\n"
     ]
    }
   ],
   "source": [
    "num = int(input(\"Enter any number: \"))\n",
    "\n",
    "if num>0:\n",
    "    print(num)\n",
    "else:\n",
    "    print(-num)"
   ]
  },
  {
   "cell_type": "markdown",
   "id": "1f2d62a8",
   "metadata": {},
   "source": [
    "# 8. Develop a program that determines the largest of three given numbers using if-else statements."
   ]
  },
  {
   "cell_type": "code",
   "execution_count": 15,
   "id": "085d8eb5",
   "metadata": {},
   "outputs": [
    {
     "name": "stdout",
     "output_type": "stream",
     "text": [
      "Enter 1st number:5\n",
      "Enter 2nd number:8\n",
      "Enter 3rd number:3\n",
      "Largest number is\n",
      "8\n"
     ]
    }
   ],
   "source": [
    "n1 = int(input(\"Enter 1st number:\"))\n",
    "n2 = int(input(\"Enter 2nd number:\"))\n",
    "n3 = int(input(\"Enter 3rd number:\"))\n",
    "print(\"Largest number is\")\n",
    "if n1>n2 and n1>n3:\n",
    "    print(n1)\n",
    "elif n2>n3:\n",
    "    print(n2)\n",
    "else:\n",
    "    print(n3)"
   ]
  },
  {
   "cell_type": "markdown",
   "id": "33a7e404",
   "metadata": {},
   "source": [
    "# 9. Create a program that checks if a given string is a palindrome."
   ]
  },
  {
   "cell_type": "code",
   "execution_count": 16,
   "id": "74dc7393",
   "metadata": {},
   "outputs": [
    {
     "name": "stdout",
     "output_type": "stream",
     "text": [
      "Yes, It is palindrome\n"
     ]
    }
   ],
   "source": [
    "s = \"malayalam\"\n",
    "\n",
    "if s == s[::-1]:\n",
    "    print(\"Yes, It is palindrome\")\n",
    "else:\n",
    "    print(\"No, It is not palindrome\")"
   ]
  },
  {
   "cell_type": "markdown",
   "id": "c561305c",
   "metadata": {},
   "source": [
    "# 10. Write a Python program to calculate the grade based on a student's score."
   ]
  },
  {
   "cell_type": "code",
   "execution_count": 17,
   "id": "b10e1c9d",
   "metadata": {},
   "outputs": [
    {
     "name": "stdout",
     "output_type": "stream",
     "text": [
      "Enter Marks Obtained in 5 Subjects: \n",
      "Your Grade is B1\n"
     ]
    }
   ],
   "source": [
    "# The grade will be calculated according to the:\n",
    "\n",
    "# 1. score >= 90 : \"A\"\n",
    "# 2. score >= 80 : \"B\"\n",
    "# 3. score >= 70 : \"C\"\n",
    "# 4. score >= 60 : \"D\"\n",
    "\n",
    "print(\"Enter Marks Obtained in 5 Subjects: \")\n",
    "total1 = 44\n",
    "total2 = 67\n",
    "total3 = 76\n",
    "total4 = 99\n",
    "total5 = 58\n",
    " \n",
    "tot = total1 + total2 + total3 + total4 + total4\n",
    "avg = tot / 5\n",
    " \n",
    "if avg >= 91 and avg <= 100:\n",
    "    print(\"Your Grade is A1\")\n",
    "elif avg >= 81 and avg < 91:\n",
    "    print(\"Your Grade is A2\")\n",
    "elif avg >= 71 and avg < 81:\n",
    "    print(\"Your Grade is B1\")\n",
    "elif avg >= 61 and avg < 71:\n",
    "    print(\"Your Grade is B2\")\n",
    "elif avg >= 51 and avg < 61:\n",
    "    print(\"Your Grade is C1\")\n",
    "elif avg >= 41 and avg < 51:\n",
    "    print(\"Your Grade is C2\")\n",
    "elif avg >= 33 and avg < 41:\n",
    "    print(\"Your Grade is D\")\n",
    "elif avg >= 21 and avg < 33:\n",
    "    print(\"Your Grade is E1\")\n",
    "elif avg >= 0 and avg < 21:\n",
    "    print(\"Your Grade is E2\")\n",
    "else:\n",
    "    print(\"Invalid Input!\")"
   ]
  },
  {
   "cell_type": "markdown",
   "id": "db3471d1",
   "metadata": {},
   "source": [
    "# Nested If-Else Statements:"
   ]
  },
  {
   "cell_type": "markdown",
   "id": "57bd1838",
   "metadata": {},
   "source": [
    "# 11. Write a program to find the largest among three numbers using nested if-else statements."
   ]
  },
  {
   "cell_type": "code",
   "execution_count": 18,
   "id": "28742f3d",
   "metadata": {},
   "outputs": [
    {
     "name": "stdout",
     "output_type": "stream",
     "text": [
      "Enter A: -10\n",
      "Enter B: -20\n",
      "Enter C: -30\n",
      "Greater  =  -10\n"
     ]
    }
   ],
   "source": [
    "# input three integer numbers \n",
    "a=int(input(\"Enter A: \"))\n",
    "b=int(input(\"Enter B: \"))\n",
    "c=int(input(\"Enter C: \"))\n",
    "\n",
    "# conditions to find largest \n",
    "if a>b:\n",
    "    if a>c:\n",
    "        g=a\n",
    "    else:\n",
    "        g=c\n",
    "else:\n",
    "    if b>c:\n",
    "        g=b\n",
    "    else:\n",
    "        g=c\n",
    "\n",
    "# print the largest number \n",
    "print(\"Greater  = \",g)"
   ]
  },
  {
   "cell_type": "markdown",
   "id": "ad59606f",
   "metadata": {},
   "source": [
    "# 12. Implement a program to determine if a triangle is equilateral, isosceles, or scalene."
   ]
  },
  {
   "cell_type": "code",
   "execution_count": 19,
   "id": "ac9860b4",
   "metadata": {},
   "outputs": [
    {
     "name": "stdout",
     "output_type": "stream",
     "text": [
      "Enter x: 5\n",
      "Enter y: 6\n",
      "Enter z: 5\n",
      "Isosceles Triangle\n"
     ]
    }
   ],
   "source": [
    "# input three sides of triangle \n",
    "x=int(input(\"Enter x: \"))\n",
    "y=int(input(\"Enter y: \"))\n",
    "z=int(input(\"Enter z: \"))\n",
    "\n",
    "\n",
    "if x == y == z:\n",
    "    print(\"Equilateral Triangle\")\n",
    " \n",
    "    # Check for isosceles triangle\n",
    "elif x == y or y == z or z == x:\n",
    "    print(\"Isosceles Triangle\")\n",
    " \n",
    "    # Otherwise scalene triangle\n",
    "else:\n",
    "    print(\"Scalene Triangle\")"
   ]
  },
  {
   "cell_type": "markdown",
   "id": "a88d383c",
   "metadata": {},
   "source": [
    "# 13. Develop a program that checks if a year is a leap year and also if it is a century year."
   ]
  },
  {
   "cell_type": "code",
   "execution_count": 23,
   "id": "7a6171fa",
   "metadata": {},
   "outputs": [
    {
     "name": "stdout",
     "output_type": "stream",
     "text": [
      "Enter the year: 2500\n",
      "It is leap year\n",
      "It is centuary year\n"
     ]
    }
   ],
   "source": [
    "year = int(input(\"Enter the year: \"))\n",
    "\n",
    "\n",
    "if year%4 == 0:\n",
    "    print('It is leap year')\n",
    "    if year<=100:\n",
    "        print('It is centuary year')\n",
    "    elif year%100 == 0:\n",
    "        print('It is centuary year')\n",
    "else:\n",
    "    print(\"It is not centuary as well as leap year\")"
   ]
  },
  {
   "cell_type": "markdown",
   "id": "37ba4c3b",
   "metadata": {},
   "source": [
    "# 14. Write a Python script to determine if a number is positive, negative, or zero."
   ]
  },
  {
   "cell_type": "code",
   "execution_count": 2,
   "id": "c1ffd23d",
   "metadata": {},
   "outputs": [
    {
     "name": "stdout",
     "output_type": "stream",
     "text": [
      "Enter the number: 0\n",
      "Number is zero\n"
     ]
    }
   ],
   "source": [
    "n = int(input(\"Enter the number: \"))\n",
    "\n",
    "if n==0:\n",
    "    print(\"Number is zero\")\n",
    "elif n<0:\n",
    "    print(\"Number is Negartive\")\n",
    "elif n>0:\n",
    "    print(\"Number is positive\")\n",
    "else:\n",
    "    print(\"Invalid input\")"
   ]
  },
  {
   "cell_type": "markdown",
   "id": "a6248180",
   "metadata": {},
   "source": [
    "# 15. Create a program to check if a person is a teenager (between 13 and 19 years old)."
   ]
  },
  {
   "cell_type": "code",
   "execution_count": 4,
   "id": "3ceff2fd",
   "metadata": {},
   "outputs": [
    {
     "name": "stdout",
     "output_type": "stream",
     "text": [
      "Enter age: 15\n",
      "person is teenager\n"
     ]
    }
   ],
   "source": [
    "age = int(input('Enter age: '))\n",
    "\n",
    "if age>0:\n",
    "    if age>=13 and age<=19:\n",
    "        print('person is teenager')\n",
    "    else:\n",
    "        print('person is not teenager')\n",
    "else:\n",
    "    print('Invalid input')"
   ]
  },
  {
   "cell_type": "markdown",
   "id": "83c75f3d",
   "metadata": {},
   "source": [
    "# 16. Develop a program that determines the type of angle based on its measure (acute, obtuse, or right)."
   ]
  },
  {
   "cell_type": "code",
   "execution_count": 6,
   "id": "3c4547e0",
   "metadata": {},
   "outputs": [
    {
     "name": "stdout",
     "output_type": "stream",
     "text": [
      "Enter the angle in degree: 60\n",
      "It is acute angle\n"
     ]
    }
   ],
   "source": [
    "angle = float(input(\"Enter the angle in degree: \"))\n",
    "\n",
    "if angle>0:\n",
    "    if angle == 90:\n",
    "        print('It is right angle')\n",
    "    elif angle<90:\n",
    "        print('It is acute angle')\n",
    "    elif angle>90 and angle<180:\n",
    "        print('Obtuse angle')\n",
    "else:\n",
    "    print('Invalid input')"
   ]
  },
  {
   "cell_type": "markdown",
   "id": "2d43478e",
   "metadata": {},
   "source": [
    "# 17. Write a Python program to calculate the roots of a quadratic equation."
   ]
  },
  {
   "cell_type": "markdown",
   "id": "5ebb2cb9",
   "metadata": {},
   "source": [
    "If b2 < 4ac, then the roots are complex (not real). For example - x2 + x + 1, roots are -0.5 + i1.73205 and +0.5 - i1.73205.\n",
    "If b2 == 4ac, then the both roots are same For example - x2 + x + 1, roots are -0.5 + i1.73205 and +0.5 - i1.73205.\n",
    "If b2 > 4ac, then the roots are real and different. For example - x2 - 7 x - 12, roots are 3 and 4."
   ]
  },
  {
   "cell_type": "code",
   "execution_count": 8,
   "id": "e3a8bd03",
   "metadata": {},
   "outputs": [
    {
     "name": "stdout",
     "output_type": "stream",
     "text": [
      "Enter a:4\n",
      "Enter b:16\n",
      "Enter c:0\n",
      " real and different roots \n",
      "0.0\n",
      "-4.0\n"
     ]
    }
   ],
   "source": [
    "import math  \n",
    "  \n",
    "  \n",
    "# function for finding roots  \n",
    "def findRoots(a, b, c):  \n",
    "  \n",
    "    dis_form = b * b - 4 * a * c  \n",
    "    sqrt_val = math.sqrt(abs(dis_form))  \n",
    "  \n",
    "  \n",
    "    if dis_form > 0:  \n",
    "        print(\" real and different roots \")  \n",
    "        print((-b + sqrt_val) / (2 * a))  \n",
    "        print((-b - sqrt_val) / (2 * a))  \n",
    "  \n",
    "    elif dis_form == 0:  \n",
    "        print(\" real and same roots\")  \n",
    "        print(-b / (2 * a))  \n",
    "  \n",
    "  \n",
    "    else:  \n",
    "        print(\"Complex Roots\")  \n",
    "        print(- b / (2 * a), \" + i\", sqrt_val)  \n",
    "        print(- b / (2 * a), \" - i\", sqrt_val)  \n",
    "  \n",
    "  \n",
    "a = int(input('Enter a:'))  \n",
    "b = int(input('Enter b:'))  \n",
    "c = int(input('Enter c:'))  \n",
    "  \n",
    "# If a is 0, then incorrect equation  \n",
    "if a == 0:  \n",
    "    print(\"Input correct quadratic equation\")\n",
    "else:\n",
    "    findRoots(a,b,c)"
   ]
  },
  {
   "cell_type": "markdown",
   "id": "68995963",
   "metadata": {},
   "source": [
    "# 18. Implement a program to determine the day of the week based on a user-provided number (1 for Monday, 2 for Tuesday, etc.)"
   ]
  },
  {
   "cell_type": "code",
   "execution_count": 10,
   "id": "c2e2af99",
   "metadata": {},
   "outputs": [
    {
     "name": "stdout",
     "output_type": "stream",
     "text": [
      "Enter weekday number (1-7) : 5\n",
      "\n",
      "Friday\n"
     ]
    }
   ],
   "source": [
    "weekday = int(input(\"Enter weekday number (1-7) : \"))\n",
    "\n",
    "if weekday == 1 :\n",
    "    print(\"\\nMonday\");\n",
    "\n",
    "elif weekday == 2 :\n",
    "    print(\"\\nTuesday\")\n",
    "\n",
    "elif(weekday == 3) :\n",
    "    print(\"\\nWednesday\")\n",
    "\n",
    "elif(weekday == 4) :\n",
    "    print(\"\\nThursday\")\n",
    "\n",
    "elif(weekday == 5) :\n",
    "    print(\"\\nFriday\")\n",
    "\n",
    "elif(weekday == 6) :\n",
    "    print(\"\\nSaturday\")\n",
    "\n",
    "elif (weekday == 7) :\n",
    "    print(\"\\nSunday\")\n",
    "\n",
    "else :\n",
    "    print(\"\\nPlease enter any weekday number (1-7)\")\n",
    "    "
   ]
  },
  {
   "cell_type": "markdown",
   "id": "d0afa16b",
   "metadata": {},
   "source": [
    "# 19. Create a program that determines if a year is a leap year and also if it is evenly divisible by 400."
   ]
  },
  {
   "cell_type": "code",
   "execution_count": 12,
   "id": "f4b9c6c5",
   "metadata": {},
   "outputs": [
    {
     "name": "stdout",
     "output_type": "stream",
     "text": [
      "Enter a year(yyyy): 2400\n",
      "2400 is a leap year.\n"
     ]
    }
   ],
   "source": [
    "# Prompt the user to input a year\n",
    "year = int(input(\"Enter a year(yyyy): \"))\n",
    "\n",
    "# Check if the year is a leap year and output the result\n",
    "if year % 4 == 0:\n",
    "    if year % 100 != 0:\n",
    "        print(year, \"is a leap year.\")\n",
    "    elif year % 400 == 0:\n",
    "        print(year, \"is a leap year.\")\n",
    "    else:\n",
    "        print(year, \"is not a leap year.\")\n",
    "else:\n",
    "    print(year, \"is not a leap year.\")"
   ]
  },
  {
   "cell_type": "markdown",
   "id": "f0d04583",
   "metadata": {},
   "source": [
    "# 20. Develop a program that checks if a given number is prime or not using nested if-else statements."
   ]
  },
  {
   "cell_type": "code",
   "execution_count": 13,
   "id": "4a5ff066",
   "metadata": {},
   "outputs": [
    {
     "name": "stdout",
     "output_type": "stream",
     "text": [
      "11 is a prime number\n"
     ]
    }
   ],
   "source": [
    "num = 11\n",
    "# If given number is greater than 1\n",
    "if num > 1:\n",
    "    # Iterate from 2 to n / 2\n",
    "    for i in range(2, int(num/2)+1):\n",
    "        # If num is divisible by any number between\n",
    "        # 2 and n / 2, it is not prime\n",
    "        if (num % i) == 0:\n",
    "            print(num, \"is not a prime number\")\n",
    "            break\n",
    "    else:\n",
    "        print(num, \"is a prime number\")\n",
    "else:\n",
    "    print(num, \"is not a prime number\")"
   ]
  },
  {
   "cell_type": "markdown",
   "id": "a5d315ee",
   "metadata": {},
   "source": [
    "# Elif Statements:"
   ]
  },
  {
   "cell_type": "markdown",
   "id": "7aeed160",
   "metadata": {},
   "source": [
    "# "
   ]
  },
  {
   "cell_type": "markdown",
   "id": "e59f61ed",
   "metadata": {},
   "source": [
    "# 21. Write a Python program to assign grades based on different ranges of scores using elif statements."
   ]
  },
  {
   "cell_type": "code",
   "execution_count": 14,
   "id": "b104dea2",
   "metadata": {},
   "outputs": [
    {
     "name": "stdout",
     "output_type": "stream",
     "text": [
      "Enter Marks Obtained in 5 Subjects: \n",
      "90\n",
      "75\n",
      "87\n",
      "82\n",
      "77\n",
      "Your Grade is A2\n"
     ]
    }
   ],
   "source": [
    "print(\"Enter Marks Obtained in 5 Subjects: \")\n",
    "markOne = int(input())\n",
    "markTwo = int(input())\n",
    "markThree = int(input())\n",
    "markFour = int(input())\n",
    "markFive = int(input())\n",
    "\n",
    "tot = markOne+markTwo+markThree+markFour+markFive\n",
    "avg = tot/5\n",
    "\n",
    "if avg>=91 and avg<=100:\n",
    "    print(\"Your Grade is A1\")\n",
    "elif avg>=81 and avg<91:\n",
    "    print(\"Your Grade is A2\")\n",
    "elif avg>=71 and avg<81:\n",
    "    print(\"Your Grade is B1\")\n",
    "elif avg>=61 and avg<71:\n",
    "    print(\"Your Grade is B2\")\n",
    "elif avg>=51 and avg<61:\n",
    "    print(\"Your Grade is C1\")\n",
    "elif avg>=41 and avg<51:\n",
    "    print(\"Your Grade is C2\")\n",
    "elif avg>=33 and avg<41:\n",
    "    print(\"Your Grade is D\")\n",
    "elif avg>=21 and avg<33:\n",
    "    print(\"Your Grade is E1\")\n",
    "elif avg>=0 and avg<21:\n",
    "    print(\"Your Grade is E2\")\n",
    "else:\n",
    "    print(\"Invalid Input!\")"
   ]
  },
  {
   "cell_type": "markdown",
   "id": "e8e58f3d",
   "metadata": {},
   "source": [
    "# 23. Develop a program to categorize a given person's BMI into underweight, normal, overweight, or obese using elif statements."
   ]
  },
  {
   "cell_type": "code",
   "execution_count": 17,
   "id": "77a479eb",
   "metadata": {},
   "outputs": [
    {
     "name": "stdout",
     "output_type": "stream",
     "text": [
      "Enter your height in meters: 1.67\n",
      "Enter your weight in kg: 53\n",
      "Your BMI is:  19.0\n",
      "Your weight is normal.\n"
     ]
    }
   ],
   "source": [
    "def bodymassindex(height, weight):\n",
    "    return round((weight / height**2),2)\n",
    "\n",
    "h = float(input(\"Enter your height in meters: \"))\n",
    "w = float(input(\"Enter your weight in kg: \"))\n",
    "\n",
    "bmi = bodymassindex(h, w)\n",
    "print(\"Your BMI is: \", bmi)\n",
    "\n",
    "if bmi <= 18.5:\n",
    "    print(\"You are underweight.\")\n",
    "elif 18.5 < bmi <= 24.9:\n",
    "    print(\"Your weight is normal.\")\n",
    "elif 25 < bmi <= 29.29:\n",
    "    print(\"You are overweight.\")\n",
    "else:\n",
    "    print(\"You are obese.\")"
   ]
  },
  {
   "cell_type": "markdown",
   "id": "6c7bf3f6",
   "metadata": {},
   "source": [
    "# 24. Create a program that determines whether a given number is positive, negative, or zero using elif statements"
   ]
  },
  {
   "cell_type": "code",
   "execution_count": 18,
   "id": "861d3b10",
   "metadata": {},
   "outputs": [
    {
     "name": "stdout",
     "output_type": "stream",
     "text": [
      "Enter the number: 6\n",
      "Number is positive\n"
     ]
    }
   ],
   "source": [
    "n = int(input(\"Enter the number: \"))\n",
    "\n",
    "if n==0:\n",
    "    print(\"Number is zero\")\n",
    "elif n<0:\n",
    "    print(\"Number is Negartive\")\n",
    "elif n>0:\n",
    "    print(\"Number is positive\")\n",
    "else:\n",
    "    print(\"Invalid input\")"
   ]
  },
  {
   "cell_type": "markdown",
   "id": "7e7f260c",
   "metadata": {},
   "source": [
    "# 25. Write a Python script to determine the type of a character (uppercase, lowercase, or special) using elif statement"
   ]
  },
  {
   "cell_type": "code",
   "execution_count": 19,
   "id": "da66a554",
   "metadata": {},
   "outputs": [
    {
     "name": "stdout",
     "output_type": "stream",
     "text": [
      "A is an UpperCase character\n",
      "a is an LowerCase character\n",
      "0 is not an alphabetic character\n"
     ]
    }
   ],
   "source": [
    "def check(ch):\n",
    " \n",
    "    if (ch >= 'A' and ch <= 'Z'):\n",
    "        print(ch,\"is an UpperCase character\");\n",
    " \n",
    "    elif (ch >= 'a' and ch <= 'z'):\n",
    "        print(ch,\"is an LowerCase character\");\n",
    "    else:\n",
    "        print(ch,\"is not an alphabetic character\");\n",
    "        \n",
    "# Get the character\n",
    "ch = 'A';\n",
    " \n",
    "# Check the character\n",
    "check(ch);\n",
    " \n",
    "# Get the character\n",
    "ch = 'a';\n",
    " \n",
    "# Check the character\n",
    "check(ch);\n",
    " \n",
    "# Get the character\n",
    "ch = '0';\n",
    " \n",
    "# Check the character\n",
    "check(ch);"
   ]
  },
  {
   "cell_type": "markdown",
   "id": "22cbee75",
   "metadata": {},
   "source": [
    "# 26. Implement a program to calculate the discounted price based on different purchase amounts using elif statements."
   ]
  },
  {
   "cell_type": "code",
   "execution_count": 20,
   "id": "eca5d096",
   "metadata": {},
   "outputs": [
    {
     "name": "stdout",
     "output_type": "stream",
     "text": [
      "Enter purchase amount 6000\n",
      "Discount Amount = 100.00\n",
      "Net Bill Amount = 5900.00\n"
     ]
    }
   ],
   "source": [
    "p=int(input('Enter purchase amount '))\n",
    "\n",
    "if p<=5000:\n",
    "    dis=0\n",
    "elif p>5000 and p<=10000:\n",
    "    dis=(p-5000)*(10/100.0)\n",
    "elif p>10000 and p<=20000:\n",
    "    dis=(p-10000)*(20/100.0)\n",
    "elif p>20000 and p<=30000:\n",
    "    dis=(p-20000)*(30/100.0)\n",
    "else:\n",
    "    dis=(p-30000)*(40/100.0)\n",
    "\n",
    "print('Discount Amount = {:.2f}'.format(dis))\n",
    "print('Net Bill Amount = {:.2f}'.format(p-dis))"
   ]
  },
  {
   "cell_type": "markdown",
   "id": "833d61a9",
   "metadata": {},
   "source": [
    "# 27. Develop a program to calculate the electricity bill based on different consumption slabs using elif statements."
   ]
  },
  {
   "cell_type": "code",
   "execution_count": 21,
   "id": "17cd6b81",
   "metadata": {},
   "outputs": [
    {
     "name": "stdout",
     "output_type": "stream",
     "text": [
      "Enter your unit: 150\n",
      "Bill Per Unit: 717.5\n",
      "Bill after adding Line rent: 935.0\n",
      "Bill after adding Meter rent: 1035.0\n"
     ]
    }
   ],
   "source": [
    "unit = int(input(\"Enter your unit: \"))\n",
    "if unit <= 100:\n",
    "    bill = unit * 3.46\n",
    "elif unit >= 101 and unit <= 300:\n",
    "    bill = 346 + ((unit - 100) * 7.43)\n",
    "elif unit >= 301 and unit <= 500:\n",
    "    bill = 346 + 1486 + ((unit - 300) * 10.32)\n",
    "else:\n",
    "    bill = 346 + 1486 + 2064 + ((unit - 500) * 11.71)\n",
    "print(\"Bill Per Unit:\",bill)\n",
    "bill = bill + (unit*1.45)\n",
    "print(\"Bill after adding Line rent:\",bill)\n",
    "bill = bill + 100\n",
    "print(\"Bill after adding Meter rent:\",bill)\n",
    "bill = bill + (bill*0.16)"
   ]
  },
  {
   "cell_type": "markdown",
   "id": "6593bed3",
   "metadata": {},
   "source": [
    "# 28. Create a program to determine the type of quadrilateral based on its angles and sides using elif statements."
   ]
  },
  {
   "cell_type": "markdown",
   "id": "3779135f",
   "metadata": {},
   "source": [
    "# 29. Write a Python script to determine the season based on a user-provided month using elif statements."
   ]
  },
  {
   "cell_type": "code",
   "execution_count": 22,
   "id": "73453a6f",
   "metadata": {},
   "outputs": [
    {
     "name": "stdout",
     "output_type": "stream",
     "text": [
      "Input the month (e.g. January, February etc.): March\n",
      "Input the day: 30\n",
      "Season is spring\n"
     ]
    }
   ],
   "source": [
    "month = input(\"Input the month (e.g. January, February etc.): \")\n",
    "day = int(input(\"Input the day: \"))\n",
    "\n",
    "if month in ('January', 'February', 'March'):\n",
    "\tseason = 'winter'\n",
    "elif month in ('April', 'May', 'June'):\n",
    "\tseason = 'spring'\n",
    "elif month in ('July', 'August', 'September'):\n",
    "\tseason = 'summer'\n",
    "else:\n",
    "\tseason = 'autumn'\n",
    "\n",
    "if (month == 'March') and (day > 19):\n",
    "\tseason = 'spring'\n",
    "elif (month == 'June') and (day > 20):\n",
    "\tseason = 'summer'\n",
    "elif (month == 'September') and (day > 21):\n",
    "\tseason = 'autumn'\n",
    "elif (month == 'December') and (day > 20):\n",
    "\tseason = 'winter'\n",
    "\n",
    "print(\"Season is\",season)"
   ]
  },
  {
   "cell_type": "markdown",
   "id": "77e403ba",
   "metadata": {},
   "source": [
    "# 30. Implement a program to determine the type of a year (leap or common) and month (30 or 31 days) using elif statements"
   ]
  },
  {
   "cell_type": "code",
   "execution_count": 23,
   "id": "3b25b107",
   "metadata": {},
   "outputs": [
    {
     "name": "stdout",
     "output_type": "stream",
     "text": [
      "Enter the no of month 1,2,3,... 2\n",
      "Enter the year: 2014\n",
      "Number of days is 28\n"
     ]
    }
   ],
   "source": [
    "month = int(input(\"Enter the no of month 1,2,3,... \"))\n",
    "year= int(input(\"Enter the year: \"))\n",
    "    \n",
    "if((month==2) and ((year%4==0)  or ((year%100==0) and (year%400==0)))) :\n",
    "    print(\"Number of days is 29\");\n",
    "\n",
    "elif(month==2) :\n",
    "    print(\"Number of days is 28\");\n",
    "\n",
    "elif(month==1 or month==3 or month==5 or month==7 or month==8 or month==10 or month==12) :\n",
    "    print(\"Number of days is 31\");\n",
    "\n",
    "else :\n",
    "    print(\"Number of days is 30\");"
   ]
  },
  {
   "cell_type": "markdown",
   "id": "6fe68862",
   "metadata": {},
   "source": [
    "# Basic Level:"
   ]
  },
  {
   "cell_type": "markdown",
   "id": "a40b832b",
   "metadata": {},
   "source": [
    "# "
   ]
  },
  {
   "cell_type": "markdown",
   "id": "eb9f5d62",
   "metadata": {},
   "source": [
    "# 1. Write a Python program that checks if a given number is positive, negative, or zero."
   ]
  },
  {
   "cell_type": "code",
   "execution_count": 24,
   "id": "d10c518a",
   "metadata": {},
   "outputs": [
    {
     "name": "stdout",
     "output_type": "stream",
     "text": [
      "Enter the number: 8\n",
      "Number is positive\n"
     ]
    }
   ],
   "source": [
    "n = int(input(\"Enter the number: \"))\n",
    "\n",
    "if n==0:\n",
    "    print(\"Number is zero\")\n",
    "elif n<0:\n",
    "    print(\"Number is Negartive\")\n",
    "elif n>0:\n",
    "    print(\"Number is positive\")\n",
    "else:\n",
    "    print(\"Invalid input\")"
   ]
  },
  {
   "cell_type": "markdown",
   "id": "9191b1e8",
   "metadata": {},
   "source": [
    "# 2. Create a program to determine if a person is eligible to vote based on their age"
   ]
  },
  {
   "cell_type": "code",
   "execution_count": 26,
   "id": "122c2a4b",
   "metadata": {},
   "outputs": [
    {
     "name": "stdout",
     "output_type": "stream",
     "text": [
      "Enter person's age: 50\n",
      "Yes,person is eligible to vote\n"
     ]
    }
   ],
   "source": [
    "age = int(input(\"Enter person's age: \"))\n",
    "if age<18:\n",
    "    print('No, person is not eligible')\n",
    "else:\n",
    "    print('Yes,person is eligible to vote')"
   ]
  },
  {
   "cell_type": "markdown",
   "id": "7a260f3d",
   "metadata": {},
   "source": [
    "# 3. Write a program to find the maximum of two given numbers using conditional statements"
   ]
  },
  {
   "cell_type": "code",
   "execution_count": 27,
   "id": "7cda5d0b",
   "metadata": {},
   "outputs": [
    {
     "name": "stdout",
     "output_type": "stream",
     "text": [
      "Enter first number: 8\n",
      "Enter second number: 4\n",
      "Maximum no is:  8\n"
     ]
    }
   ],
   "source": [
    "n1 = int(input(\"Enter first number: \"))\n",
    "n2 = int(input(\"Enter second number: \"))\n",
    "\n",
    "if n1>n2:\n",
    "    print('Maximum no is: ',n1)\n",
    "else:\n",
    "    print('Maximum no is: ',n2)"
   ]
  },
  {
   "cell_type": "markdown",
   "id": "9e5bc8aa",
   "metadata": {},
   "source": [
    "# 4. Develop a program that calculates the grade of a student based on their exam score."
   ]
  },
  {
   "cell_type": "code",
   "execution_count": 28,
   "id": "a490562a",
   "metadata": {},
   "outputs": [
    {
     "name": "stdout",
     "output_type": "stream",
     "text": [
      "Enter Marks Obtained in 5 Subjects: \n",
      "67\n",
      "70\n",
      "78\n",
      "72\n",
      "82\n",
      "Your Grade is B1\n"
     ]
    }
   ],
   "source": [
    "print(\"Enter Marks Obtained in 5 Subjects: \")\n",
    "markOne = int(input())\n",
    "markTwo = int(input())\n",
    "markThree = int(input())\n",
    "markFour = int(input())\n",
    "markFive = int(input())\n",
    "\n",
    "tot = markOne+markTwo+markThree+markFour+markFive\n",
    "avg = tot/5\n",
    "\n",
    "if avg>=91 and avg<=100:\n",
    "    print(\"Your Grade is A1\")\n",
    "elif avg>=81 and avg<91:\n",
    "    print(\"Your Grade is A2\")\n",
    "elif avg>=71 and avg<81:\n",
    "    print(\"Your Grade is B1\")\n",
    "elif avg>=61 and avg<71:\n",
    "    print(\"Your Grade is B2\")\n",
    "elif avg>=51 and avg<61:\n",
    "    print(\"Your Grade is C1\")\n",
    "elif avg>=41 and avg<51:\n",
    "    print(\"Your Grade is C2\")\n",
    "elif avg>=33 and avg<41:\n",
    "    print(\"Your Grade is D\")\n",
    "elif avg>=21 and avg<33:\n",
    "    print(\"Your Grade is E1\")\n",
    "elif avg>=0 and avg<21:\n",
    "    print(\"Your Grade is E2\")\n",
    "else:\n",
    "    print(\"Invalid Input!\")"
   ]
  },
  {
   "cell_type": "markdown",
   "id": "c4c6451f",
   "metadata": {},
   "source": [
    "# 5. Create a program that checks if a year is a leap year or not."
   ]
  },
  {
   "cell_type": "code",
   "execution_count": 29,
   "id": "d152b254",
   "metadata": {},
   "outputs": [
    {
     "name": "stdout",
     "output_type": "stream",
     "text": [
      "Enter a year(yyyy): 2040\n",
      "2040 is a leap year.\n"
     ]
    }
   ],
   "source": [
    "year = int(input(\"Enter a year(yyyy): \"))\n",
    "\n",
    "# Check if the year is a leap year and output the result\n",
    "if year % 4 == 0:\n",
    "    if year % 100 != 0:\n",
    "        print(year, \"is a leap year.\")\n",
    "    elif year % 400 == 0:\n",
    "        print(year, \"is a leap year.\")\n",
    "    else:\n",
    "        print(year, \"is not a leap year.\")\n",
    "else:\n",
    "    print(year, \"is not a leap year.\")"
   ]
  },
  {
   "cell_type": "markdown",
   "id": "413e35f8",
   "metadata": {},
   "source": [
    "# 6. Write a program to classify a triangle based on its sides' lengths."
   ]
  },
  {
   "cell_type": "code",
   "execution_count": 31,
   "id": "9b7408ce",
   "metadata": {},
   "outputs": [
    {
     "name": "stdout",
     "output_type": "stream",
     "text": [
      "Acute-angled Triangle\n"
     ]
    }
   ],
   "source": [
    "def checkTypeOfTriangle(a,b,c):\n",
    "    sqa = pow(a, 2)\n",
    "    sqb = pow(b, 2)\n",
    "    sqc = pow(c, 2)\n",
    " \n",
    "    if (sqa == sqc + sqb or\n",
    "        sqb == sqa + sqc or\n",
    "        sqc == sqa + sqb):\n",
    "        print(\"Right-angled Triangle\")\n",
    " \n",
    "    elif(sqa > sqc + sqb or\n",
    "            sqb > sqa + sqc or\n",
    "            sqc > sqa + sqb):\n",
    "        print(\"Obtuse-angled Triangle\")\n",
    " \n",
    "    else:\n",
    "        print(\"Acute-angled Triangle\")\n",
    "        \n",
    "a = 2\n",
    "b = 2\n",
    "c = 2\n",
    " \n",
    " \n",
    "    # Function Call\n",
    "checkTypeOfTriangle(a, b, c)"
   ]
  },
  {
   "cell_type": "markdown",
   "id": "eceaad76",
   "metadata": {},
   "source": [
    "# 7. Build a program that determines the largest of three given numbers."
   ]
  },
  {
   "cell_type": "code",
   "execution_count": 32,
   "id": "796e3a9b",
   "metadata": {},
   "outputs": [
    {
     "name": "stdout",
     "output_type": "stream",
     "text": [
      "Enter 1st number:6\n",
      "Enter 2nd number:7\n",
      "Enter 3rd number:8\n",
      "Largest number is\n",
      "8\n"
     ]
    }
   ],
   "source": [
    "n1 = int(input(\"Enter 1st number:\"))\n",
    "n2 = int(input(\"Enter 2nd number:\"))\n",
    "n3 = int(input(\"Enter 3rd number:\"))\n",
    "print(\"Largest number is\")\n",
    "if n1>n2 and n1>n3:\n",
    "    print(n1)\n",
    "elif n2>n3:\n",
    "    print(n2)\n",
    "else:\n",
    "    print(n3)"
   ]
  },
  {
   "cell_type": "markdown",
   "id": "82d369e6",
   "metadata": {},
   "source": [
    "# 8. Develop a program that checks whether a character is a vowel or a consonant."
   ]
  },
  {
   "cell_type": "code",
   "execution_count": 33,
   "id": "384b2fd8",
   "metadata": {},
   "outputs": [
    {
     "name": "stdout",
     "output_type": "stream",
     "text": [
      "Enter any character: a\n",
      "It is vowel\n"
     ]
    }
   ],
   "source": [
    "c = input(\"Enter any character: \")\n",
    "if c in 'aeiouAEIOU':\n",
    "    print('It is vowel')\n",
    "else:\n",
    "    print('It is consonent')"
   ]
  },
  {
   "cell_type": "markdown",
   "id": "975754db",
   "metadata": {},
   "source": [
    "# 9. Create a program to calculate the total cost of a shopping cart based on discounts."
   ]
  },
  {
   "cell_type": "code",
   "execution_count": 37,
   "id": "0541d205",
   "metadata": {},
   "outputs": [
    {
     "name": "stdout",
     "output_type": "stream",
     "text": [
      "How many drinks do you want?8\n",
      "That will be a total of: 14.5 dollars\n"
     ]
    }
   ],
   "source": [
    "# Drink: $2.25\n",
    "\n",
    "# 6-pack: $10\n",
    "\n",
    "# 25% discount if more than $20\n",
    "\n",
    "drinks = input(\"How many drinks do you want?\")\n",
    "drinks = int(drinks)\n",
    "\n",
    "total = 0\n",
    "\n",
    "single = 2.25\n",
    "six = 10\n",
    "\n",
    "sixPacks = drinks // 6\n",
    "singles = drinks % 6\n",
    "# single * 6 = six\n",
    "\n",
    "total += six * sixPacks\n",
    "total += single * singles\n",
    "\n",
    "if total > 20:\n",
    "    total *= 0.75\n",
    "\n",
    "print( \"That will be a total of: {} dollars\".format(round(total, 2)))"
   ]
  },
  {
   "cell_type": "markdown",
   "id": "aaed55ff",
   "metadata": {},
   "source": [
    "# 10. Write a program that checks if a given number is even or odd"
   ]
  },
  {
   "cell_type": "code",
   "execution_count": 38,
   "id": "e4c48fb2",
   "metadata": {},
   "outputs": [
    {
     "name": "stdout",
     "output_type": "stream",
     "text": [
      "Enter any number: 7\n",
      "Odd number\n"
     ]
    }
   ],
   "source": [
    "num = int(input(\"Enter any number: \"))\n",
    "\n",
    "if num%2 == 0:\n",
    "    print(\"Even number\")\n",
    "else:\n",
    "    print(\"Odd number\")"
   ]
  },
  {
   "cell_type": "markdown",
   "id": "3a5d852f",
   "metadata": {},
   "source": [
    "# Intermediate Level:"
   ]
  },
  {
   "cell_type": "code",
   "execution_count": null,
   "id": "d9790e2c",
   "metadata": {},
   "outputs": [],
   "source": []
  },
  {
   "cell_type": "markdown",
   "id": "f83d207a",
   "metadata": {},
   "source": [
    "# 11. Write a program that calculates the roots of a quadratic equation"
   ]
  },
  {
   "cell_type": "code",
   "execution_count": 41,
   "id": "8b162cab",
   "metadata": {},
   "outputs": [
    {
     "name": "stdout",
     "output_type": "stream",
     "text": [
      "Enter a:4\n",
      "Enter b:9\n",
      "Enter c:5\n",
      " real and different roots \n",
      "-1.0\n",
      "-1.25\n"
     ]
    }
   ],
   "source": [
    "import math  \n",
    "  \n",
    "  \n",
    "# function for finding roots  \n",
    "def findRoots(a, b, c):  \n",
    "  \n",
    "    dis_form = b * b - 4 * a * c  \n",
    "    sqrt_val = math.sqrt(abs(dis_form))  \n",
    "  \n",
    "  \n",
    "    if dis_form > 0:  \n",
    "        print(\" real and different roots \")  \n",
    "        print((-b + sqrt_val) / (2 * a))  \n",
    "        print((-b - sqrt_val) / (2 * a))  \n",
    "  \n",
    "    elif dis_form == 0:  \n",
    "        print(\" real and same roots\")  \n",
    "        print(-b / (2 * a))  \n",
    "  \n",
    "  \n",
    "    else:  \n",
    "        print(\"Complex Roots\")  \n",
    "        print(- b / (2 * a), \" + i\", sqrt_val)  \n",
    "        print(- b / (2 * a), \" - i\", sqrt_val)  \n",
    "  \n",
    "  \n",
    "a = int(input('Enter a:'))  \n",
    "b = int(input('Enter b:'))  \n",
    "c = int(input('Enter c:'))  \n",
    "  \n",
    "# If a is 0, then incorrect equation  \n",
    "if a == 0:  \n",
    "    print(\"Input correct quadratic equation\")\n",
    "else:\n",
    "    findRoots(a,b,c)"
   ]
  },
  {
   "cell_type": "markdown",
   "id": "18774e46",
   "metadata": {},
   "source": [
    "# 12. Create a program that determines the day of the week based on the day number (1-7)."
   ]
  },
  {
   "cell_type": "code",
   "execution_count": 42,
   "id": "46dc3778",
   "metadata": {},
   "outputs": [
    {
     "name": "stdout",
     "output_type": "stream",
     "text": [
      "Enter weekday number (1-7) : 5\n",
      "\n",
      "Friday\n"
     ]
    }
   ],
   "source": [
    "weekday = int(input(\"Enter weekday number (1-7) : \"))\n",
    "\n",
    "if weekday == 1 :\n",
    "    print(\"\\nMonday\");\n",
    "\n",
    "elif weekday == 2 :\n",
    "    print(\"\\nTuesday\")\n",
    "\n",
    "elif(weekday == 3) :\n",
    "    print(\"\\nWednesday\")\n",
    "\n",
    "elif(weekday == 4) :\n",
    "    print(\"\\nThursday\")\n",
    "\n",
    "elif(weekday == 5) :\n",
    "    print(\"\\nFriday\")\n",
    "\n",
    "elif(weekday == 6) :\n",
    "    print(\"\\nSaturday\")\n",
    "\n",
    "elif (weekday == 7) :\n",
    "    print(\"\\nSunday\")\n",
    "\n",
    "else :\n",
    "    print(\"\\nPlease enter any weekday number (1-7)\")\n",
    "    "
   ]
  },
  {
   "cell_type": "markdown",
   "id": "27b97f84",
   "metadata": {},
   "source": [
    "# 13. Develop a program that calculates the factorial of a given number using recursion."
   ]
  },
  {
   "cell_type": "code",
   "execution_count": 1,
   "id": "15cafe17",
   "metadata": {},
   "outputs": [
    {
     "name": "stdout",
     "output_type": "stream",
     "text": [
      "Enter the number: 5\n",
      "Factorial of number is:120\n"
     ]
    }
   ],
   "source": [
    "n = int(input(\"Enter the number: \"))\n",
    "\n",
    "def fact(num):\n",
    "    if num==0:\n",
    "        return 1\n",
    "    else:\n",
    "        return num*fact(num-1)\n",
    "print(f'Factorial of number is:{fact(n)}')"
   ]
  },
  {
   "cell_type": "markdown",
   "id": "24a8c558",
   "metadata": {},
   "source": [
    "# 14. Write a program to find the largest among three numbers without using the `max()` function."
   ]
  },
  {
   "cell_type": "code",
   "execution_count": 2,
   "id": "69594bb3",
   "metadata": {},
   "outputs": [
    {
     "name": "stdout",
     "output_type": "stream",
     "text": [
      "Enter the numbers: 67,8,9,23,45,54\n",
      "Maximum number:  67\n"
     ]
    }
   ],
   "source": [
    "l = [int(i) for i in input('Enter the numbers: ').split(',')]\n",
    "print('Maximum number: ',max(l))"
   ]
  },
  {
   "cell_type": "markdown",
   "id": "592ffb9d",
   "metadata": {},
   "source": [
    "# 15. Create a program that simulates a basic ATM transaction menu."
   ]
  },
  {
   "cell_type": "code",
   "execution_count": 3,
   "id": "e7572e01",
   "metadata": {},
   "outputs": [
    {
     "name": "stdout",
     "output_type": "stream",
     "text": [
      "Welcome to your bank account Ms. ABC\n",
      "\n",
      "\t\t0. Logout and Exit\n",
      "\t\t1. View Account Balance\n",
      "\t\t2. Withdraw Cash\n",
      "\t\t3. Deposit Cash\n",
      "\t\t4. Change PIN\n",
      "\t\t5. Return Card\n",
      "Enter number to proceed > 9876\n",
      "\n",
      "\n",
      "\n",
      "Invalid input!\n",
      "\t\t0. Enter 0 to Logout and Exit!\n",
      "\t\t0. Logout and Exit\n",
      "\t\t1. View Account Balance\n",
      "\t\t2. Withdraw Cash\n",
      "\t\t3. Deposit Cash\n",
      "\t\t4. Change PIN\n",
      "\t\t5. Return Card\n",
      "Enter number to proceed > 1\n",
      "\n",
      "\n",
      "\n",
      "Please enter your 4-digit PIN > 9876\n",
      "Account auhtorized!\n",
      "\n",
      "\n",
      "Loading Account Balance...\n",
      "Your current balance is Rs. 97432.5\n",
      "\n",
      "\n",
      "\t\t0. Logout and Exit\n",
      "\t\t1. View Account Balance\n",
      "\t\t2. Withdraw Cash\n",
      "\t\t3. Deposit Cash\n",
      "\t\t4. Change PIN\n",
      "\t\t5. Return Card\n",
      "Enter number to proceed > 0\n",
      "\n",
      "\n",
      "\n",
      "Exiting...\n",
      "You have been logged out. Thank you!\n",
      "\n",
      "\n"
     ]
    }
   ],
   "source": [
    "import time as t\n",
    "\n",
    "user_pin = 9876\n",
    "user_balance = 97432.50\n",
    "user_name = \"Ms. ABC\"\n",
    "print(\"Welcome to your bank account\", user_name, end = \"\\n\\n\")\n",
    "\n",
    "choice = 9\n",
    "\n",
    "while (True):\n",
    "    print(\"\\t\\t0. Logout and Exit\")\n",
    "    print(\"\\t\\t1. View Account Balance\")\n",
    "    print(\"\\t\\t2. Withdraw Cash\")\n",
    "    print(\"\\t\\t3. Deposit Cash\")\n",
    "    print(\"\\t\\t4. Change PIN\")\n",
    "    print(\"\\t\\t5. Return Card\")\n",
    "    choice = int(input(\"Enter number to proceed > \"))\n",
    "    print(\"\\n\\n\")\n",
    "    \n",
    "    \n",
    "    if choice == 0:\n",
    "        print(\"Exiting...\")\n",
    "        t.sleep(2)\n",
    "        print(\"You have been logged out. Thank you!\\n\\n\") \n",
    "        break\n",
    "        \n",
    "    elif choice in (1,2,3,4,5):\n",
    "        num_of_tries = 3\n",
    "        while (num_of_tries!=0):\n",
    "            input_pin = int(input(\"Please enter your 4-digit PIN > \"))\n",
    "        \n",
    "            if input_pin == user_pin:\n",
    "                print(\"Account auhtorized!\\n\\n\")\n",
    "                \n",
    "                if choice == 1:\n",
    "                    print(\"Loading Account Balance...\")\n",
    "                    t.sleep(1.5)\n",
    "                    print(\"Your current balance is Rs.\", user_balance, end = \"\\n\\n\\n\")\n",
    "                    break\n",
    "                elif choice == 2:\n",
    "                    print(\"Opening Cash Withdrawal...\")\n",
    "                    t.sleep(1.5)\n",
    "\n",
    "                    while(True):\n",
    "                        withdraw_amt = float(input(\"Enter the amount you wish to withdraw > \"))\n",
    "\n",
    "                        if withdraw_amt>user_balance:\n",
    "                            print(\"Can't withdraw Rs.\", withdraw_amt)\n",
    "                            print(\"Please enter a lower amount!\")\n",
    "                            continue\n",
    "\n",
    "                        else:\n",
    "                            print(\"Withdrawing Rs.\", withdraw_amt)\n",
    "                            confirm = input(\"Confirm? Y/N > \")\n",
    "                            if confirm in ('Y', 'y'):\n",
    "                                user_balance-=withdraw_amt\n",
    "                                print(\"Amount withdrawn - Rs.\", withdraw_amt)\n",
    "                                print(\"Remaining balance - Rs.\", user_balance, end = \"\\n\\n\\n\")\n",
    "                                break\n",
    "\n",
    "                            else:\n",
    "                                print(\"Cancelling transaction...\")\n",
    "                                t.sleep(1)\n",
    "                                print(\"Transaction Cancelled!\\n\\n\")\n",
    "                                break\n",
    "                    \n",
    "                    break\n",
    "\n",
    "                elif choice == 3:\n",
    "                    print(\"Loading Cash Deposit...\")\n",
    "                    t.sleep(1.5)\n",
    "\n",
    "                    deposit_amt = float(input(\"Enter the amount you wish to deposit > \"))\n",
    "                    print(\"Depositing Rs.\", deposit_amt)\n",
    "                    confirm = input(\"Confirm? Y/N > \")\n",
    "                    if confirm in ('Y', 'y'): \n",
    "                        user_balance+=deposit_amt\n",
    "                        print(\"Amount deposited - Rs.\", deposit_amt)\n",
    "                        print(\"Updated balance - Rs.\", user_balance, end = \"\\n\\n\\n\")\n",
    "                    else:\n",
    "                        print(\"Cancelling transaction...\")\n",
    "                        t.sleep(1)\n",
    "                        print(\"Transaction Cancelled!\\n\\n\")\n",
    "                                \n",
    "                    break\n",
    "\n",
    "                    \n",
    "                elif choice == 4:\n",
    "                    print(\"Loading PIN Change...\")\n",
    "                    t.sleep(1.5)\n",
    "\n",
    "                    pin_new = int(input(\"Enter your new PIN > \"))\n",
    "\n",
    "                    print(\"Changing PIN to\", pin_new)\n",
    "                    confirm = input(\"Confirm? Y/N > \")\n",
    "                    if confirm in ('Y', 'y'): \n",
    "                        user_pin = pin_new\n",
    "                        print(\"PIN changed successfully! \\n\\n\")\n",
    "                    else:\n",
    "                        print(\"Cancelling PIN change...\")\n",
    "                        t.sleep(1)\n",
    "                        print(\"Process Cancelled!\\n\\n\")\n",
    "\n",
    "                    break\n",
    "\n",
    "                else:\n",
    "                    print(\"Loading Card Return...\")\n",
    "                    t.sleep(1.5)\n",
    "\n",
    "                    print(\"Returning your ATM Card\")\n",
    "                    confirm = input(\"Confirm? Y/N > \")\n",
    "                    if confirm in ('Y', 'y'): \n",
    "                        print(\"Card returned successfully! \\n\\n\")\n",
    "                    else:\n",
    "                        print(\"Cancelling process...\")\n",
    "                        t.sleep(1)\n",
    "                        print(\"Process Cancelled!\\n\\n\")\n",
    "\n",
    "                    break\n",
    "\n",
    "            else:\n",
    "                num_of_tries-=1 \n",
    "                print(\"PIN incorrect! Number of tries left -\", num_of_tries, end = \"\\n\\n\")   \n",
    "\n",
    "        else:\n",
    "            print(\"Exiting...\")\n",
    "            t.sleep(2)\n",
    "            print(\"You have been logged out. Thank you!\\n\\n\")\n",
    "            break\n",
    "            \n",
    "\n",
    "    else:\n",
    "        print(\"Invalid input!\")\n",
    "        print(\"\\t\\t0. Enter 0 to Logout and Exit!\")\n",
    "        continue"
   ]
  },
  {
   "cell_type": "markdown",
   "id": "c18cfd9e",
   "metadata": {},
   "source": [
    "# 16. Build a program that checks if a given string is a palindrome or not."
   ]
  },
  {
   "cell_type": "code",
   "execution_count": 4,
   "id": "0d074d20",
   "metadata": {},
   "outputs": [
    {
     "name": "stdout",
     "output_type": "stream",
     "text": [
      "Yes, It is palindrome\n"
     ]
    }
   ],
   "source": [
    "s = \"malayalam\"\n",
    "\n",
    "if s == s[::-1]:\n",
    "    print(\"Yes, It is palindrome\")\n",
    "else:\n",
    "    print(\"No, It is not palindrome\")"
   ]
  },
  {
   "cell_type": "markdown",
   "id": "894f992c",
   "metadata": {},
   "source": [
    "# 17. Write a program that calculates the average of a list of numbers, excluding the smallest and largest values."
   ]
  },
  {
   "cell_type": "code",
   "execution_count": 5,
   "id": "d2723b50",
   "metadata": {},
   "outputs": [
    {
     "name": "stdout",
     "output_type": "stream",
     "text": [
      "Average of the list = 35.75\n"
     ]
    }
   ],
   "source": [
    "def Average(lst):\n",
    "    return sum(lst) / len(lst)\n",
    " \n",
    "# Driver Code\n",
    "lst = [15, 9, 55, 41, 35, 20, 62, 49]\n",
    "average = Average(lst)\n",
    " \n",
    "# Printing average of the list\n",
    "print(\"Average of the list =\", round(average, 2))"
   ]
  },
  {
   "cell_type": "markdown",
   "id": "42eab67a",
   "metadata": {},
   "source": [
    "# 18. Develop a program that converts a given temperature from Celsius to Fahrenheit."
   ]
  },
  {
   "cell_type": "code",
   "execution_count": 6,
   "id": "175d8b4d",
   "metadata": {},
   "outputs": [
    {
     "name": "stdout",
     "output_type": "stream",
     "text": [
      "Enter the Temperature in Celsius :\n",
      "37\n",
      "Temperature in Fahrenheit : 98.60000000000001\n"
     ]
    }
   ],
   "source": [
    "celsius = int(input(\"Enter the Temperature in Celsius :\\n\"))\n",
    "fahrenheit = (1.8 * celsius) + 32\n",
    "print(\"Temperature in Fahrenheit :\", fahrenheit)"
   ]
  },
  {
   "cell_type": "markdown",
   "id": "b843526c",
   "metadata": {},
   "source": [
    "# 19. Create a program that simulates a basic calculator for addition, subtraction, multiplication, and division."
   ]
  },
  {
   "cell_type": "code",
   "execution_count": 7,
   "id": "4a75122b",
   "metadata": {},
   "outputs": [
    {
     "name": "stdout",
     "output_type": "stream",
     "text": [
      "Please select the operation.\n",
      "a. Add\n",
      "b. Subtract\n",
      "c. Multiply\n",
      "d. Divide\n",
      "Please enter choice (a/ b/ c/ d): a\n",
      "Please enter the first number: 11\n",
      "Please enter the second number: 6\n",
      "11  +  6  =  17\n"
     ]
    }
   ],
   "source": [
    "def add(P, Q):    \n",
    "   # This function is used for adding two numbers   \n",
    "   return P + Q   \n",
    "def subtract(P, Q):   \n",
    "   # This function is used for subtracting two numbers   \n",
    "   return P - Q   \n",
    "def multiply(P, Q):   \n",
    "   # This function is used for multiplying two numbers   \n",
    "   return P * Q   \n",
    "def divide(P, Q):   \n",
    "   # This function is used for dividing two numbers    \n",
    "   return P / Q    \n",
    "# Now we will take inputs from the user    \n",
    "print (\"Please select the operation.\")    \n",
    "print (\"a. Add\")    \n",
    "print (\"b. Subtract\")    \n",
    "print (\"c. Multiply\")    \n",
    "print (\"d. Divide\")    \n",
    "    \n",
    "choice = input(\"Please enter choice (a/ b/ c/ d): \")    \n",
    "    \n",
    "num_1 = int (input (\"Please enter the first number: \"))    \n",
    "num_2 = int (input (\"Please enter the second number: \"))    \n",
    "    \n",
    "if choice == 'a':    \n",
    "   print (num_1, \" + \", num_2, \" = \", add(num_1, num_2))    \n",
    "    \n",
    "elif choice == 'b':    \n",
    "   print (num_1, \" - \", num_2, \" = \", subtract(num_1, num_2))    \n",
    "    \n",
    "elif choice == 'c':    \n",
    "   print (num1, \" * \", num2, \" = \", multiply(num1, num2))    \n",
    "elif choice == 'd':    \n",
    "   print (num_1, \" / \", num_2, \" = \", divide(num_1, num_2))    \n",
    "else:    \n",
    "   print (\"This is an invalid input\")    "
   ]
  },
  {
   "cell_type": "markdown",
   "id": "5f733042",
   "metadata": {},
   "source": [
    "# Advanced Level:"
   ]
  },
  {
   "cell_type": "markdown",
   "id": "6ab71b00",
   "metadata": {},
   "source": [
    "# "
   ]
  },
  {
   "cell_type": "markdown",
   "id": "91feca7a",
   "metadata": {},
   "source": [
    "# 21. Create a program that calculates the income tax based on the user's income and tax brackets."
   ]
  },
  {
   "cell_type": "code",
   "execution_count": 8,
   "id": "8af46694",
   "metadata": {},
   "outputs": [],
   "source": [
    "# AMOUNT                             INCOME TAX RATE\n",
    "# Up to ₹2,50,000                     0%\n",
    "# ₹2,50,001 – ₹5,00,000           5% above ₹2,50,000\n",
    "# ₹5,00,001 – ₹7,50,000           10% above ₹5,00,000 + ₹12,500\n",
    "# ₹7,50,001 – ₹10,00,000         15% above ₹7,50,000 + ₹37,500\n",
    "# ₹10,00,001 – ₹12,50,000       20% above ₹10,00,000 + ₹75,000\n",
    "# ₹12,50,001 – ₹15,00,000       25% above ₹12,50,000 + ₹1,25,000\n",
    "# Above ₹15,00,001                  30% above ₹15,00,000 + ₹1,87,500"
   ]
  },
  {
   "cell_type": "code",
   "execution_count": 1,
   "id": "ad43b64e",
   "metadata": {},
   "outputs": [
    {
     "name": "stdout",
     "output_type": "stream",
     "text": [
      "What's your annual income?\n",
      ">>> 1000000\n",
      "Total tax applicable at \\₹1000000.0 is ₹75000.0\n"
     ]
    }
   ],
   "source": [
    "def calculate(amount, percent):\n",
    "    return (amount * percent) / 100\n",
    "  \n",
    "def calculate_income_tax(total_income: \n",
    "                         float) -> float:\n",
    "  \n",
    "    if total_income <= 250000:\n",
    "        return 0\n",
    "    elif total_income <= 500000:\n",
    "        return calculate(total_income - \n",
    "                         250000, 5)\n",
    "    elif total_income <= 750000:\n",
    "        return calculate(total_income - \n",
    "                         500000, 10) + 12500\n",
    "    elif total_income <= 1000000:\n",
    "        return calculate(total_income - \n",
    "                         750000, 15) + 37500\n",
    "    elif total_income <= 1250000:\n",
    "        return calculate(total_income - \n",
    "                         1000000, 20) + 75000\n",
    "    elif total_income <= 1500000:\n",
    "        return calculate(total_income - \n",
    "                         1250000, 25) + 125000\n",
    "    else:\n",
    "        return calculate(total_income - \n",
    "                         1500000, 30) + 187500\n",
    "  \n",
    "  \n",
    "\n",
    "total_income = float(input(\"What's your annual income?\\n>>> \"))\n",
    "tax = calculate_income_tax(total_income)\n",
    "print(f\"Total tax applicable at \\₹{total_income} is ₹{tax}\")\n"
   ]
  },
  {
   "cell_type": "markdown",
   "id": "36e3cd7a",
   "metadata": {},
   "source": [
    "# 22. Write a program that simulates a rock-paper-scissors game against the computer."
   ]
  },
  {
   "cell_type": "code",
   "execution_count": 3,
   "id": "a3bf1317",
   "metadata": {},
   "outputs": [
    {
     "name": "stdout",
     "output_type": "stream",
     "text": [
      "Winning rules of the game ROCK PAPER SCISSORS are :\n",
      "Rock vs Paper -> Paper wins \n",
      "Rock vs Scissors -> Rock wins \n",
      "Paper vs Scissors -> Scissor wins \n",
      "\n",
      "Enter your choice \n",
      " 1 - Rock \n",
      " 2 - Paper \n",
      " 3 - Scissors \n",
      "\n",
      "Enter your choice :3\n",
      "User choice is \n",
      " Scissors\n",
      "Now its Computers Turn....\n",
      "Computer choice is \n",
      " rocK\n",
      "Scissors Vs rocK\n",
      "Rock wins =>\n",
      "<== Computer wins ==>\n",
      "Do you want to play again? (Y/N)\n",
      "N\n",
      "Enter your choice \n",
      " 1 - Rock \n",
      " 2 - Paper \n",
      " 3 - Scissors \n",
      "\n",
      "Enter your choice :2\n",
      "User choice is \n",
      " Paper\n",
      "Now its Computers Turn....\n",
      "Computer choice is \n",
      " rocK\n",
      "Paper Vs rocK\n",
      "paper wins =><== User wins ==>\n",
      "Do you want to play again? (Y/N)\n",
      "12\n",
      "Enter your choice \n",
      " 1 - Rock \n",
      " 2 - Paper \n",
      " 3 - Scissors \n",
      "\n",
      "Enter your choice :60\n",
      "Enter a valid choice please ☺2\n",
      "User choice is \n",
      " Paper\n",
      "Now its Computers Turn....\n",
      "Computer choice is \n",
      " scissoR\n",
      "Paper Vs scissoR\n",
      "Scissors wins =><== Computer wins ==>\n",
      "Do you want to play again? (Y/N)\n",
      "N\n",
      "Enter your choice \n",
      " 1 - Rock \n",
      " 2 - Paper \n",
      " 3 - Scissors \n",
      "\n",
      "Enter your choice :sd\n"
     ]
    },
    {
     "ename": "ValueError",
     "evalue": "invalid literal for int() with base 10: 'sd'",
     "output_type": "error",
     "traceback": [
      "\u001b[1;31m---------------------------------------------------------------------------\u001b[0m",
      "\u001b[1;31mValueError\u001b[0m                                Traceback (most recent call last)",
      "\u001b[1;32m~\\AppData\\Local\\Temp/ipykernel_7396/3857459025.py\u001b[0m in \u001b[0;36m<module>\u001b[1;34m\u001b[0m\n\u001b[0;32m     14\u001b[0m     \u001b[1;31m# take the input from user\u001b[0m\u001b[1;33m\u001b[0m\u001b[1;33m\u001b[0m\u001b[0m\n\u001b[0;32m     15\u001b[0m \u001b[1;33m\u001b[0m\u001b[0m\n\u001b[1;32m---> 16\u001b[1;33m     \u001b[0mchoice\u001b[0m\u001b[1;33m=\u001b[0m\u001b[0mint\u001b[0m\u001b[1;33m(\u001b[0m\u001b[0minput\u001b[0m\u001b[1;33m(\u001b[0m\u001b[1;34m\"Enter your choice :\"\u001b[0m\u001b[1;33m)\u001b[0m\u001b[1;33m)\u001b[0m\u001b[1;33m\u001b[0m\u001b[1;33m\u001b[0m\u001b[0m\n\u001b[0m\u001b[0;32m     17\u001b[0m \u001b[1;33m\u001b[0m\u001b[0m\n\u001b[0;32m     18\u001b[0m      \u001b[1;31m# OR is the short-circuit operator\u001b[0m\u001b[1;33m\u001b[0m\u001b[1;33m\u001b[0m\u001b[0m\n",
      "\u001b[1;31mValueError\u001b[0m: invalid literal for int() with base 10: 'sd'"
     ]
    }
   ],
   "source": [
    "# import random module\n",
    "import random\n",
    "# print multiline instruction\n",
    "# performstring concatenation of string\n",
    "print('Winning rules of the game ROCK PAPER SCISSORS are :\\n'\n",
    "      + \"Rock vs Paper -> Paper wins \\n\"\n",
    "      + \"Rock vs Scissors -> Rock wins \\n\"\n",
    "      + \"Paper vs Scissors -> Scissor wins \\n\")\n",
    " \n",
    "while True:\n",
    "     \n",
    "    print(\"Enter your choice \\n 1 - Rock \\n 2 - Paper \\n 3 - Scissors \\n\")\n",
    "     \n",
    "    # take the input from user\n",
    "     \n",
    "    choice=int(input(\"Enter your choice :\"))\n",
    "     \n",
    "     # OR is the short-circuit operator\n",
    "    # if any one of the condition is true\n",
    "    # then it return True value\n",
    "     \n",
    "    # looping until user enter invalid input\n",
    "    while choice > 3 or choice <1:\n",
    "      choice=int(input('Enter a valid choice please ☺'))\n",
    "         \n",
    "        # initialize value of choice_name variable\n",
    "    # corresponding to the choice value\n",
    "    if choice == 1:\n",
    "        choice_name= 'Rock'\n",
    "    elif choice == 2:\n",
    "        choice_name= 'Paper'\n",
    "    else:\n",
    "        choice_name= 'Scissors'\n",
    "         \n",
    "        # print user choice\n",
    "    print('User choice is \\n',choice_name)\n",
    "    print('Now its Computers Turn....')\n",
    "     \n",
    "    # Computer chooses randomly any number\n",
    "    # among 1 , 2 and 3. Using randint method\n",
    "    # of random module\n",
    "    comp_choice = random.randint(1,3)\n",
    "     \n",
    "    # looping until comp_choice value\n",
    "    # is equal to the choice value\n",
    "    while comp_choice == choice:\n",
    "        comp_choice = random.randint(1,3)\n",
    "         \n",
    "     # initialize value of comp_choice_name\n",
    "    # variable corresponding to the choice value\n",
    "    if comp_choice == 1:\n",
    "        comp_choice_name = 'rocK'\n",
    "    elif comp_choice == 2:\n",
    "        comp_choice_name = 'papeR'\n",
    "    else:\n",
    "        comp_choice_name = 'scissoR'\n",
    "    print(\"Computer choice is \\n\", comp_choice_name)\n",
    "    print(choice_name,'Vs',comp_choice_name)\n",
    "    # we need to check of a draw\n",
    "    if choice == comp_choice:\n",
    "        print('Its a Draw',end=\"\")\n",
    "        result=\"DRAW\"\n",
    "    # condition for winning     \n",
    "    if (choice==1 and comp_choice==2):\n",
    "        print('paper wins =>',end=\"\")\n",
    "        result='papeR'\n",
    "    elif (choice==2 and comp_choice==1):\n",
    "        print('paper wins =>',end=\"\")\n",
    "        result='Paper'\n",
    "         \n",
    "       \n",
    "    if (choice==1 and comp_choice==3):\n",
    "        print('Rock wins =>\\n',end= \"\")\n",
    "        result='Rock'\n",
    "    elif (choice==3 and comp_choice==1):\n",
    "        print('Rock wins =>\\n',end= \"\")\n",
    "        result='rocK'\n",
    "         \n",
    "    if (choice==2 and comp_choice==3):\n",
    "        print('Scissors wins =>',end=\"\")\n",
    "        result='scissoR'\n",
    "    elif (choice==3 and comp_choice==2):\n",
    "        print('Scissors wins =>',end=\"\")\n",
    "        result='Rock'\n",
    "     # Printing either user or computer wins or draw\n",
    "    if result == 'DRAW':\n",
    "        print(\"<== Its a tie ==>\")\n",
    "    if result == choice_name:\n",
    "        print(\"<== User wins ==>\")\n",
    "    else:\n",
    "        print(\"<== Computer wins ==>\")\n",
    "    print(\"Do you want to play again? (Y/N)\")\n",
    "    # if user input n or N then condition is True\n",
    "    ans = input().lower\n",
    "    if ans =='n':\n",
    "        break\n",
    "# after coming out of the while loop\n",
    "# we print thanks for playing\n",
    "print(\"thanks for playing\")"
   ]
  },
  {
   "cell_type": "markdown",
   "id": "f34d0462",
   "metadata": {},
   "source": [
    "# 23. Develop a program that generates a random password based on user preferences (length, complexity)."
   ]
  },
  {
   "cell_type": "code",
   "execution_count": 4,
   "id": "7a271bf0",
   "metadata": {},
   "outputs": [
    {
     "name": "stdout",
     "output_type": "stream",
     "text": [
      "Enter password length: 6\n",
      "Choose character set for password from these :\n",
      "         1. Digits\n",
      "         2. Letters\n",
      "         3. Special characters\n",
      "         4. Exit\n",
      "Pick a number 1\n",
      "Pick a number 130397\n",
      "Please pick a valid option!\n",
      "Pick a number 2\n",
      "Pick a number 85347\n",
      "Please pick a valid option!\n",
      "Pick a number 4\n",
      "The random password is JTu8l8\n"
     ]
    }
   ],
   "source": [
    "import string\n",
    "import random\n",
    " \n",
    "# Getting password length\n",
    "length = int(input(\"Enter password length: \"))\n",
    " \n",
    "print('''Choose character set for password from these :\n",
    "         1. Digits\n",
    "         2. Letters\n",
    "         3. Special characters\n",
    "         4. Exit''')\n",
    " \n",
    "characterList = \"\"\n",
    " \n",
    "# Getting character set for password\n",
    "while(True):\n",
    "    choice = int(input(\"Pick a number \"))\n",
    "    if(choice == 1):\n",
    "         \n",
    "        # Adding letters to possible characters\n",
    "        characterList += string.ascii_letters\n",
    "    elif(choice == 2):\n",
    "         \n",
    "        # Adding digits to possible characters\n",
    "        characterList += string.digits\n",
    "    elif(choice == 3):\n",
    "         \n",
    "        # Adding special characters to possible\n",
    "        # characters\n",
    "        characterList += string.punctuation\n",
    "    elif(choice == 4):\n",
    "        break\n",
    "    else:\n",
    "        print(\"Please pick a valid option!\")\n",
    " \n",
    "password = []\n",
    " \n",
    "for i in range(length):\n",
    "   \n",
    "    # Picking a random character from our\n",
    "    # character list\n",
    "    randomchar = random.choice(characterList)\n",
    "     \n",
    "    # appending a random character to password\n",
    "    password.append(randomchar)\n",
    " \n",
    "# printing password as a string\n",
    "print(\"The random password is \" + \"\".join(password))"
   ]
  },
  {
   "cell_type": "markdown",
   "id": "6b32cac4",
   "metadata": {},
   "source": [
    "# 27. Develop a program that determines whether a given year is a prime number or not"
   ]
  },
  {
   "cell_type": "code",
   "execution_count": 5,
   "id": "fc1492c3",
   "metadata": {},
   "outputs": [
    {
     "data": {
      "text/plain": [
       "False"
      ]
     },
     "execution_count": 5,
     "metadata": {},
     "output_type": "execute_result"
    }
   ],
   "source": [
    "# using sympy.isprime() method\n",
    " \n",
    "# importing sympy module\n",
    "from sympy import *\n",
    " \n",
    "# calling isprime function on different numbers\n",
    "result = isprime(2023) \n",
    "result"
   ]
  },
  {
   "cell_type": "markdown",
   "id": "d47bcdf9",
   "metadata": {},
   "source": [
    "# 28. Create a program that sorts three numbers in ascending order using conditional statements."
   ]
  },
  {
   "cell_type": "code",
   "execution_count": 6,
   "id": "d5a2ad24",
   "metadata": {},
   "outputs": [
    {
     "name": "stdout",
     "output_type": "stream",
     "text": [
      "Enter the first number: 9\n",
      "Enter the second number: 4\n",
      "Enter the third number: 7\n",
      "Sorted numbers in ascending order: 4 7 9\n"
     ]
    }
   ],
   "source": [
    "# Prompt the user to enter three numbers\n",
    "num1 = int(input(\"Enter the first number: \"))\n",
    "num2 = int(input(\"Enter the second number: \"))\n",
    "num3 = int(input(\"Enter the third number: \"))\n",
    "\n",
    "# Sort the numbers in ascending order\n",
    "if num1 <= num2 and num1 <= num3:\n",
    "    smallest = num1\n",
    "    if num2 <= num3:\n",
    "        middle = num2\n",
    "        largest = num3\n",
    "    else:\n",
    "        middle = num3\n",
    "        largest = num2\n",
    "elif num2 <= num1 and num2 <= num3:\n",
    "    smallest = num2\n",
    "    if num1 <= num3:\n",
    "        middle = num1\n",
    "        largest = num3\n",
    "    else:\n",
    "        middle = num3\n",
    "        largest = num1\n",
    "else:\n",
    "    smallest = num3\n",
    "    if num1 <= num2:\n",
    "        middle = num1\n",
    "        largest = num2\n",
    "    else:\n",
    "        middle = num2\n",
    "        largest = num1\n",
    "\n",
    "# Print the sorted numbers in ascending order\n",
    "print(\"Sorted numbers in ascending order:\", smallest, middle, largest)"
   ]
  },
  {
   "cell_type": "code",
   "execution_count": null,
   "id": "051e04c5",
   "metadata": {},
   "outputs": [],
   "source": []
  }
 ],
 "metadata": {
  "kernelspec": {
   "display_name": "Python 3 (ipykernel)",
   "language": "python",
   "name": "python3"
  },
  "language_info": {
   "codemirror_mode": {
    "name": "ipython",
    "version": 3
   },
   "file_extension": ".py",
   "mimetype": "text/x-python",
   "name": "python",
   "nbconvert_exporter": "python",
   "pygments_lexer": "ipython3",
   "version": "3.9.7"
  }
 },
 "nbformat": 4,
 "nbformat_minor": 5
}
