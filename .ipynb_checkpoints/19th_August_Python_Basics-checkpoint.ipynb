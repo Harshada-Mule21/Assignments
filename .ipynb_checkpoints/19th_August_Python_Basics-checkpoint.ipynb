{
 "cells": [
  {
   "cell_type": "markdown",
   "id": "65f0c1b2",
   "metadata": {},
   "source": [
    "# TOPIC: Python Basics Variable"
   ]
  },
  {
   "cell_type": "raw",
   "id": "f6f579ff",
   "metadata": {},
   "source": [
    "1. Declare two variables, `x` and `y`, and assign them integer values.\n",
    "Swap the values of these variables without using any temporary\n",
    "variable.\n"
   ]
  },
  {
   "cell_type": "code",
   "execution_count": 2,
   "id": "47b57566",
   "metadata": {},
   "outputs": [
    {
     "name": "stdout",
     "output_type": "stream",
     "text": [
      "x=10,y=20\n",
      "After swapping\n",
      "x=20,y=10\n"
     ]
    }
   ],
   "source": [
    "x = 10\n",
    "y = 20\n",
    "print(f\"x={x},y={y}\")\n",
    "print(\"After swapping\")\n",
    "x,y = y,x\n",
    "print(f\"x={x},y={y}\")"
   ]
  },
  {
   "cell_type": "raw",
   "id": "68971124",
   "metadata": {},
   "source": [
    "2. Create a program that calculates the area of a rectangle. Take the\n",
    "length and width as inputs from the user and store them in variables.\n",
    "Calculate and display the area."
   ]
  },
  {
   "cell_type": "code",
   "execution_count": 3,
   "id": "c19a04cd",
   "metadata": {},
   "outputs": [
    {
     "name": "stdout",
     "output_type": "stream",
     "text": [
      "Enter the length of rectangle:5\n",
      "Enter the width of rectangle:2\n",
      "Area of rectangle = 10.0\n"
     ]
    }
   ],
   "source": [
    "l = float(input(\"Enter the length of rectangle:\"))\n",
    "b = float(input(\"Enter the width of rectangle:\"))\n",
    "\n",
    "print(f\"Area of rectangle = {l*b}\")"
   ]
  },
  {
   "cell_type": "raw",
   "id": "d874ce89",
   "metadata": {},
   "source": [
    "3. Write a Python program that converts temperature from Celsius to\n",
    "Fahrenheit. Take the temperature in Celsius as input, store it in a\n",
    "variable, convert it to Fahrenheit, and display the result."
   ]
  },
  {
   "cell_type": "code",
   "execution_count": 4,
   "id": "dfaf1128",
   "metadata": {},
   "outputs": [
    {
     "name": "stdout",
     "output_type": "stream",
     "text": [
      "Enter the temperature in degree celsius:0\n",
      "temperature in Fahrenheit:32.0\n"
     ]
    }
   ],
   "source": [
    "temp = float(input(\"Enter the temperature in degree celsius:\"))\n",
    "# (0°C × 9/5) + 32 = 32°F ----formula to calculate\n",
    "\n",
    "f = (temp*9/5)+32\n",
    "print(f\"temperature in Fahrenheit:{f}\")"
   ]
  },
  {
   "cell_type": "markdown",
   "id": "cc7cd9c5",
   "metadata": {},
   "source": [
    "# TOPIC: String Based Questions\n"
   ]
  },
  {
   "cell_type": "raw",
   "id": "f4515546",
   "metadata": {},
   "source": [
    "1. Write a Python program that takes a string as input and prints the\n",
    "length of the string."
   ]
  },
  {
   "cell_type": "code",
   "execution_count": 6,
   "id": "823baaab",
   "metadata": {},
   "outputs": [
    {
     "name": "stdout",
     "output_type": "stream",
     "text": [
      "Enter any stringabcde\n",
      "without using length function\n",
      "Length of given string is:5\n",
      "With using function\n",
      "Length of given string is:5\n"
     ]
    }
   ],
   "source": [
    "s = input(\"Enter any string\")\n",
    "count = 0\n",
    "for i in s:\n",
    "    count = count+1\n",
    "print(\"without using length function\")\n",
    "print(f\"Length of given string is:{count}\")\n",
    "print(f\"With using function\")\n",
    "print(f\"Length of given string is:{len(s)}\")"
   ]
  },
  {
   "cell_type": "raw",
   "id": "5b686d6a",
   "metadata": {},
   "source": [
    "2. Create a program that takes a sentence from the user and counts the\n",
    "number of vowels (a, e, i, o, u) in the string."
   ]
  },
  {
   "cell_type": "code",
   "execution_count": 13,
   "id": "6c32d9b2",
   "metadata": {},
   "outputs": [
    {
     "name": "stdout",
     "output_type": "stream",
     "text": [
      "Give any sentence: India is very powerful country\n",
      "No of vowels:10\n",
      "No of vowels:10\n"
     ]
    }
   ],
   "source": [
    "string = input(\"Give any sentence: \")\n",
    "vowels = 'aeiouAEIOU'\n",
    "#with using count function\n",
    "n = sum(string.count(vowel) for vowel in vowels)   \n",
    "print(f\"No of vowels:{n}\")\n",
    "#without using count function\n",
    "count = 0\n",
    "for s in string:\n",
    "    if s in list(vowels):\n",
    "        count = count+1\n",
    "print(f\"No of vowels:{count}\")\n",
    "   "
   ]
  },
  {
   "cell_type": "raw",
   "id": "471871c1",
   "metadata": {},
   "source": [
    "3. Given a string, reverse the order of characters using string slicing and\n",
    "print the reversed string."
   ]
  },
  {
   "cell_type": "code",
   "execution_count": 15,
   "id": "f478a00f",
   "metadata": {},
   "outputs": [
    {
     "name": "stdout",
     "output_type": "stream",
     "text": [
      "Give any sentence: India is my country\n",
      "yrtnuoc ym si aidnI\n"
     ]
    }
   ],
   "source": [
    "string = input(\"Give any sentence: \")\n",
    "print(string[::-1])"
   ]
  },
  {
   "cell_type": "raw",
   "id": "79f9fe4f",
   "metadata": {},
   "source": [
    "4. Write a program that takes a string as input and checks if it is a\n",
    "palindrome (reads the same forwards and backwards).\n"
   ]
  },
  {
   "cell_type": "code",
   "execution_count": 20,
   "id": "da715e07",
   "metadata": {},
   "outputs": [
    {
     "name": "stdout",
     "output_type": "stream",
     "text": [
      "Enter string: Malayalam\n",
      "Yes, It is a palindrome\n"
     ]
    }
   ],
   "source": [
    "# With using string slicing\n",
    "s = input(\"Enter string: \")\n",
    "r = s[::-1]\n",
    "if r.lower() == s.lower():       #coverting all char in lower case\n",
    "    print('Yes, It is a palindrome')\n",
    "else:\n",
    "    print('No, It is not palindrome')"
   ]
  },
  {
   "cell_type": "code",
   "execution_count": 27,
   "id": "87fa3c3c",
   "metadata": {},
   "outputs": [
    {
     "name": "stdout",
     "output_type": "stream",
     "text": [
      "Enter string: malayalam\n",
      "Yes, It is palindrome\n"
     ]
    }
   ],
   "source": [
    "# without using string slicing\n",
    "\n",
    "s = input(\"Enter string: \")\n",
    "flag = False\n",
    "for i in range(0,int(len(s)/2)):\n",
    "    if s[i] != s[len(s)-1-i]:\n",
    "        flag = False\n",
    "        \n",
    "    else:\n",
    "        flag = True\n",
    "\n",
    "if flag == True:\n",
    "    print(\"Yes, It is palindrome\")\n",
    "else:\n",
    "    print(\"No, It is not palindrome\")"
   ]
  },
  {
   "cell_type": "raw",
   "id": "56937fa3",
   "metadata": {},
   "source": [
    "5. Create a program that takes a string as input and removes all the\n",
    "spaces from it. Print the modified string without spaces."
   ]
  },
  {
   "cell_type": "code",
   "execution_count": 31,
   "id": "7452ae52",
   "metadata": {},
   "outputs": [
    {
     "name": "stdout",
     "output_type": "stream",
     "text": [
      "Enter any sentence: India Is My Country\n",
      "\n",
      "with using replace method:\n",
      "IndiaIsMyCountry\n",
      "\n",
      "without using replace method:\n",
      "IndiaIsMyCountry\n"
     ]
    }
   ],
   "source": [
    "string = input(\"Enter any sentence: \")\n",
    "print(\"\\nwith using replace method:\")\n",
    "#with using replace function\n",
    "new = string.replace(' ','')\n",
    "print(new)\n",
    "#without using replace function\n",
    "print('\\nwithout using replace method:')\n",
    "print(''.join(string.split()))"
   ]
  },
  {
   "cell_type": "code",
   "execution_count": null,
   "id": "941cf6c8",
   "metadata": {},
   "outputs": [],
   "source": []
  }
 ],
 "metadata": {
  "kernelspec": {
   "display_name": "Python 3 (ipykernel)",
   "language": "python",
   "name": "python3"
  },
  "language_info": {
   "codemirror_mode": {
    "name": "ipython",
    "version": 3
   },
   "file_extension": ".py",
   "mimetype": "text/x-python",
   "name": "python",
   "nbconvert_exporter": "python",
   "pygments_lexer": "ipython3",
   "version": "3.9.7"
  }
 },
 "nbformat": 4,
 "nbformat_minor": 5
}
