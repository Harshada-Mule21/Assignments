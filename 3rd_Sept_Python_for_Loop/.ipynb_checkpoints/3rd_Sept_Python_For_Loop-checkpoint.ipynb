{
 "cells": [
  {
   "cell_type": "markdown",
   "id": "df2f4dcd",
   "metadata": {},
   "source": [
    "# Basic Level:"
   ]
  },
  {
   "cell_type": "markdown",
   "id": "f0f54c58",
   "metadata": {},
   "source": [
    "# "
   ]
  },
  {
   "cell_type": "markdown",
   "id": "ea1edcea",
   "metadata": {},
   "source": [
    "# 1. Write a Python program to print the numbers from 1 to 10 using a `for` loop."
   ]
  },
  {
   "cell_type": "code",
   "execution_count": 1,
   "id": "9c815cee",
   "metadata": {},
   "outputs": [
    {
     "name": "stdout",
     "output_type": "stream",
     "text": [
      "1\n",
      "2\n",
      "3\n",
      "4\n",
      "5\n",
      "6\n",
      "7\n",
      "8\n",
      "9\n",
      "10\n"
     ]
    }
   ],
   "source": [
    "for i in range(1,11):\n",
    "    print(i)"
   ]
  },
  {
   "cell_type": "markdown",
   "id": "2392235b",
   "metadata": {},
   "source": [
    "# 2. Create a program that calculates the sum of all numbers in a list using a `for` loop."
   ]
  },
  {
   "cell_type": "code",
   "execution_count": 2,
   "id": "00826b88",
   "metadata": {},
   "outputs": [
    {
     "name": "stdout",
     "output_type": "stream",
     "text": [
      "SUM=10\n"
     ]
    }
   ],
   "source": [
    "l = [2,4,1,3]\n",
    "sum1=0\n",
    "for i in l:\n",
    "    sum1 = sum1+i\n",
    "print(f'SUM={sum1}')"
   ]
  },
  {
   "cell_type": "markdown",
   "id": "2200be07",
   "metadata": {},
   "source": [
    "# 3. Write a program to print the characters of a string in reverse order using a `for` loop."
   ]
  },
  {
   "cell_type": "code",
   "execution_count": 12,
   "id": "a517f306",
   "metadata": {},
   "outputs": [
    {
     "name": "stdout",
     "output_type": "stream",
     "text": [
      "enoyrevE olleH\n"
     ]
    }
   ],
   "source": [
    "s = \"Hello Everyone\"\n",
    "reverse_string = ''\n",
    "\n",
    "for i in range(len(s)-1,-1,-1):\n",
    "#     print(f'{i}={s[i]}')\n",
    "    reverse_string = reverse_string+s[i]    #concatenation of string\n",
    "print(reverse_string)"
   ]
  },
  {
   "cell_type": "markdown",
   "id": "fd6af07b",
   "metadata": {},
   "source": [
    "# 4. Develop a program that finds the factorial of a given number using a `for` loop."
   ]
  },
  {
   "cell_type": "code",
   "execution_count": 20,
   "id": "4cb0cb81",
   "metadata": {},
   "outputs": [
    {
     "name": "stdout",
     "output_type": "stream",
     "text": [
      "1*2*3*4*5*\n",
      "Factorial of 5=120\n"
     ]
    }
   ],
   "source": [
    "fact = 1                   #Initializing a variable to store result\n",
    "n = 5\n",
    "\n",
    "for i in range(1,n+1):\n",
    "    print(f'{i}*',end='')\n",
    "    fact = fact*i\n",
    "print(f'\\nFactorial of {n}={fact}')\n",
    "    "
   ]
  },
  {
   "cell_type": "markdown",
   "id": "ac9a2b53",
   "metadata": {},
   "source": [
    "# 5. Create a program to print the multiplication table of a given number using a `for` loop"
   ]
  },
  {
   "cell_type": "code",
   "execution_count": 21,
   "id": "20240efa",
   "metadata": {},
   "outputs": [
    {
     "name": "stdout",
     "output_type": "stream",
     "text": [
      "Enter number to print table: 19\n",
      "19*1 = 19\n",
      "19*2 = 38\n",
      "19*3 = 57\n",
      "19*4 = 76\n",
      "19*5 = 95\n",
      "19*6 = 114\n",
      "19*7 = 133\n",
      "19*8 = 152\n",
      "19*9 = 171\n",
      "19*10 = 190\n"
     ]
    }
   ],
   "source": [
    "n = int(input('Enter number to print table: '))\n",
    "for i in range(1,11):\n",
    "    print(f'{n}*{i} = {n*i}')"
   ]
  },
  {
   "cell_type": "markdown",
   "id": "770adf85",
   "metadata": {},
   "source": [
    "# 6. Write a program that counts the number of even and odd numbers in a list using a `for` loop."
   ]
  },
  {
   "cell_type": "code",
   "execution_count": 22,
   "id": "f727e555",
   "metadata": {},
   "outputs": [
    {
     "name": "stdout",
     "output_type": "stream",
     "text": [
      "[1, 2, 3, 4, 5, 6, 7, 8, 9, 10]\n",
      "Count of even numbers=5\n",
      "Count of odd numbers=5\n"
     ]
    }
   ],
   "source": [
    "l = [1,2,3,4,5,6,7,8,9,10]\n",
    "even=0\n",
    "odd=0\n",
    "for num in l:\n",
    "    if num%2==0:\n",
    "        even+=1\n",
    "    else:\n",
    "        odd+=1\n",
    "print(l)\n",
    "print(f'Count of even numbers={even}\\nCount of odd numbers={odd}')"
   ]
  },
  {
   "cell_type": "markdown",
   "id": "b985ebde",
   "metadata": {},
   "source": [
    "# 7. Develop a program that prints the squares of numbers from 1 to 5 using a `for` loop"
   ]
  },
  {
   "cell_type": "code",
   "execution_count": 23,
   "id": "27a17c8d",
   "metadata": {},
   "outputs": [
    {
     "name": "stdout",
     "output_type": "stream",
     "text": [
      "1^2 = 1\n",
      "2^2 = 4\n",
      "3^2 = 9\n",
      "4^2 = 16\n",
      "5^2 = 25\n"
     ]
    }
   ],
   "source": [
    "for i in range(1,6):\n",
    "    print(f\"{i}^2 = {i*i}\")"
   ]
  },
  {
   "cell_type": "markdown",
   "id": "01ae8f71",
   "metadata": {},
   "source": [
    "# 8. Create a program to find the length of a string without using the `len()` function."
   ]
  },
  {
   "cell_type": "code",
   "execution_count": 24,
   "id": "77993a6f",
   "metadata": {},
   "outputs": [
    {
     "name": "stdout",
     "output_type": "stream",
     "text": [
      "Length of string 'Hello' = 5\n"
     ]
    }
   ],
   "source": [
    "string = 'Hello'\n",
    "count = 0\n",
    "\n",
    "for s in string:\n",
    "    count+=1\n",
    "print(f\"Length of string '{string}' = {count}\")"
   ]
  },
  {
   "cell_type": "markdown",
   "id": "eefaf7a1",
   "metadata": {},
   "source": [
    "# 9. Write a program that calculates the average of a list of numbers using a `for` loop"
   ]
  },
  {
   "cell_type": "code",
   "execution_count": 25,
   "id": "4c3c7925",
   "metadata": {},
   "outputs": [
    {
     "name": "stdout",
     "output_type": "stream",
     "text": [
      "Average = 42.0\n"
     ]
    }
   ],
   "source": [
    "l = {10,20,40,80,20,60}\n",
    "sum1 = 0\n",
    "for i in l:\n",
    "    sum1=sum1+i      #calculating sum of all elements in list\n",
    "avg = sum1/len(l)\n",
    "print(f\"Average = {avg}\")\n"
   ]
  },
  {
   "cell_type": "markdown",
   "id": "f5bf4859",
   "metadata": {},
   "source": [
    "# 10. Develop a program that prints the first `n` Fibonacci numbers using a `for` loop."
   ]
  },
  {
   "cell_type": "code",
   "execution_count": 30,
   "id": "32baceff",
   "metadata": {},
   "outputs": [
    {
     "name": "stdout",
     "output_type": "stream",
     "text": [
      "Enter number: 10\n",
      "0 1 1 2 3 5 8 13 21 34 "
     ]
    }
   ],
   "source": [
    "n = int(input('Enter number: '))\n",
    "a = 0\n",
    "b = 1        #Initializing first two digits\n",
    "\n",
    "for i in range(0,n):\n",
    "    print(a,end=' ')\n",
    "    a,b = b,a+b\n"
   ]
  },
  {
   "cell_type": "markdown",
   "id": "1638d208",
   "metadata": {},
   "source": [
    "# Intermediate Level:"
   ]
  },
  {
   "cell_type": "markdown",
   "id": "b4b56c25",
   "metadata": {},
   "source": [
    "# "
   ]
  },
  {
   "cell_type": "markdown",
   "id": "e52d9592",
   "metadata": {},
   "source": [
    "# 11. Write a program to check if a given list contains any duplicates using a `for` loop."
   ]
  },
  {
   "cell_type": "code",
   "execution_count": 42,
   "id": "35677f08",
   "metadata": {},
   "outputs": [
    {
     "name": "stdout",
     "output_type": "stream",
     "text": [
      "Enter elements of list7 4 2 4 9 0 5\n",
      "Duplicates found\n"
     ]
    }
   ],
   "source": [
    "l = input('Enter elements of list').split(' ')\n",
    "\n",
    "def check_duplicate(l):\n",
    "    set1 = set()\n",
    "    \n",
    "    for ele in l:\n",
    "        if ele in set1:\n",
    "            return True\n",
    "        else:\n",
    "            set1.add(ele)\n",
    "    return False\n",
    "\n",
    "if check_duplicate(l):\n",
    "    print(\"Duplicates found\")\n",
    "else:\n",
    "    print(\"Duplicates not found\")"
   ]
  },
  {
   "cell_type": "markdown",
   "id": "f686b53f",
   "metadata": {},
   "source": [
    "# 12. Create a program that prints the prime numbers in a given range using a `for` loop."
   ]
  },
  {
   "cell_type": "code",
   "execution_count": 53,
   "id": "e3987ada",
   "metadata": {},
   "outputs": [
    {
     "name": "stdout",
     "output_type": "stream",
     "text": [
      "2\n",
      "3\n",
      "5\n",
      "7\n"
     ]
    }
   ],
   "source": [
    "n=10\n",
    "if (n==1 or n==0):\n",
    "    print(\"0 and 1 are not prime numbers\")\n",
    "# Run a loop from 2,n-1\n",
    "\n",
    "for i in range(2,n):\n",
    "#     if number is divisible by i then it is not prime\n",
    "    for j in range(2,i):\n",
    "        if (i%j) == 0:\n",
    "            break\n",
    "    else:\n",
    "        print(i)"
   ]
  },
  {
   "cell_type": "markdown",
   "id": "66cc9cdb",
   "metadata": {},
   "source": [
    "# 13. Develop a program that counts the number of vowels in a string using a `for` loop"
   ]
  },
  {
   "cell_type": "code",
   "execution_count": 54,
   "id": "81caf643",
   "metadata": {},
   "outputs": [
    {
     "name": "stdout",
     "output_type": "stream",
     "text": [
      "Number of vowels = 5\n"
     ]
    }
   ],
   "source": [
    "string = \"andbsjrosiwelvnsldkpqju\"\n",
    "vowels = \"aeiouAEIOU\"\n",
    "count = 0\n",
    "for s in string:\n",
    "    if s in vowels:\n",
    "        count+=1\n",
    "    else:\n",
    "        pass\n",
    "print(f'Number of vowels = {count}')"
   ]
  },
  {
   "cell_type": "markdown",
   "id": "57d1784a",
   "metadata": {},
   "source": [
    "# 14. Write a program to find the maximum element in a 2D list using a nested `for` loop."
   ]
  },
  {
   "cell_type": "code",
   "execution_count": 57,
   "id": "27f7c7ce",
   "metadata": {},
   "outputs": [
    {
     "name": "stdout",
     "output_type": "stream",
     "text": [
      "Maximum element in [[2, 5, 3], [4, 6, 2, 1], [0, 8, 6, 2, 9]] is 9\n"
     ]
    }
   ],
   "source": [
    "list_list = [[2,5,3],[4,6,2,1],[0,8,6,2,9]]\n",
    "l1 = []\n",
    "\n",
    "for row in list_list:\n",
    "    for item in row:\n",
    "        l1.append(item)\n",
    "\n",
    "print(f'Maximum element in {list_list} is {max(l1)}')"
   ]
  },
  {
   "cell_type": "markdown",
   "id": "20d9ec22",
   "metadata": {},
   "source": [
    "# 15. Create a program that removes all occurrences of a specific element from a list using a `for` loop."
   ]
  },
  {
   "cell_type": "code",
   "execution_count": 59,
   "id": "c6cda65e",
   "metadata": {},
   "outputs": [
    {
     "name": "stdout",
     "output_type": "stream",
     "text": [
      "[5, 7, 3, 6, 9, 0, 5, 2, 5, 6, 3, 5]\n",
      "element to remove=5\n",
      "After removal = [7, 3, 6, 9, 0, 2, 6, 3]\n"
     ]
    }
   ],
   "source": [
    "my_list = [5,7,3,6,9,0,5,2,5,6,3,5]\n",
    "new_list = []\n",
    "element_to_remove = 5\n",
    "\n",
    "for i in my_list:\n",
    "    if i!=element_to_remove:    #if element in list is not equal to specific ele then appending element in another list\n",
    "        new_list.append(i)\n",
    "    else:\n",
    "        pass\n",
    "print(f\"{my_list}\\nelement to remove={element_to_remove}\\nAfter removal = {new_list}\")"
   ]
  },
  {
   "cell_type": "markdown",
   "id": "ac3c4bab",
   "metadata": {},
   "source": [
    "# 16. Develop a program that generates a multiplication table for numbers from 1 to 5 using a nested `for` loop."
   ]
  },
  {
   "cell_type": "code",
   "execution_count": 63,
   "id": "9ef5dca7",
   "metadata": {},
   "outputs": [
    {
     "name": "stdout",
     "output_type": "stream",
     "text": [
      "\n",
      "\n",
      "Table of 1\n",
      "1*1==1\n",
      "1*2==2\n",
      "1*3==3\n",
      "1*4==4\n",
      "1*5==5\n",
      "1*6==6\n",
      "1*7==7\n",
      "1*8==8\n",
      "1*9==9\n",
      "1*10==10\n",
      "\n",
      "\n",
      "Table of 2\n",
      "2*1==2\n",
      "2*2==4\n",
      "2*3==6\n",
      "2*4==8\n",
      "2*5==10\n",
      "2*6==12\n",
      "2*7==14\n",
      "2*8==16\n",
      "2*9==18\n",
      "2*10==20\n",
      "\n",
      "\n",
      "Table of 3\n",
      "3*1==3\n",
      "3*2==6\n",
      "3*3==9\n",
      "3*4==12\n",
      "3*5==15\n",
      "3*6==18\n",
      "3*7==21\n",
      "3*8==24\n",
      "3*9==27\n",
      "3*10==30\n",
      "\n",
      "\n",
      "Table of 4\n",
      "4*1==4\n",
      "4*2==8\n",
      "4*3==12\n",
      "4*4==16\n",
      "4*5==20\n",
      "4*6==24\n",
      "4*7==28\n",
      "4*8==32\n",
      "4*9==36\n",
      "4*10==40\n",
      "\n",
      "\n",
      "Table of 5\n",
      "5*1==5\n",
      "5*2==10\n",
      "5*3==15\n",
      "5*4==20\n",
      "5*5==25\n",
      "5*6==30\n",
      "5*7==35\n",
      "5*8==40\n",
      "5*9==45\n",
      "5*10==50\n"
     ]
    }
   ],
   "source": [
    "for num in range(1,6):\n",
    "    print('\\n')\n",
    "    print(f\"Table of {num}\")\n",
    "    \n",
    "    for i in range(1,11):\n",
    "        print(f\"{num}*{i}=={num*i}\")"
   ]
  },
  {
   "cell_type": "markdown",
   "id": "255479f0",
   "metadata": {},
   "source": [
    "# 17. Write a program that converts a list of Fahrenheit temperatures to Celsius using a `for` loop."
   ]
  },
  {
   "cell_type": "code",
   "execution_count": 70,
   "id": "317439b2",
   "metadata": {},
   "outputs": [
    {
     "name": "stdout",
     "output_type": "stream",
     "text": [
      "[101, 100, 99, 97, 104]\n",
      "Fahrenheit to degree celcius\n",
      "101==38.33\n",
      "100==37.78\n",
      "99==37.22\n",
      "97==36.11\n",
      "104==40.00\n"
     ]
    }
   ],
   "source": [
    "f_temp = [101,100,99,97,104]\n",
    "# The Fahrenheit to Celsius formula is expressed as °C = (°F - 32) × 5/9\n",
    "print(f_temp)\n",
    "print(f'Fahrenheit to degree celcius')\n",
    "for temp in f_temp:\n",
    "    c = (temp-32)*5/9\n",
    "    print(f\"{temp}=={'%.2f' %c}\")"
   ]
  },
  {
   "cell_type": "markdown",
   "id": "ecd6f55a",
   "metadata": {},
   "source": [
    "# 18. Create a program to print the common elements from two lists using a `for` loop."
   ]
  },
  {
   "cell_type": "code",
   "execution_count": 71,
   "id": "1d7a0ac0",
   "metadata": {},
   "outputs": [
    {
     "name": "stdout",
     "output_type": "stream",
     "text": [
      "[11, 13, 14, 15, 18, 19]\n",
      "[12, 14, 16, 19, 13]\n",
      "Common elements\n",
      "[13, 14, 19]\n"
     ]
    }
   ],
   "source": [
    "list1 = [11,13,14,15,18,19]\n",
    "list2 = [12,14,16,19,13]\n",
    "print(list1)\n",
    "print(list2)\n",
    "common = []\n",
    "for i in list1:\n",
    "    if i in list2:\n",
    "        common.append(i)\n",
    "    else:\n",
    "        pass\n",
    "print(f'Common elements\\n{common}')\n",
    "        "
   ]
  },
  {
   "cell_type": "markdown",
   "id": "63916ba9",
   "metadata": {},
   "source": [
    "# 19. Develop a program that prints the pattern of right-angled triangles using a `for` loop. Use ‘*’ to draw the \n",
    "pattern"
   ]
  },
  {
   "cell_type": "raw",
   "id": "ce57a89f",
   "metadata": {},
   "source": [
    "*\n",
    "**\n",
    "***\n",
    "****\n",
    "*****"
   ]
  },
  {
   "cell_type": "code",
   "execution_count": 80,
   "id": "41c88219",
   "metadata": {},
   "outputs": [
    {
     "name": "stdout",
     "output_type": "stream",
     "text": [
      "\n",
      "\n",
      "*\n",
      "\n",
      "**\n",
      "\n",
      "***\n",
      "\n",
      "****\n",
      "\n",
      "*****\n",
      "\n"
     ]
    }
   ],
   "source": [
    "for i in range(6):\n",
    "    for j in range(i):\n",
    "        print('*',end='')\n",
    "    print('\\n')"
   ]
  },
  {
   "cell_type": "markdown",
   "id": "03d4dd34",
   "metadata": {},
   "source": [
    "# 20. Write a program to find the greatest common divisor (GCD) of two numbers using a `for` loop"
   ]
  },
  {
   "cell_type": "code",
   "execution_count": 81,
   "id": "d5d101ec",
   "metadata": {},
   "outputs": [
    {
     "name": "stdout",
     "output_type": "stream",
     "text": [
      "GCD of 50 and 100 is: 50\n"
     ]
    }
   ],
   "source": [
    "x = 50\n",
    "y = 100\n",
    "if x > y:\n",
    "    x, y = y, x\n",
    "for i in range(1,x+1):\n",
    "    if x%i == 0 and y%i == 0:\n",
    "        gcd = i\n",
    "\n",
    "print(\"GCD of\", x, \"and\", y, \"is:\", gcd)"
   ]
  },
  {
   "cell_type": "markdown",
   "id": "0da7391e",
   "metadata": {},
   "source": [
    "# Advanced Level:"
   ]
  },
  {
   "cell_type": "markdown",
   "id": "3b866be5",
   "metadata": {},
   "source": [
    "# "
   ]
  },
  {
   "cell_type": "markdown",
   "id": "c14b015e",
   "metadata": {},
   "source": [
    "# 21. Create a program that calculates the sum of the digits of numbers in a list using a list comprehension"
   ]
  },
  {
   "cell_type": "code",
   "execution_count": 3,
   "id": "3f57e965",
   "metadata": {},
   "outputs": [
    {
     "name": "stdout",
     "output_type": "stream",
     "text": [
      "Orignal list: [12, 45, 23, 71, 65, 4]\n",
      "[3, 9, 5, 8, 11, 4]\n"
     ]
    },
    {
     "data": {
      "text/plain": [
       "[3, 9, 5, 8, 11, 4]"
      ]
     },
     "execution_count": 3,
     "metadata": {},
     "output_type": "execute_result"
    }
   ],
   "source": [
    "orignal_list = [12, 45, 23, 71, 65, 4]\n",
    "print(f'Orignal list: {str(orignal_list)}')\n",
    "# Using string based approach\n",
    "# res = []\n",
    "# for ele in orignal_list:\n",
    "#     s = 0\n",
    "#     for digit in str(ele):\n",
    "#         s = s + int(digit)\n",
    "#     res.append(s)\n",
    "# print(res)       \n",
    "res1 = [sum(int(digit) for digit in str(ele)) for ele in orignal_list ]\n",
    "res1"
   ]
  },
  {
   "cell_type": "code",
   "execution_count": 5,
   "id": "b631641f",
   "metadata": {},
   "outputs": [
    {
     "name": "stdout",
     "output_type": "stream",
     "text": [
      "Orignal List:[12, 45, 23, 71, 65, 4]\n",
      "Result:[3, 9, 5, 8, 11, 4]\n"
     ]
    }
   ],
   "source": [
    "def get_sum(n):\n",
    "    s = 0\n",
    "    while(n!=0):\n",
    "        s = s+(n%10)\n",
    "        n = n//10\n",
    "    return s\n",
    "get_sum(123)\n",
    "\n",
    "list1 = [12, 45, 23, 71, 65, 4]\n",
    "# Using creating function for \n",
    "res = [get_sum(num) for num in list1]\n",
    "print(f'Orignal List:{str(list1)}\\nResult:{str(res)}')"
   ]
  },
  {
   "cell_type": "markdown",
   "id": "59d416b9",
   "metadata": {},
   "source": [
    "# 23. Develop a program that extracts unique elements from a list and stores them in a new list using a list \n",
    "comprehension."
   ]
  },
  {
   "cell_type": "code",
   "execution_count": 6,
   "id": "8f803e83",
   "metadata": {},
   "outputs": [
    {
     "name": "stdout",
     "output_type": "stream",
     "text": [
      "[5, 8, 9]\n"
     ]
    }
   ],
   "source": [
    "list1 = [12,4,5,3,12,3,4,8,9]\n",
    "\n",
    "res = [ele for ele in list1 if list1.count(ele)==1] #count of unique element is 1\n",
    "print(res)"
   ]
  },
  {
   "cell_type": "markdown",
   "id": "9740066b",
   "metadata": {},
   "source": [
    "# 24. Create a program that generates a list of all palindromic numbers up to a specified limit using a list \n",
    "comprehension."
   ]
  },
  {
   "cell_type": "code",
   "execution_count": 11,
   "id": "5ef18c91",
   "metadata": {},
   "outputs": [
    {
     "name": "stdout",
     "output_type": "stream",
     "text": [
      "Palindrome numbers from 10 to 200 are:\n",
      "[11, 22, 33, 44, 55, 66, 77, 88, 99, 101, 111, 121, 131, 141, 151, 161, 171, 181, 191]\n"
     ]
    }
   ],
   "source": [
    "n1 = 10\n",
    "n2 = 200\n",
    "# l = []\n",
    "# for num in range(n1,n2):\n",
    "#     if str(num) == str(num)[::-1]:\n",
    "#         l.append(int(num))\n",
    "#     else:\n",
    "#         pass\n",
    "\n",
    "# Generating palindrome from range 10 to 200\n",
    "l = [num for num in range(n1,n2) if str(num)==str(num)[::-1]] \n",
    "print(f'Palindrome numbers from 10 to 200 are:\\n{l}')"
   ]
  },
  {
   "cell_type": "markdown",
   "id": "190f5760",
   "metadata": {},
   "source": [
    "# 25. Write a program to flatten a nested list using list comprehension."
   ]
  },
  {
   "cell_type": "code",
   "execution_count": 13,
   "id": "3e16fbb2",
   "metadata": {},
   "outputs": [
    {
     "name": "stdout",
     "output_type": "stream",
     "text": [
      "[[1, 2, 3], [4, 5, 6], [7, 8], [9, 10]]\n",
      "[1, 2, 3, 4, 5, 6, 7, 8, 9, 10]\n"
     ]
    }
   ],
   "source": [
    "nested = [[1,2,3],[4,5,6],[7,8],[9,10]]\n",
    "\n",
    "flatten = [j for i in nested for j in i]\n",
    "print(nested)\n",
    "print(flatten)"
   ]
  },
  {
   "cell_type": "markdown",
   "id": "2925d837",
   "metadata": {},
   "source": [
    "# 26. Develop a program that computes the sum of even and odd numbers in a list separately using list \n",
    "comprehension."
   ]
  },
  {
   "cell_type": "code",
   "execution_count": 16,
   "id": "18107007",
   "metadata": {},
   "outputs": [
    {
     "name": "stdout",
     "output_type": "stream",
     "text": [
      "[1, 2, 3, 4, 5, 6, 7, 8, 9, 10]\n",
      "Sum of even nos. 30\n",
      "Sum of odd nos. 25 \n"
     ]
    }
   ],
   "source": [
    "my_list = [1,2,3,4,5,6,7,8,9,10]\n",
    "\n",
    "even = sum([i for i in my_list if i%2==0])\n",
    "odd = sum([i for i in my_list if i%2!=0])\n",
    "print(f'{str(my_list)}\\nSum of even nos. {even}\\nSum of odd nos. {odd} ')"
   ]
  },
  {
   "cell_type": "markdown",
   "id": "789c6251",
   "metadata": {},
   "source": [
    "# 27. Create a program that generates a list of squares of odd numbers between 1 and 10 using list \n",
    "comprehension."
   ]
  },
  {
   "cell_type": "code",
   "execution_count": 17,
   "id": "fc13665d",
   "metadata": {},
   "outputs": [
    {
     "name": "stdout",
     "output_type": "stream",
     "text": [
      "Square of odd number in range 1 to 10:\n",
      "[1, 9, 25, 49, 81]\n"
     ]
    }
   ],
   "source": [
    "sqr_odd = [num**2 for num in range(1,11) if num%2!=0]\n",
    "print(f'Square of odd number in range 1 to 10:\\n{sqr_odd}')"
   ]
  },
  {
   "cell_type": "markdown",
   "id": "7a022036",
   "metadata": {},
   "source": [
    "# 28. Write a program that combines two lists into a dictionary using list comprehension."
   ]
  },
  {
   "cell_type": "code",
   "execution_count": 19,
   "id": "57244b87",
   "metadata": {},
   "outputs": [
    {
     "data": {
      "text/plain": [
       "{'a': 300, 'b': 300, 'c': 300}"
      ]
     },
     "execution_count": 19,
     "metadata": {},
     "output_type": "execute_result"
    }
   ],
   "source": [
    "k = ['a','b','c']\n",
    "v = [100,200,300]\n",
    "\n",
    "res = {key:value for key in k for value in v}\n",
    "res"
   ]
  },
  {
   "cell_type": "markdown",
   "id": "b8b1e444",
   "metadata": {},
   "source": [
    "# 29. Develop a program that extracts the vowels from a string and stores them in a list using list comprehension."
   ]
  },
  {
   "cell_type": "code",
   "execution_count": 20,
   "id": "f672defe",
   "metadata": {},
   "outputs": [
    {
     "name": "stdout",
     "output_type": "stream",
     "text": [
      "Extracted vowels:  ['i', 'o', 'a', 'o', 'i', 'e', 'e', 'o', 'a']\n"
     ]
    }
   ],
   "source": [
    "string = 'hioanxlcoqieleqwsoa'\n",
    "\n",
    "vowels = [i for i in string if i in 'aeiouAEIOU']\n",
    "print('Extracted vowels: ',vowels)"
   ]
  },
  {
   "cell_type": "markdown",
   "id": "8bda268a",
   "metadata": {},
   "source": [
    "# 30. Create a program that removes all non-numeric characters from a list of strings using list comprehension."
   ]
  },
  {
   "cell_type": "code",
   "execution_count": 25,
   "id": "44368e20",
   "metadata": {},
   "outputs": [
    {
     "data": {
      "text/plain": [
       "[1, 3, 45, 30, 28]"
      ]
     },
     "execution_count": 25,
     "metadata": {},
     "output_type": "execute_result"
    }
   ],
   "source": [
    "l1 = [1,3,'H','j',45,'@','*',30,28,'K','#']\n",
    "\n",
    "res = [i for i in l1 if type(i)==int]\n",
    "res"
   ]
  },
  {
   "cell_type": "markdown",
   "id": "1966977b",
   "metadata": {},
   "source": [
    "# Challenge Level:"
   ]
  },
  {
   "cell_type": "markdown",
   "id": "12d60841",
   "metadata": {},
   "source": [
    "# "
   ]
  },
  {
   "cell_type": "markdown",
   "id": "55649999",
   "metadata": {},
   "source": [
    "# 31. Write a program to generate a list of prime numbers using the Sieve of Eratosthenes algorithm and list comprehension."
   ]
  },
  {
   "cell_type": "code",
   "execution_count": 28,
   "id": "63c6ca61",
   "metadata": {},
   "outputs": [
    {
     "name": "stdout",
     "output_type": "stream",
     "text": [
      "Following are the prime numbers smaller\n",
      "than or equal to 20\n",
      "2\n",
      "3\n",
      "5\n",
      "7\n",
      "11\n",
      "13\n",
      "17\n",
      "19\n"
     ]
    }
   ],
   "source": [
    "#  Sieve of Eratosthenes algorithm\n",
    "def SieveOfEratosthenes(n):\n",
    "  \n",
    "    # Create a boolean array\n",
    "    # \"prime[0..n]\" and initialize\n",
    "    #  all entries it as true.\n",
    "    # A value in prime[i] will\n",
    "    # finally be false if i is\n",
    "    # Not a prime, else true.\n",
    "    prime = [True for i in range(n+1)]\n",
    "    p = 2\n",
    "    while (p * p <= n):\n",
    "  \n",
    "        # If prime[p] is not\n",
    "        # changed, then it is a prime\n",
    "        if (prime[p] == True):\n",
    "  \n",
    "            # Update all multiples of p\n",
    "            for i in range(p * p, n+1, p):\n",
    "                prime[i] = False\n",
    "        p += 1\n",
    "  \n",
    "    # Print all prime numbers\n",
    "    for p in range(2, n+1):\n",
    "        if prime[p]:\n",
    "            print(p)\n",
    "  \n",
    "  \n",
    "# Driver code\n",
    "if __name__ == '__main__':\n",
    "    n = 20\n",
    "    print(\"Following are the prime numbers smaller\"),\n",
    "    print(\"than or equal to\", n)\n",
    "    SieveOfEratosthenes(n)     "
   ]
  },
  {
   "cell_type": "code",
   "execution_count": 32,
   "id": "af4b16c5",
   "metadata": {},
   "outputs": [
    {
     "data": {
      "text/plain": [
       "[3,\n",
       " 4,\n",
       " 5,\n",
       " 5,\n",
       " 5,\n",
       " 6,\n",
       " 6,\n",
       " 7,\n",
       " 7,\n",
       " 7,\n",
       " 7,\n",
       " 7,\n",
       " 8,\n",
       " 8,\n",
       " 8,\n",
       " 8,\n",
       " 9,\n",
       " 9,\n",
       " 9,\n",
       " 9,\n",
       " 9,\n",
       " 9,\n",
       " 10,\n",
       " 10,\n",
       " 10,\n",
       " 10,\n",
       " 10,\n",
       " 10]"
      ]
     },
     "execution_count": 32,
     "metadata": {},
     "output_type": "execute_result"
    }
   ],
   "source": [
    "# using list comprehension\n",
    "\n",
    "# for i in range(2,n):\n",
    "# #     if number is divisible by i then it is not prime\n",
    "#     for j in range(2,i):\n",
    "#         if (i%j) == 0:\n",
    "#             break\n",
    "#     else:\n",
    "#         print(i)\n",
    "        \n",
    "prime = [i for i in range(2,11) for j in range(2,i) if (i%j)!=0]\n",
    "prime"
   ]
  },
  {
   "cell_type": "markdown",
   "id": "fb7df6ba",
   "metadata": {},
   "source": [
    "# 32. Create a program that generates a list of all Pythagorean triplets up to a specified limit using list comprehension."
   ]
  },
  {
   "cell_type": "code",
   "execution_count": 33,
   "id": "85c8b1d4",
   "metadata": {},
   "outputs": [
    {
     "name": "stdout",
     "output_type": "stream",
     "text": [
      "3 4 5\n",
      "8 6 10\n",
      "5 12 13\n",
      "15 8 17\n",
      "12 16 20\n"
     ]
    }
   ],
   "source": [
    "def pythagoreanTriplets(limits) :\n",
    "    c, m = 0, 2\n",
    " \n",
    "    # Limiting c would limit\n",
    "    # all a, b and c\n",
    "    while c < limits :\n",
    "         \n",
    "        # Now loop on n from 1 to m-1\n",
    "        for n in range(1, m) :\n",
    "            a = m * m - n * n\n",
    "            b = 2 * m * n\n",
    "            c = m * m + n * n\n",
    " \n",
    "            # if c is greater than\n",
    "            # limit then break it\n",
    "            if c > limits :\n",
    "                break\n",
    " \n",
    "            print(a, b, c)\n",
    " \n",
    "        m = m + 1\n",
    " \n",
    " \n",
    "\n",
    "     \n",
    "limit = 20\n",
    "pythagoreanTriplets(limit)"
   ]
  },
  {
   "cell_type": "markdown",
   "id": "853860c2",
   "metadata": {},
   "source": [
    "# 33. Develop a program that generates a list of all possible combinations of two lists using list comprehension."
   ]
  },
  {
   "cell_type": "code",
   "execution_count": 35,
   "id": "a4cd2d16",
   "metadata": {},
   "outputs": [
    {
     "name": "stdout",
     "output_type": "stream",
     "text": [
      "[('b', 1), ('b', 4), ('b', 9), ('c', 1), ('c', 4), ('c', 9), ('d', 1), ('d', 4), ('d', 9)]\n"
     ]
    }
   ],
   "source": [
    "list_1 = [\"b\", \"c\", \"d\"]\n",
    "list_2 = [1, 4, 9]\n",
    " \n",
    "unique_combinations = []\n",
    " \n",
    "for i in range(len(list_1)):\n",
    "    for j in range(len(list_2)):\n",
    "        unique_combinations.append((list_1[i], list_2[j]))\n",
    "\n",
    "print(unique_combinations)"
   ]
  },
  {
   "cell_type": "markdown",
   "id": "0d36ba5e",
   "metadata": {},
   "source": [
    "# 34. Write a program that calculates the mean, median, and mode of a list of numbers using list comprehension."
   ]
  },
  {
   "cell_type": "code",
   "execution_count": 41,
   "id": "964702c3",
   "metadata": {},
   "outputs": [
    {
     "name": "stdout",
     "output_type": "stream",
     "text": [
      "Mode: \n",
      "['male']\n",
      "Mean: \n",
      "5.2\n",
      "Median: \n"
     ]
    },
    {
     "data": {
      "text/plain": [
       "3"
      ]
     },
     "execution_count": 41,
     "metadata": {},
     "output_type": "execute_result"
    }
   ],
   "source": [
    "from collections import Counter\n",
    "\n",
    "print(f'Mode: ')\n",
    "def my_mode(sample):\n",
    "    c = Counter(sample)\n",
    "    return [k for k, v in c.items() if v == c.most_common(1)[0][1]]\n",
    "print(my_mode([\"male\", \"male\", \"female\", \"male\"]))\n",
    "\n",
    "print(f'Mean: ')\n",
    "def my_mean(sample):\n",
    "    return sum(sample) / len(sample)\n",
    "print(my_mean([4, 8, 6, 5, 3, 2, 8, 9, 2, 5]))\n",
    "\n",
    "print(f'Median: ')\n",
    "def my_median(sample):\n",
    "    n = len(sample)\n",
    "    index = n // 2\n",
    "    # Sample with an odd number of observations\n",
    "    if n % 2:\n",
    "        return sorted(sample)[index]\n",
    "    # Sample with an even number of observations\n",
    "    return sum(sorted(sample)[index - 1:index + 1]) / 2\n",
    "my_median([3, 5, 1, 4, 2])"
   ]
  },
  {
   "cell_type": "markdown",
   "id": "11645d65",
   "metadata": {},
   "source": [
    "# 35. Create a program that generates Pascal's triangle up to a specified number of rows using list comprehension"
   ]
  },
  {
   "cell_type": "code",
   "execution_count": 46,
   "id": "e60c6694",
   "metadata": {},
   "outputs": [
    {
     "name": "stdout",
     "output_type": "stream",
     "text": [
      "Enter the number: 4\n",
      "          1 \n",
      "         1      1 \n",
      "        1      2      1 \n",
      "       1      3      3      1 \n"
     ]
    }
   ],
   "source": [
    "num = int(input(\"Enter the number: \"))  \n",
    "list1 = [] #an empty list  \n",
    "for i in range(num):  \n",
    "    list1.append([])  \n",
    "    list1[i].append(1)  \n",
    "    for j in range(1, i):  \n",
    "        list1[i].append(list1[i - 1][j - 1] + list1[i - 1][j])  \n",
    "    if(num != 0):  \n",
    "        list1[i].append(1)  \n",
    "for i in range(num):  \n",
    "    print(\" \" * (num - i), end = \" \", sep = \" \")  \n",
    "    for j in range(0, i + 1):  \n",
    "        print('{0:6}'.format(list1[i][j]), end = \" \", sep = \" \")  \n",
    "    print()  "
   ]
  },
  {
   "cell_type": "markdown",
   "id": "884dbf22",
   "metadata": {},
   "source": [
    "# 36. Develop a program that calculates the sum of the digits of a factorial of numbers from 1 to 5 using list comprehension."
   ]
  },
  {
   "cell_type": "code",
   "execution_count": 53,
   "id": "ffba334c",
   "metadata": {},
   "outputs": [
    {
     "name": "stdout",
     "output_type": "stream",
     "text": [
      "List of factorial of numbers from 1 to 5:\n",
      "[1, 2, 6, 24, 120]\n",
      "Sum of digits of factorial\n",
      "[1, 2, 6, 6, 3]\n"
     ]
    }
   ],
   "source": [
    "# Program to find factorial\n",
    "def fact(n):\n",
    "    f = 1                   #Initializing a variable to store result\n",
    "    for i in range(1,n+1):\n",
    "#         print(f'{i}*',end='')\n",
    "        f = f*i\n",
    "    return f\n",
    "\n",
    "# Function to get sum of number\n",
    "def get_sum(n):\n",
    "    s = 0\n",
    "    while(n!=0):\n",
    "        s = s+(n%10)\n",
    "        n = n//10\n",
    "    return s\n",
    "\n",
    "\n",
    "print(f'List of factorial of numbers from 1 to 5:')\n",
    "\n",
    "facts = [fact(i) for i in range(1,6)]\n",
    "print(facts)\n",
    "sum_fact = [get_sum(i) for i in facts]\n",
    "print(f'Sum of digits of factorial')\n",
    "print(sum_fact)"
   ]
  },
  {
   "cell_type": "markdown",
   "id": "12febe41",
   "metadata": {},
   "source": [
    "# 37. Write a program that finds the longest word in a sentence using list comprehension."
   ]
  },
  {
   "cell_type": "code",
   "execution_count": 58,
   "id": "ab741f1c",
   "metadata": {},
   "outputs": [
    {
     "name": "stdout",
     "output_type": "stream",
     "text": [
      "Be confident and be yourself\n",
      "Longest word is:\n",
      "confident\n"
     ]
    }
   ],
   "source": [
    "string = 'Be confident and be yourself'\n",
    "longest = max([s for s in string.split()],key=len)\n",
    "print(f'{string}\\nLongest word is:')\n",
    "print(longest)"
   ]
  },
  {
   "cell_type": "markdown",
   "id": "b6cdc884",
   "metadata": {},
   "source": [
    "# 38. Create a program that filters a list of strings to include only those with more than three vowels using list comprehension."
   ]
  },
  {
   "cell_type": "code",
   "execution_count": 60,
   "id": "e5094c45",
   "metadata": {},
   "outputs": [
    {
     "name": "stdout",
     "output_type": "stream",
     "text": [
      "The original list is : ['hello', 'america', 'india', 'chin']\n",
      "Maximum vowels word : america\n"
     ]
    }
   ],
   "source": [
    "# Initializing Matrix\n",
    "test_list = [\"hello\", \"america\", \"india\", \"chin\"]\n",
    " \n",
    "# Printing original list\n",
    "print(\"The original list is : \" + str(test_list))\n",
    " \n",
    "res = \"\"\n",
    "max_len = 0\n",
    " \n",
    "for ele in test_list:\n",
    " \n",
    "    # Getting maximum length and element iteratively\n",
    "    vow_len = len([el for el in ele if el in ['a', 'e', 'o', 'u', 'i']])\n",
    "     \n",
    "    if vow_len > 3:\n",
    "        max_len = vow_len\n",
    "        res = ele\n",
    " \n",
    "# Printing result\n",
    "print(\"Maximum vowels word : \" + str(res))"
   ]
  },
  {
   "cell_type": "markdown",
   "id": "75b9d9b0",
   "metadata": {},
   "source": [
    "# 39. Develop a program that calculates the sum of the digits of numbers from 1 to 1000 using list \n",
    "comprehension."
   ]
  },
  {
   "cell_type": "code",
   "execution_count": 3,
   "id": "6f8bcb9a",
   "metadata": {},
   "outputs": [
    {
     "name": "stdout",
     "output_type": "stream",
     "text": [
      "[1, 2, 3, 4, 5, 6, 7, 8, 9, 1, 2, 3, 4, 5, 6, 7, 8, 9, 10, 2, 3, 4, 5, 6, 7, 8, 9, 10, 11, 3, 4, 5, 6, 7, 8, 9, 10, 11, 12, 4, 5, 6, 7, 8, 9, 10, 11, 12, 13, 5, 6, 7, 8, 9, 10, 11, 12, 13, 14, 6, 7, 8, 9, 10, 11, 12, 13, 14, 15, 7, 8, 9, 10, 11, 12, 13, 14, 15, 16, 8, 9, 10, 11, 12, 13, 14, 15, 16, 17, 9, 10, 11, 12, 13, 14, 15, 16, 17, 18, 1, 2, 3, 4, 5, 6, 7, 8, 9, 10, 2, 3, 4, 5, 6, 7, 8, 9, 10, 11, 3, 4, 5, 6, 7, 8, 9, 10, 11, 12, 4, 5, 6, 7, 8, 9, 10, 11, 12, 13, 5, 6, 7, 8, 9, 10, 11, 12, 13, 14, 6, 7, 8, 9, 10, 11, 12, 13, 14, 15, 7, 8, 9, 10, 11, 12, 13, 14, 15, 16, 8, 9, 10, 11, 12, 13, 14, 15, 16, 17, 9, 10, 11, 12, 13, 14, 15, 16, 17, 18, 10, 11, 12, 13, 14, 15, 16, 17, 18, 19, 2, 3, 4, 5, 6, 7, 8, 9, 10, 11, 3, 4, 5, 6, 7, 8, 9, 10, 11, 12, 4, 5, 6, 7, 8, 9, 10, 11, 12, 13, 5, 6, 7, 8, 9, 10, 11, 12, 13, 14, 6, 7, 8, 9, 10, 11, 12, 13, 14, 15, 7, 8, 9, 10, 11, 12, 13, 14, 15, 16, 8, 9, 10, 11, 12, 13, 14, 15, 16, 17, 9, 10, 11, 12, 13, 14, 15, 16, 17, 18, 10, 11, 12, 13, 14, 15, 16, 17, 18, 19, 11, 12, 13, 14, 15, 16, 17, 18, 19, 20, 3, 4, 5, 6, 7, 8, 9, 10, 11, 12, 4, 5, 6, 7, 8, 9, 10, 11, 12, 13, 5, 6, 7, 8, 9, 10, 11, 12, 13, 14, 6, 7, 8, 9, 10, 11, 12, 13, 14, 15, 7, 8, 9, 10, 11, 12, 13, 14, 15, 16, 8, 9, 10, 11, 12, 13, 14, 15, 16, 17, 9, 10, 11, 12, 13, 14, 15, 16, 17, 18, 10, 11, 12, 13, 14, 15, 16, 17, 18, 19, 11, 12, 13, 14, 15, 16, 17, 18, 19, 20, 12, 13, 14, 15, 16, 17, 18, 19, 20, 21, 4, 5, 6, 7, 8, 9, 10, 11, 12, 13, 5, 6, 7, 8, 9, 10, 11, 12, 13, 14, 6, 7, 8, 9, 10, 11, 12, 13, 14, 15, 7, 8, 9, 10, 11, 12, 13, 14, 15, 16, 8, 9, 10, 11, 12, 13, 14, 15, 16, 17, 9, 10, 11, 12, 13, 14, 15, 16, 17, 18, 10, 11, 12, 13, 14, 15, 16, 17, 18, 19, 11, 12, 13, 14, 15, 16, 17, 18, 19, 20, 12, 13, 14, 15, 16, 17, 18, 19, 20, 21, 13, 14, 15, 16, 17, 18, 19, 20, 21, 22, 5, 6, 7, 8, 9, 10, 11, 12, 13, 14, 6, 7, 8, 9, 10, 11, 12, 13, 14, 15, 7, 8, 9, 10, 11, 12, 13, 14, 15, 16, 8, 9, 10, 11, 12, 13, 14, 15, 16, 17, 9, 10, 11, 12, 13, 14, 15, 16, 17, 18, 10, 11, 12, 13, 14, 15, 16, 17, 18, 19, 11, 12, 13, 14, 15, 16, 17, 18, 19, 20, 12, 13, 14, 15, 16, 17, 18, 19, 20, 21, 13, 14, 15, 16, 17, 18, 19, 20, 21, 22, 14, 15, 16, 17, 18, 19, 20, 21, 22, 23, 6, 7, 8, 9, 10, 11, 12, 13, 14, 15, 7, 8, 9, 10, 11, 12, 13, 14, 15, 16, 8, 9, 10, 11, 12, 13, 14, 15, 16, 17, 9, 10, 11, 12, 13, 14, 15, 16, 17, 18, 10, 11, 12, 13, 14, 15, 16, 17, 18, 19, 11, 12, 13, 14, 15, 16, 17, 18, 19, 20, 12, 13, 14, 15, 16, 17, 18, 19, 20, 21, 13, 14, 15, 16, 17, 18, 19, 20, 21, 22, 14, 15, 16, 17, 18, 19, 20, 21, 22, 23, 15, 16, 17, 18, 19, 20, 21, 22, 23, 24, 7, 8, 9, 10, 11, 12, 13, 14, 15, 16, 8, 9, 10, 11, 12, 13, 14, 15, 16, 17, 9, 10, 11, 12, 13, 14, 15, 16, 17, 18, 10, 11, 12, 13, 14, 15, 16, 17, 18, 19, 11, 12, 13, 14, 15, 16, 17, 18, 19, 20, 12, 13, 14, 15, 16, 17, 18, 19, 20, 21, 13, 14, 15, 16, 17, 18, 19, 20, 21, 22, 14, 15, 16, 17, 18, 19, 20, 21, 22, 23, 15, 16, 17, 18, 19, 20, 21, 22, 23, 24, 16, 17, 18, 19, 20, 21, 22, 23, 24, 25, 8, 9, 10, 11, 12, 13, 14, 15, 16, 17, 9, 10, 11, 12, 13, 14, 15, 16, 17, 18, 10, 11, 12, 13, 14, 15, 16, 17, 18, 19, 11, 12, 13, 14, 15, 16, 17, 18, 19, 20, 12, 13, 14, 15, 16, 17, 18, 19, 20, 21, 13, 14, 15, 16, 17, 18, 19, 20, 21, 22, 14, 15, 16, 17, 18, 19, 20, 21, 22, 23, 15, 16, 17, 18, 19, 20, 21, 22, 23, 24, 16, 17, 18, 19, 20, 21, 22, 23, 24, 25, 17, 18, 19, 20, 21, 22, 23, 24, 25, 26, 9, 10, 11, 12, 13, 14, 15, 16, 17, 18, 10, 11, 12, 13, 14, 15, 16, 17, 18, 19, 11, 12, 13, 14, 15, 16, 17, 18, 19, 20, 12, 13, 14, 15, 16, 17, 18, 19, 20, 21, 13, 14, 15, 16, 17, 18, 19, 20, 21, 22, 14, 15, 16, 17, 18, 19, 20, 21, 22, 23, 15, 16, 17, 18, 19, 20, 21, 22, 23, 24, 16, 17, 18, 19, 20, 21, 22, 23, 24, 25, 17, 18, 19, 20, 21, 22, 23, 24, 25, 26, 18, 19, 20, 21, 22, 23, 24, 25, 26, 27, 1]\n"
     ]
    }
   ],
   "source": [
    "def sum_digit(num):\n",
    "    s=0\n",
    "    for n in str(num):\n",
    "        s=s+int(n)\n",
    "    return s        \n",
    "\n",
    "res = [sum_digit(n) for n in range(1,1001)]\n",
    "print(res)"
   ]
  },
  {
   "cell_type": "markdown",
   "id": "2f40c76b",
   "metadata": {},
   "source": [
    "# 40. Write a program that generates a list of prime palindromic numbers using list comprehension."
   ]
  },
  {
   "cell_type": "code",
   "execution_count": null,
   "id": "8ee06520",
   "metadata": {},
   "outputs": [],
   "source": []
  }
 ],
 "metadata": {
  "kernelspec": {
   "display_name": "Python 3 (ipykernel)",
   "language": "python",
   "name": "python3"
  },
  "language_info": {
   "codemirror_mode": {
    "name": "ipython",
    "version": 3
   },
   "file_extension": ".py",
   "mimetype": "text/x-python",
   "name": "python",
   "nbconvert_exporter": "python",
   "pygments_lexer": "ipython3",
   "version": "3.9.7"
  }
 },
 "nbformat": 4,
 "nbformat_minor": 5
}
