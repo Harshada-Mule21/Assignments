{
 "cells": [
  {
   "cell_type": "markdown",
   "id": "509d91c3",
   "metadata": {},
   "source": [
    "# Problem 1: Bank Account Create a class representing a bank account with attributes like account number, account holder name, and balance. Implement methods to deposit and withdraw money from the account."
   ]
  },
  {
   "cell_type": "code",
   "execution_count": 1,
   "id": "a16f176f",
   "metadata": {},
   "outputs": [],
   "source": [
    "class bank_account:\n",
    "    def __init__(self):\n",
    "        self.balance = 0\n",
    "        self.account_name = 'Harshada'\n",
    "        self.account_number = '12345'\n",
    "        print(f'Hi {self.account_name},Welcome to bank!\\nYour account no is {self.account_number}')\n",
    "        \n",
    "    def deposit(self):\n",
    "        amount = float(input(\"Enter the amount to be deposited: \"))\n",
    "        self.balance+=amount\n",
    "        print(\"Amount deposited successfully\")\n",
    "        print(f\"Total balance = {self.balance}\")\n",
    "    \n",
    "    def withdraw(self):\n",
    "        amount = float(input(\"Enter the amount to be withdrawn: \"))\n",
    "        if self.balance>=amount:\n",
    "            self.balance-=amount\n",
    "            print(f'\\nYou withdrawn: {amount}')\n",
    "            print(f\"Available balance: {self.balance}\")\n",
    "            \n",
    "        else:\n",
    "            print(\"\\nInsufficient Balance\")\n",
    "     "
   ]
  },
  {
   "cell_type": "code",
   "execution_count": 2,
   "id": "5e3eed3f",
   "metadata": {},
   "outputs": [
    {
     "name": "stdout",
     "output_type": "stream",
     "text": [
      "Hi Harshada,Welcome to bank!\n",
      "Your account no is 12345\n"
     ]
    }
   ],
   "source": [
    "s = bank_account()"
   ]
  },
  {
   "cell_type": "code",
   "execution_count": 6,
   "id": "b69e7ba9",
   "metadata": {},
   "outputs": [
    {
     "name": "stdout",
     "output_type": "stream",
     "text": [
      "Enter the amount to be deposited: 100\n",
      "Amount deposited successfully\n",
      "Total balance = 100.0\n"
     ]
    }
   ],
   "source": [
    "s.deposit()"
   ]
  },
  {
   "cell_type": "code",
   "execution_count": 7,
   "id": "0d257a66",
   "metadata": {},
   "outputs": [
    {
     "name": "stdout",
     "output_type": "stream",
     "text": [
      "Enter the amount to be withdrawn: 50\n",
      "\n",
      "You withdrawn: 50.0\n",
      "Available balance: 50.0\n"
     ]
    }
   ],
   "source": [
    "s.withdraw()"
   ]
  },
  {
   "cell_type": "code",
   "execution_count": 8,
   "id": "d195eb03",
   "metadata": {},
   "outputs": [
    {
     "name": "stdout",
     "output_type": "stream",
     "text": [
      "Enter the amount to be withdrawn: 60\n",
      "\n",
      "Insufficient Balance\n"
     ]
    }
   ],
   "source": [
    "s.withdraw()"
   ]
  },
  {
   "cell_type": "markdown",
   "id": "4f753f27",
   "metadata": {},
   "source": [
    "# Problem 2: Employee Management Create a class representing an employee with attributes like employee ID, name, and salary. Implement methods to calculate the yearly bonus and display employee details."
   ]
  },
  {
   "cell_type": "code",
   "execution_count": 37,
   "id": "05c7a838",
   "metadata": {},
   "outputs": [],
   "source": [
    "class Employee:\n",
    "    def __init__(self,ID,salary,name):\n",
    "        self.ID = ID\n",
    "        self.salary = salary\n",
    "        self.name = name\n",
    "        \n",
    "    def print_details(self):\n",
    "        print(f'Employee Name: {self.name}')\n",
    "        print(f'Employee ID: {self.ID}')\n",
    "        print(f'Employee salary: {self.salary}')\n",
    "        \n",
    "    def yearly_bonus(self):\n",
    "        m_sal = self.salary*2/100\n",
    "        bonus = m_sal*12\n",
    "        print(f\"Yearly bonus will be: {bonus}\")"
   ]
  },
  {
   "cell_type": "code",
   "execution_count": 41,
   "id": "ec453b7c",
   "metadata": {},
   "outputs": [],
   "source": [
    "e = Employee(4203,10000,'Harshada')"
   ]
  },
  {
   "cell_type": "code",
   "execution_count": 42,
   "id": "eccef786",
   "metadata": {},
   "outputs": [
    {
     "name": "stdout",
     "output_type": "stream",
     "text": [
      "Employee Name: Harshada\n",
      "Employee ID: 4203\n",
      "Employee salary: 10000\n"
     ]
    }
   ],
   "source": [
    "e.print_details()"
   ]
  },
  {
   "cell_type": "code",
   "execution_count": 43,
   "id": "22405b70",
   "metadata": {},
   "outputs": [
    {
     "name": "stdout",
     "output_type": "stream",
     "text": [
      "Yearly bonus will be: 2400.0\n"
     ]
    }
   ],
   "source": [
    "e.yearly_bonus()"
   ]
  },
  {
   "cell_type": "markdown",
   "id": "f869c18d",
   "metadata": {},
   "source": [
    "# Problem 3: Vehicle Rental Create a class representing a vehicle rental system. Implement methods to rent a vehicle, return a vehicle, and display available vehicles."
   ]
  },
  {
   "cell_type": "code",
   "execution_count": 13,
   "id": "366e9e42",
   "metadata": {},
   "outputs": [],
   "source": [
    "class VehicleRentalSystem:\n",
    "    \n",
    "    def __init__(self):\n",
    "        self.total_vehicles = 50\n",
    "        self.rent = 100   #rent of vehicle per day is rs.100\n",
    "        print(\"Welcome to vehicle rental system\")\n",
    "        \n",
    "    def Rent(self):\n",
    "        v = int(input('How many vehicles do you want on rent: '))\n",
    "        if v<=self.total_vehicles:\n",
    "            print('Approved...')\n",
    "            cost = v*self.rent\n",
    "            self.total_vehicles-=v\n",
    "            print(f'Total cost is rs.{cost}')\n",
    "            print(f'Available Vehicles = {self.total_vehicles}')\n",
    "        else:\n",
    "            print(f\"Sorry...we don't have that many vehicles\")\n",
    "            print(f'Avaiable vehicles = {self.total_vehicles}')\n",
    "    \n",
    "    def Return(self):\n",
    "        r = int(input(\"How many vehicles are you returning\"))\n",
    "        cost = self.rent*r\n",
    "        print(f'Pay Rs.{cost}...Ignore if already paid.')\n",
    "        self.total_vehicles+=r\n",
    "        print(f'Available Vehicles = {self.total_vehicles}')    "
   ]
  },
  {
   "cell_type": "code",
   "execution_count": 14,
   "id": "7a859a7f",
   "metadata": {},
   "outputs": [
    {
     "name": "stdout",
     "output_type": "stream",
     "text": [
      "Welcome to vehicle rental system\n"
     ]
    }
   ],
   "source": [
    "r = VehicleRentalSystem()"
   ]
  },
  {
   "cell_type": "code",
   "execution_count": 15,
   "id": "8ad2654d",
   "metadata": {},
   "outputs": [
    {
     "name": "stdout",
     "output_type": "stream",
     "text": [
      "How many vehicles do you want on rent: 20\n",
      "Approved...\n",
      "Total cost is rs.2000\n",
      "Available Vehicles = 30\n"
     ]
    }
   ],
   "source": [
    "r.Rent()"
   ]
  },
  {
   "cell_type": "code",
   "execution_count": 16,
   "id": "8a5f1deb",
   "metadata": {},
   "outputs": [
    {
     "name": "stdout",
     "output_type": "stream",
     "text": [
      "How many vehicles do you want on rent: 32\n",
      "Sorry...we don't have that many vehicles\n",
      "Avaiable vehicles = 30\n"
     ]
    }
   ],
   "source": [
    "r.Rent()"
   ]
  },
  {
   "cell_type": "code",
   "execution_count": 17,
   "id": "acc0e5a4",
   "metadata": {},
   "outputs": [
    {
     "name": "stdout",
     "output_type": "stream",
     "text": [
      "How many vehicles are you returning15\n",
      "Pay Rs.1500...Ignore if already paid.\n",
      "Available Vehicles = 45\n"
     ]
    }
   ],
   "source": [
    "r.Return()"
   ]
  },
  {
   "cell_type": "code",
   "execution_count": 18,
   "id": "79fa1a3d",
   "metadata": {},
   "outputs": [
    {
     "name": "stdout",
     "output_type": "stream",
     "text": [
      "How many vehicles are you returning10\n",
      "Pay Rs.1000...Ignore if already paid.\n",
      "Available Vehicles = 55\n"
     ]
    }
   ],
   "source": [
    "r.Return()"
   ]
  },
  {
   "cell_type": "markdown",
   "id": "32067459",
   "metadata": {},
   "source": [
    "# Problem 4: Library Catalog Create classes representing a library and a book. Implement methods to add books to the library, borrow books, and display available books."
   ]
  },
  {
   "cell_type": "code",
   "execution_count": 25,
   "id": "034b36c4",
   "metadata": {},
   "outputs": [],
   "source": [
    "class Library:\n",
    "    def __init__(self):\n",
    "        self._books = []\n",
    "\n",
    "    def add_book(self, new_book):\n",
    "        self._books.append(new_book)\n",
    "\n",
    "    def display_books(self):\n",
    "        if self._books:  # if list of books is not empty\n",
    "            print(\"The books we have made available in our library are:\\n\")\n",
    "            for book in self._books:\n",
    "                print(book)\n",
    "        else:\n",
    "            print(\"Sorry, we have no books available in the library at the moment\")\n",
    "\n",
    "    def lend_book(self, requested_book):\n",
    "        if requested_book in self._books:\n",
    "            print(\"You have now borrowed \\\"%s\\\" \" % requested_book)\n",
    "            self._books.remove(requested_book)\n",
    "\n",
    "        else:\n",
    "            print(\"Sorry, \\\"%s\\\" is not there in our library at the moment\" % requested_book)"
   ]
  },
  {
   "cell_type": "code",
   "execution_count": 26,
   "id": "7334d907",
   "metadata": {},
   "outputs": [],
   "source": [
    "lab = Library()"
   ]
  },
  {
   "cell_type": "code",
   "execution_count": null,
   "id": "e8ef53f8",
   "metadata": {},
   "outputs": [],
   "source": []
  },
  {
   "cell_type": "code",
   "execution_count": 27,
   "id": "df8777d0",
   "metadata": {},
   "outputs": [],
   "source": [
    "books = ['A','B','C','D','E']\n",
    "\n",
    "for book in books:\n",
    "    lab.add_book(book)"
   ]
  },
  {
   "cell_type": "code",
   "execution_count": 28,
   "id": "bf9e4535",
   "metadata": {},
   "outputs": [
    {
     "name": "stdout",
     "output_type": "stream",
     "text": [
      "The books we have made available in our library are:\n",
      "\n",
      "A\n",
      "B\n",
      "C\n",
      "D\n",
      "E\n"
     ]
    }
   ],
   "source": [
    "lab.display_books()"
   ]
  },
  {
   "cell_type": "code",
   "execution_count": 30,
   "id": "2900bada",
   "metadata": {},
   "outputs": [
    {
     "name": "stdout",
     "output_type": "stream",
     "text": [
      "You have now borrowed \"D\" \n"
     ]
    }
   ],
   "source": [
    "lab.lend_book('D')"
   ]
  },
  {
   "cell_type": "code",
   "execution_count": 31,
   "id": "cfb2ceac",
   "metadata": {},
   "outputs": [
    {
     "name": "stdout",
     "output_type": "stream",
     "text": [
      "Sorry, \"D\" is not there in our library at the moment\n"
     ]
    }
   ],
   "source": [
    "lab.lend_book('D')"
   ]
  },
  {
   "cell_type": "code",
   "execution_count": 32,
   "id": "38f77915",
   "metadata": {},
   "outputs": [
    {
     "name": "stdout",
     "output_type": "stream",
     "text": [
      "You have now borrowed \"A\" \n",
      "You have now borrowed \"B\" \n",
      "You have now borrowed \"C\" \n"
     ]
    }
   ],
   "source": [
    "lend = ['A','B','C']\n",
    "for i in lend:\n",
    "    lab.lend_book(i)"
   ]
  },
  {
   "cell_type": "code",
   "execution_count": 34,
   "id": "853ffecc",
   "metadata": {},
   "outputs": [
    {
     "name": "stdout",
     "output_type": "stream",
     "text": [
      "The books we have made available in our library are:\n",
      "\n",
      "E\n"
     ]
    }
   ],
   "source": [
    "lab.display_books()"
   ]
  },
  {
   "cell_type": "markdown",
   "id": "1a379a61",
   "metadata": {},
   "source": [
    "# Problem 5: Product Inventory Create classes representing a product and an inventory system. Implement methods to add products to the inventory, update product quantity, and display available products."
   ]
  },
  {
   "cell_type": "code",
   "execution_count": 59,
   "id": "e52728e5",
   "metadata": {},
   "outputs": [],
   "source": [
    "class Inventory:\n",
    "    def __init__(self):\n",
    "        self.inventory = {}\n",
    "    def add_item(self,item_id,item_name,stock_count,price):\n",
    "        self.inventory[item_id] = {\"item_name\":item_name,\"stock_count\":stock_count,\"price\":price}\n",
    "    def update_item(self,item_id,stock_count,price):\n",
    "        if item_id in self.inventory:\n",
    "            self.inventory[item_id][\"stock_count\"]=stock_count\n",
    "            self.inventory[item_id][\"price\"]=price\n",
    "        else:\n",
    "            print('Item not found')\n",
    "    def display_details(self):\n",
    "        print(self.inventory)\n",
    "        \n",
    "    def check_item_details(self,item_id):\n",
    "        if item_id in self.inventory:\n",
    "            item = self.inventory[item_id]\n",
    "            return f\"Product Name: {item['item_name']}, Stock Count: {item['stock_count']}, Price: {item['price']}\"\n",
    "        else:\n",
    "            return f\"Item not found in inventory...\""
   ]
  },
  {
   "cell_type": "code",
   "execution_count": 60,
   "id": "5de0baa6",
   "metadata": {},
   "outputs": [],
   "source": [
    "inventory = Inventory()"
   ]
  },
  {
   "cell_type": "code",
   "execution_count": 61,
   "id": "8222c7dc",
   "metadata": {},
   "outputs": [],
   "source": [
    "inventory.add_item(\"I001\", \"Laptop\", 100, 500.00)\n",
    "inventory.add_item(\"I002\", \"Mobile\", 110, 450.00)\n",
    "inventory.add_item(\"I003\", \"Desktop\", 120, 500.00)\n",
    "inventory.add_item(\"I004\", \"Tablet\", 90, 550.00)"
   ]
  },
  {
   "cell_type": "code",
   "execution_count": 62,
   "id": "6edd51cd",
   "metadata": {},
   "outputs": [
    {
     "name": "stdout",
     "output_type": "stream",
     "text": [
      "{'I001': {'item_name': 'Laptop', 'stock_count': 100, 'price': 500.0}, 'I002': {'item_name': 'Mobile', 'stock_count': 110, 'price': 450.0}, 'I003': {'item_name': 'Desktop', 'stock_count': 120, 'price': 500.0}, 'I004': {'item_name': 'Tablet', 'stock_count': 90, 'price': 550.0}}\n"
     ]
    }
   ],
   "source": [
    "inventory.display_details()"
   ]
  },
  {
   "cell_type": "code",
   "execution_count": 63,
   "id": "2b10ed33",
   "metadata": {},
   "outputs": [
    {
     "name": "stdout",
     "output_type": "stream",
     "text": [
      "Item details....\n",
      "Product Name: Laptop, Stock Count: 100, Price: 500.0\n",
      "Product Name: Mobile, Stock Count: 110, Price: 450.0\n",
      "Product Name: Desktop, Stock Count: 120, Price: 500.0\n",
      "Product Name: Tablet, Stock Count: 90, Price: 550.0\n"
     ]
    }
   ],
   "source": [
    "print(\"Item details....\")\n",
    "print(inventory.check_item_details(\"I001\"))\n",
    "print(inventory.check_item_details(\"I002\"))\n",
    "print(inventory.check_item_details(\"I003\"))\n",
    "print(inventory.check_item_details(\"I004\"))"
   ]
  },
  {
   "cell_type": "code",
   "execution_count": 64,
   "id": "1682ebc9",
   "metadata": {},
   "outputs": [
    {
     "name": "stdout",
     "output_type": "stream",
     "text": [
      "\n",
      "Update the stock of item code - 'I003':\n",
      "Product Name: Desktop, Stock Count: 115, Price: 500.0\n"
     ]
    }
   ],
   "source": [
    "print(\"\\nUpdate the stock of item code - 'I003':\")\n",
    "inventory.update_item(\"I003\", 115, 500.00)\n",
    "print(inventory.check_item_details(\"I003\"))"
   ]
  },
  {
   "cell_type": "markdown",
   "id": "d5fb2231",
   "metadata": {},
   "source": [
    "# Problem 6: Shape Calculation Create a class representing a shape with attributes like length, width, and height. Implement methods to calculate the area and perimeter of the shape."
   ]
  },
  {
   "cell_type": "code",
   "execution_count": 69,
   "id": "6732297c",
   "metadata": {},
   "outputs": [],
   "source": [
    "import math\n",
    "\n",
    "class shape:\n",
    "    \n",
    "    def calculate_area(self):\n",
    "        pass\n",
    "    \n",
    "    def calculate_perimeter(self):\n",
    "        pass\n",
    "    \n",
    "class circle(shape):\n",
    "    def __init__(self,radius):\n",
    "        self.radius = radius\n",
    "    def calculate_area(self):\n",
    "        return math.pi*self.radius**2\n",
    "    def calculate_perimeter(self):\n",
    "        return 2*math.pi*self.radius\n",
    "        \n",
    "class rectangle(shape):\n",
    "    def __init__(self,length,width):\n",
    "        self.length = length\n",
    "        self.width = width\n",
    "        \n",
    "    def calculate_area(self):\n",
    "        return self.length*self.width\n",
    "    \n",
    "    def calculate_perimeter(self):\n",
    "        return 2*(self.length+self.width)\n",
    "       "
   ]
  },
  {
   "cell_type": "code",
   "execution_count": 70,
   "id": "4e974e04",
   "metadata": {},
   "outputs": [],
   "source": [
    "r = 4\n",
    "circle = circle(r)"
   ]
  },
  {
   "cell_type": "code",
   "execution_count": 71,
   "id": "27124155",
   "metadata": {},
   "outputs": [
    {
     "data": {
      "text/plain": [
       "50.26548245743669"
      ]
     },
     "execution_count": 71,
     "metadata": {},
     "output_type": "execute_result"
    }
   ],
   "source": [
    "circle.calculate_area()"
   ]
  },
  {
   "cell_type": "code",
   "execution_count": 73,
   "id": "9b04f9a7",
   "metadata": {},
   "outputs": [
    {
     "data": {
      "text/plain": [
       "25.132741228718345"
      ]
     },
     "execution_count": 73,
     "metadata": {},
     "output_type": "execute_result"
    }
   ],
   "source": [
    "circle.calculate_perimeter()"
   ]
  },
  {
   "cell_type": "code",
   "execution_count": 74,
   "id": "28d75086",
   "metadata": {},
   "outputs": [],
   "source": [
    "rect = rectangle(5,7)"
   ]
  },
  {
   "cell_type": "code",
   "execution_count": 75,
   "id": "a98510e8",
   "metadata": {},
   "outputs": [
    {
     "data": {
      "text/plain": [
       "35"
      ]
     },
     "execution_count": 75,
     "metadata": {},
     "output_type": "execute_result"
    }
   ],
   "source": [
    "rect.calculate_area()"
   ]
  },
  {
   "cell_type": "code",
   "execution_count": 76,
   "id": "7c7077d4",
   "metadata": {},
   "outputs": [
    {
     "data": {
      "text/plain": [
       "24"
      ]
     },
     "execution_count": 76,
     "metadata": {},
     "output_type": "execute_result"
    }
   ],
   "source": [
    "rect.calculate_perimeter()"
   ]
  },
  {
   "cell_type": "markdown",
   "id": "fc974baf",
   "metadata": {},
   "source": [
    "# Problem 7: Student Management Create a class representing a student with attributes like student ID, name, and grades. Implement methods to calculate the average grade and display student details."
   ]
  },
  {
   "cell_type": "code",
   "execution_count": 89,
   "id": "b67d1cab",
   "metadata": {},
   "outputs": [],
   "source": [
    "class student:\n",
    "    def __init__(self,Id,name):\n",
    "        self.Id = Id\n",
    "        self.name = name\n",
    "    def grade(self):\n",
    "        lst = [int(i) for i in input('Enter the marks of 5 subjects: ').split(',')]\n",
    "        avg = sum(lst)/len(lst)\n",
    "        if(avg>=90):\n",
    "            print(\"Grade: A\")\n",
    "        elif(avg>=80 and avg<90):\n",
    "            print(\"Grade: B\")\n",
    "        elif(avg>=70 and avg<80):\n",
    "            print(\"Grade: C\")\n",
    "        elif(avg>=60 and avg<70):\n",
    "            print(\"Grade: D\")\n",
    "        else:\n",
    "            print(\"Grade: F\")\n",
    "            \n",
    "    def display(self):\n",
    "        print(f'Student Id: {self.Id}\\nStudent Name: {self.name}')"
   ]
  },
  {
   "cell_type": "code",
   "execution_count": 90,
   "id": "9ffed575",
   "metadata": {},
   "outputs": [],
   "source": [
    "s = student('I001','Vishal')"
   ]
  },
  {
   "cell_type": "code",
   "execution_count": 91,
   "id": "410ca475",
   "metadata": {},
   "outputs": [
    {
     "name": "stdout",
     "output_type": "stream",
     "text": [
      "Enter the marks of 5 subjects: 78,89,91,74,93\n",
      "Grade: B\n"
     ]
    }
   ],
   "source": [
    "s.grade()"
   ]
  },
  {
   "cell_type": "code",
   "execution_count": 92,
   "id": "9da00ce3",
   "metadata": {},
   "outputs": [
    {
     "name": "stdout",
     "output_type": "stream",
     "text": [
      "Student Id: I001\n",
      "Student Name: Vishal\n"
     ]
    }
   ],
   "source": [
    "s.display()"
   ]
  },
  {
   "cell_type": "markdown",
   "id": "60423582",
   "metadata": {},
   "source": [
    "# Problem 8: Email Management Create a class representing an email with attributes like sender, recipient, and subject. Implement methods to send an email and display email details."
   ]
  },
  {
   "cell_type": "markdown",
   "id": "b24158d9",
   "metadata": {},
   "source": [
    "# Problem 9: Social Media Profile Create a class representing a social media profile with attributes like username and posts. Implement methods to add posts, display posts, and search for posts by keyword."
   ]
  },
  {
   "cell_type": "markdown",
   "id": "568dfa80",
   "metadata": {},
   "source": [
    "# Problem 10: ToDo List Create a class representing a ToDo list with attributes like tasks and due dates. Implement methods to add tasks, mark tasks as completed, and display pending tasks."
   ]
  },
  {
   "cell_type": "code",
   "execution_count": 93,
   "id": "cfe2bd15",
   "metadata": {},
   "outputs": [],
   "source": [
    "class ToDoList:\n",
    "    def __init__(self,task,DueDate):\n",
    "        self.task = task\n",
    "        self.duedate = DueDate\n",
    "    "
   ]
  },
  {
   "cell_type": "code",
   "execution_count": null,
   "id": "10e966c1",
   "metadata": {},
   "outputs": [],
   "source": []
  }
 ],
 "metadata": {
  "kernelspec": {
   "display_name": "Python 3 (ipykernel)",
   "language": "python",
   "name": "python3"
  },
  "language_info": {
   "codemirror_mode": {
    "name": "ipython",
    "version": 3
   },
   "file_extension": ".py",
   "mimetype": "text/x-python",
   "name": "python",
   "nbconvert_exporter": "python",
   "pygments_lexer": "ipython3",
   "version": "3.9.13"
  }
 },
 "nbformat": 4,
 "nbformat_minor": 5
}
