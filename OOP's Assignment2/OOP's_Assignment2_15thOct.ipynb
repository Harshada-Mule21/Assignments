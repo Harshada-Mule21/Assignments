{
 "cells": [
  {
   "cell_type": "markdown",
   "id": "f34353ed",
   "metadata": {},
   "source": [
    "# Constructor : \n"
   ]
  },
  {
   "cell_type": "markdown",
   "id": "bc29389d",
   "metadata": {},
   "source": []
  },
  {
   "cell_type": "markdown",
   "id": "6cd33298",
   "metadata": {},
   "source": [
    "# 1. What is a constructor in Python? Explain its purpose and usage."
   ]
  },
  {
   "cell_type": "raw",
   "id": "c7b583ae",
   "metadata": {},
   "source": [
    "Constructor in python is a special method that is called when an object is created. \n",
    "\n",
    "The purpose of a python constructor is to assign values to the data members within the class when an object is initialized."
   ]
  },
  {
   "cell_type": "raw",
   "id": "a7930259",
   "metadata": {},
   "source": [
    "The name of the constructor method is always __init__."
   ]
  },
  {
   "cell_type": "markdown",
   "id": "d7f03dc4",
   "metadata": {},
   "source": [
    "Uses of constructor-"
   ]
  },
  {
   "cell_type": "raw",
   "id": "51dea2ac",
   "metadata": {},
   "source": [
    "Default constructors are useful when you want to create an object with a predefined set of attributes, but you don’t want to specify the values of those attributes when the object is created."
   ]
  },
  {
   "cell_type": "raw",
   "id": "e4dfeda6",
   "metadata": {},
   "source": [
    "Parameterized constructors are useful when you want to create an object with custom values for its attributes. They allow you to specify the values of the object’s attributes when the object is created, rather than using default values."
   ]
  },
  {
   "cell_type": "raw",
   "id": "04cd38ce",
   "metadata": {},
   "source": [
    "However, a non-parameterized constructor can be useful in the following cases:\n",
    "\n",
    "When you want to initialize the default values for the instance variables of an object.\n",
    "When you want to perform some operations when an object is created, such as opening a file or establishing a connection to a database.\n",
    "When you want to create a “skeleton” object that can be used as a template for creating other objects."
   ]
  },
  {
   "cell_type": "markdown",
   "id": "ac4ae15c",
   "metadata": {},
   "source": [
    "# 2. Differentiate between a parameterless constructor and a parameterized constructor in Python."
   ]
  },
  {
   "cell_type": "markdown",
   "id": "253d44c8",
   "metadata": {},
   "source": [
    "Python Non-Parameterized Constructor:-"
   ]
  },
  {
   "cell_type": "raw",
   "id": "91e7ea76",
   "metadata": {},
   "source": [
    "The non-parameterized constructor uses when we do not want to manipulate the value or the constructor that has only self as an argument. Consider the following example."
   ]
  },
  {
   "cell_type": "code",
   "execution_count": 2,
   "id": "c8a603df",
   "metadata": {},
   "outputs": [
    {
     "name": "stdout",
     "output_type": "stream",
     "text": [
      "This is non parametrized constructor\n",
      "Hello John\n"
     ]
    }
   ],
   "source": [
    "class Student:  \n",
    "    # Constructor - non parameterized  \n",
    "    def __init__(self):  \n",
    "        print(\"This is non parametrized constructor\")  \n",
    "    def show(self,name):  \n",
    "        print(\"Hello\",name)  \n",
    "student = Student()  \n",
    "student.show(\"John\")     "
   ]
  },
  {
   "cell_type": "markdown",
   "id": "4c110a56",
   "metadata": {},
   "source": [
    "Python Parameterized Constructor:-"
   ]
  },
  {
   "cell_type": "raw",
   "id": "0abc6b07",
   "metadata": {},
   "source": [
    "The parameterized constructor has multiple parameters along with the self. Consider the following example."
   ]
  },
  {
   "cell_type": "code",
   "execution_count": 1,
   "id": "7d1c20ed",
   "metadata": {},
   "outputs": [
    {
     "name": "stdout",
     "output_type": "stream",
     "text": [
      "This is parametrized constructor\n",
      "Hello John\n"
     ]
    }
   ],
   "source": [
    "class Student:  \n",
    "    # Constructor - parameterized  \n",
    "    def __init__(self, name):  \n",
    "        print(\"This is parametrized constructor\")  \n",
    "        self.name = name  \n",
    "    def show(self):  \n",
    "        print(\"Hello\",self.name)  \n",
    "student = Student(\"John\")  \n",
    "student.show()    "
   ]
  },
  {
   "cell_type": "markdown",
   "id": "fa9cf7eb",
   "metadata": {},
   "source": [
    "# 3. How do you define a constructor in a Python class? Provide an example."
   ]
  },
  {
   "cell_type": "raw",
   "id": "349a190a",
   "metadata": {},
   "source": [
    "In Python, a constructor is a special method that is called when an object is created. The purpose of a python constructor is to assign values to the data members within the class when an object is initialized. The name of the constructor method is always __init__."
   ]
  },
  {
   "cell_type": "code",
   "execution_count": 3,
   "id": "f2025b71",
   "metadata": {},
   "outputs": [
    {
     "name": "stdout",
     "output_type": "stream",
     "text": [
      "John\n",
      "30\n"
     ]
    }
   ],
   "source": [
    "class Person:\n",
    "    def __init__(self, name, age):\n",
    "        self.name = name\n",
    "        self.age = age\n",
    "\n",
    "person = Person(\"John\", 30)\n",
    "print(person.name)\n",
    "print(person.age)"
   ]
  },
  {
   "cell_type": "markdown",
   "id": "fe4081a5",
   "metadata": {},
   "source": [
    "# 4. Explain the `__init__` method in Python and its role in constructors."
   ]
  },
  {
   "cell_type": "raw",
   "id": "0b7e63a6",
   "metadata": {},
   "source": [
    "The Default __init__ Constructor in C++ and Java. Constructors are used to initializing the object’s state. The task of constructors is to initialize(assign values) to the data members of the class when an object of the class is created. Like methods, a constructor also contains a collection of statements(i.e. instructions) that are executed at the time of Object creation. It is run as soon as an object of a class is instantiated. The method is useful to do any initialization you want to do with your object."
   ]
  },
  {
   "cell_type": "markdown",
   "id": "c57ad266",
   "metadata": {},
   "source": [
    "# 5. In a class named `Person`, create a constructor that initializes the `name` and `age` attributes. Provide an example of creating an object of this class."
   ]
  },
  {
   "cell_type": "code",
   "execution_count": 5,
   "id": "b2a5cfd0",
   "metadata": {},
   "outputs": [],
   "source": [
    "class Person:\n",
    "    def __init__(self,name,age):\n",
    "        self.name = name\n",
    "        self.age = age\n",
    "        \n",
    "p = Person('Harshada',26)"
   ]
  },
  {
   "cell_type": "markdown",
   "id": "1f950663",
   "metadata": {},
   "source": [
    "# 6. How can you call a constructor explicitly in Python? Give an example"
   ]
  },
  {
   "cell_type": "raw",
   "id": "ae13ec79",
   "metadata": {},
   "source": [
    "It’s not required to explicitly invoke or call it.\n",
    "\n",
    "Generally, the constructor is used for initial intializations that are required during the object creation. In python, constructor is a method with the name ‘__init__’. The methods first parameter should be ‘self’ (referring to the current object)."
   ]
  },
  {
   "cell_type": "markdown",
   "id": "b78fbdc2",
   "metadata": {},
   "source": [
    "# 7. What is the significance of the `self` parameter in Python constructors? Explain with an example."
   ]
  },
  {
   "cell_type": "raw",
   "id": "515ee2f3",
   "metadata": {},
   "source": [
    "SELF represents the instance of class. This handy keyword allows you to access variables, attributes, and methods of a defined class in Python.\n",
    "\n",
    "The self parameter doesn’t have to be named “self,” as you can call it by any other name. However, the self parameter must always be the first parameter of any class function, regardless of the name chosen. So instead of self, you could use “Mine” or “Ours” or anything else."
   ]
  },
  {
   "cell_type": "code",
   "execution_count": 6,
   "id": "919f7459",
   "metadata": {},
   "outputs": [
    {
     "name": "stdout",
     "output_type": "stream",
     "text": [
      "My Address is Albert Street\n"
     ]
    }
   ],
   "source": [
    "class Address:\n",
    "  def __init__(mine, street, number):\n",
    "    mine.street = street\n",
    "    mine.number = number\n",
    "\n",
    "  def myfunc(abc):\n",
    "    print(\"My Address is \" + abc.street)\n",
    "\n",
    "p1 = Address(\"Albert Street\", 20)\n",
    "p1.myfunc()"
   ]
  },
  {
   "cell_type": "raw",
   "id": "c4ea3bbb",
   "metadata": {},
   "source": [
    "Python, on the other hand, uses SELF as the first parameter of methods representing the instance of the class. Aside from that, SELF can also represent a variable field within the class."
   ]
  },
  {
   "cell_type": "code",
   "execution_count": 8,
   "id": "bae88f61",
   "metadata": {},
   "outputs": [],
   "source": [
    "class MyName:\n",
    "    def _init_(self, Nathan):\n",
    "        self.name = Nathan\n",
    "    def my_name(self):\n",
    "        return self.name"
   ]
  },
  {
   "cell_type": "markdown",
   "id": "7565fc47",
   "metadata": {},
   "source": [
    "# 8. Discuss the concept of default constructors in Python. When are they used?\n"
   ]
  },
  {
   "cell_type": "raw",
   "id": "ad04f988",
   "metadata": {},
   "source": [
    "default constructor: \n",
    "\n",
    "The default constructor is a simple constructor which doesn’t accept any arguments. Its definition has only one argument which is a reference to the instance being constructed."
   ]
  },
  {
   "cell_type": "raw",
   "id": "0ed75741",
   "metadata": {},
   "source": [
    "When we do not include the constructor in the class or forget to declare it, then that becomes the default constructor. It does not perform any task but initializes the objects. Consider the following example."
   ]
  },
  {
   "cell_type": "code",
   "execution_count": 9,
   "id": "5cd34ee3",
   "metadata": {},
   "outputs": [
    {
     "name": "stdout",
     "output_type": "stream",
     "text": [
      "101 Joseph\n"
     ]
    }
   ],
   "source": [
    "class Student:  \n",
    "    roll_num = 101  \n",
    "    name = \"Joseph\"  \n",
    "  \n",
    "    def display(self):  \n",
    "        print(self.roll_num,self.name)  \n",
    "\n",
    "st = Student()  \n",
    "st.display()  "
   ]
  },
  {
   "cell_type": "markdown",
   "id": "bf0047a4",
   "metadata": {},
   "source": [
    "# 9. Create a Python class called `Rectangle` with a constructor that initializes the `width` and `height` attributes. Provide a method to calculate the area of the rectangle.\n"
   ]
  },
  {
   "cell_type": "code",
   "execution_count": 16,
   "id": "9ba27ebb",
   "metadata": {},
   "outputs": [
    {
     "name": "stdout",
     "output_type": "stream",
     "text": [
      "Area of rectangle\n"
     ]
    },
    {
     "data": {
      "text/plain": [
       "18"
      ]
     },
     "execution_count": 16,
     "metadata": {},
     "output_type": "execute_result"
    }
   ],
   "source": [
    "class Rectangle:\n",
    "    def __init__(self,width,height):\n",
    "        self.width = width\n",
    "        self.height = height\n",
    "    def area(self):\n",
    "        return self.width*self.height\n",
    "    \n",
    "a = Rectangle(6,3)\n",
    "print(\"Area of rectangle\")\n",
    "a.area()"
   ]
  },
  {
   "cell_type": "markdown",
   "id": "d32e3f36",
   "metadata": {},
   "source": [
    "# 10. How can you have multiple constructors in a Python class? Explain with an example."
   ]
  },
  {
   "cell_type": "raw",
   "id": "ab5c556f",
   "metadata": {},
   "source": [
    "A pretty useful technique for simulating multiple constructors in a Python class is to provide .__init__() with optional arguments using default argument values. This way, you can call the class constructor in different ways and get a different behavior each time.\n",
    "\n",
    "Another strategy is to check the data type of the arguments to .__init__() to provide different behaviors depending on the concrete data type that you pass in the call. This technique allows you to simulate multiple constructors in a class.\n",
    "\n",
    "In this section, you’ll learn the basics of how to simulate multiple ways to construct objects by providing appropriate default values for the arguments of the .__init__() method and also by checking the data type of the arguments to this method. Both approaches require only one implementation of .__init__()."
   ]
  },
  {
   "cell_type": "raw",
   "id": "d4d348d0",
   "metadata": {},
   "source": [
    "Using Optional Argument Values in .__init__()\n",
    "\n",
    "An elegant and Pythonic way to simulate multiple constructors is to implement a .__init__() method with optional arguments. You can do this by specifying appropriate default argument values."
   ]
  },
  {
   "cell_type": "code",
   "execution_count": 17,
   "id": "14468a8c",
   "metadata": {},
   "outputs": [],
   "source": [
    "class CumulativePowerFactory:\n",
    "    def __init__(self, exponent=2, *, start=0):\n",
    "        self._exponent = exponent\n",
    "        self.total = start\n",
    "\n",
    "    def __call__(self, base):\n",
    "        power = base ** self._exponent\n",
    "        self.total += power\n",
    "        return power"
   ]
  },
  {
   "cell_type": "raw",
   "id": "cab01238",
   "metadata": {},
   "source": [
    "The initializer of CumulativePowerFactory takes two optional arguments, exponent and start. The first argument holds the exponent that you’ll use to compute a series of powers. It defaults to 2, which is a commonly used value when it comes to computing powers.\n",
    "\n",
    "The star or asterisk symbol (*) after exponent means that start is a keyword-only argument. To pass a value to a keyword-only argument, you need to use the argument’s name explicitly. In other words, to set arg to value, you need to explicitly type arg=value.\n",
    "\n",
    "The start argument holds the initial value to compute the cumulative sum of powers. It defaults to 0, which is the appropriate value for those cases in which you don’t have a previously computed value to initialize the cumulative sum of powers.\n",
    "\n",
    "The special method .__call__() turns the instances of CumulativePowerFactory into callable objects. In other words, you can call the instances of CumulativePowerFactory like you call any regular function.\n",
    "\n",
    "Inside .__call__(), you first compute the power of base raised to exponent. Then you add the resulting value to the current value of .total."
   ]
  },
  {
   "cell_type": "markdown",
   "id": "d0e080e2",
   "metadata": {},
   "source": [
    "# 11. What is method overloading, and how is it related to constructors in Python?"
   ]
  },
  {
   "cell_type": "code",
   "execution_count": 19,
   "id": "f3d85ee7",
   "metadata": {},
   "outputs": [
    {
     "ename": "TypeError",
     "evalue": "f() missing 1 required positional argument: 'b'",
     "output_type": "error",
     "traceback": [
      "\u001b[1;31m---------------------------------------------------------------------------\u001b[0m",
      "\u001b[1;31mTypeError\u001b[0m                                 Traceback (most recent call last)",
      "\u001b[1;32m~\\AppData\\Local\\Temp\\1\\ipykernel_18328\\2146738678.py\u001b[0m in \u001b[0;36m<module>\u001b[1;34m\u001b[0m\n\u001b[0;32m      8\u001b[0m         \u001b[0mprint\u001b[0m\u001b[1;33m(\u001b[0m\u001b[0mself\u001b[0m\u001b[1;33m.\u001b[0m\u001b[0mx1\u001b[0m\u001b[1;33m+\u001b[0m\u001b[0ma\u001b[0m\u001b[1;33m)\u001b[0m\u001b[1;33m\u001b[0m\u001b[1;33m\u001b[0m\u001b[0m\n\u001b[0;32m      9\u001b[0m \u001b[0mob1\u001b[0m\u001b[1;33m=\u001b[0m\u001b[0mtest\u001b[0m\u001b[1;33m(\u001b[0m\u001b[1;36m1\u001b[0m\u001b[1;33m)\u001b[0m\u001b[1;33m\u001b[0m\u001b[1;33m\u001b[0m\u001b[0m\n\u001b[1;32m---> 10\u001b[1;33m \u001b[0mob1\u001b[0m\u001b[1;33m.\u001b[0m\u001b[0mf\u001b[0m\u001b[1;33m(\u001b[0m\u001b[1;36m5\u001b[0m\u001b[1;33m)\u001b[0m\u001b[1;33m\u001b[0m\u001b[1;33m\u001b[0m\u001b[0m\n\u001b[0m",
      "\u001b[1;31mTypeError\u001b[0m: f() missing 1 required positional argument: 'b'"
     ]
    }
   ],
   "source": [
    "class test:\n",
    "    def __init__(self, k):\n",
    "        self.x1=k\n",
    "    def f(self,a):\n",
    "        print(\"this is method\")\n",
    "        print(self.x1)\n",
    "    def f(self,a,b):\n",
    "        print(self.x1+a)\n",
    "ob1=test(1)\n",
    "ob1.f(5)"
   ]
  },
  {
   "cell_type": "raw",
   "id": "ef4d4efc",
   "metadata": {},
   "source": [
    "In the above program, we have a method f with one parameter and another method with the same name f and with two parameters.\n",
    "\n",
    "Two methods in a class have the same name we call method overloading.\n",
    "\n",
    "Both the methods are having different signatures. Signature means a different number of parameters.\n",
    "\n",
    "If the constructor is written two times with different signatures, we call constructor overloading."
   ]
  },
  {
   "cell_type": "raw",
   "id": "43ab306f",
   "metadata": {},
   "source": [
    "In the python method and constructor, overloading is not possible."
   ]
  },
  {
   "cell_type": "code",
   "execution_count": 20,
   "id": "52d15a16",
   "metadata": {},
   "outputs": [
    {
     "name": "stdout",
     "output_type": "stream",
     "text": [
      "this is method\n",
      "6\n"
     ]
    }
   ],
   "source": [
    "class test:\n",
    "    def __init__(self, k):\n",
    "        self.x1=k\n",
    "    def __init__(self,l,k):\n",
    "        self.x1=l\n",
    "        self.x2=k\n",
    "    def f(self):\n",
    "        print(\"this is method\")\n",
    "        print(self.x1+self.x2)\n",
    "ob1=test(1,5)\n",
    "ob1.f()"
   ]
  },
  {
   "cell_type": "raw",
   "id": "7797c843",
   "metadata": {},
   "source": [
    "In the above program, the constructor is overloaded. Python considers the last defined constructor into consideration."
   ]
  },
  {
   "cell_type": "markdown",
   "id": "04a23d22",
   "metadata": {},
   "source": [
    "# 12. Explain the use of the `super()` function in Python constructors. Provide an example.\n"
   ]
  },
  {
   "cell_type": "raw",
   "id": "3570c491",
   "metadata": {},
   "source": [
    "In Python, the super() function is used to refer to the parent class or superclass. It allows you to call methods defined in the superclass from the subclass, enabling you to extend and customize the functionality inherited from the parent class."
   ]
  },
  {
   "cell_type": "raw",
   "id": "361ba550",
   "metadata": {},
   "source": [
    "Syntax: super()\n",
    "\n",
    "Return : Return a proxy object which represents the parent’s class."
   ]
  },
  {
   "cell_type": "raw",
   "id": "1839751b",
   "metadata": {},
   "source": [
    "super() function in Python Example\n",
    "In the given example, The Emp class has an __init__ method that initializes the id, and name and Adds attributes. The Freelance class inherits from the Emp class and adds an additional attribute called Emails. It calls the parent class’s __init__ method super() to initialize the inherited attribute."
   ]
  },
  {
   "cell_type": "code",
   "execution_count": 21,
   "id": "625ba614",
   "metadata": {},
   "outputs": [
    {
     "name": "stdout",
     "output_type": "stream",
     "text": [
      "The ID is: 103\n",
      "The Name is: Suraj kr gupta\n",
      "The Address is: Noida\n",
      "The Emails is: KKK@gmails\n"
     ]
    }
   ],
   "source": [
    "class Emp():\n",
    "    def __init__(self, id, name, Add):\n",
    "        self.id = id\n",
    "        self.name = name\n",
    "        self.Add = Add\n",
    " \n",
    "# Class freelancer inherits EMP\n",
    "class Freelance(Emp):\n",
    "    def __init__(self, id, name, Add, Emails):\n",
    "        super().__init__(id, name, Add)\n",
    "        self.Emails = Emails\n",
    " \n",
    "Emp_1 = Freelance(103, \"Suraj kr gupta\", \"Noida\" , \"KKK@gmails\")\n",
    "print('The ID is:', Emp_1.id)\n",
    "print('The Name is:', Emp_1.name)\n",
    "print('The Address is:', Emp_1.Add)\n",
    "print('The Emails is:', Emp_1.Emails)"
   ]
  },
  {
   "cell_type": "markdown",
   "id": "4efab770",
   "metadata": {},
   "source": [
    "# 13. Create a class called `Book` with a constructor that initializes the `title`, `author`, and `published_year` attributes. Provide a method to display book details.\n"
   ]
  },
  {
   "cell_type": "code",
   "execution_count": 6,
   "id": "1c2a8af1",
   "metadata": {},
   "outputs": [],
   "source": [
    "class Book:\n",
    "    def __init__(self, author, title, book_id):\n",
    "        self.author = author\n",
    "        self.title = title\n",
    "        self.book_id = book_id\n",
    "\n",
    "    def display(self):\n",
    "        return 'Book({}, {}, {})'.format(self.author, self.title, self.book_id)"
   ]
  },
  {
   "cell_type": "code",
   "execution_count": 7,
   "id": "fe6f74f0",
   "metadata": {},
   "outputs": [],
   "source": [
    "b = Book('Harsha','DataScience',423)"
   ]
  },
  {
   "cell_type": "code",
   "execution_count": 8,
   "id": "41fd004c",
   "metadata": {},
   "outputs": [
    {
     "data": {
      "text/plain": [
       "'Book(Harsha, DataScience, 423)'"
      ]
     },
     "execution_count": 8,
     "metadata": {},
     "output_type": "execute_result"
    }
   ],
   "source": [
    "b.display()"
   ]
  },
  {
   "cell_type": "markdown",
   "id": "b51a8591",
   "metadata": {},
   "source": [
    "# 14. Discuss the differences between constructors and regular methods in Python classes."
   ]
  },
  {
   "attachments": {
    "image.png": {
     "image/png": "[encoded data removed]"
    }
   },
   "cell_type": "markdown",
   "id": "607863b2",
   "metadata": {},
   "source": [
    "![image.png](attachment:image.png)"
   ]
  },
  {
   "cell_type": "markdown",
   "id": "3d9e607d",
   "metadata": {},
   "source": [
    "# 15. Explain the role of the `self` parameter in instance variable initialization within a constructor."
   ]
  },
  {
   "cell_type": "raw",
   "id": "b505ecf1",
   "metadata": {},
   "source": [
    "Likewise, Python also contains class methods and instance methods. The class methods inform about the status of the class. On the other hand, instance methods are to set or get details about instances or objects.  \n",
    "\n",
    "If you want to define an instance method, the foremost parameter of the method should always have to be self. Let us understand this with the help of example code."
   ]
  },
  {
   "cell_type": "code",
   "execution_count": 12,
   "id": "db9b083f",
   "metadata": {},
   "outputs": [],
   "source": [
    "class myClass: \n",
    "    def instance_method(self): \n",
    "        return f\"Instance method is called, self \""
   ]
  },
  {
   "cell_type": "raw",
   "id": "10ce076a",
   "metadata": {},
   "source": [
    "The method “instance_method” is a regular instance method. The method accepts one single parameter – self. The self variable points to an instance of the class myClass when the method is revoked. Though the method takes only one parameter here, it can also accept more than one parameter. \n",
    "\n",
    "The instance methods can easily access different attributes and other methods on the same object with the help of the self variable. The self variable also has the power to modify the state of an object and using the self.__class__  attribute, instance methods can also access the class. Thus, the instance methods are also able to modify the class state. "
   ]
  },
  {
   "cell_type": "markdown",
   "id": "a244e6f6",
   "metadata": {},
   "source": [
    "# 17. Create a Python class called `Student` with a constructor that takes a list of subjects as a parameter and initializes the `subjects` attribute.\n"
   ]
  },
  {
   "cell_type": "code",
   "execution_count": 13,
   "id": "b54ff561",
   "metadata": {},
   "outputs": [],
   "source": [
    "class Student:\n",
    "    def __init__(self,lst):\n",
    "        self.subjects = lst\n"
   ]
  },
  {
   "cell_type": "code",
   "execution_count": 15,
   "id": "53196265",
   "metadata": {},
   "outputs": [
    {
     "data": {
      "text/plain": [
       "['Science', 'Maths', 'Geo', 'Bio']"
      ]
     },
     "execution_count": 15,
     "metadata": {},
     "output_type": "execute_result"
    }
   ],
   "source": [
    "s = Student(['Science','Maths','Geo','Bio'])\n",
    "s.subjects"
   ]
  },
  {
   "cell_type": "markdown",
   "id": "ac37a3d0",
   "metadata": {},
   "source": [
    "# 18. What is the purpose of the `__del__` method in Python classes, and how does it relate to constructors?"
   ]
  },
  {
   "cell_type": "code",
   "execution_count": 16,
   "id": "08f2b57e",
   "metadata": {},
   "outputs": [
    {
     "name": "stdout",
     "output_type": "stream",
     "text": [
      "Student table created.\n",
      "Destructor called, Student table deleted.\n"
     ]
    }
   ],
   "source": [
    "# Python program to illustrate __del__\n",
    "class Student:\n",
    "       # Initializing\n",
    "       def __init__(self):\n",
    "             print('Student table created.')\n",
    "\n",
    "       # Deleting (Calling destructor)\n",
    "       def __del__(self):\n",
    "             print('Destructor called, Student table deleted.')\n",
    "\n",
    "Stud1 = Student()\n",
    "del Stud1"
   ]
  },
  {
   "cell_type": "raw",
   "id": "4f7d7796",
   "metadata": {},
   "source": [
    "In Python, the __del__() method is referred to as a destructor method. It is called after an object’s garbage collection occurs, which happens after all references to the item have been destroyed."
   ]
  },
  {
   "cell_type": "markdown",
   "id": "b94af25e",
   "metadata": {},
   "source": [
    "# 19. Explain the use of constructor chaining in Python. Provide a practical example.\n"
   ]
  },
  {
   "cell_type": "raw",
   "id": "c21273cf",
   "metadata": {},
   "source": [
    "Constructors are used for instantiating an object. The task of the constructor is to assign value to data members when an object of the class is created.\n",
    "\n",
    "Constructor chaining is the process of calling one constructor from another constructor. Constructor chaining is useful when you want to invoke multiple constructors, one after another, by initializing only one instance.\n",
    "\n",
    "In Python, constructor chaining is convenient when we are dealing with inheritance. When an instance of a child class is initialized, the constructors of all the parent classes are first invoked and then, in the end, the constructor of the child class is invoked."
   ]
  },
  {
   "cell_type": "raw",
   "id": "a25b7810",
   "metadata": {},
   "source": [
    "Using the super() method we can invoke the parent class constructor from a child class."
   ]
  },
  {
   "cell_type": "code",
   "execution_count": 17,
   "id": "972bf506",
   "metadata": {},
   "outputs": [
    {
     "name": "stdout",
     "output_type": "stream",
     "text": [
      "Inside Vehicle Constructor\n",
      "Inside Car Constructor\n",
      "Inside Electric Car Constructor\n",
      "Engine=1500cc, Max Speed=240, Km range=750\n"
     ]
    }
   ],
   "source": [
    "class Vehicle:\n",
    "    # Constructor of Vehicle\n",
    "    def __init__(self, engine):\n",
    "        print('Inside Vehicle Constructor')\n",
    "        self.engine = engine\n",
    "\n",
    "class Car(Vehicle):\n",
    "    # Constructor of Car\n",
    "    def __init__(self, engine, max_speed):\n",
    "        super().__init__(engine)\n",
    "        print('Inside Car Constructor')\n",
    "        self.max_speed = max_speed\n",
    "\n",
    "class Electric_Car(Car):\n",
    "    # Constructor of Electric Car\n",
    "    def __init__(self, engine, max_speed, km_range):\n",
    "        super().__init__(engine, max_speed)\n",
    "        print('Inside Electric Car Constructor')\n",
    "        self.km_range = km_range\n",
    "\n",
    "# Object of electric car\n",
    "ev = Electric_Car('1500cc', 240, 750)\n",
    "print(f'Engine={ev.engine}, Max Speed={ev.max_speed}, Km range={ev.km_range}')"
   ]
  },
  {
   "cell_type": "markdown",
   "id": "6bcaa946",
   "metadata": {},
   "source": [
    "# 20. Create a Python class called `Car` with a default constructor that initializes the `make` and `model` attributes. Provide a method to display car information."
   ]
  },
  {
   "cell_type": "code",
   "execution_count": 2,
   "id": "8f3c721c",
   "metadata": {},
   "outputs": [
    {
     "name": "stdout",
     "output_type": "stream",
     "text": [
      "Car Name = TATA Tigor, Car model = XZ+ icng\n"
     ]
    }
   ],
   "source": [
    "class Car:\n",
    "    def __init__(self):\n",
    "        self.make = 'TATA Tigor'\n",
    "        self.model = 'XZ+ icng'\n",
    "    def info(self):\n",
    "        print(f'Car Name = {self.make}, Car model = {self.model}')\n",
    "\n",
    "c = Car()\n",
    "c.info()       "
   ]
  },
  {
   "cell_type": "markdown",
   "id": "7a80872d",
   "metadata": {},
   "source": [
    "# Inheritance:"
   ]
  },
  {
   "cell_type": "markdown",
   "id": "7e1056e0",
   "metadata": {},
   "source": [
    "# 1. What is inheritance in Python? Explain its significance in object-oriented programming."
   ]
  },
  {
   "cell_type": "raw",
   "id": "c5b8b11e",
   "metadata": {},
   "source": [
    "A. Inheritance is the concept in OOPs in which one class inherits the attributes and methods of another class. The class whose properties and methods are inherited is known as the Parent class. And the class that inherits the properties from the parent class is the Child class.\n",
    "\n",
    "Inheritance provides code reusability, abstraction, etc. Because of inheritance, we can even inherit abstract classes, classes with constructors, etc. For example – Beagle, Pitbull, etc., are different breeds of dogs, so they all have inherited the properties of class dog."
   ]
  },
  {
   "cell_type": "markdown",
   "id": "576b0a65",
   "metadata": {},
   "source": [
    "# 2. Differentiate between single inheritance and multiple inheritance in Python. Provide examples for each."
   ]
  },
  {
   "cell_type": "raw",
   "id": "83a5af54",
   "metadata": {},
   "source": [
    "Single Inheritance: \n",
    "Single inheritance enables a derived class to inherit properties from a single parent class, thus enabling code reusability and the addition of new features to existing code."
   ]
  },
  {
   "attachments": {
    "image.png": {
     "image/png": "[encoded data removed]"
    }
   },
   "cell_type": "markdown",
   "id": "c89b10ee",
   "metadata": {},
   "source": [
    "![image.png](attachment:image.png)"
   ]
  },
  {
   "cell_type": "raw",
   "id": "d9ec0fd8",
   "metadata": {},
   "source": [
    "Multiple Inheritance: \n",
    "When a class can be derived from more than one base class this type of inheritance is called multiple inheritances. In multiple inheritances, all the features of the base classes are inherited into the derived class. "
   ]
  },
  {
   "attachments": {
    "image.png": {
     "image/png": "[encoded data removed]"
    }
   },
   "cell_type": "markdown",
   "id": "aa52a576",
   "metadata": {},
   "source": [
    "![image.png](attachment:image.png)"
   ]
  },
  {
   "cell_type": "markdown",
   "id": "f1149412",
   "metadata": {},
   "source": [
    "# 3. Create a Python class called `Vehicle` with attributes `color` and `speed`. Then, create a child class called`Car` that inherits from `Vehicle` and adds a `brand` attribute. Provide an example of creating a `Car` object."
   ]
  },
  {
   "cell_type": "code",
   "execution_count": 8,
   "id": "3f4c3fb5",
   "metadata": {},
   "outputs": [
    {
     "name": "stdout",
     "output_type": "stream",
     "text": [
      "Inside Car Constructor\n"
     ]
    }
   ],
   "source": [
    "class Vehicle:\n",
    "    # Constructor of Vehicle\n",
    "    def __init__(self,color,speed):\n",
    "        self.color = color\n",
    "        self.speed = speed\n",
    "\n",
    "class Car(Vehicle):\n",
    "    # Constructor of Car\n",
    "    def __init__(self,color,speed,brand):\n",
    "        super().__init__(color,speed)\n",
    "        print('Inside Car Constructor')\n",
    "        self.brand = brand\n",
    "        \n",
    "c = Car('magnetic red',80,'TATA')"
   ]
  },
  {
   "cell_type": "markdown",
   "id": "bc03e691",
   "metadata": {},
   "source": [
    "# 4. Explain the concept of method overriding in inheritance. Provide a practical example."
   ]
  },
  {
   "cell_type": "raw",
   "id": "e224542e",
   "metadata": {},
   "source": [
    "Method overriding is an ability of any object-oriented programming language that allows a subclass or child class to provide a specific implementation of a method that is already provided by one of its super-classes or parent classes. When a method in a subclass has the same name, same parameters or signature and same return type(or sub-type) as a method in its super-class, then the method in the subclass is said to override the method in the super-class."
   ]
  },
  {
   "attachments": {
    "image.png": {
     "image/png": "[encoded data removed]"
    }
   },
   "cell_type": "markdown",
   "id": "ec6c3495",
   "metadata": {},
   "source": [
    "![image.png](attachment:image.png)"
   ]
  },
  {
   "cell_type": "raw",
   "id": "4289fb18",
   "metadata": {},
   "source": [
    "The version of a method that is executed will be determined by the object that is used to invoke it. If an object of a parent class is used to invoke the method, then the version in the parent class will be executed, but if an object of the subclass is used to invoke the method, then the version in the child class will be executed. In other words, it is the type of the object being referred to (not the type of the reference variable) that determines which version of an overridden method will be executed."
   ]
  },
  {
   "cell_type": "code",
   "execution_count": 9,
   "id": "0d33f8f1",
   "metadata": {},
   "outputs": [
    {
     "name": "stdout",
     "output_type": "stream",
     "text": [
      "Inside Parent\n",
      "Inside Child\n"
     ]
    }
   ],
   "source": [
    "# Defining parent class \n",
    "class Parent(): \n",
    "      \n",
    "    # Constructor \n",
    "    def __init__(self): \n",
    "        self.value = \"Inside Parent\"\n",
    "          \n",
    "    # Parent's show method \n",
    "    def show(self): \n",
    "        print(self.value) \n",
    "          \n",
    "# Defining child class \n",
    "class Child(Parent): \n",
    "      \n",
    "    # Constructor \n",
    "    def __init__(self): \n",
    "        self.value = \"Inside Child\"\n",
    "          \n",
    "    # Child's show method \n",
    "    def show(self): \n",
    "        print(self.value) \n",
    "          \n",
    "          \n",
    "# Driver's code \n",
    "obj1 = Parent() \n",
    "obj2 = Child() \n",
    "  \n",
    "obj1.show() \n",
    "obj2.show() "
   ]
  },
  {
   "cell_type": "markdown",
   "id": "857b9329",
   "metadata": {},
   "source": [
    "# 5. How can you access the methods and attributes of a parent class from a child class in Python? Give an example."
   ]
  },
  {
   "cell_type": "raw",
   "id": "47bc9738",
   "metadata": {},
   "source": [
    "Using Classname: Parent’s class methods can be called by using the Parent classname.method inside the overridden method."
   ]
  },
  {
   "cell_type": "code",
   "execution_count": 11,
   "id": "a2cc62fb",
   "metadata": {},
   "outputs": [
    {
     "name": "stdout",
     "output_type": "stream",
     "text": [
      "Inside Parent\n",
      "Inside Child\n"
     ]
    }
   ],
   "source": [
    "class Parent(): \n",
    "      \n",
    "    def show(self): \n",
    "        print(\"Inside Parent\") \n",
    "          \n",
    "class Child(Parent): \n",
    "      \n",
    "    def show(self): \n",
    "          \n",
    "        # Calling the parent's class \n",
    "        # method \n",
    "        Parent.show(self) \n",
    "        print(\"Inside Child\") \n",
    "          \n",
    "# Driver's code \n",
    "obj = Child() \n",
    "obj.show() "
   ]
  },
  {
   "cell_type": "raw",
   "id": "b87d1e30",
   "metadata": {},
   "source": [
    "Using Super(): Python super() function provides us the facility to refer to the parent class explicitly. It is basically useful where we have to call superclass functions. It returns the proxy object that allows us to refer parent class by ‘super’."
   ]
  },
  {
   "cell_type": "code",
   "execution_count": 12,
   "id": "7b6c3e00",
   "metadata": {},
   "outputs": [
    {
     "name": "stdout",
     "output_type": "stream",
     "text": [
      "Inside Parent\n",
      "Inside Child\n"
     ]
    }
   ],
   "source": [
    "class Parent(): \n",
    "      \n",
    "    def show(self): \n",
    "        print(\"Inside Parent\") \n",
    "          \n",
    "class Child(Parent): \n",
    "      \n",
    "    def show(self): \n",
    "          \n",
    "        # Calling the parent's class \n",
    "        # method \n",
    "        super().show() \n",
    "        print(\"Inside Child\") \n",
    "          \n",
    "# Driver's code \n",
    "obj = Child() \n",
    "obj.show() "
   ]
  },
  {
   "cell_type": "markdown",
   "id": "477cfecd",
   "metadata": {},
   "source": [
    "# 6. Discuss the use of the `super()` function in Python inheritance. When and why is it used? Provide an example."
   ]
  },
  {
   "cell_type": "raw",
   "id": "d5be5753",
   "metadata": {},
   "source": [
    "In Python, the super() function is used to refer to the parent class or superclass. It allows you to call methods defined in the superclass from the subclass, enabling you to extend and customize the functionality inherited from the parent class.\n",
    "\n",
    "Syntax of super() in Python\n",
    "Syntax: super()\n",
    "\n",
    "Return : Return a proxy object which represents the parent’s class."
   ]
  },
  {
   "cell_type": "raw",
   "id": "631d83a8",
   "metadata": {},
   "source": [
    "In the given example, The Emp class has an __init__ method that initializes the id, and name and Adds attributes. The Freelance class inherits from the Emp class and adds an additional attribute called Emails. It calls the parent class’s __init__ method super() to initialize the inherited attribute."
   ]
  },
  {
   "cell_type": "code",
   "execution_count": 13,
   "id": "de9fbce0",
   "metadata": {},
   "outputs": [
    {
     "name": "stdout",
     "output_type": "stream",
     "text": [
      "The ID is: 103\n",
      "The Name is: Suraj kr gupta\n",
      "The Address is: Noida\n",
      "The Emails is: KKK@gmails\n"
     ]
    }
   ],
   "source": [
    "class Emp():\n",
    "    def __init__(self, id, name, Add):\n",
    "        self.id = id\n",
    "        self.name = name\n",
    "        self.Add = Add\n",
    " \n",
    "# Class freelancer inherits EMP\n",
    "class Freelance(Emp):\n",
    "    def __init__(self, id, name, Add, Emails):\n",
    "        super().__init__(id, name, Add)\n",
    "        self.Emails = Emails\n",
    " \n",
    "Emp_1 = Freelance(103, \"Suraj kr gupta\", \"Noida\" , \"KKK@gmails\")\n",
    "print('The ID is:', Emp_1.id)\n",
    "print('The Name is:', Emp_1.name)\n",
    "print('The Address is:', Emp_1.Add)\n",
    "print('The Emails is:', Emp_1.Emails)"
   ]
  },
  {
   "cell_type": "markdown",
   "id": "159ea9be",
   "metadata": {},
   "source": [
    "# 7.Create a Python class called `Animal` with a method `speak()`. Then, create child classes `Dog` and `Cat`"
   ]
  },
  {
   "cell_type": "code",
   "execution_count": 16,
   "id": "d6974e33",
   "metadata": {},
   "outputs": [
    {
     "name": "stdout",
     "output_type": "stream",
     "text": [
      "Bow Bow\n",
      "Meow Meow\n"
     ]
    }
   ],
   "source": [
    "class Animal:\n",
    "    def speak():\n",
    "        pass\n",
    "    \n",
    "class Dog(Animal):\n",
    "    def speak(self):\n",
    "        print('Bow Bow')\n",
    "        \n",
    "class Cat(Animal):\n",
    "    def speak(self):\n",
    "        print('Meow Meow')\n",
    "        \n",
    "o1 = Dog()\n",
    "o2 = Cat()\n",
    "o1.speak()\n",
    "o2.speak()"
   ]
  },
  {
   "cell_type": "markdown",
   "id": "5064f4f2",
   "metadata": {},
   "source": [
    "# 8. Explain the role of the `isinstance()` function in Python and how it relates to inheritance."
   ]
  },
  {
   "cell_type": "raw",
   "id": "8c17980a",
   "metadata": {},
   "source": [
    "The isinstance () function checks whether an object is an instance of the class mentioned. One can test if an object or variable is an instance of the type or class. If inheritance is present in the program, then the function can be used to check if a specified class is the parent class of an object. \n",
    "\n",
    "The following syntax is followed to implement the isinstance () function in Python. \n",
    "\n",
    "isinstance (object, classinfo)"
   ]
  },
  {
   "cell_type": "raw",
   "id": "ceee03d3",
   "metadata": {},
   "source": [
    "isinstance () Parameters \n",
    "The isinstance Python function requires two parameters to be passed. The first is the object that needs to be checked whether it is a subclass or instance of the specified class or not. \n",
    "\n",
    "The second argument that needs to be passed in the isinstance () function is the class, type, or tuple of a class or type. The object needs to be checked as an element of this class.  "
   ]
  },
  {
   "cell_type": "code",
   "execution_count": 17,
   "id": "b42a69f9",
   "metadata": {},
   "outputs": [
    {
     "name": "stdout",
     "output_type": "stream",
     "text": [
      "True\n",
      "False\n",
      "True\n"
     ]
    }
   ],
   "source": [
    "class Test1:\n",
    "\n",
    "              a = 6\n",
    "\n",
    "testInstance = Test1 ()\n",
    "\n",
    "print (isinstance (testInstance, Test1))\n",
    "\n",
    "print (isinstance (testInstance, (list, tuple)))\n",
    "\n",
    "print (isinstance (testInstance, (list, tuple, Test1)))"
   ]
  },
  {
   "cell_type": "markdown",
   "id": "b4651d28",
   "metadata": {},
   "source": [
    "# 9. What is the purpose of the `issubclass()` function in Python? Provide an example."
   ]
  },
  {
   "cell_type": "raw",
   "id": "18c3a302",
   "metadata": {},
   "source": [
    "issubclass() in Python\n",
    "Python issubclass() is built-in function used to check if a class is a subclass of another class or not. This function returns True if the given class is the subclass of given class else it returns False.\n",
    "\n",
    "Syntax: issubclass( object, classinfo ) "
   ]
  },
  {
   "cell_type": "raw",
   "id": "ab2b2fc2",
   "metadata": {},
   "source": [
    "Object: class to be checked\n",
    "classinfo: class, types or a tuple of classes and types \n",
    "Return Type: True if object is subclass of a class, or any element of the tuple, otherwise False."
   ]
  },
  {
   "cell_type": "raw",
   "id": "0f244128",
   "metadata": {},
   "source": [
    "For issubclass python we are defining multiple classes and representing the phenomenon of Inheritance, then for a particular class we are checking whether it is the subclass for the mentioned base class or not."
   ]
  },
  {
   "cell_type": "code",
   "execution_count": 18,
   "id": "e6f076b0",
   "metadata": {},
   "outputs": [
    {
     "name": "stdout",
     "output_type": "stream",
     "text": [
      "True\n",
      "False\n",
      "True\n",
      "True\n"
     ]
    }
   ],
   "source": [
    "# Python program to demonstrate\n",
    "# issubclass()\n",
    " \n",
    " \n",
    "# Defining Parent class\n",
    "class Vehicles:\n",
    " \n",
    "    # Constructor\n",
    "    def __init__(vehicleType):\n",
    "        print('Vehicles is a ', vehicleType)\n",
    " \n",
    "# Defining Child class\n",
    "class Car(Vehicles):\n",
    " \n",
    "    # Constructor\n",
    "    def __init__(self):\n",
    "        Vehicles.__init__('Car')\n",
    " \n",
    "# Driver's code   \n",
    "print(issubclass(Car, Vehicles))\n",
    "print(issubclass(Car, list))\n",
    "print(issubclass(Car, Car))\n",
    "print(issubclass(Car, (list, Vehicles)))"
   ]
  },
  {
   "cell_type": "markdown",
   "id": "6c38df44",
   "metadata": {},
   "source": [
    "# 10. Discuss the concept of constructor inheritance in Python. How are constructors inherited in child classes?"
   ]
  },
  {
   "cell_type": "raw",
   "id": "cb0b69f8",
   "metadata": {},
   "source": [
    "n python, Constructor level inheritance also possible as same way as methods and variables of a parent class. Lets continue this article to examine this feature.\n",
    "\n",
    "In the previous python programs, we have inherited the Student class from the Teacher class. All the methods and the variables in those methods of the Teacher class (base class) are accessible to the Student class (sub class). Are the constructors of the base class accessible to the sub class or not - is the next question we will answer.\n",
    "\n",
    "Here, we are taking a super class by the name 'Father' and derived a sub class 'Son' from it. The Father class has a constructor where a variable 'property' is declared and initialized with 800000.00. When Son is created from Father, this constructor is by default available to Son class. When we call the method of the super class using sub class object, it will display the value of the 'property' variable."
   ]
  },
  {
   "cell_type": "code",
   "execution_count": 19,
   "id": "2938dfb1",
   "metadata": {},
   "outputs": [
    {
     "name": "stdout",
     "output_type": "stream",
     "text": [
      "Father's property= 800000.0\n"
     ]
    }
   ],
   "source": [
    "#base class constructor is available to sub class \n",
    "class Father: \n",
    "   def __init__(self): \n",
    "      self.property = 800000.00 \n",
    "   def display_property(self): \n",
    "      print('Father\\'s property=', self.property) \n",
    "class Son(Father): \n",
    "   pass #we do not want to write anything in the sub class\n",
    "   #create sub class instance and display father's property \n",
    "s = Son() \n",
    "s.display_property()"
   ]
  },
  {
   "cell_type": "markdown",
   "id": "6a6305c6",
   "metadata": {},
   "source": [
    "# 11. Create a Python class called `Shape` with a method `area()` that calculates the area of a shape. Then, create child classes `Circle` and `Rectangle` that inherit from `Shape` and implement the `area()` method accordingly. Provide an example."
   ]
  },
  {
   "cell_type": "code",
   "execution_count": 23,
   "id": "020bfd3d",
   "metadata": {},
   "outputs": [
    {
     "name": "stdout",
     "output_type": "stream",
     "text": [
      "Enter the radius: 5\n",
      "Area of Circle is:78.5\n",
      "Enter the length: 4\n",
      "Enter the width: 6\n",
      "Area of Reactangle:24\n"
     ]
    }
   ],
   "source": [
    "class Shape:\n",
    "    def area():\n",
    "        pass\n",
    "\n",
    "class Circle(Shape):\n",
    "    def area(self):\n",
    "        r = int(input(\"Enter the radius: \"))\n",
    "        area = 3.14*r**2\n",
    "        print(f\"Area of Circle is:{area}\")\n",
    "        \n",
    "class Rectangle(Shape):\n",
    "    def area(self):\n",
    "        l = int(input(\"Enter the length: \"))\n",
    "        b = int(input(\"Enter the width: \"))\n",
    "        area = l*b\n",
    "        print(f'Area of Reactangle:{area}')\n",
    "        \n",
    "cir = Circle()\n",
    "cir.area()\n",
    "rec = Rectangle()\n",
    "rec.area()"
   ]
  },
  {
   "cell_type": "markdown",
   "id": "43d5c5c2",
   "metadata": {},
   "source": [
    "# 12. Explain the use of abstract base classes (ABCs) in Python and how they relate to inheritance. Provide an example using the `abc` module."
   ]
  },
  {
   "cell_type": "raw",
   "id": "bfba0b0c",
   "metadata": {},
   "source": [
    "The main goal of the abstract base class is to provide a standardized way to test whether an object adheres to a given specification. It can also prevent any attempt to instantiate a subclass that doesn’t override a particular method in the superclass. And finally, using an abstract class, a class can derive identity from another class without any object inheritance."
   ]
  },
  {
   "cell_type": "code",
   "execution_count": 24,
   "id": "64ecc583",
   "metadata": {},
   "outputs": [
    {
     "name": "stdout",
     "output_type": "stream",
     "text": [
      "<class 'dict'>\n"
     ]
    }
   ],
   "source": [
    "import abc \n",
    "  \n",
    "  \n",
    "class AbstractClass(metaclass=abc.ABCMeta): \n",
    "    def abstractfunc(self): \n",
    "        return None\n",
    "  \n",
    "  \n",
    "print(AbstractClass.register(dict)) "
   ]
  },
  {
   "cell_type": "code",
   "execution_count": 25,
   "id": "246f6cb6",
   "metadata": {},
   "outputs": [
    {
     "name": "stdout",
     "output_type": "stream",
     "text": [
      "Abstract 1\n"
     ]
    }
   ],
   "source": [
    "import abc \n",
    "  \n",
    "class AbstractClass(metaclass=abc.ABCMeta): \n",
    "    @abc.abstractmethod \n",
    "    def abstractName(self): \n",
    "        pass\n",
    "  \n",
    "class ValidSubClass(AbstractClass): \n",
    "    def abstractName(self): \n",
    "        return 'Abstract 1'\n",
    "  \n",
    "vc = ValidSubClass() \n",
    "print(vc.abstractName()) "
   ]
  },
  {
   "cell_type": "markdown",
   "id": "00a8546f",
   "metadata": {},
   "source": [
    "# 14. Create a Python class called `Employee` with attributes `name` and `salary`. Then, create a child class`Manager` that inherits from `Employee` and adds an attribute `department`. Provide an example."
   ]
  },
  {
   "cell_type": "code",
   "execution_count": 26,
   "id": "664ef3e8",
   "metadata": {},
   "outputs": [
    {
     "name": "stdout",
     "output_type": "stream",
     "text": [
      "Rahul\n",
      "200000\n"
     ]
    }
   ],
   "source": [
    "# parent class\n",
    "class Employee:\n",
    " \n",
    "    # __init__ is known as the constructor\n",
    "    def __init__(self, name, salary):\n",
    "        self.name = name\n",
    "        self.salary = salary\n",
    " \n",
    "    def display(self):\n",
    "        print(self.name)\n",
    "        print(self.salary)\n",
    " \n",
    "# child class\n",
    "class Manager(Employee):\n",
    "    def __init__(self, name,salary,dept):\n",
    "        self.dept = dept\n",
    " \n",
    "        # invoking the __init__ of the parent class\n",
    "        Employee.__init__(self, name, salary)\n",
    " \n",
    "# creation of an object variable or an instance\n",
    "a = Manager('Rahul',200000, \"Digital Sales\")\n",
    " \n",
    "# calling a function of the class Person using its instance\n",
    "a.display()   "
   ]
  },
  {
   "cell_type": "markdown",
   "id": "dec319b9",
   "metadata": {},
   "source": [
    "# 15. Discuss the concept of method overloading in Python inheritance. How does it differ from method overriding?"
   ]
  },
  {
   "cell_type": "raw",
   "id": "f9ef0f46",
   "metadata": {},
   "source": [
    "Method Overloading: \n",
    "Method Overloading is an example of Compile time polymorphism. In this, more than one method of the same class shares the same method name having different signatures. Method overloading is used to add more to the behavior of methods and there is no need of more than one class for method overloading.\n",
    "Note: Python does not support method overloading. We may overload the methods but can only use the latest defined method."
   ]
  },
  {
   "cell_type": "raw",
   "id": "a682c019",
   "metadata": {},
   "source": [
    "Method Overriding: \n",
    "Method overriding is an example of run time polymorphism. In this, the specific implementation of the method that is already provided by the parent class is provided by the child class. It is used to change the behavior of existing methods and there is a need for at least two classes for method overriding. In method overriding, inheritance always required as it is done between parent class(superclass) and child class(child class) methods."
   ]
  },
  {
   "cell_type": "markdown",
   "id": "48665456",
   "metadata": {},
   "source": [
    "# 16. Explain the purpose of the `__init__()` method in Python inheritance and how it is utilized in child classes."
   ]
  },
  {
   "cell_type": "raw",
   "id": "fdb00c0d",
   "metadata": {},
   "source": [
    "The Default __init__ Constructor in C++ and Java. Constructors are used to initializing the object’s state. The task of constructors is to initialize(assign values) to the data members of the class when an object of the class is created. Like methods, a constructor also contains a collection of statements(i.e. instructions) that are executed at the time of Object creation. It is run as soon as an object of a class is instantiated. The method is useful to do any initialization you want to do with your object."
   ]
  },
  {
   "cell_type": "code",
   "execution_count": 27,
   "id": "a0596a6d",
   "metadata": {},
   "outputs": [
    {
     "name": "stdout",
     "output_type": "stream",
     "text": [
      "Rahul\n",
      "886012\n"
     ]
    }
   ],
   "source": [
    "class Person(object):\n",
    " \n",
    "    # __init__ is known as the constructor\n",
    "    def __init__(self, name, idnumber):\n",
    "        self.name = name\n",
    "        self.idnumber = idnumber\n",
    " \n",
    "    def display(self):\n",
    "        print(self.name)\n",
    "        print(self.idnumber)\n",
    " \n",
    "# child class\n",
    "class Employee(Person):\n",
    "    def __init__(self, name, idnumber, salary, post):\n",
    "        self.salary = salary\n",
    "        self.post = post\n",
    " \n",
    "        # invoking the __init__ of the parent class\n",
    "        Person.__init__(self, name, idnumber)\n",
    " \n",
    "# creation of an object variable or an instance\n",
    "a = Employee('Rahul', 886012, 200000, \"Intern\")\n",
    " \n",
    "# calling a function of the class Person using its instance\n",
    "a.display()"
   ]
  },
  {
   "cell_type": "raw",
   "id": "5443986e",
   "metadata": {},
   "source": [
    "In this example, ‘a’ is the instance created for the class Person. It invokes the __init__() of the referred class. You can see ‘object’ written in the declaration of the class Person. In Python, every class inherits from a built-in basic class called ‘object’. The constructor i.e. the ‘__init__’ function of a class is invoked when we create an object variable or an instance of the class.\n",
    "\n",
    "The variables defined within __init__() are called instance variables or objects. Hence, ‘name’ and ‘idnumber’ are the objects of the class Person. Similarly, ‘salary’ and ‘post’ are the objects of the class Employee. Since the class Employee inherits from class Person, ‘name’ and ‘idnumber’ are also the objects of class Employee."
   ]
  },
  {
   "cell_type": "markdown",
   "id": "c82eb99c",
   "metadata": {},
   "source": [
    "# 17. Create a Python class called `Bird` with a method `fly()`. Then, create child classes `Eagle` and `Sparrow` that inherit from `Bird` and implement the `fly()` method differently. Provide an example of using these classes."
   ]
  },
  {
   "cell_type": "code",
   "execution_count": 28,
   "id": "f793e31e",
   "metadata": {},
   "outputs": [
    {
     "name": "stdout",
     "output_type": "stream",
     "text": [
      "Eagle can fly\n",
      "Sparrow can fly\n"
     ]
    }
   ],
   "source": [
    "class Bird:\n",
    "    def fly(self):\n",
    "        pass\n",
    "class Eagle(Bird):\n",
    "    def fly(self):\n",
    "        print('Eagle can fly')\n",
    "class Sparrow(Bird):\n",
    "    def fly(self):\n",
    "        print('Sparrow can fly')\n",
    "        \n",
    "e = Eagle()\n",
    "s = Sparrow()\n",
    "\n",
    "e.fly()\n",
    "s.fly()\n",
    "        "
   ]
  },
  {
   "cell_type": "markdown",
   "id": "0b61a699",
   "metadata": {},
   "source": [
    "# 18. What is the \"diamond problem\" in multiple inheritance, and how does Python address it?"
   ]
  },
  {
   "attachments": {
    "image.png": {
     "image/png": "[encoded data removed]"
    }
   },
   "cell_type": "markdown",
   "id": "bba2171f",
   "metadata": {},
   "source": [
    "![image.png](attachment:image.png)"
   ]
  },
  {
   "cell_type": "raw",
   "id": "a2b52a41",
   "metadata": {},
   "source": [
    "It refers to an ambiguity that arises when two classes Class2 and Class3 inherit from a superclass Class1 and class Class4 inherits from both Class2 and Class3. If there is a method “m” which is an overridden method in one of Class2 and Class3 or both then the ambiguity arises which of the method “m” Class4 should inherit."
   ]
  },
  {
   "cell_type": "markdown",
   "id": "77327130",
   "metadata": {},
   "source": [
    "**When the method is overridden in both classes**"
   ]
  },
  {
   "cell_type": "code",
   "execution_count": 29,
   "id": "965bc118",
   "metadata": {},
   "outputs": [
    {
     "name": "stdout",
     "output_type": "stream",
     "text": [
      "In Class2\n"
     ]
    }
   ],
   "source": [
    "# Python Program to depict multiple inheritance\n",
    "# when method is overridden in both classes\n",
    " \n",
    "class Class1:\n",
    "    def m(self):\n",
    "        print(\"In Class1\") \n",
    "       \n",
    "class Class2(Class1):\n",
    "    def m(self):\n",
    "        print(\"In Class2\")\n",
    " \n",
    "class Class3(Class1):\n",
    "    def m(self):\n",
    "        print(\"In Class3\")  \n",
    "        \n",
    "class Class4(Class2, Class3):\n",
    "    pass  \n",
    "     \n",
    "obj = Class4()\n",
    "obj.m()"
   ]
  },
  {
   "cell_type": "markdown",
   "id": "4036f129",
   "metadata": {},
   "source": [
    "**When the method is overridden in one of the classes**"
   ]
  },
  {
   "cell_type": "code",
   "execution_count": 30,
   "id": "6b96c5a2",
   "metadata": {},
   "outputs": [
    {
     "name": "stdout",
     "output_type": "stream",
     "text": [
      "In Class3\n"
     ]
    }
   ],
   "source": [
    "# Python Program to depict multiple inheritance\n",
    "# when method is overridden in one of the classes\n",
    " \n",
    "class Class1:\n",
    "    def m(self):\n",
    "        print(\"In Class1\") \n",
    "       \n",
    "class Class2(Class1):\n",
    "    pass\n",
    " \n",
    "class Class3(Class1):\n",
    "    def m(self):\n",
    "        print(\"In Class3\")    \n",
    "      \n",
    "class Class4(Class2, Class3):\n",
    "    pass      \n",
    " \n",
    "obj = Class4()\n",
    "obj.m()"
   ]
  },
  {
   "cell_type": "markdown",
   "id": "21797035",
   "metadata": {},
   "source": [
    "**When every class defines the same method**"
   ]
  },
  {
   "cell_type": "code",
   "execution_count": 31,
   "id": "da820854",
   "metadata": {},
   "outputs": [
    {
     "name": "stdout",
     "output_type": "stream",
     "text": [
      "In Class4\n",
      "In Class2\n",
      "In Class3\n",
      "In Class1\n"
     ]
    }
   ],
   "source": [
    "# Python Program to depict multiple inheritance\n",
    "# when every class defines the same method\n",
    " \n",
    "class Class1:\n",
    "    def m(self):\n",
    "        print(\"In Class1\") \n",
    "       \n",
    "class Class2(Class1):\n",
    "    def m(self):\n",
    "        print(\"In Class2\")\n",
    " \n",
    "class Class3(Class1):\n",
    "    def m(self):\n",
    "         print(\"In Class3\")     \n",
    "     \n",
    "class Class4(Class2, Class3):\n",
    "    def m(self):\n",
    "        print(\"In Class4\")   \n",
    " \n",
    "obj = Class4()\n",
    "obj.m()\n",
    " \n",
    "Class2.m(obj)\n",
    "Class3.m(obj)\n",
    "Class1.m(obj)"
   ]
  },
  {
   "cell_type": "markdown",
   "id": "bd868852",
   "metadata": {},
   "source": [
    "# 19. Discuss the concept of \"is-a\" and \"has-a\" relationships in inheritance, and provide examples of each."
   ]
  },
  {
   "cell_type": "markdown",
   "id": "77ffe690",
   "metadata": {},
   "source": [
    "**IS-A Relationship:**"
   ]
  },
  {
   "cell_type": "raw",
   "id": "9dd61e3a",
   "metadata": {},
   "source": [
    "In object-oriented programming, the concept of IS-A is a totally based on Inheritance, which can be of two types Class Inheritance or Interface Inheritance. It is just like saying \"A is a B type of thing\". For example, Apple is a Fruit, Car is a Vehicle etc. Inheritance is uni-directional. For example, House is a Building. But Building is not a House.\n",
    "\n",
    "It is a key point to note that you can easily identify the IS-A relationship. Wherever you see an extends keyword or implements keyword in a class declaration, then this class is said to have IS-A relationship."
   ]
  },
  {
   "cell_type": "markdown",
   "id": "0e83d80e",
   "metadata": {},
   "source": [
    "**HAS-A Relationship:**"
   ]
  },
  {
   "cell_type": "raw",
   "id": "5a490c3f",
   "metadata": {},
   "source": [
    "Composition(HAS-A) simply mean the use of instance variables that are references to other objects. For example Maruti has Engine, or House has Bathroom.\n",
    "\n",
    "Let’s understand these concepts with an example of Car class."
   ]
  },
  {
   "attachments": {
    "image.png": {
     "image/png": "[encoded data removed]"
    }
   },
   "cell_type": "markdown",
   "id": "c6c7e991",
   "metadata": {},
   "source": [
    "![image.png](attachment:image.png)"
   ]
  },
  {
   "cell_type": "markdown",
   "id": "8bddabae",
   "metadata": {},
   "source": [
    "# 20. Create a Python class hierarchy for a university system. Start with a base class `Person` and create child classes `Student` and `Professor`, each with their own attributes and methods. Provide an example of using these classes in a university context."
   ]
  },
  {
   "cell_type": "code",
   "execution_count": null,
   "id": "6f67bd51",
   "metadata": {},
   "outputs": [],
   "source": []
  },
  {
   "cell_type": "markdown",
   "id": "8ee9a788",
   "metadata": {},
   "source": [
    "\n",
    "# Encapsulation:"
   ]
  },
  {
   "cell_type": "markdown",
   "id": "36d250bb",
   "metadata": {},
   "source": [
    "# 1. Explain the concept of encapsulation in Python. What is its role in object-oriented programming?"
   ]
  },
  {
   "cell_type": "raw",
   "id": "db3ed31d",
   "metadata": {},
   "source": [
    "Encapsulation is one of the fundamental concepts in object-oriented programming (OOP). It describes the idea of wrapping data and the methods that work on data within one unit. This puts restrictions on accessing variables and methods directly and can prevent the accidental modification of data. To prevent accidental change, an object’s variable can only be changed by an object’s method. Those types of variables are known as private variables.\n",
    "\n",
    "A class is an example of encapsulation as it encapsulates all the data that is member functions, variables, etc. The goal of information hiding is to ensure that an object’s state is always valid by controlling access to attributes that are hidden from the outside world."
   ]
  },
  {
   "attachments": {
    "image.png": {
     "image/png": "[encoded data removed]"
    }
   },
   "cell_type": "markdown",
   "id": "3522247c",
   "metadata": {},
   "source": [
    "![image.png](attachment:image.png)"
   ]
  },
  {
   "cell_type": "raw",
   "id": "777995f3",
   "metadata": {},
   "source": [
    "Consider a real-life example of encapsulation, in a company, there are different sections like the accounts section, finance section, sales section etc. The finance section handles all the financial transactions and keeps records of all the data related to finance. Similarly, the sales section handles all the sales-related activities and keeps records of all the sales. Now there may arise a situation when due to some reason an official from the finance section needs all the data about sales in a particular month. In this case, he is not allowed to directly access the data of the sales section. He will first have to contact some other officer in the sales section and then request him to give the particular data. This is what encapsulation is. Here the data of the sales section and the employees that can manipulate them are wrapped under a single name “sales section”. Using encapsulation also hides the data. In this example, the data of the sections like sales, finance, or accounts are hidden from any other section."
   ]
  },
  {
   "cell_type": "markdown",
   "id": "8fe5fa25",
   "metadata": {},
   "source": [
    "# 2. Describe the key principles of encapsulation, including access control and data hiding."
   ]
  },
  {
   "cell_type": "markdown",
   "id": "6fcc5d7e",
   "metadata": {},
   "source": [
    "Encapsulation in programming has a few key benefits. These include:\n",
    "\n",
    "**Hiding data:** Users will have no idea how classes are being implemented or stored. All that users will know is that values are being passed and initialized.\n",
    "\n",
    "**More flexibility:** Enables you to set variables as red or write-only. Examples include: setName(), setAge() or to set variables as write-only then you only need to omit the get methods like getName(), getAge() etc.\n",
    "\n",
    "**Easy to reuse:** With encapsulation, it's easy to change and adapt to new requirements\n",
    "Inheritance vs. abst"
   ]
  },
  {
   "cell_type": "markdown",
   "id": "687fd7f3",
   "metadata": {},
   "source": [
    "# 3. How can you achieve encapsulation in Python classes? Provide an example."
   ]
  },
  {
   "cell_type": "markdown",
   "id": "3204c5d1",
   "metadata": {},
   "source": [
    "Protected members (in C++ and JAVA) are those members of the class that cannot be accessed outside the class but can be accessed from within the class and its subclasses. To accomplish this in Python, just follow the convention by prefixing the name of the member by a single underscore “_”."
   ]
  },
  {
   "cell_type": "markdown",
   "id": "be239ebd",
   "metadata": {},
   "source": [
    "Although the protected variable can be accessed out of the class as well as in the derived class (modified too in derived class), it is customary(convention not a rule) to not access the protected out the class body."
   ]
  },
  {
   "cell_type": "code",
   "execution_count": 32,
   "id": "0a154267",
   "metadata": {},
   "outputs": [
    {
     "name": "stdout",
     "output_type": "stream",
     "text": [
      "Calling protected member of base class:  2\n",
      "Calling modified protected member outside class:  3\n",
      "Accessing protected member of obj1:  3\n",
      "Accessing protected member of obj2:  2\n"
     ]
    }
   ],
   "source": [
    "# Python program to \n",
    "# demonstrate protected members \n",
    "  \n",
    "# Creating a base class \n",
    "class Base: \n",
    "    def __init__(self): \n",
    "  \n",
    "        # Protected member \n",
    "        self._a = 2\n",
    "  \n",
    "# Creating a derived class \n",
    "class Derived(Base): \n",
    "    def __init__(self): \n",
    "  \n",
    "        # Calling constructor of \n",
    "        # Base class \n",
    "        Base.__init__(self) \n",
    "        print(\"Calling protected member of base class: \",  \n",
    "              self._a) \n",
    "  \n",
    "        # Modify the protected variable: \n",
    "        self._a = 3\n",
    "        print(\"Calling modified protected member outside class: \", \n",
    "              self._a) \n",
    "  \n",
    "  \n",
    "obj1 = Derived() \n",
    "  \n",
    "obj2 = Base() \n",
    "  \n",
    "# Calling protected member \n",
    "# Can be accessed but should not be done due to convention \n",
    "print(\"Accessing protected member of obj1: \", obj1._a) \n",
    "  \n",
    "# Accessing the protected variable outside \n",
    "print(\"Accessing protected member of obj2: \", obj2._a) "
   ]
  },
  {
   "cell_type": "markdown",
   "id": "734e17c0",
   "metadata": {},
   "source": [
    "**Private members**"
   ]
  },
  {
   "cell_type": "markdown",
   "id": "eb9c210b",
   "metadata": {},
   "source": [
    "Private members are similar to protected members, the difference is that the class members declared private should neither be accessed outside the class nor by any base class. In Python, there is no existence of Private instance variables that cannot be accessed except inside a class.\n",
    "\n",
    "However, to define a private member prefix the member name with double underscore “__”."
   ]
  },
  {
   "cell_type": "code",
   "execution_count": 33,
   "id": "40c2ccbd",
   "metadata": {},
   "outputs": [
    {
     "name": "stdout",
     "output_type": "stream",
     "text": [
      "GeeksforGeeks\n"
     ]
    }
   ],
   "source": [
    "# Python program to \n",
    "# demonstrate private members \n",
    "  \n",
    "# Creating a Base class \n",
    "  \n",
    "  \n",
    "class Base: \n",
    "    def __init__(self): \n",
    "        self.a = \"GeeksforGeeks\"\n",
    "        self.__c = \"GeeksforGeeks\"\n",
    "  \n",
    "# Creating a derived class \n",
    "class Derived(Base): \n",
    "    def __init__(self): \n",
    "  \n",
    "        # Calling constructor of \n",
    "        # Base class \n",
    "        Base.__init__(self) \n",
    "        print(\"Calling private member of base class: \") \n",
    "        print(self.__c) \n",
    "  \n",
    "  \n",
    "# Driver code \n",
    "obj1 = Base() \n",
    "print(obj1.a) "
   ]
  },
  {
   "cell_type": "markdown",
   "id": "f1cf4765",
   "metadata": {},
   "source": [
    "# 4. Discuss the difference between public, private, and protected access modifiers in Python."
   ]
  },
  {
   "cell_type": "markdown",
   "id": "fcb620b8",
   "metadata": {},
   "source": [
    "### Public Access Modifier"
   ]
  },
  {
   "cell_type": "markdown",
   "id": "1152e3f6",
   "metadata": {},
   "source": [
    "The name “Public” says all about this access modifier the variables and methods declared inside the specific Python class can be accessed by that class and any Python class outside that specific class.\n",
    "\n",
    "Public methods are accessible outside the class and with the help of objects the public methods can be invoked inside the class.\n",
    "\n",
    "All the variables and methods in a Python class are public by default and just like mentioned above can be accessed from outside the class environment. Here’s an example that will help us understand better."
   ]
  },
  {
   "cell_type": "code",
   "execution_count": 34,
   "id": "0a5c8e13",
   "metadata": {},
   "outputs": [
    {
     "name": "stdout",
     "output_type": "stream",
     "text": [
      "Real name:  RDJ\n",
      "Reel name:  Tony Stark\n",
      "Hero name:  Iron Man\n"
     ]
    }
   ],
   "source": [
    "class Hero:\n",
    "    def __init__(self, real_name, reel_name, hero_name):\n",
    "        self.real_name = real_name\n",
    "        self.reel_name = reel_name\n",
    "        self.hero_name = hero_name\n",
    " \n",
    "hero = Hero(\"RDJ\", \"Tony Stark\", \"Iron Man\")\n",
    " \n",
    "print(\"Real name: \", hero.real_name)\n",
    "print(\"Reel name: \", hero.reel_name)\n",
    "print(\"Hero name: \", hero.hero_name)"
   ]
  },
  {
   "cell_type": "markdown",
   "id": "fb2bd72c",
   "metadata": {},
   "source": [
    "### Protected Access Modifier"
   ]
  },
  {
   "cell_type": "markdown",
   "id": "7a6d8722",
   "metadata": {},
   "source": [
    "Protected variables and methods are accessible within the specific class environment and can also be accessed by the sub-classes. We can also say that it allows the resources of the parent class to be inherited by the child class.\n",
    "\n",
    "Any variables or methods prefixed with a single underscore (_) in a class are protected and can be accessed within the specific class environment. The protected variables/methods can be accessed inside the sub-classes of the parent class.\n",
    "\n",
    "\n",
    "Here is a code to make protected variables/methods inside the Python class."
   ]
  },
  {
   "cell_type": "code",
   "execution_count": 35,
   "id": "5bde6b5c",
   "metadata": {},
   "outputs": [
    {
     "name": "stdout",
     "output_type": "stream",
     "text": [
      "Anime: Naruto\n",
      "Release: 2002\n"
     ]
    }
   ],
   "source": [
    "class Anime:\n",
    "    _rating = \"Best\"\n",
    "    def __init__(self, anime, release_year):\n",
    "        self._anime = anime\n",
    "        self._release_year = release_year\n",
    " \n",
    "    def _show(self):\n",
    "        print(\"Release:\", self._release_year)\n",
    " \n",
    "obj = Anime(\"Naruto\", 2002)\n",
    "print(\"Anime:\", obj._anime)\n",
    "obj._show()"
   ]
  },
  {
   "cell_type": "markdown",
   "id": "dfe3cc76",
   "metadata": {},
   "source": [
    "### Private Access Modifier"
   ]
  },
  {
   "cell_type": "markdown",
   "id": "ab90ea27",
   "metadata": {},
   "source": [
    "As we can tell by seeing its name the “Private” access modifier restricts the variables and methods declared inside the specific class to that class environment.\n",
    "\n",
    "Simply put, the variables and methods declared inside a class can be accessed inside that class environment and not outside that class. Python doesn’t have any mechanism restricting access to the variables or methods.\n",
    "\n",
    "\n",
    "But there is a way by which we can impose restrictions to access the variables and methods in Python. Python suggests using a double underscore to imitate the behavior of the private access modifier.\n",
    "\n",
    "Variables and methods prefixed with a double underscore (__) make them private and cannot be accessed outside the specific class. Let’s understand it with an example."
   ]
  },
  {
   "cell_type": "code",
   "execution_count": 36,
   "id": "8efb5dbf",
   "metadata": {},
   "outputs": [
    {
     "ename": "AttributeError",
     "evalue": "'Superhero' object has no attribute '__name'",
     "output_type": "error",
     "traceback": [
      "\u001b[1;31m---------------------------------------------------------------------------\u001b[0m",
      "\u001b[1;31mAttributeError\u001b[0m                            Traceback (most recent call last)",
      "\u001b[1;32m~\\AppData\\Local\\Temp\\6\\ipykernel_15364\\1652667875.py\u001b[0m in \u001b[0;36m<module>\u001b[1;34m\u001b[0m\n\u001b[0;32m      6\u001b[0m \u001b[1;33m\u001b[0m\u001b[0m\n\u001b[0;32m      7\u001b[0m \u001b[0mobj\u001b[0m \u001b[1;33m=\u001b[0m \u001b[0mSuperhero\u001b[0m\u001b[1;33m(\u001b[0m\u001b[1;34m\"Shaktiman\"\u001b[0m\u001b[1;33m)\u001b[0m\u001b[1;33m\u001b[0m\u001b[1;33m\u001b[0m\u001b[0m\n\u001b[1;32m----> 8\u001b[1;33m \u001b[0mprint\u001b[0m\u001b[1;33m(\u001b[0m\u001b[0mobj\u001b[0m\u001b[1;33m.\u001b[0m\u001b[0m__name\u001b[0m\u001b[1;33m)\u001b[0m\u001b[1;33m\u001b[0m\u001b[1;33m\u001b[0m\u001b[0m\n\u001b[0m",
      "\u001b[1;31mAttributeError\u001b[0m: 'Superhero' object has no attribute '__name'"
     ]
    }
   ],
   "source": [
    "class Superhero:\n",
    "    __hero = \"Iron Man\"\n",
    " \n",
    "    def __init__(self, name):\n",
    "        self.__name = name\n",
    " \n",
    "obj = Superhero(\"Shaktiman\")\n",
    "print(obj.__name)"
   ]
  },
  {
   "cell_type": "markdown",
   "id": "c359d359",
   "metadata": {},
   "source": [
    "# 5. Create a Python class called `Person` with a private attribute `__name`. Provide methods to get and set the name attribute."
   ]
  },
  {
   "cell_type": "code",
   "execution_count": 38,
   "id": "44582743",
   "metadata": {},
   "outputs": [
    {
     "name": "stdout",
     "output_type": "stream",
     "text": [
      "Harsha\n",
      "Pratik\n"
     ]
    }
   ],
   "source": [
    "class Person:\n",
    "\n",
    "    def __init__(self, name):\n",
    "        ## private varibale or property in Python\n",
    "        self.__name = name\n",
    "\n",
    "    ## getter method to get the properties using an object\n",
    "    def get_name(self):\n",
    "        return self.__name\n",
    "\n",
    "    ## setter method to change the value 'a' using an object\n",
    "    def set_name(self, name):\n",
    "        self.__name = name\n",
    "\n",
    "## creating an object\n",
    "obj = Person('Harsha')\n",
    "\n",
    "## getting the value of 'a' using get_a() method\n",
    "print(obj.get_name())\n",
    "\n",
    "## setting a new value to the 'a' using set_a() method\n",
    "obj.set_name('Pratik')\n",
    "\n",
    "print(obj.get_name())"
   ]
  },
  {
   "cell_type": "markdown",
   "id": "3e13f6d4",
   "metadata": {},
   "source": [
    "# 6. Explain the purpose of getter and setter methods in encapsulation. Provide examples."
   ]
  },
  {
   "cell_type": "markdown",
   "id": "f253ea68",
   "metadata": {},
   "source": [
    "We use getters & setters to add validation logic around getting and setting a value.\n",
    "\n",
    "To avoid direct access of a class field i.e. private variables cannot be accessed directly or modified by external user."
   ]
  },
  {
   "cell_type": "markdown",
   "id": "9763301f",
   "metadata": {},
   "source": [
    "To achieve getters & setters property, if we define normal get() and set() methods it will not reflect any special implementation. For Example"
   ]
  },
  {
   "cell_type": "code",
   "execution_count": 39,
   "id": "4f618004",
   "metadata": {},
   "outputs": [
    {
     "name": "stdout",
     "output_type": "stream",
     "text": [
      "21\n",
      "21\n"
     ]
    }
   ],
   "source": [
    "class Geek: \n",
    "    def __init__(self, age = 0): \n",
    "         self._age = age \n",
    "      \n",
    "    # getter method \n",
    "    def get_age(self): \n",
    "        return self._age \n",
    "      \n",
    "    # setter method \n",
    "    def set_age(self, x): \n",
    "        self._age = x \n",
    "  \n",
    "raj = Geek() \n",
    "  \n",
    "# setting the age using setter \n",
    "raj.set_age(21) \n",
    "  \n",
    "# retrieving age using getter \n",
    "print(raj.get_age()) \n",
    "  \n",
    "print(raj._age) "
   ]
  },
  {
   "cell_type": "markdown",
   "id": "0f217a89",
   "metadata": {},
   "source": [
    "There is one more way to implement property function i.e. by using decorator. Python @property is one of the built-in decorators. The main purpose of any decorator is to change your class methods or attributes in such a way so that the user of your class no need to make any change in their code. For Example"
   ]
  },
  {
   "cell_type": "code",
   "execution_count": 40,
   "id": "d6532759",
   "metadata": {},
   "outputs": [
    {
     "name": "stdout",
     "output_type": "stream",
     "text": [
      "setter method called\n",
      "getter method called\n",
      "19\n"
     ]
    }
   ],
   "source": [
    "class Geeks: \n",
    "     def __init__(self): \n",
    "          self._age = 0\n",
    "       \n",
    "     # using property decorator \n",
    "     # a getter function \n",
    "     @property\n",
    "     def age(self): \n",
    "         print(\"getter method called\") \n",
    "         return self._age \n",
    "       \n",
    "     # a setter function \n",
    "     @age.setter \n",
    "     def age(self, a): \n",
    "         if(a < 18): \n",
    "            raise ValueError(\"Sorry you age is below eligibility criteria\") \n",
    "         print(\"setter method called\") \n",
    "         self._age = a \n",
    "  \n",
    "mark = Geeks() \n",
    "  \n",
    "mark.age = 19\n",
    "  \n",
    "print(mark.age) "
   ]
  },
  {
   "cell_type": "markdown",
   "id": "abefeb9c",
   "metadata": {},
   "source": [
    "# 7. What is name mangling in Python, and how does it affect encapsulation?"
   ]
  },
  {
   "cell_type": "markdown",
   "id": "627bb300",
   "metadata": {},
   "source": [
    "Name mangling in Python is the process of an identifier with two leading underscores getting replaced with the class name followed by the identifier, e.g. _classname__identifier.\n",
    "\n",
    "Where class name is the name of the current class.\n",
    "\n",
    "It means that any identifier of the form __var_name — at least two leading underscores or at most one trailing underscore — is replaced with _classname__var_name. "
   ]
  },
  {
   "cell_type": "markdown",
   "id": "5ba4d852",
   "metadata": {},
   "source": [
    "# 8. Create a Python class called `BankAccount` with private attributes for the account balance (`__balance`) "
   ]
  },
  {
   "cell_type": "code",
   "execution_count": 1,
   "id": "d950e451",
   "metadata": {},
   "outputs": [
    {
     "name": "stdout",
     "output_type": "stream",
     "text": [
      "Enter the amonut to deposit: 500\n"
     ]
    },
    {
     "data": {
      "text/plain": [
       "'The amonut deposited successfully.....\\n Available Balance = 1500'"
      ]
     },
     "execution_count": 1,
     "metadata": {},
     "output_type": "execute_result"
    }
   ],
   "source": [
    "class BankAccount:\n",
    "    \n",
    "    __balance = 1000\n",
    "    __account_number = 123456\n",
    "\n",
    "    ## getter method to get the properties using an object\n",
    "    def get_balance(self):\n",
    "        withdraw = int(input('Enter the amount to withdraw: '))\n",
    "        print(\"Please collect your cash.....\")\n",
    "        BankAccount.__balance-=withdraw\n",
    "        return f\"Available Balance = {BankAccount.__balance-withdraw}\"\n",
    "\n",
    "    ## setter method to change the value 'a' using an object\n",
    "    def set_balance(self):\n",
    "        depo = int(input(\"Enter the amonut to deposit: \"))\n",
    "        BankAccount.__balance += depo\n",
    "        return f\"The amonut deposited successfully.....\\n Available Balance = {BankAccount.__balance}\"\n",
    "\n",
    "## creating an object\n",
    "obj = BankAccount()\n",
    "obj.set_balance()"
   ]
  },
  {
   "cell_type": "code",
   "execution_count": 2,
   "id": "d5d0040c",
   "metadata": {},
   "outputs": [
    {
     "name": "stdout",
     "output_type": "stream",
     "text": [
      "Enter the amount to withdraw: 500\n",
      "Please collect your cash.....\n"
     ]
    },
    {
     "data": {
      "text/plain": [
       "'Available Balance = 1000'"
      ]
     },
     "execution_count": 2,
     "metadata": {},
     "output_type": "execute_result"
    }
   ],
   "source": [
    "obj.get_balance()"
   ]
  },
  {
   "cell_type": "markdown",
   "id": "8a0669cf",
   "metadata": {},
   "source": [
    "# 9. Discuss the advantages of encapsulation in terms of code maintainability and security."
   ]
  },
  {
   "cell_type": "markdown",
   "id": "340be331",
   "metadata": {},
   "source": [
    "**Data Security:** Encapsulation provides a mechanism for securing data within a class, as it prevents outside code from accessing or modifying the data directly. This helps to ensure data integrity and reduce the risk of data corruption or loss.\n",
    "\n",
    "**Code Reusability:** By encapsulating data and methods within a class, it is easier to reuse the code in other parts of the program. This makes it possible to create modular and reusable code, which can save time and effort in the development process.\n",
    "\n",
    "**Code Maintainability:** Encapsulation can improve the maintainability of the code by making it easier to locate and fix bugs or issues. The encapsulated code is self-contained and easier to test and debug, which can save time and effort in the maintenance process."
   ]
  },
  {
   "cell_type": "markdown",
   "id": "c5d04194",
   "metadata": {},
   "source": [
    "# 10. How can you access private attributes in Python? Provide an example demonstrating the use of name mangling."
   ]
  },
  {
   "cell_type": "raw",
   "id": "b286972a",
   "metadata": {},
   "source": [
    "In the world of Python, unlike Java, there’s no way of creating a private modifier. What python gives you is a simple mechanism to prevent accidental overriding of an attribute in your class if someone wants to inherit from your class.\n",
    "\n",
    "In the previous example, if you wanted to make the horn attribute private, you would need to prefix it with two underscores: __horn.This way, Python will store this attribute name in the instance __dict__ prefixed with an underscore and the class name. Thus, in the Vehicle class, your __horn attribute becomes _vehicle__horn and in MyCar class it becomes _MyCar__horn.This feature of python goes by the delicate name of name mangling. Here’s the code for what we discussed so far:"
   ]
  },
  {
   "cell_type": "code",
   "execution_count": 8,
   "id": "70a349c5",
   "metadata": {},
   "outputs": [],
   "source": [
    "class Map:\n",
    "    def __init__(self, iterate):\n",
    "        self.list = []\n",
    "        self.__geek(iterate)\n",
    "    def geek(self, iterate):\n",
    "        for item in iterate:\n",
    "            self.list.append(item)\n",
    " \n",
    "    # private copy of original geek() method\n",
    "    __geek = geek   \n",
    " \n",
    "class MapSubclass(Map):\n",
    "     \n",
    "    # provides new signature for geek() but\n",
    "    # does not break __init__()\n",
    "    def geek(self, key, value):        \n",
    "        for i in zip(keys, value):\n",
    "            self.list.append(i)"
   ]
  },
  {
   "cell_type": "markdown",
   "id": "e16e045f",
   "metadata": {},
   "source": [
    "# 11. Create a Python class hierarchy for a school system, including classes for students, teachers, and courses,and implement encapsulation principles to protect sensitive information."
   ]
  },
  {
   "cell_type": "code",
   "execution_count": null,
   "id": "3264f462",
   "metadata": {},
   "outputs": [],
   "source": []
  },
  {
   "cell_type": "markdown",
   "id": "85b5828d",
   "metadata": {},
   "source": [
    "# 12. Explain the concept of property decorators in Python and how they relate to encapsulation."
   ]
  },
  {
   "cell_type": "markdown",
   "id": "c5dc4b80",
   "metadata": {},
   "source": [
    "**@property decorator** is a built-in decorator in Python which is helpful in defining the properties effortlessly without manually calling the inbuilt function property(). Which is used to return the property attributes of a class from the stated getter, setter and deleter as parameters. "
   ]
  },
  {
   "cell_type": "code",
   "execution_count": 9,
   "id": "7ccdaa58",
   "metadata": {},
   "outputs": [
    {
     "name": "stdout",
     "output_type": "stream",
     "text": [
      "GeeksforGeeks\n"
     ]
    },
    {
     "ename": "AttributeError",
     "evalue": "'Portal' object has no attribute '_Portal__name'",
     "output_type": "error",
     "traceback": [
      "\u001b[1;31m---------------------------------------------------------------------------\u001b[0m",
      "\u001b[1;31mAttributeError\u001b[0m                            Traceback (most recent call last)",
      "\u001b[1;32m~\\AppData\\Local\\Temp\\6\\ipykernel_35740\\4142541578.py\u001b[0m in \u001b[0;36m<module>\u001b[1;34m\u001b[0m\n\u001b[0;32m     37\u001b[0m \u001b[1;31m# As name is deleted above this\u001b[0m\u001b[1;33m\u001b[0m\u001b[1;33m\u001b[0m\u001b[0m\n\u001b[0;32m     38\u001b[0m \u001b[1;31m# will throw an error\u001b[0m\u001b[1;33m\u001b[0m\u001b[1;33m\u001b[0m\u001b[0m\n\u001b[1;32m---> 39\u001b[1;33m \u001b[0mprint\u001b[0m \u001b[1;33m(\u001b[0m\u001b[0mp\u001b[0m\u001b[1;33m.\u001b[0m\u001b[0mname\u001b[0m\u001b[1;33m)\u001b[0m\u001b[1;33m\u001b[0m\u001b[1;33m\u001b[0m\u001b[0m\n\u001b[0m",
      "\u001b[1;32m~\\AppData\\Local\\Temp\\6\\ipykernel_35740\\4142541578.py\u001b[0m in \u001b[0;36mname\u001b[1;34m(self)\u001b[0m\n\u001b[0;32m     11\u001b[0m     \u001b[1;31m# Getter method\u001b[0m\u001b[1;33m\u001b[0m\u001b[1;33m\u001b[0m\u001b[0m\n\u001b[0;32m     12\u001b[0m     \u001b[1;32mdef\u001b[0m \u001b[0mname\u001b[0m\u001b[1;33m(\u001b[0m\u001b[0mself\u001b[0m\u001b[1;33m)\u001b[0m\u001b[1;33m:\u001b[0m\u001b[1;33m\u001b[0m\u001b[1;33m\u001b[0m\u001b[0m\n\u001b[1;32m---> 13\u001b[1;33m         \u001b[1;32mreturn\u001b[0m \u001b[0mself\u001b[0m\u001b[1;33m.\u001b[0m\u001b[0m__name\u001b[0m\u001b[1;33m\u001b[0m\u001b[1;33m\u001b[0m\u001b[0m\n\u001b[0m\u001b[0;32m     14\u001b[0m \u001b[1;33m\u001b[0m\u001b[0m\n\u001b[0;32m     15\u001b[0m     \u001b[1;31m# Setter method\u001b[0m\u001b[1;33m\u001b[0m\u001b[1;33m\u001b[0m\u001b[0m\n",
      "\u001b[1;31mAttributeError\u001b[0m: 'Portal' object has no attribute '_Portal__name'"
     ]
    }
   ],
   "source": [
    "# Defining class\n",
    "class Portal:\n",
    " \n",
    "    # Defining __init__ method\n",
    "    def __init__(self):\n",
    "        self.__name =''\n",
    "     \n",
    "    # Using @property decorator\n",
    "    @property\n",
    "     \n",
    "    # Getter method\n",
    "    def name(self):\n",
    "        return self.__name\n",
    "     \n",
    "    # Setter method\n",
    "    @name.setter\n",
    "    def name(self, val):\n",
    "        self.__name = val\n",
    " \n",
    "    # Deleter method\n",
    "    @name.deleter\n",
    "    def name(self):\n",
    "       del self.__name\n",
    " \n",
    "# Creating object\n",
    "p = Portal();\n",
    " \n",
    "# Setting name\n",
    "p.name = 'GeeksforGeeks'\n",
    " \n",
    "# Prints name\n",
    "print (p.name)\n",
    " \n",
    "# Deletes name\n",
    "del p.name\n",
    " \n",
    "# As name is deleted above this \n",
    "# will throw an error\n",
    "print (p.name)"
   ]
  },
  {
   "cell_type": "raw",
   "id": "9e67dbf9",
   "metadata": {},
   "source": [
    "Here, the @property decorator is used to define the property name in the class Portal, that has three methods(getter, setter, and deleter) with similar names i.e, name(), but they have different number of parameters. Where, the method name(self) labeled with @property is a getter method, name(self, val) is a setter method as it is used to set the value of the attribute __name and so its labeled with @name.setter. Lastly, the method labeled with @name.deleter is a deleter method which can delete the assigned value by the setter method. However, deleter is invoked with the help of a keyword del. "
   ]
  },
  {
   "cell_type": "markdown",
   "id": "7f9f023e",
   "metadata": {},
   "source": [
    "# 13. What is data hiding, and why is it important in encapsulation? Provide examples."
   ]
  },
  {
   "cell_type": "markdown",
   "id": "854f3d55",
   "metadata": {},
   "source": [
    "Data hiding is a technique of hiding internal object details, i.e., data members. It is an object-oriented programming technique. Data hiding ensures, or we can say guarantees to restrict the data access to class members. It maintains data integrity.\n",
    "\n",
    "Data hiding means hiding the internal data within the class to prevent its direct access from outside the class.\n",
    "\n",
    "If we talk about data encapsulation so, Data encapsulation hides the private methods and class data parts, whereas Data hiding only hides class data components. Both data hiding and data encapsulation are essential concepts of object-oriented programming. Encapsulation wraps up the complex data to present a simpler view to the user, whereas Data hiding restricts the data use to assure data security.\n",
    "\n",
    "Data hiding also helps to reduce the system complexity to increase the robustness by limiting the interdependencies between software components. Data hiding is achieved by using the private access specifier."
   ]
  },
  {
   "cell_type": "markdown",
   "id": "522f76e3",
   "metadata": {},
   "source": [
    "# 14. Create a Python class called `Employee` with private attributes for salary (`__salary`) and employee ID (`__employee_id`). Provide a method to calculate yearly bonuses."
   ]
  },
  {
   "cell_type": "code",
   "execution_count": 5,
   "id": "185c73e4",
   "metadata": {},
   "outputs": [
    {
     "name": "stdout",
     "output_type": "stream",
     "text": [
      "Enter the per hike per year10\n"
     ]
    },
    {
     "data": {
      "text/plain": [
       "'Bonus per year of id 4346 is RS.60000.0'"
      ]
     },
     "execution_count": 5,
     "metadata": {},
     "output_type": "execute_result"
    }
   ],
   "source": [
    "class Employee:\n",
    "    def __init__(self):\n",
    "        self.__emp_id = 4346\n",
    "        self.__salary = 50000\n",
    "        \n",
    "    @property   \n",
    "    def cal_bonus(self):\n",
    "        hike = float(input(\"Enter the per hike per year\"))\n",
    "        b = self.__salary*hike/100\n",
    "        return f\"Bonus per year of id {self.__emp_id} is RS.{b*12}\"\n",
    "\n",
    "e = Employee()\n",
    "e.cal_bonus"
   ]
  },
  {
   "cell_type": "markdown",
   "id": "6fd0b107",
   "metadata": {},
   "source": [
    "# 15. Discuss the use of accessors and mutators in encapsulation. How do they help maintain control over attribute access?"
   ]
  },
  {
   "cell_type": "raw",
   "id": "5df6060c",
   "metadata": {},
   "source": [
    "Accessors (getters) are methods that retrieve the values of an object’s attributes, while mutators (setters) are methods that modify the values of attributes. They are used to control access to object data, enforcing encapsulation and data integrity."
   ]
  },
  {
   "cell_type": "raw",
   "id": "5a3c0de2",
   "metadata": {},
   "source": [
    "The Accessor methods are also called getter methods as they are used to get an object data.\n",
    "\n",
    "In Python the accessor method is defined using @property decorator. When the accessor method is called it returns the private member variable value of the object.\n",
    "In the below example we will define a class Person with a private variable _name. We then create a name accessor method which returns the value of the _name variable which is a private member variable of Person class. We can access the _name attribute value by creating a person object and accessing the value using the name accessor method."
   ]
  },
  {
   "cell_type": "code",
   "execution_count": 1,
   "id": "ed902192",
   "metadata": {},
   "outputs": [
    {
     "name": "stdout",
     "output_type": "stream",
     "text": [
      "John\n"
     ]
    }
   ],
   "source": [
    "class Person:\n",
    "   def __init__(self, name):\n",
    "      self.__name = name\n",
    "\n",
    "   @property\n",
    "   def name(self):\n",
    "      return self.__name\n",
    "\n",
    "person = Person(\"John\")\n",
    "print(person.name)"
   ]
  },
  {
   "cell_type": "raw",
   "id": "c1b7807f",
   "metadata": {},
   "source": [
    "In python mutator methods are defined using the @.setter decorator which specifies that the particular method behaves like a setter method. When the mutator method is called it sets the value of the object private variable.\n",
    "\n",
    "Example\n",
    "In the below example we define a Person class which has a private _name variable. We also define a name accessor method and a name mutator method using @property and @name.setter decorator respectively. The name mutator method modifies the value of the _name variable when a value parameter is passed to it while calling the function."
   ]
  },
  {
   "cell_type": "code",
   "execution_count": 2,
   "id": "d7d74675",
   "metadata": {},
   "outputs": [
    {
     "name": "stdout",
     "output_type": "stream",
     "text": [
      "Jane\n"
     ]
    }
   ],
   "source": [
    "class Person:\n",
    "   def __init__(self, name):\n",
    "      self.__name = name\n",
    "\n",
    "   @property\n",
    "   def name(self):\n",
    "      return self.__name\n",
    "\n",
    "   @name.setter\n",
    "   def name(self, value):\n",
    "      self.__name = value\n",
    "\n",
    "person = Person(\"John\")\n",
    "person.name = \"Jane\"\n",
    "print(person.name) "
   ]
  },
  {
   "cell_type": "markdown",
   "id": "18f904d3",
   "metadata": {},
   "source": [
    "# 16. What are the potential drawbacks or disadvantages of using encapsulation in Python?"
   ]
  },
  {
   "cell_type": "markdown",
   "id": "b1f745aa",
   "metadata": {},
   "source": [
    "### Disadvantages of Encapsulation"
   ]
  },
  {
   "cell_type": "markdown",
   "id": "22b7c23c",
   "metadata": {},
   "source": [
    "**Code Size:** The length of the code increases drastically in the case of encapsulation as we need to provide all the methods with the specifiers.\n",
    "\n",
    "**More Instructions:** As the size of the code increases, therefore, you need to provide additional instructions for every method.\n",
    "\n",
    "**Increased code execution:** Encapsulation results in an increase in the duration of the program execution. It is because more instructions are added to the code therefore they require more time to execute."
   ]
  },
  {
   "cell_type": "markdown",
   "id": "0c272d80",
   "metadata": {},
   "source": [
    "# 17. Create a Python class for a library system that encapsulates book information, including titles, authors, and availability status."
   ]
  },
  {
   "cell_type": "code",
   "execution_count": null,
   "id": "8aad3771",
   "metadata": {},
   "outputs": [],
   "source": []
  },
  {
   "cell_type": "markdown",
   "id": "a56574d5",
   "metadata": {},
   "source": [
    "# 18. Explain how encapsulation enhances code reusability and modularity in Python programs."
   ]
  },
  {
   "attachments": {
    "image.png": {
     "image/png": "[encoded data removed]"
    }
   },
   "cell_type": "markdown",
   "id": "8fe3aecc",
   "metadata": {},
   "source": [
    "The encapsulation idea can be used to construct an information-hiding method, as was previously stated. This is one of the most widely utilised mechanisms in Java and is comparable to the abstraction idea. Almost all well-implemented Java classes have examples of it.\n",
    "You put in place a system for information concealment by blocking outside access to the class characteristics. For attributes that you want other classes to be able to read or update, you can additionally provide getter and/or setter methods.\n",
    "\n",
    "### Access Modifiers\n",
    "\n",
    "![image.png](attachment:image.png)\n",
    "\n",
    "You can limit the scope of a class, function Object() { [native code] }, variable, method, or data member by using access modifiers. It places some limitations on class members so that external functions cannot directly access them. There are four different kinds of access modifiers in object-oriented programming\n",
    "\n",
    "**Public**\n",
    "The scope of the public access modifier is extensive. It indicates that other classes and functions may access public class members (classes, methods, or data members). In other words, there are no restrictions on the scope of public class members, and they can be accessed from anywhere in the programme.\n",
    "\n",
    "**Private**\n",
    "Only the member methods inside the class are able to access the class members that have been designated private, which is only applicable to that class. In other words, no object or method outside the class can directly access them.\n",
    "\n",
    "**Protected**\n",
    "Comparable to a private access modifier, a protected access modifier restricts access to members of the same class or any subclasses descended from it. Depending on the modes of inheritance, this access through inheritance may change the access modifier of the base class elements in the derived class."
   ]
  },
  {
   "cell_type": "markdown",
   "id": "7424b787",
   "metadata": {},
   "source": [
    "# 19. Describe the concept of information hiding in encapsulation. Why is it essential in software development?"
   ]
  },
  {
   "cell_type": "markdown",
   "id": "00848601",
   "metadata": {},
   "source": [
    "Encapsulation and information hiding are key concepts used in object-oriented programming. Information hiding means separating the description of how to use a class from the implementation details. The idea of information hiding is that a programmer will be able to use a class we write without needing to know how the methods are implemented. All the programmer needs to know is what they provide to the class, and what they get in return. This keeps the amount of information needed to use a class minimal, meaning in turn that applying our classes is easier to do.\n",
    "\n",
    "Encapsulation means grouping software into units in such a way that it is easy to use with well-defined simple interfaces. Encapsulation and information hiding are related to each other, since both have a goal of making classes easier to use. The way that we make classes easy to use is by hiding the details of the implementation. This, in turn, makes the interfaces that face the user easier to understand.\n",
    "\n",
    "Hiding details from the user of a class can be done with scope. When we have publically scoped variables and functions, anything outside a class can access them. If we want to hide variables and functions, we simply make them private scope instead. When we are implementing encapsulation, we will typically make all property variables private, and define public methods to be able to set and get their values, known as accessor and mutator methods. As an example, let’s take a look at a typical Stack implementation."
   ]
  },
  {
   "cell_type": "markdown",
   "id": "cdf219ff",
   "metadata": {},
   "source": [
    "# 20. Create a Python class called `Customer` with private attributes for customer details like name, address, and contact information. Implement encapsulation to ensure data integrity and security."
   ]
  },
  {
   "cell_type": "code",
   "execution_count": 1,
   "id": "f1b39861",
   "metadata": {},
   "outputs": [
    {
     "name": "stdout",
     "output_type": "stream",
     "text": [
      "Name: John Doe\n",
      "Address: 123 Main St\n",
      "Contact: 555-1234\n",
      "\n",
      "Updated Details:\n",
      "Name: Jane Doe\n",
      "Address: 456 Oak St\n",
      "Contact: 555-5678\n"
     ]
    }
   ],
   "source": [
    "class Customer:\n",
    "    def __init__(self, name, address, contact):\n",
    "        self.__name = name\n",
    "        self.__address = address\n",
    "        self.__contact = contact\n",
    "\n",
    "    # Getter methods to access private attributes\n",
    "    def get_name(self):\n",
    "        return self.__name\n",
    "\n",
    "    def get_address(self):\n",
    "        return self.__address\n",
    "\n",
    "    def get_contact(self):\n",
    "        return self.__contact\n",
    "\n",
    "    # Setter methods to modify private attributes\n",
    "    def set_name(self, name):\n",
    "        self.__name = name\n",
    "\n",
    "    def set_address(self, address):\n",
    "        self.__address = address\n",
    "\n",
    "    def set_contact(self, contact):\n",
    "        self.__contact = contact\n",
    "\n",
    "# Example usage:\n",
    "if __name__ == \"__main__\":\n",
    "    # Creating a Customer object\n",
    "    customer1 = Customer(\"John Doe\", \"123 Main St\", \"555-1234\")\n",
    "\n",
    "    # Accessing customer details using getter methods\n",
    "    print(\"Name:\", customer1.get_name())\n",
    "    print(\"Address:\", customer1.get_address())\n",
    "    print(\"Contact:\", customer1.get_contact())\n",
    "\n",
    "    # Modifying customer details using setter methods\n",
    "    customer1.set_name(\"Jane Doe\")\n",
    "    customer1.set_address(\"456 Oak St\")\n",
    "    customer1.set_contact(\"555-5678\")\n",
    "\n",
    "    # Displaying updated customer details\n",
    "    print(\"\\nUpdated Details:\")\n",
    "    print(\"Name:\", customer1.get_name())\n",
    "    print(\"Address:\", customer1.get_address())\n",
    "    print(\"Contact:\", customer1.get_contact())"
   ]
  },
  {
   "cell_type": "markdown",
   "id": "e2f75681",
   "metadata": {},
   "source": [
    "# Polymorphism:"
   ]
  },
  {
   "cell_type": "markdown",
   "id": "7d02fa3d",
   "metadata": {},
   "source": [
    "# "
   ]
  },
  {
   "cell_type": "markdown",
   "id": "103554a2",
   "metadata": {},
   "source": [
    "# 1. What is polymorphism in Python? Explain how it is related to object-oriented programming."
   ]
  },
  {
   "cell_type": "markdown",
   "id": "28cc3276",
   "metadata": {},
   "source": [
    "Polymorphism is taken from the Greek words Poly (many) and morphism (forms). It means that the same function name can be used for different types. This makes programming more intuitive and easier.\n",
    "\n",
    "In Python, we have different ways to define polymorphism. So let’s move ahead and see how polymorphism works in Python."
   ]
  },
  {
   "cell_type": "markdown",
   "id": "977ea899",
   "metadata": {},
   "source": [
    "### Polymorphism in Python\n",
    "A child class inherits all the methods from the parent class. However, in some situations, the method inherited from the parent class doesn’t quite fit into the child class. In such cases, you will have to re-implement method in the child class."
   ]
  },
  {
   "cell_type": "markdown",
   "id": "021b6427",
   "metadata": {},
   "source": [
    "There are different methods to use polymorphism in Python. You can use different function, class methods or objects to define polymorphism. So, let’s move ahead and have a look at each of these methods in detail."
   ]
  },
  {
   "cell_type": "markdown",
   "id": "9e1f0b35",
   "metadata": {},
   "source": [
    "### Polymorphism with Function and Objects\n",
    "You can create a function that can take any object, allowing for polymorphism.\n",
    "\n",
    "Let’s take an example and create a function called “func()” which will take an object which we will name “obj”. Now, let’s give the function something to do that uses the ‘obj’ object we passed to it. In this case, let’s call the methods type() and color(), each of which is defined in the two classes ‘Tomato’ and ‘Apple’. Now, you have to create instantiations of both the ‘Tomato’ and ‘Apple’ classes if we don’t have them already:"
   ]
  },
  {
   "cell_type": "code",
   "execution_count": 2,
   "id": "60e100c3",
   "metadata": {},
   "outputs": [
    {
     "name": "stdout",
     "output_type": "stream",
     "text": [
      "Vegetable\n",
      "Red\n",
      "Fruit\n",
      "Red\n"
     ]
    }
   ],
   "source": [
    "class Tomato(): \n",
    "     def type(self): \n",
    "       print(\"Vegetable\") \n",
    "     def color(self):\n",
    "       print(\"Red\") \n",
    "class Apple(): \n",
    "     def type(self): \n",
    "       print(\"Fruit\") \n",
    "     def color(self): \n",
    "       print(\"Red\") \n",
    "      \n",
    "def func(obj): \n",
    "       obj.type() \n",
    "       obj.color()\n",
    "        \n",
    "obj_tomato = Tomato() \n",
    "obj_apple = Apple() \n",
    "func(obj_tomato) \n",
    "func(obj_apple)"
   ]
  },
  {
   "cell_type": "markdown",
   "id": "9d4f98fe",
   "metadata": {},
   "source": [
    "# 2. Describe the difference between compile-time polymorphism and runtime polymorphism in Python."
   ]
  },
  {
   "attachments": {
    "image.png": {
     "image/png": "[encoded data removed]"
    }
   },
   "cell_type": "markdown",
   "id": "93ec23fb",
   "metadata": {},
   "source": [
    "![image.png](attachment:image.png)"
   ]
  },
  {
   "attachments": {
    "image.png": {
     "image/png": "[encoded data removed]"
    }
   },
   "cell_type": "markdown",
   "id": "9ff07723",
   "metadata": {},
   "source": [
    "![image.png](attachment:image.png)"
   ]
  },
  {
   "cell_type": "markdown",
   "id": "9f500fcd",
   "metadata": {},
   "source": [
    "# 3. Create a Python class hierarchy for shapes (e.g., circle, square, triangle) and demonstrate polymorphism through a common method, such as `calculate_area()`."
   ]
  },
  {
   "cell_type": "code",
   "execution_count": 3,
   "id": "6b6a1dfd",
   "metadata": {},
   "outputs": [
    {
     "name": "stdout",
     "output_type": "stream",
     "text": [
      "Area of Circle: 78.53981633974483\n",
      "Area of Square: 16\n",
      "Area of Triangle: 9.0\n"
     ]
    }
   ],
   "source": [
    "import math\n",
    "\n",
    "class Shape:\n",
    "    def calculate_area(self):\n",
    "        pass  # Placeholder method to be overridden by derived classes\n",
    "\n",
    "class Circle(Shape):\n",
    "    def __init__(self, radius):\n",
    "        self.radius = radius\n",
    "\n",
    "    def calculate_area(self):\n",
    "        return math.pi * self.radius**2\n",
    "\n",
    "class Square(Shape):\n",
    "    def __init__(self, side_length):\n",
    "        self.side_length = side_length\n",
    "\n",
    "    def calculate_area(self):\n",
    "        return self.side_length**2\n",
    "\n",
    "class Triangle(Shape):\n",
    "    def __init__(self, base, height):\n",
    "        self.base = base\n",
    "        self.height = height\n",
    "\n",
    "    def calculate_area(self):\n",
    "        return 0.5 * self.base * self.height\n",
    "\n",
    "# Example usage demonstrating polymorphism\n",
    "if __name__ == \"__main__\":\n",
    "    # Creating instances of different shapes\n",
    "    circle = Circle(radius=5)\n",
    "    square = Square(side_length=4)\n",
    "    triangle = Triangle(base=3, height=6)\n",
    "\n",
    "    # Calculating and displaying areas using the common method\n",
    "    shapes = [circle, square, triangle]\n",
    "\n",
    "    for shape in shapes:\n",
    "        print(f\"Area of {type(shape).__name__}: {shape.calculate_area()}\")"
   ]
  },
  {
   "cell_type": "markdown",
   "id": "cace38c0",
   "metadata": {},
   "source": [
    "# 4. Explain the concept of method overriding in polymorphism. Provide an example."
   ]
  },
  {
   "cell_type": "markdown",
   "id": "7aa3f125",
   "metadata": {},
   "source": [
    "Method overriding is a concept in object-oriented programming that allows a subclass to provide a specific implementation of a method that is already defined in its superclass. This means that a subclass can provide a specialized version of a method that is already defined in its parent class, and when an object of the subclass is used, the overridden method in the subclass is called instead of the method in the parent class.\n",
    "\n",
    "Here's a simple explanation and example:\n",
    "\n",
    "### Explanation:\n",
    "#### Inheritance: \n",
    "When a subclass inherits from a superclass, it inherits the methods of the superclass.\n",
    "\n",
    "#### Method Overriding: \n",
    "The subclass can provide its own implementation of a method that is already defined in the superclass. This is known as method overriding.\n",
    "\n",
    "#### Signature: \n",
    "The overridden method in the subclass must have the same signature (name, return type, and parameters) as the method in the superclass.\n",
    "\n",
    "#### Example:\n",
    "Let's consider a class hierarchy for shapes with a calculate_area() method:"
   ]
  },
  {
   "cell_type": "code",
   "execution_count": 4,
   "id": "f25eeff9",
   "metadata": {},
   "outputs": [],
   "source": [
    "class Shape:\n",
    "    def calculate_area(self):\n",
    "        return 0  # Placeholder method to be overridden by derived classes\n",
    "\n",
    "class Circle(Shape):\n",
    "    def __init__(self, radius):\n",
    "        self.radius = radius\n",
    "\n",
    "    def calculate_area(self):\n",
    "        return math.pi * self.radius**2"
   ]
  },
  {
   "cell_type": "markdown",
   "id": "a87677ca",
   "metadata": {},
   "source": [
    "In this example, the Circle class is overriding the calculate_area() method from its superclass Shape. The overridden method in Circle provides a specific implementation for calculating the area of a circle.\n",
    "\n",
    "Here's how you can use it:"
   ]
  },
  {
   "cell_type": "code",
   "execution_count": 5,
   "id": "566c0cc8",
   "metadata": {},
   "outputs": [
    {
     "name": "stdout",
     "output_type": "stream",
     "text": [
      "Area of the circle: 78.53981633974483\n"
     ]
    }
   ],
   "source": [
    "circle = Circle(radius=5)\n",
    "\n",
    "# Calling the overridden method\n",
    "area = circle.calculate_area()\n",
    "\n",
    "print(f\"Area of the circle: {area}\")"
   ]
  },
  {
   "cell_type": "markdown",
   "id": "1448d4ef",
   "metadata": {},
   "source": [
    "In this example, when you call calculate_area() on an object of the Circle class, the overridden method in Circle is executed instead of the method in the Shape class. This is an example of method overriding in polymorphism."
   ]
  },
  {
   "cell_type": "markdown",
   "id": "aa7f3bd7",
   "metadata": {},
   "source": [
    "# 5. How is polymorphism different from method overloading in Python? Provide examples for both."
   ]
  },
  {
   "cell_type": "markdown",
   "id": "aedc08f1",
   "metadata": {},
   "source": [
    "Polymorphism and method overloading are related concepts in object-oriented programming but with some key differences. Let's discuss each concept and provide examples for both in Python.\n",
    "\n",
    "Polymorphism:\n",
    "Polymorphism refers to the ability of objects of different classes to be treated as objects of a common base class. It allows methods to be called on objects of different classes, and the appropriate method is executed based on the type of the object at runtime.\n",
    "\n",
    "Example:"
   ]
  },
  {
   "cell_type": "code",
   "execution_count": 6,
   "id": "0adf520a",
   "metadata": {},
   "outputs": [
    {
     "name": "stdout",
     "output_type": "stream",
     "text": [
      "Woof!\n",
      "Meow!\n"
     ]
    }
   ],
   "source": [
    "class Animal:\n",
    "    def sound(self):\n",
    "        pass\n",
    "\n",
    "class Dog(Animal):\n",
    "    def sound(self):\n",
    "        return \"Woof!\"\n",
    "\n",
    "class Cat(Animal):\n",
    "    def sound(self):\n",
    "        return \"Meow!\"\n",
    "\n",
    "# Polymorphic behavior\n",
    "def make_sound(animal):\n",
    "    return animal.sound()\n",
    "\n",
    "# Example usage\n",
    "dog = Dog()\n",
    "cat = Cat()\n",
    "\n",
    "print(make_sound(dog))  # Output: Woof!\n",
    "print(make_sound(cat))  # Output: Meow!\n"
   ]
  },
  {
   "cell_type": "markdown",
   "id": "58f73650",
   "metadata": {},
   "source": [
    "In this example, the make_sound function takes an Animal object as an argument. The sound() method is called on the provided object, and the appropriate implementation is executed based on the actual type of the object at runtime.\n",
    "\n",
    "### Method Overloading:\n",
    "Method Overloading refers to the ability to define multiple methods in a class with the same name but different parameter lists. In Python, method overloading is achieved through default values or variable-length arguments.\n",
    "\n",
    "Example"
   ]
  },
  {
   "cell_type": "code",
   "execution_count": 7,
   "id": "667ea91c",
   "metadata": {},
   "outputs": [
    {
     "name": "stdout",
     "output_type": "stream",
     "text": [
      "1\n",
      "3\n",
      "6\n"
     ]
    }
   ],
   "source": [
    "class Calculator:\n",
    "    def add(self, a, b=0, c=0):\n",
    "        return a + b + c\n",
    "\n",
    "# Example usage\n",
    "calc = Calculator()\n",
    "\n",
    "result1 = calc.add(1)\n",
    "result2 = calc.add(1, 2)\n",
    "result3 = calc.add(1, 2, 3)\n",
    "\n",
    "print(result1)  # Output: 1\n",
    "print(result2)  # Output: 3\n",
    "print(result3)  # Output: 6\n"
   ]
  },
  {
   "cell_type": "markdown",
   "id": "6441b79d",
   "metadata": {},
   "source": [
    "In this example, the add method is overloaded with different parameter lists. You can call it with one, two, or three arguments, and the appropriate version of the method is executed based on the number of arguments provided.\n",
    "\n",
    "### Key Differences:\n",
    "#### 1) Number of Methods:\n",
    "\n",
    "##### Polymorphism: \n",
    "One method is defined in the base class and overridden in the derived classes.\n",
    "##### Method Overloading: \n",
    "Multiple methods with the same name are defined in the same class.\n",
    "\n",
    "#### 2)Execution Time:\n",
    "\n",
    "##### Polymorphism: \n",
    "The decision of which method to execute is made at runtime based on the type of the object.\n",
    "##### Method Overloading: \n",
    "The decision of which method to execute is made at compile-time based on the method signature.\n",
    "In summary, polymorphism involves a single method name being used across different classes, while method overloading involves using the same method name within a class with different parameter lists."
   ]
  },
  {
   "cell_type": "markdown",
   "id": "1609fbb0",
   "metadata": {},
   "source": [
    "In summary, polymorphism involves a single method name being used across different classes, while method overloading involves using the same method name within a class with different parameter lists."
   ]
  },
  {
   "cell_type": "markdown",
   "id": "47f0842e",
   "metadata": {},
   "source": [
    "# 7. Discuss the use of abstract methods and classes in achieving polymorphism in Python. Provide an example using the `abc` module."
   ]
  },
  {
   "cell_type": "markdown",
   "id": "92f947ea",
   "metadata": {},
   "source": [
    "Abstract methods and classes are used to achieve polymorphism by defining a common interface that must be implemented by all derived classes. In Python, abstract classes are created using the abc (abstract base class) module. Abstract classes cannot be instantiated, and they require their derived classes to implement specific methods, ensuring a common interface.\n",
    "\n",
    "Here's an example using the abc module to create an abstract base class for shapes with an abstract method calculate_area():"
   ]
  },
  {
   "cell_type": "code",
   "execution_count": 8,
   "id": "ce553182",
   "metadata": {},
   "outputs": [
    {
     "name": "stdout",
     "output_type": "stream",
     "text": [
      "Area of Circle: 78.53981633974483\n",
      "Area of Square: 16\n",
      "Area of Triangle: 9.0\n"
     ]
    }
   ],
   "source": [
    "from abc import ABC, abstractmethod\n",
    "import math\n",
    "\n",
    "class Shape(ABC):\n",
    "    @abstractmethod\n",
    "    def calculate_area(self):\n",
    "        pass\n",
    "\n",
    "class Circle(Shape):\n",
    "    def __init__(self, radius):\n",
    "        self.radius = radius\n",
    "\n",
    "    def calculate_area(self):\n",
    "        return math.pi * self.radius**2\n",
    "\n",
    "class Square(Shape):\n",
    "    def __init__(self, side_length):\n",
    "        self.side_length = side_length\n",
    "\n",
    "    def calculate_area(self):\n",
    "        return self.side_length**2\n",
    "\n",
    "class Triangle(Shape):\n",
    "    def __init__(self, base, height):\n",
    "        self.base = base\n",
    "        self.height = height\n",
    "\n",
    "    def calculate_area(self):\n",
    "        return 0.5 * self.base * self.height\n",
    "\n",
    "# Example usage demonstrating polymorphism\n",
    "if __name__ == \"__main__\":\n",
    "    # Creating instances of different shapes\n",
    "    circle = Circle(radius=5)\n",
    "    square = Square(side_length=4)\n",
    "    triangle = Triangle(base=3, height=6)\n",
    "\n",
    "    # Calculating and displaying areas using the common interface\n",
    "    shapes = [circle, square, triangle]\n",
    "\n",
    "    for shape in shapes:\n",
    "        print(f\"Area of {type(shape).__name__}: {shape.calculate_area()}\")"
   ]
  },
  {
   "cell_type": "markdown",
   "id": "15798549",
   "metadata": {},
   "source": [
    "In this example:\n",
    "\n",
    "The Shape class is an abstract base class with the calculate_area method marked as abstract using the @abstractmethod decorator. This means that any class inheriting from Shape must provide an implementation for calculate_area.\n",
    "\n",
    "The Circle, Square, and Triangle classes are derived from Shape and provide their own implementations of the calculate_area method.\n",
    "\n",
    "The shapes list contains instances of different shapes (Circle, Square, Triangle), and a common method (calculate_area) is called on each object.\n",
    "\n",
    "Using abstract methods and classes in this way ensures that all derived classes adhere to a common interface, allowing for polymorphic behavior. If any of the derived classes fails to implement the abstract method, it will raise a TypeError at runtime."
   ]
  },
  {
   "cell_type": "markdown",
   "id": "ae96f4cf",
   "metadata": {},
   "source": [
    "# 8. Create a Python class hierarchy for a vehicle system (e.g., car, bicycle, boat) and implement a polymorphic `start()` method that prints a message specific to each vehicle type."
   ]
  },
  {
   "cell_type": "code",
   "execution_count": 9,
   "id": "4a2665a7",
   "metadata": {},
   "outputs": [
    {
     "name": "stdout",
     "output_type": "stream",
     "text": [
      "Toyota Camry is starting. Vroom, vroom!\n",
      "Schwinn Cruiser is starting. Pedal, pedal!\n",
      "Sea Ray Sundancer is starting. Engine rumbling on the water!\n"
     ]
    }
   ],
   "source": [
    "class Vehicle:\n",
    "    def __init__(self, brand, model):\n",
    "        self.brand = brand\n",
    "        self.model = model\n",
    "\n",
    "    def start(self):\n",
    "        raise NotImplementedError(\"Subclasses must implement the start method\")\n",
    "\n",
    "class Car(Vehicle):\n",
    "    def start(self):\n",
    "        return f\"{self.brand} {self.model} is starting. Vroom, vroom!\"\n",
    "\n",
    "class Bicycle(Vehicle):\n",
    "    def start(self):\n",
    "        return f\"{self.brand} {self.model} is starting. Pedal, pedal!\"\n",
    "\n",
    "class Boat(Vehicle):\n",
    "    def start(self):\n",
    "        return f\"{self.brand} {self.model} is starting. Engine rumbling on the water!\"\n",
    "\n",
    "# Example usage demonstrating polymorphism\n",
    "if __name__ == \"__main__\":\n",
    "    # Creating instances of different vehicles\n",
    "    car = Car(brand=\"Toyota\", model=\"Camry\")\n",
    "    bicycle = Bicycle(brand=\"Schwinn\", model=\"Cruiser\")\n",
    "    boat = Boat(brand=\"Sea Ray\", model=\"Sundancer\")\n",
    "\n",
    "    # Calling the polymorphic start() method for each vehicle\n",
    "    vehicles = [car, bicycle, boat]\n",
    "\n",
    "    for vehicle in vehicles:\n",
    "        print(vehicle.start())\n"
   ]
  },
  {
   "cell_type": "markdown",
   "id": "644068f5",
   "metadata": {},
   "source": [
    "# 9. Explain the significance of the `isinstance()` and `issubclass()` functions in Python polymorphism."
   ]
  },
  {
   "cell_type": "markdown",
   "id": "7a0fccd9",
   "metadata": {},
   "source": [
    "The isinstance() and issubclass() functions in Python are essential tools when working with polymorphism. They help determine the type of an object or class hierarchy relationships, respectively. Here's an explanation of their significance in the context of polymorphism:\n",
    "\n",
    "1. isinstance()\n",
    "The isinstance() function is used to check if an object is an instance of a particular class or a tuple of classes. It plays a crucial role in polymorphism because it allows you to determine if an object can be treated as an instance of a certain type before attempting to perform operations on it.\n",
    "\n",
    "Example:"
   ]
  },
  {
   "cell_type": "code",
   "execution_count": 10,
   "id": "2350092f",
   "metadata": {},
   "outputs": [
    {
     "name": "stdout",
     "output_type": "stream",
     "text": [
      "True\n",
      "True\n",
      "False\n"
     ]
    }
   ],
   "source": [
    "class Animal:\n",
    "    pass\n",
    "\n",
    "class Dog(Animal):\n",
    "    pass\n",
    "\n",
    "class Cat(Animal):\n",
    "    pass\n",
    "\n",
    "dog_instance = Dog()\n",
    "\n",
    "# Checking if an object is an instance of a particular class\n",
    "print(isinstance(dog_instance, Dog))  # Output: True\n",
    "print(isinstance(dog_instance, Animal))  # Output: True\n",
    "print(isinstance(dog_instance, Cat))  # Output: False\n"
   ]
  },
  {
   "cell_type": "markdown",
   "id": "70dcdc57",
   "metadata": {},
   "source": [
    "In polymorphism, you might have a list of objects of different types, and isinstance() helps you safely perform operations specific to each type without causing errors.\n",
    "\n",
    "2. issubclass()\n",
    "The issubclass() function is used to check if a class is a subclass of another class. This is important in polymorphism because it allows you to verify the hierarchy relationships between classes. It helps ensure that a derived class can be used wherever its base class is expected, contributing to the flexibility of polymorphic code.\n",
    "\n",
    "Example:"
   ]
  },
  {
   "cell_type": "code",
   "execution_count": 11,
   "id": "a6125747",
   "metadata": {},
   "outputs": [
    {
     "name": "stdout",
     "output_type": "stream",
     "text": [
      "True\n",
      "True\n",
      "True\n"
     ]
    }
   ],
   "source": [
    "class Animal:\n",
    "    pass\n",
    "\n",
    "class Mammal(Animal):\n",
    "    pass\n",
    "\n",
    "class Dog(Mammal):\n",
    "    pass\n",
    "\n",
    "# Checking if a class is a subclass of another class\n",
    "print(issubclass(Mammal, Animal))  # Output: True\n",
    "print(issubclass(Dog, Mammal))  # Output: True\n",
    "print(issubclass(Dog, Animal))  # Output: True"
   ]
  },
  {
   "cell_type": "markdown",
   "id": "ae68fc1f",
   "metadata": {},
   "source": [
    "In polymorphism, you may want to design code that works with a base class but is also compatible with any of its derived classes. issubclass() helps you verify these relationships dynamically.\n",
    "\n",
    "Summary:\n",
    "*isinstance() is used to check the type of an object at runtime, enabling safe and dynamic operations based on the actual type of an object.\n",
    "\n",
    "*issubclass() is used to check class hierarchy relationships, allowing you to ensure that a particular class can be used polymorphically where its base class is expected.\n",
    "\n",
    "Together, these functions contribute to the flexibility and safety of polymorphic code by providing tools to dynamically determine object types and class relationships at runtime."
   ]
  },
  {
   "cell_type": "markdown",
   "id": "fdbdd813",
   "metadata": {},
   "source": [
    "# 10. What is the role of the `@abstractmethod` decorator in achieving polymorphism in Python? Provide an example."
   ]
  },
  {
   "cell_type": "markdown",
   "id": "56521d3f",
   "metadata": {},
   "source": [
    "The @abstractmethod decorator in Python, part of the abc (abstract base class) module, is used to declare abstract methods within abstract classes. Abstract methods are methods that have no implementation in the abstract base class but must be implemented by any concrete (non-abstract) subclass. This plays a significant role in achieving polymorphism by enforcing a common interface across different classes.\n",
    "\n",
    "Here's an example to illustrate the role of @abstractmethod in achieving polymorphism:"
   ]
  },
  {
   "cell_type": "code",
   "execution_count": 12,
   "id": "bb47bcbb",
   "metadata": {},
   "outputs": [
    {
     "name": "stdout",
     "output_type": "stream",
     "text": [
      "Area of Circle: 78.5\n",
      "Area of Square: 16\n",
      "Area of Triangle: 9.0\n"
     ]
    }
   ],
   "source": [
    "from abc import ABC, abstractmethod\n",
    "\n",
    "# Abstract base class with an abstract method\n",
    "class Shape(ABC):\n",
    "    @abstractmethod\n",
    "    def calculate_area(self):\n",
    "        pass\n",
    "\n",
    "# Concrete subclasses implementing the abstract method\n",
    "class Circle(Shape):\n",
    "    def __init__(self, radius):\n",
    "        self.radius = radius\n",
    "\n",
    "    def calculate_area(self):\n",
    "        return 3.14 * self.radius**2\n",
    "\n",
    "class Square(Shape):\n",
    "    def __init__(self, side_length):\n",
    "        self.side_length = side_length\n",
    "\n",
    "    def calculate_area(self):\n",
    "        return self.side_length**2\n",
    "\n",
    "class Triangle(Shape):\n",
    "    def __init__(self, base, height):\n",
    "        self.base = base\n",
    "        self.height = height\n",
    "\n",
    "    def calculate_area(self):\n",
    "        return 0.5 * self.base * self.height\n",
    "\n",
    "# Example usage demonstrating polymorphism\n",
    "if __name__ == \"__main__\":\n",
    "    # Creating instances of different shapes\n",
    "    circle = Circle(radius=5)\n",
    "    square = Square(side_length=4)\n",
    "    triangle = Triangle(base=3, height=6)\n",
    "\n",
    "    # Calculating and displaying areas using the common interface\n",
    "    shapes = [circle, square, triangle]\n",
    "\n",
    "    for shape in shapes:\n",
    "        print(f\"Area of {type(shape).__name__}: {shape.calculate_area()}\")\n"
   ]
  },
  {
   "cell_type": "markdown",
   "id": "1cbc2fd6",
   "metadata": {},
   "source": [
    "The Shape class is an abstract base class with the calculate_area method marked as abstract using the @abstractmethod decorator. This enforces that any concrete subclass must provide its own implementation of the calculate_area method.\n",
    "\n",
    "The Circle, Square, and Triangle classes inherit from Shape and implement the calculate_area method according to their specific shapes.\n",
    "\n",
    "The example usage section demonstrates creating instances of different shapes and calculating their areas using the common interface provided by the abstract method calculate_area. The actual method called depends on the type of the object at runtime, demonstrating polymorphic behavior.\n",
    "\n",
    "In summary, the @abstractmethod decorator ensures that a method must be implemented by any concrete subclass, providing a common interface for polymorphism. It allows you to define a structure that subclasses must follow, promoting code consistency and maintainability."
   ]
  },
  {
   "cell_type": "markdown",
   "id": "8bd358fc",
   "metadata": {},
   "source": [
    "# 11. Create a Python class called `Shape` with a polymorphic method `area()` that calculates the area of different shapes (e.g., circle, rectangle, triangle)."
   ]
  },
  {
   "cell_type": "code",
   "execution_count": 13,
   "id": "8bf41033",
   "metadata": {},
   "outputs": [
    {
     "name": "stdout",
     "output_type": "stream",
     "text": [
      "Area of Circle: 78.53981633974483\n",
      "Area of Rectangle: 24\n",
      "Area of Triangle: 12.0\n"
     ]
    }
   ],
   "source": [
    "import math\n",
    "\n",
    "class Shape:\n",
    "    def area(self):\n",
    "        raise NotImplementedError(\"Subclasses must implement the area method\")\n",
    "\n",
    "class Circle(Shape):\n",
    "    def __init__(self, radius):\n",
    "        self.radius = radius\n",
    "\n",
    "    def area(self):\n",
    "        return math.pi * self.radius**2\n",
    "\n",
    "class Rectangle(Shape):\n",
    "    def __init__(self, length, width):\n",
    "        self.length = length\n",
    "        self.width = width\n",
    "\n",
    "    def area(self):\n",
    "        return self.length * self.width\n",
    "\n",
    "class Triangle(Shape):\n",
    "    def __init__(self, base, height):\n",
    "        self.base = base\n",
    "        self.height = height\n",
    "\n",
    "    def area(self):\n",
    "        return 0.5 * self.base * self.height\n",
    "\n",
    "# Example usage demonstrating polymorphism\n",
    "if __name__ == \"__main__\":\n",
    "    # Creating instances of different shapes\n",
    "    circle = Circle(radius=5)\n",
    "    rectangle = Rectangle(length=4, width=6)\n",
    "    triangle = Triangle(base=3, height=8)\n",
    "\n",
    "    # Calculating and displaying areas using the common method\n",
    "    shapes = [circle, rectangle, triangle]\n",
    "\n",
    "    for shape in shapes:\n",
    "        print(f\"Area of {type(shape).__name__}: {shape.area()}\")"
   ]
  },
  {
   "cell_type": "markdown",
   "id": "6262c278",
   "metadata": {},
   "source": [
    "In this example:\n",
    "\n",
    "* The Shape class is the base class with the area() method marked as abstract by raising a NotImplementedError. This enforces that any concrete subclass must provide its own implementation of the area() method.\n",
    "\n",
    "* The Circle, Rectangle, and Triangle classes inherit from Shape and provide their own implementations of the area() method to calculate the area specific to each shape.\n",
    "\n",
    "* The example usage section demonstrates creating instances of different shapes and calculating their areas using the common area() method. The actual method called depends on the type of the object at runtime, demonstrating polymorphic behavior.\n",
    "\n",
    "This structure allows you to easily extend the system by adding new shapes without modifying the existing Shape class, promoting code flexibility and maintainability."
   ]
  },
  {
   "cell_type": "markdown",
   "id": "2bf04baf",
   "metadata": {},
   "source": [
    "# 12. Discuss the benefits of polymorphism in terms of code reusability and flexibility in Python programs.\n"
   ]
  },
  {
   "cell_type": "markdown",
   "id": "7654ec0f",
   "metadata": {},
   "source": [
    "Polymorphism in Python offers several benefits, particularly in terms of code reusability and flexibility. Here are some key advantages:\n",
    "\n",
    "1. Code Reusability:\n",
    "* Interface Consistency: Polymorphism allows you to define a common interface (e.g., a method with the same name) across different classes. This common interface enables code to be reused for different objects of related types.\n",
    "\n",
    "* Abstract Classes: Abstract classes and interfaces (achieved through abstract methods) provide a blueprint for classes. By defining abstract classes with common methods, you ensure that derived classes adhere to a consistent interface, facilitating code reuse.\n",
    "\n",
    "* Inheritance: Polymorphism is often used in conjunction with inheritance. With inheritance, common functionality can be implemented in a base class, and subclasses can inherit and extend that functionality. This promotes reuse of code across similar classes.\n",
    "\n",
    "2. Flexibility:\n",
    "* Dynamic Behavior: Polymorphism allows for dynamic behavior in the program. The actual method called is determined at runtime based on the type of the object. This flexibility is valuable when dealing with diverse objects at runtime.\n",
    "\n",
    "* Extensibility: New classes can be added to a system without modifying existing code. As long as the new classes adhere to the common interface (e.g., by implementing the same methods), they seamlessly integrate into the existing codebase.\n",
    "\n",
    "* Adaptability: Polymorphism enables code to adapt to different types without explicit type checking. This makes the code more adaptable to changes and extensions, improving maintainability.\n",
    "\n",
    "3. Reduced Coupling:\n",
    "* Loose Coupling: Polymorphism promotes loose coupling between classes. Code that interacts with objects often relies only on the common interface rather than specific implementations. This reduces dependencies between classes, making the system more modular and easier to maintain.\n",
    "\n",
    "* Dependency Inversion: Polymorphism supports the principles of dependency inversion. High-level modules can depend on abstractions (e.g., abstract classes or interfaces) rather than specific implementations, making the system more flexible and resilient to changes.\n",
    "\n",
    "4. Enhanced Readability:\n",
    "* Abstraction: Polymorphism allows you to abstract away the details of specific implementations, making the code more readable and focused on high-level concepts. This abstraction enhances the overall understanding of the code.\n",
    "\n",
    "* Expressive Code: Polymorphic code is often more expressive. It reflects the natural relationships between objects in a system, making the codebase clearer and more intuitive.\n",
    "\n",
    "Conclusion:\n",
    "* Polymorphism, when used effectively, contributes significantly to the overall maintainability, readability, and flexibility of Python programs. By promoting code reusability and reducing dependencies, polymorphism enables the creation of adaptable and extensible systems. This is especially valuable in dynamic and evolving software environments."
   ]
  },
  {
   "cell_type": "markdown",
   "id": "874f4002",
   "metadata": {},
   "source": [
    "# 13. Explain the use of the `super()` function in Python polymorphism. How does it help call methods of parent classes?"
   ]
  },
  {
   "cell_type": "markdown",
   "id": "423ee3c6",
   "metadata": {},
   "source": [
    "In Python, the super() function is used to call methods of a parent or superclass in the context of inheritance. It is particularly useful in achieving polymorphism and maintaining a clean and maintainable code structure."
   ]
  },
  {
   "cell_type": "markdown",
   "id": "ddff323b",
   "metadata": {},
   "source": [
    "### Use of super() in Python Polymorphism:"
   ]
  },
  {
   "cell_type": "markdown",
   "id": "f5bed5d5",
   "metadata": {},
   "source": [
    "#### 1)Calling Parent Class Methods:\n",
    "When a subclass overrides a method of its superclass, the super() function allows you to call the overridden method in the parent class.\n",
    "\n",
    "#### 2)Initialization in Inheritance:\n",
    "In the context of inheritance, super() is commonly used in the __init__ method of a subclass to invoke the constructor of the parent class before adding its own initialization logic.\n",
    "\n",
    "#### 3)Method Chaining:\n",
    "super() can be used to create a chain of method calls across multiple levels of inheritance, ensuring that each class in the hierarchy gets an opportunity to perform its own actions."
   ]
  },
  {
   "cell_type": "markdown",
   "id": "aece2537",
   "metadata": {},
   "source": [
    "#### Example:\n",
    "Consider a simple example with a base class Vehicle and a subclass Car. The Car class overrides the start() method while using super() to call the start() method of the Vehicle class:"
   ]
  },
  {
   "cell_type": "code",
   "execution_count": 14,
   "id": "b5e4b0c9",
   "metadata": {},
   "outputs": [
    {
     "name": "stdout",
     "output_type": "stream",
     "text": [
      "Vehicle is starting. Now, the car is starting.\n"
     ]
    }
   ],
   "source": [
    "class Vehicle:\n",
    "    def start(self):\n",
    "        return \"Vehicle is starting.\"\n",
    "\n",
    "class Car(Vehicle):\n",
    "    def start(self):\n",
    "        # Calling the start() method of the parent class using super()\n",
    "        return super().start() + \" Now, the car is starting.\"\n",
    "\n",
    "# Example usage\n",
    "if __name__ == \"__main__\":\n",
    "    car = Car()\n",
    "    print(car.start())\n"
   ]
  },
  {
   "cell_type": "markdown",
   "id": "292ad3b0",
   "metadata": {},
   "source": [
    "In this example:\n",
    "\n",
    "The Car class overrides the start() method inherited from the Vehicle class.\n",
    "The super().start() call in the Car class invokes the start() method of the parent class (Vehicle), allowing you to reuse and extend the behavior defined in the base class."
   ]
  },
  {
   "cell_type": "markdown",
   "id": "b3e6261d",
   "metadata": {},
   "source": [
    "### Benefits of super() in Polymorphism:\n",
    "#### 1)Maintainability:\n",
    "* super() promotes a clean and maintainable code structure by providing a clear and concise way to invoke methods from parent classes.\n",
    "\n",
    "#### 2)Flexibility:\n",
    "* Using super() makes it easy to modify the behavior of a subclass while still leveraging the functionality provided by the parent class. This enhances the flexibility of the code.\n",
    "\n",
    "#### 3)Consistency:\n",
    "* super() ensures a consistent and predictable method resolution order in multiple inheritance scenarios.\n",
    "\n",
    "#### 4)Avoiding Code Duplication:\n",
    "* By calling the parent class methods with super(), you can avoid duplicating code and promote code reuse.\n",
    "\n",
    "In summary, the super() function is a valuable tool in achieving polymorphism by allowing you to call methods of parent classes in an inheritance hierarchy, enabling the reuse and extension of functionality.\n",
    "\n"
   ]
  },
  {
   "cell_type": "markdown",
   "id": "9f317c16",
   "metadata": {},
   "source": [
    "# 14. Create a Python class hierarchy for a banking system with various account types (e.g., savings, checking, credit card) and demonstrate polymorphism by implementing a common `withdraw()` method."
   ]
  },
  {
   "cell_type": "code",
   "execution_count": 15,
   "id": "c0146987",
   "metadata": {},
   "outputs": [
    {
     "name": "stdout",
     "output_type": "stream",
     "text": [
      "Account SA123: Withdrawal of 200 from savings account successful. Remaining balance: 795\n",
      "Account CA456: Withdrawal of 200 from checking account successful. Remaining balance: 1300\n",
      "Account CC789: Withdrawal of 200 from credit card account successful. Remaining balance: -400\n"
     ]
    }
   ],
   "source": [
    "class BankAccount:\n",
    "    def __init__(self, account_number, balance):\n",
    "        self.account_number = account_number\n",
    "        self.balance = balance\n",
    "\n",
    "    def withdraw(self, amount):\n",
    "        if amount > 0 and amount <= self.balance:\n",
    "            self.balance -= amount\n",
    "            return f\"Withdrawal of {amount} successful. Remaining balance: {self.balance}\"\n",
    "        else:\n",
    "            return \"Withdrawal failed. Insufficient funds.\"\n",
    "\n",
    "class SavingsAccount(BankAccount):\n",
    "    def __init__(self, account_number, balance, interest_rate):\n",
    "        super().__init__(account_number, balance)\n",
    "        self.interest_rate = interest_rate\n",
    "\n",
    "    def withdraw(self, amount):\n",
    "        # Apply a penalty for excessive withdrawals in savings account\n",
    "        penalty = 5\n",
    "        if amount > 0 and amount <= (self.balance - penalty):\n",
    "            self.balance -= (amount + penalty)\n",
    "            return f\"Withdrawal of {amount} from savings account successful. Remaining balance: {self.balance}\"\n",
    "        else:\n",
    "            return \"Withdrawal from savings account failed. Insufficient funds or excessive withdrawal.\"\n",
    "\n",
    "class CheckingAccount(BankAccount):\n",
    "    def __init__(self, account_number, balance, overdraft_limit):\n",
    "        super().__init__(account_number, balance)\n",
    "        self.overdraft_limit = overdraft_limit\n",
    "\n",
    "    def withdraw(self, amount):\n",
    "        # Allow overdraft up to the specified limit in checking account\n",
    "        if amount > 0 and amount <= (self.balance + self.overdraft_limit):\n",
    "            self.balance -= amount\n",
    "            return f\"Withdrawal of {amount} from checking account successful. Remaining balance: {self.balance}\"\n",
    "        else:\n",
    "            return \"Withdrawal from checking account failed. Insufficient funds or exceeded overdraft limit.\"\n",
    "\n",
    "class CreditCardAccount(BankAccount):\n",
    "    def __init__(self, account_number, balance, credit_limit):\n",
    "        super().__init__(account_number, balance)\n",
    "        self.credit_limit = credit_limit\n",
    "\n",
    "    def withdraw(self, amount):\n",
    "        # Allow withdrawal up to the credit limit in credit card account\n",
    "        if amount > 0 and amount <= (self.balance + self.credit_limit):\n",
    "            self.balance -= amount\n",
    "            return f\"Withdrawal of {amount} from credit card account successful. Remaining balance: {self.balance}\"\n",
    "        else:\n",
    "            return \"Withdrawal from credit card account failed. Exceeded credit limit.\"\n",
    "\n",
    "# Example usage demonstrating polymorphism\n",
    "if __name__ == \"__main__\":\n",
    "    # Creating instances of different account types\n",
    "    savings_account = SavingsAccount(account_number=\"SA123\", balance=1000, interest_rate=0.02)\n",
    "    checking_account = CheckingAccount(account_number=\"CA456\", balance=1500, overdraft_limit=500)\n",
    "    credit_card_account = CreditCardAccount(account_number=\"CC789\", balance=-200, credit_limit=1000)\n",
    "\n",
    "    # Performing withdrawals using the common method\n",
    "    accounts = [savings_account, checking_account, credit_card_account]\n",
    "\n",
    "    for account in accounts:\n",
    "        print(f\"Account {account.account_number}: {account.withdraw(200)}\")\n"
   ]
  },
  {
   "cell_type": "markdown",
   "id": "7b0f3330",
   "metadata": {},
   "source": [
    "# 15. Describe the concept of operator overloading in Python and how it relates to polymorphism. Provide examples using operators like `+` and `*`.\n"
   ]
  },
  {
   "cell_type": "markdown",
   "id": "259aeefb",
   "metadata": {},
   "source": [
    "Operator overloading in Python allows you to define how operators behave for objects of a user-defined class. By overloading operators, you can provide a custom implementation for the behavior of operators like +, *, ==, etc., for instances of your class. This concept is closely related to polymorphism because it enables objects of different classes to respond to the same operator in a way that makes sense for each class."
   ]
  },
  {
   "cell_type": "markdown",
   "id": "980e30f5",
   "metadata": {},
   "source": [
    "In Python, polymorphism allows objects of different types to be treated as objects of a common base type. When it comes to operator overloading, polymorphism enables different classes to define their own behavior for the same operator. This allows you to use the same operator on instances of different classes, and the appropriate implementation is called based on the type of the objects."
   ]
  },
  {
   "cell_type": "markdown",
   "id": "6fd22972",
   "metadata": {},
   "source": [
    "#### Example using + operator:"
   ]
  },
  {
   "cell_type": "code",
   "execution_count": 16,
   "id": "df2c1991",
   "metadata": {},
   "outputs": [
    {
     "name": "stdout",
     "output_type": "stream",
     "text": [
      "Result of point1 + point2: (4, 6)\n",
      "TypeError: Unsupported operand type. Can only add Point objects.\n"
     ]
    }
   ],
   "source": [
    "class Point:\n",
    "    def __init__(self, x, y):\n",
    "        self.x = x\n",
    "        self.y = y\n",
    "\n",
    "    def __add__(self, other_point):\n",
    "        if isinstance(other_point, Point):\n",
    "            # Addition for Point objects\n",
    "            return Point(self.x + other_point.x, self.y + other_point.y)\n",
    "        else:\n",
    "            # Handling addition with non-Point objects gracefully\n",
    "            raise TypeError(\"Unsupported operand type. Can only add Point objects.\")\n",
    "\n",
    "# Example usage demonstrating operator overloading and polymorphism\n",
    "if __name__ == \"__main__\":\n",
    "    point1 = Point(1, 2)\n",
    "    point2 = Point(3, 4)\n",
    "    point3 = Point(5, 6)\n",
    "\n",
    "    # Using the + operator on Point objects\n",
    "    result_point = point1 + point2\n",
    "\n",
    "    print(f\"Result of point1 + point2: ({result_point.x}, {result_point.y})\")\n",
    "\n",
    "    try:\n",
    "        # Attempting to use the + operator with a non-Point object\n",
    "        invalid_result = point1 + \"invalid\"\n",
    "    except TypeError as e:\n",
    "        print(f\"TypeError: {e}\")\n"
   ]
  },
  {
   "cell_type": "markdown",
   "id": "b6429f66",
   "metadata": {},
   "source": [
    "#### Example using * operator:"
   ]
  },
  {
   "cell_type": "code",
   "execution_count": 17,
   "id": "bbb45d84",
   "metadata": {},
   "outputs": [
    {
     "name": "stdout",
     "output_type": "stream",
     "text": [
      "Result of vector1 * 2: (4, 6)\n"
     ]
    }
   ],
   "source": [
    "class Vector:\n",
    "    def __init__(self, x, y):\n",
    "        self.x = x\n",
    "        self.y = y\n",
    "\n",
    "    def __mul__(self, scalar):\n",
    "        # Multiplication for Vector objects by a scalar\n",
    "        return Vector(self.x * scalar, self.y * scalar)\n",
    "\n",
    "# Example usage demonstrating operator overloading and polymorphism\n",
    "if __name__ == \"__main__\":\n",
    "    vector1 = Vector(2, 3)\n",
    "\n",
    "    # Using the * operator on a Vector object\n",
    "    scaled_vector = vector1 * 2\n",
    "\n",
    "    print(f\"Result of vector1 * 2: ({scaled_vector.x}, {scaled_vector.y})\")\n"
   ]
  },
  {
   "cell_type": "markdown",
   "id": "938e01a4",
   "metadata": {},
   "source": [
    "# 16. What is dynamic polymorphism, and how is it achieved in Python?"
   ]
  },
  {
   "cell_type": "markdown",
   "id": "a9874a85",
   "metadata": {},
   "source": [
    "Dynamic polymorphism, also known as runtime polymorphism, is a concept in object-oriented programming where the actual method or operation that gets executed is determined at runtime rather than at compile-time. It allows objects of different types to be treated as objects of a common base type, and the appropriate method is invoked based on the actual type of the object at runtime.\n",
    "\n",
    "In Python, dynamic polymorphism is achieved through method overriding and the use of a common interface, often implemented using abstract classes or interfaces. When a method is called on an object, the interpreter determines the actual type of the object at runtime and invokes the corresponding method for that type.\n",
    "\n",
    "### Key Elements of Dynamic Polymorphism in Python:\n",
    "* Inheritance: Dynamic polymorphism relies on the inheritance relationship between classes. Subclasses inherit methods from their superclass, and they can override these methods to provide their own implementations.\n",
    "\n",
    "* Method Overriding: Subclasses can provide their own implementation of a method that is already defined in their superclass. This allows a common method name to be used across different classes, and the actual method called is determined at runtime based on the type of the object.\n",
    "\n",
    "* Common Interface: A common interface, often achieved through abstract classes or interfaces, ensures that different classes adhere to the same method names and signatures. This is essential for achieving a consistent interface across diverse objects."
   ]
  },
  {
   "cell_type": "code",
   "execution_count": 18,
   "id": "2e1f4f1a",
   "metadata": {},
   "outputs": [
    {
     "name": "stdout",
     "output_type": "stream",
     "text": [
      "Woof!\n",
      "Meow!\n"
     ]
    }
   ],
   "source": [
    "class Animal:\n",
    "    def speak(self):\n",
    "        pass\n",
    "\n",
    "class Dog(Animal):\n",
    "    def speak(self):\n",
    "        return \"Woof!\"\n",
    "\n",
    "class Cat(Animal):\n",
    "    def speak(self):\n",
    "        return \"Meow!\"\n",
    "\n",
    "# Example usage demonstrating dynamic polymorphism\n",
    "if __name__ == \"__main__\":\n",
    "    # Creating instances of different animals\n",
    "    dog = Dog()\n",
    "    cat = Cat()\n",
    "\n",
    "    # Calling the speak method on different types of animals\n",
    "    animals = [dog, cat]\n",
    "\n",
    "    for animal in animals:\n",
    "        print(animal.speak())\n"
   ]
  },
  {
   "cell_type": "markdown",
   "id": "a42cd1dd",
   "metadata": {},
   "source": [
    "In this example:\n",
    "\n",
    "* The Animal class has a method called speak().\n",
    "\n",
    "* The Dog and Cat classes inherit from Animal and override the speak() method with their own implementations.\n",
    "\n",
    "* The example usage section demonstrates creating instances of different animal types and calling the speak() method on each object. The actual method called is determined at runtime based on the type of the object, showcasing dynamic polymorphism."
   ]
  },
  {
   "cell_type": "markdown",
   "id": "054d26bc",
   "metadata": {},
   "source": [
    "# 17. Create a Python class hierarchy for employees in a company (e.g., manager, developer, designer) and implement polymorphism through a common `calculate_salary()` method."
   ]
  },
  {
   "cell_type": "code",
   "execution_count": 19,
   "id": "be015308",
   "metadata": {},
   "outputs": [
    {
     "name": "stdout",
     "output_type": "stream",
     "text": [
      "Alice (Manager) - Salary: $66,000.00\n",
      "Bob (Developer) - Salary: $51,000.00\n",
      "Charlie (Designer) - Salary: $46,500.00\n"
     ]
    }
   ],
   "source": [
    "class Employee:\n",
    "    def __init__(self, name, role):\n",
    "        self.name = name\n",
    "        self.role = role\n",
    "\n",
    "    def calculate_salary(self):\n",
    "        raise NotImplementedError(\"Subclasses must implement the calculate_salary method\")\n",
    "\n",
    "class Manager(Employee):\n",
    "    def __init__(self, name, salary, bonus_percentage):\n",
    "        super().__init__(name, role=\"Manager\")\n",
    "        self.salary = salary\n",
    "        self.bonus_percentage = bonus_percentage\n",
    "\n",
    "    def calculate_salary(self):\n",
    "        bonus = self.salary * (self.bonus_percentage / 100)\n",
    "        return self.salary + bonus\n",
    "\n",
    "class Developer(Employee):\n",
    "    def __init__(self, name, salary, programming_language):\n",
    "        super().__init__(name, role=\"Developer\")\n",
    "        self.salary = salary\n",
    "        self.programming_language = programming_language\n",
    "\n",
    "    def calculate_salary(self):\n",
    "        # Developers get a bonus based on the programming language used\n",
    "        language_bonus = 1000 if self.programming_language.lower() == 'python' else 0\n",
    "        return self.salary + language_bonus\n",
    "\n",
    "class Designer(Employee):\n",
    "    def __init__(self, name, salary, years_of_experience):\n",
    "        super().__init__(name, role=\"Designer\")\n",
    "        self.salary = salary\n",
    "        self.years_of_experience = years_of_experience\n",
    "\n",
    "    def calculate_salary(self):\n",
    "        # Designers get a bonus based on years of experience\n",
    "        experience_bonus = 500 * self.years_of_experience\n",
    "        return self.salary + experience_bonus\n",
    "\n",
    "# Example usage demonstrating polymorphism\n",
    "if __name__ == \"__main__\":\n",
    "    # Creating instances of different employee roles\n",
    "    manager = Manager(name=\"Alice\", salary=60000, bonus_percentage=10)\n",
    "    developer = Developer(name=\"Bob\", salary=50000, programming_language=\"Python\")\n",
    "    designer = Designer(name=\"Charlie\", salary=45000, years_of_experience=3)\n",
    "\n",
    "    # Calculating and displaying salaries using the common method\n",
    "    employees = [manager, developer, designer]\n",
    "\n",
    "    for employee in employees:\n",
    "        print(f\"{employee.name} ({employee.role}) - Salary: ${employee.calculate_salary():,.2f}\")\n"
   ]
  },
  {
   "cell_type": "markdown",
   "id": "d78d8f01",
   "metadata": {},
   "source": [
    "First-Class Functions in Python:\n",
    "In Python, functions are first-class citizens, which means they can be:\n",
    "\n",
    "* Assigned to variables.\n",
    "* Passed as arguments to other functions.\n",
    "* Returned as values from other functions.\n",
    "This property allows us to create dynamic and flexible code structures, enabling a form of polymorphism without explicit function pointers.\n",
    "\n",
    "Achieving Polymorphism with Function Pointers:\n",
    "#### 1)Function Assignment:\n",
    "You can assign a function to a variable, and the variable can then be used to refer to that function."
   ]
  },
  {
   "cell_type": "code",
   "execution_count": 20,
   "id": "95aee3b7",
   "metadata": {},
   "outputs": [],
   "source": [
    "def add(x, y):\n",
    "    return x + y\n",
    "\n",
    "def multiply(x, y):\n",
    "    return x * y\n",
    "\n",
    "# Function pointers (references)\n",
    "operation1 = add\n",
    "operation2 = multiply\n",
    "\n",
    "result1 = operation1(2, 3)  # Equivalent to add(2, 3)\n",
    "result2 = operation2(2, 3)  # Equivalent to multiply(2, 3)"
   ]
  },
  {
   "cell_type": "markdown",
   "id": "a004c928",
   "metadata": {},
   "source": [
    "#### 2)Function Parameters:\n",
    "Functions can take other functions as parameters, allowing you to pass different behaviors dynamically."
   ]
  },
  {
   "cell_type": "code",
   "execution_count": 21,
   "id": "29a5bf4a",
   "metadata": {},
   "outputs": [],
   "source": [
    "def apply_operation(x, y, operation):\n",
    "    return operation(x, y)\n",
    "\n",
    "result1 = apply_operation(2, 3, add)       # Equivalent to add(2, 3)\n",
    "result2 = apply_operation(2, 3, multiply)  # Equivalent to multiply(2, 3)\n"
   ]
  },
  {
   "cell_type": "markdown",
   "id": "eedcf292",
   "metadata": {},
   "source": [
    "#### 3)Function Return Values:\n",
    "Functions can return other functions, providing a way to dynamically choose the behavior at runtime."
   ]
  },
  {
   "cell_type": "code",
   "execution_count": 22,
   "id": "ff453027",
   "metadata": {},
   "outputs": [],
   "source": [
    "def get_operation(choice):\n",
    "    if choice == \"add\":\n",
    "        return add\n",
    "    elif choice == \"multiply\":\n",
    "        return multiply\n",
    "\n",
    "selected_operation = get_operation(\"add\")\n",
    "result = selected_operation(2, 3)  # Equivalent to add(2, 3)\n"
   ]
  },
  {
   "cell_type": "markdown",
   "id": "322b9b39",
   "metadata": {},
   "source": [
    "#### Example: Polymorphism Using Function Pointers:"
   ]
  },
  {
   "cell_type": "code",
   "execution_count": 23,
   "id": "d9f4642e",
   "metadata": {},
   "outputs": [
    {
     "name": "stdout",
     "output_type": "stream",
     "text": [
      "Hello, Alice!\n",
      "Hola, Alice!\n",
      "Bonjour, Alice!\n"
     ]
    }
   ],
   "source": [
    "def greet_english(name):\n",
    "    return f\"Hello, {name}!\"\n",
    "\n",
    "def greet_spanish(name):\n",
    "    return f\"Hola, {name}!\"\n",
    "\n",
    "def greet_french(name):\n",
    "    return f\"Bonjour, {name}!\"\n",
    "\n",
    "def greet_person(name, language):\n",
    "    if language == \"english\":\n",
    "        return greet_english(name)\n",
    "    elif language == \"spanish\":\n",
    "        return greet_spanish(name)\n",
    "    elif language == \"french\":\n",
    "        return greet_french(name)\n",
    "    else:\n",
    "        return \"Language not supported.\"\n",
    "\n",
    "# Example usage demonstrating polymorphism using function pointers\n",
    "if __name__ == \"__main__\":\n",
    "    person_name = \"Alice\"\n",
    "    languages = [\"english\", \"spanish\", \"french\"]\n",
    "\n",
    "    for language in languages:\n",
    "        greeting = greet_person(person_name, language)\n",
    "        print(greeting)\n"
   ]
  },
  {
   "cell_type": "markdown",
   "id": "e0ca3834",
   "metadata": {},
   "source": [
    "In this example:\n",
    "\n",
    "* `greet_person` is a function that takes a `name` and a `language` as parameters. Instead of using a large conditional block, it dynamically calls the appropriate greeting function based on the provided language.\n",
    "\n",
    "* `greet_english`, `greet_spanish`, and `greet_french` are different greeting functions. The choice of which function to use is determined at runtime based on the provided language.\n",
    "\n",
    "By using functions as first-class citizens, Python achieves a form of polymorphism without the need for explicit function pointers. The choice of which function to execute is determined dynamically based on the parameters or conditions at runtime. This approach promotes flexibility and code readability."
   ]
  },
  {
   "cell_type": "markdown",
   "id": "68049cb5",
   "metadata": {},
   "source": [
    "# 20. Create a Python class for a zoo simulation, demonstrating polymorphism with different animal types (e.g., mammals, birds, reptiles) and their behavior (e.g., eating, sleeping, making sounds)."
   ]
  },
  {
   "cell_type": "code",
   "execution_count": 24,
   "id": "70bd7c0a",
   "metadata": {},
   "outputs": [
    {
     "name": "stdout",
     "output_type": "stream",
     "text": [
      "Leo the Lion:\n",
      "Roar!\n",
      "Leo the Lion is eating.\n",
      "Leo the Lion is sleeping.\n",
      "\n",
      "Polly the Parrot:\n",
      "Chirp!\n",
      "Polly the Parrot is eating.\n",
      "Polly the Parrot is sleeping.\n",
      "\n",
      "Sly the Snake:\n",
      "Hiss!\n",
      "Sly the Snake is eating.\n",
      "Sly the Snake is sleeping.\n",
      "\n"
     ]
    }
   ],
   "source": [
    "class Animal:\n",
    "    def __init__(self, name, species):\n",
    "        self.name = name\n",
    "        self.species = species\n",
    "\n",
    "    def make_sound(self):\n",
    "        raise NotImplementedError(\"Subclasses must implement the make_sound method\")\n",
    "\n",
    "    def eat(self):\n",
    "        return f\"{self.name} the {self.species} is eating.\"\n",
    "\n",
    "    def sleep(self):\n",
    "        return f\"{self.name} the {self.species} is sleeping.\"\n",
    "\n",
    "class Mammal(Animal):\n",
    "    def make_sound(self):\n",
    "        return \"Roar!\"\n",
    "\n",
    "class Bird(Animal):\n",
    "    def make_sound(self):\n",
    "        return \"Chirp!\"\n",
    "\n",
    "class Reptile(Animal):\n",
    "    def make_sound(self):\n",
    "        return \"Hiss!\"\n",
    "\n",
    "# Example usage demonstrating polymorphism\n",
    "if __name__ == \"__main__\":\n",
    "    # Creating instances of different animal types\n",
    "    lion = Mammal(name=\"Leo\", species=\"Lion\")\n",
    "    parrot = Bird(name=\"Polly\", species=\"Parrot\")\n",
    "    snake = Reptile(name=\"Sly\", species=\"Snake\")\n",
    "\n",
    "    # Performing different actions using the common methods\n",
    "    zoo_animals = [lion, parrot, snake]\n",
    "\n",
    "    for animal in zoo_animals:\n",
    "        print(f\"{animal.name} the {animal.species}:\")\n",
    "        print(animal.make_sound())\n",
    "        print(animal.eat())\n",
    "        print(animal.sleep())\n",
    "        print()\n"
   ]
  },
  {
   "cell_type": "markdown",
   "id": "06910fb9",
   "metadata": {},
   "source": [
    "The Animal class is the base class with common methods (make_sound, eat, sleep) marked as abstract using NotImplementedError. This ensures that any subclass must provide its own implementation.\n",
    "\n",
    "The Mammal, Bird, and Reptile classes inherit from Animal and provide their own implementations of the make_sound method specific to their types.\n",
    "\n",
    "The example usage section demonstrates creating instances of different animal types and performing actions using the common methods. The actual method called depends on the type of the object at runtime, demonstrating polymorphic behavior."
   ]
  },
  {
   "cell_type": "markdown",
   "id": "2c060c0f",
   "metadata": {},
   "source": [
    "# Abstraction:"
   ]
  },
  {
   "cell_type": "markdown",
   "id": "47de442b",
   "metadata": {},
   "source": [
    "# 1. What is abstraction in Python, and how does it relate to object-oriented programming?"
   ]
  },
  {
   "cell_type": "markdown",
   "id": "87c5ca95",
   "metadata": {},
   "source": [
    "### Key Aspects of Abstraction in Python:\n",
    "* Classes and Objects:\n",
    "\n",
    " In Python, classes and objects are used to implement abstraction. A class serves as a blueprint for creating objects, encapsulating data (attributes) and behavior (methods).\n",
    " Objects are instances of classes, representing specific entities in the real world or concepts in the problem domain.\n",
    "\n",
    "* Encapsulation:\n",
    "\n",
    " Abstraction often goes hand in hand with encapsulation. Encapsulation involves bundling the data (attributes) and methods that operate on the data within a single unit, i.e., a class.\n",
    " Access to the internal details of the object is restricted, and interactions are performed through well-defined interfaces (methods).\n",
    " \n",
    "* Hiding Implementation Details:\n",
    " Abstraction allows you to hide the implementation details of a class, exposing only what is    necessary for the external world to use. This separation of concerns makes the code more modular and maintainable."
   ]
  },
  {
   "cell_type": "code",
   "execution_count": 25,
   "id": "68517966",
   "metadata": {},
   "outputs": [
    {
     "name": "stdout",
     "output_type": "stream",
     "text": [
      "The 2022 Toyota Camry's engine is now running.\n",
      "Engine Status: On\n",
      "The 2022 Toyota Camry's engine has been stopped.\n",
      "Engine Status: Off\n"
     ]
    }
   ],
   "source": [
    "class Car:\n",
    "    def __init__(self, make, model, year):\n",
    "        self.make = make\n",
    "        self.model = model\n",
    "        self.year = year\n",
    "        self._engine_status = \"Off\"  # Using a single underscore to indicate a 'protected' attribute\n",
    "\n",
    "    def start_engine(self):\n",
    "        self._engine_status = \"On\"\n",
    "        return f\"The {self.year} {self.make} {self.model}'s engine is now running.\"\n",
    "\n",
    "    def stop_engine(self):\n",
    "        self._engine_status = \"Off\"\n",
    "        return f\"The {self.year} {self.make} {self.model}'s engine has been stopped.\"\n",
    "\n",
    "    def get_engine_status(self):\n",
    "        return self._engine_status\n",
    "\n",
    "# Example usage demonstrating abstraction\n",
    "if __name__ == \"__main__\":\n",
    "    my_car = Car(make=\"Toyota\", model=\"Camry\", year=2022)\n",
    "\n",
    "    print(my_car.start_engine())\n",
    "    print(f\"Engine Status: {my_car.get_engine_status()}\")\n",
    "    print(my_car.stop_engine())\n",
    "    print(f\"Engine Status: {my_car.get_engine_status()}\")\n"
   ]
  },
  {
   "cell_type": "markdown",
   "id": "15c911e2",
   "metadata": {},
   "source": [
    "### Benefits of Abstraction in Python:"
   ]
  },
  {
   "cell_type": "markdown",
   "id": "88809bbf",
   "metadata": {},
   "source": [
    "#### 1)Simplification: \n",
    "Abstraction simplifies the representation of complex systems, focusing on essential features and behaviors.\n",
    "\n",
    "#### 2)Modularity:\n",
    "Encapsulation and abstraction promote modularity, allowing changes to be made to one part of the system without affecting the rest.\n",
    "\n",
    "#### 3)Security: \n",
    "Abstraction provides a level of security by hiding implementation details, preventing unintended access to internal attributes or methods.\n",
    "\n",
    "#### 4)Ease of Maintenance: \n",
    "Abstraction enhances code maintainability by providing a clear separation between the interface and implementation details. Changes can be made to the implementation without affecting external code that relies on the abstraction."
   ]
  },
  {
   "cell_type": "markdown",
   "id": "ea7776ca",
   "metadata": {},
   "source": [
    "# 2. Describe the benefits of abstraction in terms of code organization and complexity reduction."
   ]
  },
  {
   "cell_type": "markdown",
   "id": "36806120",
   "metadata": {},
   "source": [
    "1. Simplification of Code:\n",
    "\n",
    "Abstraction allows you to represent complex systems or concepts using simplified models. By focusing on essential features and behaviors, abstraction reduces the complexity of the code, making it more manageable and understandable.\n",
    "\n",
    "2. Modular Code Design:\n",
    "\n",
    "Abstraction promotes modular code design by encapsulating related functionalities within well-defined units, typically classes. Each class serves as a module, with a clear interface and implementation details hidden from external code.\n",
    "This modularity enhances code organization and makes it easier to isolate, understand, and maintain specific parts of the system.\n",
    "\n",
    "3. Ease of Maintenance:\n",
    "\n",
    "Abstraction facilitates ease of maintenance by providing a clear separation between the external interface and internal implementation details. Changes can be made to the implementation without affecting external code that relies on the abstraction.\n",
    "Maintenance efforts are focused on individual modules (classes), reducing the risk of unintended consequences across the entire codebase.\n",
    "\n",
    "4. Enhanced Readability:\n",
    "\n",
    "Abstraction enhances code readability by presenting a high-level view of the system. The use of well-named classes, methods, and attributes makes it easier for developers to understand the purpose and functionality of different components.\n",
    "Developers can work with abstracted entities without delving into unnecessary details, improving the overall readability of the code.\n",
    "\n",
    "5. Reduction of Code Duplication:\n",
    "\n",
    "Abstraction helps in reducing code duplication by allowing the reuse of abstracted entities (classes and methods). When a common behavior or functionality is encapsulated in a class, it can be reused across different parts of the system.\n",
    "This reuse not only reduces redundancy but also ensures consistency in behavior throughout the codebase.\n",
    "\n",
    "6. Encapsulation and Information Hiding:\n",
    "\n",
    "Abstraction employs encapsulation to bundle data and methods within a class, providing a clear boundary between the internal workings of the class and the external world. This encapsulation helps in information hiding.\n",
    "Information hiding protects the internal details of a class, allowing changes to be made to the implementation without affecting external code.\n",
    "\n",
    "7. Scalability:\n",
    "\n",
    "Abstraction contributes to the scalability of a codebase. As the system evolves, new features or entities can be added as additional abstractions. Existing abstractions can be modified or extended without disrupting the overall structure of the code.\n",
    "This scalability is particularly valuable in large and complex projects.\n",
    "\n",
    "8. Code Understanding and Collaboration:\n",
    "\n",
    "Abstraction facilitates code understanding and collaboration among developers. By providing a well-defined interface for each module, developers can work on different parts of the system concurrently without interfering with each other's work.\n",
    "The use of abstraction makes it easier for team members to comprehend the overall architecture and contribute effectively.\n",
    "\n",
    "#### Conclusion:\n",
    "Abstraction plays a crucial role in organizing code and reducing complexity by promoting modular design, encapsulation, and information hiding. The benefits extend to code maintenance, readability, scalability, and collaboration, making abstraction a fundamental principle in building maintainable and scalable software systems."
   ]
  },
  {
   "cell_type": "markdown",
   "id": "d1b78b41",
   "metadata": {},
   "source": [
    "# 3. Create a Python class called `Shape` with an abstract method `calculate_area()`. Then, create child classes (e.g., `Circle`, `Rectangle`) that implement the `calculate_area()` method. Provide an example of using these classes."
   ]
  },
  {
   "cell_type": "code",
   "execution_count": 26,
   "id": "7bd463b4",
   "metadata": {},
   "outputs": [
    {
     "name": "stdout",
     "output_type": "stream",
     "text": [
      "Area of Circle: 78.54\n",
      "Area of Rectangle: 24.00\n"
     ]
    }
   ],
   "source": [
    "from abc import ABC, abstractmethod\n",
    "import math\n",
    "\n",
    "class Shape(ABC):\n",
    "    @abstractmethod\n",
    "    def calculate_area(self):\n",
    "        pass\n",
    "\n",
    "class Circle(Shape):\n",
    "    def __init__(self, radius):\n",
    "        self.radius = radius\n",
    "\n",
    "    def calculate_area(self):\n",
    "        return math.pi * self.radius**2\n",
    "\n",
    "class Rectangle(Shape):\n",
    "    def __init__(self, length, width):\n",
    "        self.length = length\n",
    "        self.width = width\n",
    "\n",
    "    def calculate_area(self):\n",
    "        return self.length * self.width\n",
    "\n",
    "# Example usage\n",
    "if __name__ == \"__main__\":\n",
    "    # Creating instances of different shapes\n",
    "    circle = Circle(radius=5)\n",
    "    rectangle = Rectangle(length=4, width=6)\n",
    "\n",
    "    # Calculating and displaying areas using the common method\n",
    "    shapes = [circle, rectangle]\n",
    "\n",
    "    for shape in shapes:\n",
    "        print(f\"Area of {type(shape).__name__}: {shape.calculate_area():,.2f}\")\n"
   ]
  },
  {
   "cell_type": "markdown",
   "id": "21c15dcc",
   "metadata": {},
   "source": [
    "# 4. Explain the concept of abstract classes in Python and how they are defined using the `abc` module. Provide an example."
   ]
  },
  {
   "cell_type": "markdown",
   "id": "8411b916",
   "metadata": {},
   "source": [
    "In Python, abstract classes are classes that cannot be instantiated and are meant to be subclassed by other classes. Abstract classes may contain abstract methods, which are methods without a concrete implementation in the abstract class itself. Subclasses inheriting from an abstract class must provide concrete implementations for all the abstract methods defined in the abstract class.\n",
    "\n",
    "The abc (Abstract Base Classes) module in Python provides a mechanism for defining abstract classes and abstract methods. The ABC class and the @abstractmethod decorator are key components of the abc module."
   ]
  },
  {
   "cell_type": "code",
   "execution_count": 27,
   "id": "be3fa9a9",
   "metadata": {},
   "outputs": [
    {
     "name": "stdout",
     "output_type": "stream",
     "text": [
      "Area of Circle: 78.50\n",
      "Area of Rectangle: 24.00\n"
     ]
    }
   ],
   "source": [
    "from abc import ABC, abstractmethod\n",
    "\n",
    "# Abstract class definition\n",
    "class Shape(ABC):\n",
    "    @abstractmethod\n",
    "    def calculate_area(self):\n",
    "        pass\n",
    "\n",
    "# Concrete subclass 1\n",
    "class Circle(Shape):\n",
    "    def __init__(self, radius):\n",
    "        self.radius = radius\n",
    "\n",
    "    def calculate_area(self):\n",
    "        return 3.14 * self.radius**2\n",
    "\n",
    "# Concrete subclass 2\n",
    "class Rectangle(Shape):\n",
    "    def __init__(self, length, width):\n",
    "        self.length = length\n",
    "        self.width = width\n",
    "\n",
    "    def calculate_area(self):\n",
    "        return self.length * self.width\n",
    "\n",
    "# Instantiating concrete subclasses\n",
    "circle = Circle(radius=5)\n",
    "rectangle = Rectangle(length=4, width=6)\n",
    "\n",
    "# Calling the abstract method on concrete instances\n",
    "print(f\"Area of Circle: {circle.calculate_area():,.2f}\")\n",
    "print(f\"Area of Rectangle: {rectangle.calculate_area():,.2f}\")"
   ]
  },
  {
   "cell_type": "markdown",
   "id": "1a84cc29",
   "metadata": {},
   "source": [
    "# 5. How do abstract classes differ from regular classes in Python? Discuss their use cases."
   ]
  },
  {
   "cell_type": "markdown",
   "id": "fdc9e942",
   "metadata": {},
   "source": [
    "Abstract classes and regular classes in Python differ in their instantiation and the presence of abstract methods. Here are the key distinctions:\n",
    "\n",
    "#### 1. Instantiation:\n",
    "* Regular Classes:\n",
    "\n",
    "     * Regular classes can be instantiated, meaning you can create objects (instances) of those classes.\n",
    "     * Objects of regular classes can be created and used directly.\n",
    "* Abstract Classes:\n",
    "\n",
    "     * Abstract classes cannot be instantiated. Attempting to create an instance of an abstract class directly will result in a TypeError.\n",
    "     * Abstract classes are meant to be subclassed, and their purpose is to provide a common interface for a group of related classes.\n",
    "\n",
    "#### 2. Abstract Methods:\n",
    "* Regular Classes:\n",
    "\n",
    "    * Regular classes can have both concrete methods (methods with implementations) and abstract methods (methods without implementations).\n",
    "    * Concrete methods are automatically inherited by subclasses, but they can be overridden if necessary.\n",
    "    \n",
    "* Abstract Classes:\n",
    "\n",
    "    * Abstract classes can have abstract methods, which are declared using the @abstractmethod decorator.\n",
    "    * Subclasses of abstract classes must provide concrete implementations for all abstract methods declared in the abstract class. If they don't, a TypeError will be raised.\n",
    "\n",
    "#### Use Cases:\n",
    "* Regular Classes:\n",
    "\n",
    "    * Regular classes are suitable for situations where you want to create instances of the class and use its methods directly.\n",
    "    * Use regular classes when you have a common implementation that can be shared among instances, but you don't necessarily require all subclasses to provide specific methods.\n",
    "* Abstract Classes:\n",
    "\n",
    "    * Abstract classes are useful when you want to define a common interface for a group of related classes.\n",
    "    * Abstract classes are beneficial in situations where you want to enforce that all subclasses must provide specific methods (abstract methods) while allowing common methods to be inherited.\n",
    "    * Abstract classes are often used in scenarios where you want to define a template or contract that concrete subclasses must adhere to."
   ]
  },
  {
   "cell_type": "code",
   "execution_count": 28,
   "id": "1ae9f9e7",
   "metadata": {},
   "outputs": [
    {
     "name": "stdout",
     "output_type": "stream",
     "text": [
      "A square with side length 5.\n",
      "A triangle with side length 4.\n"
     ]
    }
   ],
   "source": [
    "from abc import ABC, abstractmethod\n",
    "\n",
    "# Regular class\n",
    "class RegularShape:\n",
    "    def __init__(self, sides):\n",
    "        self.sides = sides\n",
    "\n",
    "    def describe(self):\n",
    "        return f\"This shape has {self.sides} sides.\"\n",
    "\n",
    "# Abstract class\n",
    "class AbstractShape(ABC):\n",
    "    def __init__(self, sides):\n",
    "        self.sides = sides\n",
    "\n",
    "    @abstractmethod\n",
    "    def describe(self):\n",
    "        pass\n",
    "\n",
    "# Subclasses\n",
    "class Square(RegularShape):\n",
    "    def __init__(self, side_length):\n",
    "        super().__init__(sides=4)\n",
    "        self.side_length = side_length\n",
    "\n",
    "    def describe(self):\n",
    "        return f\"A square with side length {self.side_length}.\"\n",
    "\n",
    "class Triangle(AbstractShape):\n",
    "    def __init__(self, side_length):\n",
    "        super().__init__(sides=3)\n",
    "        self.side_length = side_length\n",
    "\n",
    "    def describe(self):\n",
    "        return f\"A triangle with side length {self.side_length}.\"\n",
    "\n",
    "# Usage\n",
    "square = Square(side_length=5)\n",
    "triangle = Triangle(side_length=4)\n",
    "\n",
    "print(square.describe())   # Output: A square with side length 5.\n",
    "print(triangle.describe())  # Output: A triangle with side length 4.\n"
   ]
  },
  {
   "cell_type": "markdown",
   "id": "f90838bc",
   "metadata": {},
   "source": [
    "# 6. Create a Python class for a bank account and demonstrate abstraction by hiding the account balance and providing methods to deposit and withdraw funds."
   ]
  },
  {
   "cell_type": "code",
   "execution_count": 29,
   "id": "8ce8a697",
   "metadata": {},
   "outputs": [
    {
     "name": "stdout",
     "output_type": "stream",
     "text": [
      "Current balance for John Doe: $1000.00\n",
      "Deposited $500.00. New balance: $1500.00\n",
      "Withdrew $200.00. New balance: $1300.00\n",
      "Insufficient funds for withdrawal.\n",
      "Invalid deposit amount. Please enter a positive value.\n",
      "Current balance for John Doe: $1300.00\n"
     ]
    }
   ],
   "source": [
    "class BankAccount:\n",
    "    def __init__(self, account_holder, initial_balance=0.0):\n",
    "        self.account_holder = account_holder\n",
    "        self._balance = initial_balance  # Using a single underscore to indicate a 'protected' attribute\n",
    "\n",
    "    def deposit(self, amount):\n",
    "        if amount > 0:\n",
    "            self._balance += amount\n",
    "            return f\"Deposited ${amount:.2f}. New balance: ${self._balance:.2f}\"\n",
    "        else:\n",
    "            return \"Invalid deposit amount. Please enter a positive value.\"\n",
    "\n",
    "    def withdraw(self, amount):\n",
    "        if 0 < amount <= self._balance:\n",
    "            self._balance -= amount\n",
    "            return f\"Withdrew ${amount:.2f}. New balance: ${self._balance:.2f}\"\n",
    "        elif amount <= 0:\n",
    "            return \"Invalid withdrawal amount. Please enter a positive value.\"\n",
    "        else:\n",
    "            return \"Insufficient funds for withdrawal.\"\n",
    "\n",
    "    def get_balance(self):\n",
    "        return f\"Current balance for {self.account_holder}: ${self._balance:.2f}\"\n",
    "\n",
    "# Example usage demonstrating abstraction\n",
    "if __name__ == \"__main__\":\n",
    "    # Creating a bank account\n",
    "    account1 = BankAccount(account_holder=\"John Doe\", initial_balance=1000.0)\n",
    "\n",
    "    # Performing transactions using methods (abstraction in action)\n",
    "    print(account1.get_balance())\n",
    "\n",
    "    print(account1.deposit(500.0))\n",
    "    print(account1.withdraw(200.0))\n",
    "    print(account1.withdraw(1500.0))  # Insufficient funds\n",
    "    print(account1.deposit(-100.0))  # Invalid deposit amount\n",
    "\n",
    "    print(account1.get_balance())\n"
   ]
  },
  {
   "cell_type": "markdown",
   "id": "8c1ed362",
   "metadata": {},
   "source": [
    "In this example:\n",
    "\n",
    "The BankAccount class has an attribute _balance (using a single underscore to indicate a 'protected' attribute), which stores the account balance. This attribute is not meant to be accessed directly from outside the class.\n",
    "\n",
    "The methods deposit and withdraw provide a way to interact with the account balance. They check for valid transactions (positive amounts for deposit, sufficient funds for withdrawal) and update the balance accordingly.\n",
    "\n",
    "The method get_balance is provided to retrieve the account balance without directly accessing the _balance attribute.\n",
    "\n",
    "Abstraction is achieved by encapsulating the details of the account balance and providing well-defined methods for depositing, withdrawing, and checking the balance.\n",
    "\n",
    "The example usage section demonstrates creating a bank account, performing transactions, and getting the current balance. The account balance is abstracted from external code, and interactions are performed through the defined methods."
   ]
  },
  {
   "cell_type": "markdown",
   "id": "a5a983d0",
   "metadata": {},
   "source": [
    "# 8. Create a Python class hierarchy for animals and implement abstraction by defining common methods (e.g., `eat()`, `sleep()`) in an abstract base class."
   ]
  },
  {
   "cell_type": "code",
   "execution_count": null,
   "id": "3d09d7eb",
   "metadata": {},
   "outputs": [],
   "source": []
  }
 ],
 "metadata": {
  "kernelspec": {
   "display_name": "Python 3 (ipykernel)",
   "language": "python",
   "name": "python3"
  },
  "language_info": {
   "codemirror_mode": {
    "name": "ipython",
    "version": 3
   },
   "file_extension": ".py",
   "mimetype": "text/x-python",
   "name": "python",
   "nbconvert_exporter": "python",
   "pygments_lexer": "ipython3",
   "version": "3.9.13"
  }
 },
 "nbformat": 4,
 "nbformat_minor": 5
}
