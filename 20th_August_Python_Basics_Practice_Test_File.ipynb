{
 "cells": [
  {
   "cell_type": "markdown",
   "id": "58b36d86",
   "metadata": {},
   "source": [
    "# TOPIC: String Based Assignment Problem\n"
   ]
  },
  {
   "cell_type": "markdown",
   "id": "bec76863",
   "metadata": {},
   "source": [
    "# "
   ]
  },
  {
   "cell_type": "markdown",
   "id": "5c2a18ab",
   "metadata": {},
   "source": [
    "# "
   ]
  },
  {
   "cell_type": "markdown",
   "id": "4bf531b6",
   "metadata": {},
   "source": [
    "# 1. Write a program to reverse a string."
   ]
  },
  {
   "cell_type": "code",
   "execution_count": 1,
   "id": "7bfb4043",
   "metadata": {},
   "outputs": [
    {
     "data": {
      "text/plain": [
       "'adahsraH'"
      ]
     },
     "execution_count": 1,
     "metadata": {},
     "output_type": "execute_result"
    }
   ],
   "source": [
    "s = \"Harshada\"\n",
    "s[::-1]"
   ]
  },
  {
   "cell_type": "markdown",
   "id": "f1995757",
   "metadata": {},
   "source": [
    "# 2. Check if a string is a palindrome."
   ]
  },
  {
   "cell_type": "code",
   "execution_count": 2,
   "id": "8963ae8d",
   "metadata": {},
   "outputs": [
    {
     "name": "stdout",
     "output_type": "stream",
     "text": [
      "Enter string: Malayalam\n",
      "Yes, It is a palindrome\n"
     ]
    }
   ],
   "source": [
    "#With using string slicing\n",
    "s = input(\"Enter string: \")\n",
    "r = s[::-1]\n",
    "if r.lower() == s.lower():       #coverting all char in lower case\n",
    "    print('Yes, It is a palindrome')\n",
    "else:\n",
    "    print('No, It is not palindrome')"
   ]
  },
  {
   "cell_type": "code",
   "execution_count": 3,
   "id": "ee9a78e2",
   "metadata": {},
   "outputs": [
    {
     "name": "stdout",
     "output_type": "stream",
     "text": [
      "Enter string: tat\n",
      "Yes, It is palindrome\n"
     ]
    }
   ],
   "source": [
    "# without using slicing\n",
    "s = input(\"Enter string: \")\n",
    "s = s.lower()\n",
    "flag = False\n",
    "\n",
    "for i in range(0,int(len(s)/2)):\n",
    "    if s[i]!=s[len(s)-1-i]:\n",
    "        flag = False\n",
    "    else:\n",
    "        flag = True\n",
    "\n",
    "if flag == True:\n",
    "    print('Yes, It is palindrome')\n",
    "else :\n",
    "    print('No, It is not palindrome')"
   ]
  },
  {
   "cell_type": "markdown",
   "id": "826dc176",
   "metadata": {},
   "source": [
    "# 3. Convert a string to uppercase."
   ]
  },
  {
   "cell_type": "code",
   "execution_count": 4,
   "id": "1a825d13",
   "metadata": {},
   "outputs": [
    {
     "name": "stdout",
     "output_type": "stream",
     "text": [
      "Enter string: harshada\n",
      "In uppercase:  HARSHADA\n"
     ]
    }
   ],
   "source": [
    "s = input(\"Enter string: \")\n",
    "print('In uppercase: ',s.upper())"
   ]
  },
  {
   "cell_type": "markdown",
   "id": "27ca7ce4",
   "metadata": {},
   "source": [
    "# 4. Convert a string to lowercase.\n"
   ]
  },
  {
   "cell_type": "code",
   "execution_count": 5,
   "id": "0233787a",
   "metadata": {},
   "outputs": [
    {
     "name": "stdout",
     "output_type": "stream",
     "text": [
      "Enter string: HARSHADA\n",
      "In lowercase:  harshada\n"
     ]
    }
   ],
   "source": [
    "s = input(\"Enter string: \")\n",
    "print('In lowercase: ',s.lower())"
   ]
  },
  {
   "cell_type": "markdown",
   "id": "9b29a0e1",
   "metadata": {},
   "source": [
    "# 5. Count the number of vowels in a string."
   ]
  },
  {
   "cell_type": "code",
   "execution_count": 6,
   "id": "4edd3884",
   "metadata": {},
   "outputs": [
    {
     "name": "stdout",
     "output_type": "stream",
     "text": [
      "Enter string: My name is Harshada\n",
      "No.of vowels=  6\n"
     ]
    }
   ],
   "source": [
    "s = input(\"Enter string: \")\n",
    "vowels = 'aeiouAEIOU'\n",
    "n = sum(s.count(vowel) for vowel in vowels)\n",
    "print('No.of vowels= ',n)"
   ]
  },
  {
   "cell_type": "markdown",
   "id": "4384e528",
   "metadata": {},
   "source": [
    "# 6. Count the number of consonants in a string."
   ]
  },
  {
   "cell_type": "code",
   "execution_count": 7,
   "id": "9f5b867c",
   "metadata": {},
   "outputs": [
    {
     "name": "stdout",
     "output_type": "stream",
     "text": [
      "Enter string: My name is Harshada\n",
      "13\n"
     ]
    }
   ],
   "source": [
    "s = input(\"Enter string: \")\n",
    "vowels = 'aeiouAEIOU'\n",
    "count = 0\n",
    "for i in s:\n",
    "    if i not in vowels:\n",
    "        count +=1\n",
    "    else:\n",
    "        pass\n",
    "print(count)"
   ]
  },
  {
   "cell_type": "markdown",
   "id": "cb53e28a",
   "metadata": {},
   "source": [
    "# 7. Remove all whitespaces from a string."
   ]
  },
  {
   "cell_type": "code",
   "execution_count": 8,
   "id": "80155d11",
   "metadata": {},
   "outputs": [
    {
     "name": "stdout",
     "output_type": "stream",
     "text": [
      "Enter string: My name is Harshada\n",
      "Removing all whitespaces:  MynameisHarshada\n"
     ]
    }
   ],
   "source": [
    "s = input(\"Enter string: \")\n",
    "print(\"Removing all whitespaces: \",s.replace(' ',''))"
   ]
  },
  {
   "cell_type": "markdown",
   "id": "9612938f",
   "metadata": {},
   "source": [
    "# 8. Find the length of a string without using the `len()` function.\n"
   ]
  },
  {
   "cell_type": "code",
   "execution_count": 9,
   "id": "f9ccf830",
   "metadata": {},
   "outputs": [
    {
     "name": "stdout",
     "output_type": "stream",
     "text": [
      "length of string is: 20\n"
     ]
    }
   ],
   "source": [
    "s = 'I am learning python'\n",
    "count = 0\n",
    "\n",
    "for i in s:\n",
    "    count+=1\n",
    "print(f\"length of string is: {count}\")"
   ]
  },
  {
   "cell_type": "markdown",
   "id": "f881e318",
   "metadata": {},
   "source": [
    "# 9. Check if a string contains a specific word."
   ]
  },
  {
   "cell_type": "code",
   "execution_count": 10,
   "id": "73561c4e",
   "metadata": {},
   "outputs": [
    {
     "name": "stdout",
     "output_type": "stream",
     "text": [
      "Yes,apples are present in string \n"
     ]
    }
   ],
   "source": [
    "# using in comparator\n",
    "\n",
    "s = \"This string contains apples\"\n",
    "if 'apples' in s:\n",
    "    print('Yes,apples are present in string ')\n",
    "else:\n",
    "    print('No,apples not in string')\n",
    "\n"
   ]
  },
  {
   "cell_type": "code",
   "execution_count": 11,
   "id": "db542301",
   "metadata": {},
   "outputs": [
    {
     "name": "stdout",
     "output_type": "stream",
     "text": [
      "apples are present\n"
     ]
    }
   ],
   "source": [
    "# using find method\n",
    "\n",
    "if s.find('apples') >=0:\n",
    "    print('apples are present')\n",
    "else:\n",
    "    print('apples are not present')"
   ]
  },
  {
   "cell_type": "code",
   "execution_count": 12,
   "id": "d23a0588",
   "metadata": {},
   "outputs": [
    {
     "name": "stdout",
     "output_type": "stream",
     "text": [
      "apples are present in string\n"
     ]
    }
   ],
   "source": [
    "#using regex search method\n",
    "import re\n",
    "s = 'apples are present in string'\n",
    "if re.search('apples',s):\n",
    "    print(\"apples are present in string\")\n",
    "else:\n",
    "    print(\"apples not present\")"
   ]
  },
  {
   "cell_type": "markdown",
   "id": "404d11a1",
   "metadata": {},
   "source": [
    "# 10. Replace a word in a string with another word."
   ]
  },
  {
   "cell_type": "code",
   "execution_count": 13,
   "id": "629d3e4a",
   "metadata": {},
   "outputs": [
    {
     "name": "stdout",
     "output_type": "stream",
     "text": [
      "apples are available in market\n",
      "string after replacement:  oranges are available in market\n"
     ]
    }
   ],
   "source": [
    "s = \"apples are available in market\"\n",
    "print(s)\n",
    "print(\"string after replacement: \",s.replace('apples','oranges'))"
   ]
  },
  {
   "cell_type": "markdown",
   "id": "4d4d552f",
   "metadata": {},
   "source": [
    "# 11. Count the occurrences of a word in a string."
   ]
  },
  {
   "cell_type": "code",
   "execution_count": 14,
   "id": "89bef732",
   "metadata": {},
   "outputs": [
    {
     "name": "stdout",
     "output_type": "stream",
     "text": [
      "count of word apples:  3\n"
     ]
    }
   ],
   "source": [
    "s = 'Apples are available in market. Apples are very testy.Everyone wants to eat apples'\n",
    "s = s.lower()\n",
    "print(\"count of word apples: \",s.count('apples'))"
   ]
  },
  {
   "cell_type": "markdown",
   "id": "25b13748",
   "metadata": {},
   "source": [
    "# 12. Find the first occurrence of a word in a string."
   ]
  },
  {
   "cell_type": "code",
   "execution_count": 15,
   "id": "93c91b1e",
   "metadata": {},
   "outputs": [
    {
     "name": "stdout",
     "output_type": "stream",
     "text": [
      "First occurence of word apples: 0\n"
     ]
    }
   ],
   "source": [
    "s = 'apples are available in market. apples are very testy.Everyone wants to eat apples'\n",
    "print(f\"First occurence of word apples: {s.find('apples')}\")"
   ]
  },
  {
   "cell_type": "markdown",
   "id": "cb5e1598",
   "metadata": {},
   "source": [
    "# 13. Find the last occurrence of a word in a string."
   ]
  },
  {
   "cell_type": "code",
   "execution_count": 16,
   "id": "3301845a",
   "metadata": {},
   "outputs": [
    {
     "name": "stdout",
     "output_type": "stream",
     "text": [
      "Last occurence of word Apples: 76\n"
     ]
    }
   ],
   "source": [
    "s = 'apples are available in market. apples are very testy.Everyone wants to eat apples'\n",
    "print(f\"Last occurence of word Apples: {s.rfind('apples')}\")"
   ]
  },
  {
   "cell_type": "markdown",
   "id": "a81fa2d1",
   "metadata": {},
   "source": [
    "# 14. Split a string into a list of words"
   ]
  },
  {
   "cell_type": "code",
   "execution_count": 17,
   "id": "e8f1e510",
   "metadata": {},
   "outputs": [
    {
     "name": "stdout",
     "output_type": "stream",
     "text": [
      "['I', 'am', 'reading', 'book']\n"
     ]
    }
   ],
   "source": [
    "s = \"I am reading book\"\n",
    "print(s.split())"
   ]
  },
  {
   "cell_type": "markdown",
   "id": "4e71dcca",
   "metadata": {},
   "source": [
    "# 15. Join a list of words into a string."
   ]
  },
  {
   "cell_type": "code",
   "execution_count": 18,
   "id": "a78d1e37",
   "metadata": {},
   "outputs": [
    {
     "data": {
      "text/plain": [
       "'I am reading book'"
      ]
     },
     "execution_count": 18,
     "metadata": {},
     "output_type": "execute_result"
    }
   ],
   "source": [
    "l = ['I', 'am', 'reading', 'book']\n",
    "' '.join(l)"
   ]
  },
  {
   "cell_type": "markdown",
   "id": "5c4120e1",
   "metadata": {},
   "source": [
    "# 16. Convert a string where words are separated by spaces to one where words are separated by underscores."
   ]
  },
  {
   "cell_type": "code",
   "execution_count": 19,
   "id": "597dd2e7",
   "metadata": {},
   "outputs": [
    {
     "data": {
      "text/plain": [
       "'I_am_reading_book'"
      ]
     },
     "execution_count": 19,
     "metadata": {},
     "output_type": "execute_result"
    }
   ],
   "source": [
    "s = \"I am reading book\"\n",
    "s = s.split()\n",
    "'_'.join(s)"
   ]
  },
  {
   "cell_type": "markdown",
   "id": "13b392a8",
   "metadata": {},
   "source": [
    "# 17. Check if a string starts with a specific word or phrase."
   ]
  },
  {
   "cell_type": "code",
   "execution_count": 20,
   "id": "ab2371f4",
   "metadata": {},
   "outputs": [
    {
     "name": "stdout",
     "output_type": "stream",
     "text": [
      "String startswith India\n"
     ]
    }
   ],
   "source": [
    "s = \"India is my country\"\n",
    "if s.startswith('India'):\n",
    "    print(\"String startswith India\")\n",
    "else:\n",
    "    print(\"String is not startswith India\")"
   ]
  },
  {
   "cell_type": "markdown",
   "id": "06f3aa53",
   "metadata": {},
   "source": [
    "# 18. Check if a string ends with a specific word or phrase."
   ]
  },
  {
   "cell_type": "code",
   "execution_count": 21,
   "id": "79d1083d",
   "metadata": {},
   "outputs": [
    {
     "name": "stdout",
     "output_type": "stream",
     "text": [
      "string endswith country\n"
     ]
    }
   ],
   "source": [
    "s = \"India is my country\"\n",
    "if s.endswith('country'):\n",
    "    print(\"string endswith country\")\n",
    "else:\n",
    "    print(\"string not endswith country\")"
   ]
  },
  {
   "cell_type": "markdown",
   "id": "66945b35",
   "metadata": {},
   "source": [
    "# 19. Convert a string to title case (e.g., \"hello world\" to \"Hello World\")."
   ]
  },
  {
   "cell_type": "code",
   "execution_count": 22,
   "id": "1138bf31",
   "metadata": {},
   "outputs": [
    {
     "name": "stdout",
     "output_type": "stream",
     "text": [
      "hello world\n"
     ]
    },
    {
     "data": {
      "text/plain": [
       "'Hello World'"
      ]
     },
     "execution_count": 22,
     "metadata": {},
     "output_type": "execute_result"
    }
   ],
   "source": [
    "s = \"hello world\"\n",
    "print(s)\n",
    "s.title()"
   ]
  },
  {
   "cell_type": "markdown",
   "id": "e6a8e501",
   "metadata": {},
   "source": [
    "# 20. Find the longest word in a string."
   ]
  },
  {
   "cell_type": "code",
   "execution_count": 23,
   "id": "84e30758",
   "metadata": {},
   "outputs": [
    {
     "data": {
      "text/plain": [
       "'confident'"
      ]
     },
     "execution_count": 23,
     "metadata": {},
     "output_type": "execute_result"
    }
   ],
   "source": [
    "#using max function\n",
    "s = \"be confident and be yourself\"\n",
    "s = s.split()\n",
    "max(s,key=len)"
   ]
  },
  {
   "cell_type": "code",
   "execution_count": 24,
   "id": "e4bf1a33",
   "metadata": {},
   "outputs": [
    {
     "name": "stdout",
     "output_type": "stream",
     "text": [
      "['be', 'confident', 'and', 'be', 'yourself']\n",
      "longest word is: confident\n"
     ]
    }
   ],
   "source": [
    "# using sorted function\n",
    "s = \"be confident and be yourself\"\n",
    "s = s.split()\n",
    "print(s)\n",
    "sort=sorted(s,key=len)\n",
    "print(f'longest word is: {sort[-1]}')"
   ]
  },
  {
   "cell_type": "markdown",
   "id": "29c0a12f",
   "metadata": {},
   "source": [
    "# 21. Find the shortest word in a string."
   ]
  },
  {
   "cell_type": "code",
   "execution_count": 25,
   "id": "61b1fcc1",
   "metadata": {},
   "outputs": [
    {
     "name": "stdout",
     "output_type": "stream",
     "text": [
      "['be', 'confident', 'and', 'be', 'yourself']\n",
      "shortest word is: be\n"
     ]
    }
   ],
   "source": [
    "# using sorted function\n",
    "s = \"be confident and be yourself\"\n",
    "s = s.split()\n",
    "print(s)\n",
    "sort=sorted(s,key=len)\n",
    "print(f'shortest word is: {sort[0]}')"
   ]
  },
  {
   "cell_type": "code",
   "execution_count": 26,
   "id": "d8f32d84",
   "metadata": {},
   "outputs": [
    {
     "name": "stdout",
     "output_type": "stream",
     "text": [
      "shortest word is: be\n"
     ]
    }
   ],
   "source": [
    "#using min function\n",
    "s = \"be confident and be yourself\"\n",
    "s = s.split()\n",
    "print(f'shortest word is: {min(s,key=len)}')"
   ]
  },
  {
   "cell_type": "markdown",
   "id": "d166430a",
   "metadata": {},
   "source": [
    "# 22. Reverse the order of words in a string."
   ]
  },
  {
   "cell_type": "code",
   "execution_count": 27,
   "id": "8953d515",
   "metadata": {},
   "outputs": [
    {
     "name": "stdout",
     "output_type": "stream",
     "text": [
      "be confident and be yourself\n",
      "\n",
      "Reverse order of words\n"
     ]
    },
    {
     "data": {
      "text/plain": [
       "'yourself be and confident be'"
      ]
     },
     "execution_count": 27,
     "metadata": {},
     "output_type": "execute_result"
    }
   ],
   "source": [
    "s = \"be confident and be yourself\"\n",
    "print(s)\n",
    "s=s.split()\n",
    "print('\\nReverse order of words')\n",
    "' '.join(s[::-1])"
   ]
  },
  {
   "cell_type": "markdown",
   "id": "29a0cdf2",
   "metadata": {},
   "source": [
    "# 23. Check if a string is alphanumeric."
   ]
  },
  {
   "cell_type": "code",
   "execution_count": 28,
   "id": "fa7b79df",
   "metadata": {},
   "outputs": [
    {
     "name": "stdout",
     "output_type": "stream",
     "text": [
      "Checking whether 123abc is alphanumeric\n",
      "True\n",
      "Checking whether 123#$%abc is alphanumeric\n",
      "False\n"
     ]
    }
   ],
   "source": [
    "s1 = \"123abc\"\n",
    "s2 = \"123#$%abc\"\n",
    "\n",
    "print(\"Checking whether\",s1,\"is alphanumeric\")\n",
    "print(s1.isalnum())\n",
    "print(\"Checking whether\",s2,\"is alphanumeric\")\n",
    "print(s2.isalnum())"
   ]
  },
  {
   "cell_type": "markdown",
   "id": "c12d16bf",
   "metadata": {},
   "source": [
    "# 24. Extract all digits from a string."
   ]
  },
  {
   "cell_type": "code",
   "execution_count": 29,
   "id": "b3142862",
   "metadata": {},
   "outputs": [
    {
     "name": "stdout",
     "output_type": "stream",
     "text": [
      "Extracted digits from string harshadah2015@1997 are : 20151997\n"
     ]
    }
   ],
   "source": [
    "s = \"harshadah2015@1997\"\n",
    "digits = \"\"                        #Initializing empty string to store digits\n",
    "\n",
    "for char in s:\n",
    "    if char.isdigit():\n",
    "        digits+=char\n",
    "    else:\n",
    "        pass\n",
    "print(f\"Extracted digits from string {s} are : {digits}\")\n"
   ]
  },
  {
   "cell_type": "markdown",
   "id": "166843a9",
   "metadata": {},
   "source": [
    "# 25. Extract all alphabets from a string.\n"
   ]
  },
  {
   "cell_type": "code",
   "execution_count": 30,
   "id": "b6388fb4",
   "metadata": {},
   "outputs": [
    {
     "name": "stdout",
     "output_type": "stream",
     "text": [
      "Extracted alphabets from string harshadah2015@1997 are : harshadah\n"
     ]
    }
   ],
   "source": [
    "s = \"harshadah2015@1997\"\n",
    "alpha = \"\"                            #initalizing empty string to extract all alphabets\n",
    "for char in s:\n",
    "    if char.isalpha():\n",
    "        alpha+=char\n",
    "    else:\n",
    "        pass\n",
    "print(f'Extracted alphabets from string {s} are : {alpha}')"
   ]
  },
  {
   "cell_type": "markdown",
   "id": "48d78c55",
   "metadata": {},
   "source": [
    "# 26. Count the number of uppercase letters in a string."
   ]
  },
  {
   "cell_type": "code",
   "execution_count": 31,
   "id": "e5583446",
   "metadata": {},
   "outputs": [
    {
     "name": "stdout",
     "output_type": "stream",
     "text": [
      "No of uppercase letter in string Hello World , My world!#@ are: 3\n"
     ]
    }
   ],
   "source": [
    "s = \"Hello World , My world!#@\"\n",
    "upper=0                           #Initializing counter\n",
    "for i in s:\n",
    "    if i.isupper():\n",
    "        upper+=1\n",
    "    else:\n",
    "        pass\n",
    "print(f\"No of uppercase letter in string {s} are: {upper}\")"
   ]
  },
  {
   "cell_type": "markdown",
   "id": "8be8c6b2",
   "metadata": {},
   "source": [
    "# 27. Count the number of lowercase letters in a string."
   ]
  },
  {
   "cell_type": "code",
   "execution_count": 32,
   "id": "c65f7cd4",
   "metadata": {},
   "outputs": [
    {
     "name": "stdout",
     "output_type": "stream",
     "text": [
      "No of uppercase letter in string Hello World , My world!#@ are: 14\n"
     ]
    }
   ],
   "source": [
    "s = \"Hello World , My world!#@\"\n",
    "lower=0\n",
    "for i in s:\n",
    "    if i.islower():\n",
    "        lower+=1\n",
    "    else:\n",
    "        pass\n",
    "print(f\"No of uppercase letter in string {s} are: {lower}\")"
   ]
  },
  {
   "cell_type": "markdown",
   "id": "25ad9484",
   "metadata": {},
   "source": [
    "# 28. Swap the case of each character in a string."
   ]
  },
  {
   "cell_type": "code",
   "execution_count": 33,
   "id": "8188cd3c",
   "metadata": {},
   "outputs": [
    {
     "name": "stdout",
     "output_type": "stream",
     "text": [
      "Swapped string is : hELLOwORLD\n"
     ]
    }
   ],
   "source": [
    "s = \"HelloWorld\"\n",
    "print(f\"Swapped string is : {s.swapcase()}\")"
   ]
  },
  {
   "cell_type": "markdown",
   "id": "8bb51033",
   "metadata": {},
   "source": [
    "# 29. Remove a specific word from a string."
   ]
  },
  {
   "cell_type": "code",
   "execution_count": 40,
   "id": "56cf0b4b",
   "metadata": {},
   "outputs": [
    {
     "name": "stdout",
     "output_type": "stream",
     "text": [
      "Hello, Welcome to the of data science.\n"
     ]
    }
   ],
   "source": [
    "given_string = \"Hello, Welcome to the world of data science.\"\n",
    "word_remove = \"world\"\n",
    "\n",
    "words = given_string.split()     #splitting string into list of words\n",
    "filtered = [word for word in words if word!=word_remove] #removing unwanted word\n",
    "result = ' '.join(filtered)   #joining the words to create resulted string\n",
    "print(f\"{result}\")"
   ]
  },
  {
   "cell_type": "markdown",
   "id": "9e7082d5",
   "metadata": {},
   "source": [
    "# 30. Check if a string is a valid email address."
   ]
  },
  {
   "cell_type": "code",
   "execution_count": 41,
   "id": "30adc4bb",
   "metadata": {},
   "outputs": [],
   "source": [
    "import re"
   ]
  },
  {
   "cell_type": "code",
   "execution_count": 44,
   "id": "fcb2fa8f",
   "metadata": {},
   "outputs": [
    {
     "name": "stdout",
     "output_type": "stream",
     "text": [
      "Enter email address:har#sh12\n",
      "Not Valid\n"
     ]
    }
   ],
   "source": [
    "email = input('Enter email address:')\n",
    "pattern = r'^\\w+([\\.-]?\\w+)*@\\w+([\\.-]?\\w+)*(\\.\\w{2,3})+$'\n",
    "\n",
    "if re.match(pattern,email):\n",
    "    print(\"Valid\")\n",
    "else:\n",
    "    print(\"Not Valid\")"
   ]
  },
  {
   "cell_type": "markdown",
   "id": "7859e1db",
   "metadata": {},
   "source": [
    "# 31. Extract the username from an email address string."
   ]
  },
  {
   "cell_type": "code",
   "execution_count": 45,
   "id": "7bd38aa9",
   "metadata": {},
   "outputs": [
    {
     "name": "stdout",
     "output_type": "stream",
     "text": [
      "Enter email address:harshadah2015@gmail.com\n",
      "username=harshadah2015\n"
     ]
    }
   ],
   "source": [
    "email = input(\"Enter email address:\")\n",
    "username=email.split('@')[0]\n",
    "print(f'username={username}')"
   ]
  },
  {
   "cell_type": "markdown",
   "id": "8a267a40",
   "metadata": {},
   "source": [
    "# 32. Extract the domain name from an email address string."
   ]
  },
  {
   "cell_type": "code",
   "execution_count": 46,
   "id": "6bdb201f",
   "metadata": {},
   "outputs": [
    {
     "name": "stdout",
     "output_type": "stream",
     "text": [
      "Enter email address:harshadah2015@gmail.com\n",
      "domain name=gmail.com\n"
     ]
    }
   ],
   "source": [
    "email = input(\"Enter email address:\")\n",
    "domain=email.split('@')[1]\n",
    "print(f'domain name={domain}')"
   ]
  },
  {
   "cell_type": "markdown",
   "id": "31a3d806",
   "metadata": {},
   "source": [
    "# 33. Replace multiple spaces in a string with a single space."
   ]
  },
  {
   "cell_type": "code",
   "execution_count": 49,
   "id": "9bc56f97",
   "metadata": {},
   "outputs": [
    {
     "name": "stdout",
     "output_type": "stream",
     "text": [
      "Hi, how are you\n"
     ]
    }
   ],
   "source": [
    "string = \"Hi, how    are     you\"\n",
    "print(' '.join(string.split()))"
   ]
  },
  {
   "cell_type": "markdown",
   "id": "8ce20e13",
   "metadata": {},
   "source": [
    "# 34. Check if a string is a valid URL."
   ]
  },
  {
   "cell_type": "code",
   "execution_count": null,
   "id": "7cb3acee",
   "metadata": {},
   "outputs": [],
   "source": []
  },
  {
   "cell_type": "markdown",
   "id": "49bdff69",
   "metadata": {},
   "source": [
    "# 35. Extract the protocol (http or https) from a URL string."
   ]
  },
  {
   "cell_type": "code",
   "execution_count": 50,
   "id": "141d9a7e",
   "metadata": {},
   "outputs": [
    {
     "name": "stdout",
     "output_type": "stream",
     "text": [
      "https://www.hostinger.com/\n",
      "protocol-https\n",
      "https://www.microsoft.com/\n",
      "protocol-https\n",
      "http://example.com\n",
      "protocol-http\n"
     ]
    }
   ],
   "source": [
    "url1 = \"https://www.hostinger.com/\"\n",
    "url2 = \"https://www.microsoft.com/\"\n",
    "url3 = \"http://example.com\"\n",
    "\n",
    "def protocol(url):\n",
    "    end = url.find('://')\n",
    "    if end == -1:\n",
    "        return None\n",
    "    else:\n",
    "        protocol = url[:end]\n",
    "        return protocol\n",
    "    \n",
    "print(f\"{url1}\\nprotocol-{protocol(url1)}\")\n",
    "print(f\"{url2}\\nprotocol-{protocol(url2)}\")\n",
    "print(f\"{url3}\\nprotocol-{protocol(url3)}\")"
   ]
  },
  {
   "cell_type": "markdown",
   "id": "45583f93",
   "metadata": {},
   "source": [
    "# 36. Find the frequency of each character in a string."
   ]
  },
  {
   "cell_type": "code",
   "execution_count": 61,
   "id": "71a449f8",
   "metadata": {},
   "outputs": [
    {
     "name": "stdout",
     "output_type": "stream",
     "text": [
      "Count of characters in string 'aabbbcdebbfghhiiffdd'\n",
      "{'b': 5, 'g': 1, 'e': 1, 'a': 2, 'c': 1, 'i': 2, 'h': 2, 'f': 3, 'd': 3}\n"
     ]
    }
   ],
   "source": [
    "string = \"aabbbcdebbfghhiiffdd\"\n",
    "# list_string = list(string)    #converting string into list ['a', 'a', 'b', 'b', 'b', 'c', 'd', 'e', 'b', 'b', 'f', 'g', 'h', 'h', 'i', 'i', 'f', 'f', 'd', 'd']\n",
    "\n",
    "# print(list_string)\n",
    "set_string = set(string)  #converting into set {'b', 'g', 'e', 'a', 'c', 'i', 'h', 'f', 'd'}\n",
    "\n",
    "print(f\"Count of characters in string '{string}'\")\n",
    "count_char={}\n",
    "\n",
    "for i in set_string:\n",
    "    count_char[i] = string.count(i)\n",
    "print(count_char)"
   ]
  },
  {
   "cell_type": "markdown",
   "id": "5df60b8b",
   "metadata": {},
   "source": [
    "# 37. Remove all punctuation from a string."
   ]
  },
  {
   "cell_type": "code",
   "execution_count": 1,
   "id": "1e089925",
   "metadata": {},
   "outputs": [
    {
     "name": "stdout",
     "output_type": "stream",
     "text": [
      "abdc1ilG\n"
     ]
    }
   ],
   "source": [
    "import string\n",
    "\n",
    "test_str = \"abdc@@1il&*G%\"\n",
    "\n",
    "test_str = test_str.translate(str.maketrans('','',string.punctuation))\n",
    "print(test_str)\n"
   ]
  },
  {
   "cell_type": "code",
   "execution_count": 2,
   "id": "cb8bbe2d",
   "metadata": {},
   "outputs": [
    {
     "name": "stdout",
     "output_type": "stream",
     "text": [
      "Orignal string is:  abd c@@1il &*G%...@?:\n",
      "The string after removal of punctuation:  abd c1il G\n"
     ]
    }
   ],
   "source": [
    "import re\n",
    "\n",
    "test_str = \"abd c@@1il &*G%...@?:\"\n",
    "\n",
    "print(\"Orignal string is: \",test_str)\n",
    "\n",
    "res = re.sub(r'[^\\w\\s]','',test_str)\n",
    "\n",
    "print(\"The string after removal of punctuation: \",res)"
   ]
  },
  {
   "cell_type": "markdown",
   "id": "38f02571",
   "metadata": {},
   "source": [
    "# 41. Check if two strings are anagrams."
   ]
  },
  {
   "cell_type": "code",
   "execution_count": 4,
   "id": "98c18c50",
   "metadata": {},
   "outputs": [
    {
     "name": "stdout",
     "output_type": "stream",
     "text": [
      "They are anagram\n",
      "They are not anagram\n"
     ]
    }
   ],
   "source": [
    "def is_anagram(a,b):\n",
    "    sorted_a = sorted(a)\n",
    "    sorted_b = sorted(b)\n",
    "    \n",
    "    if sorted_a == sorted_b:\n",
    "        print(\"They are anagram\")\n",
    "    else:\n",
    "        print(\"They are not anagram\")\n",
    "\n",
    "is_anagram('listen','silent')\n",
    "is_anagram('arm','gram')"
   ]
  },
  {
   "cell_type": "markdown",
   "id": "0d020ecb",
   "metadata": {},
   "source": [
    "# 42. Encode a string using a Caesar cipher."
   ]
  },
  {
   "cell_type": "code",
   "execution_count": 7,
   "id": "d98ba819",
   "metadata": {},
   "outputs": [
    {
     "name": "stdout",
     "output_type": "stream",
     "text": [
      "Plain txt : Hello Everyone\n",
      "Shift pattern : 4\n",
      "Cipher: MjqqtsJajwdtsj\n"
     ]
    }
   ],
   "source": [
    "# The decryption is the same as encryption. We can create a function that will accomplish shifting in the opposite path to decrypt the original text. However, we can use the cyclic property of the cipher under the module.\n",
    "# Cipher(n) = De-cipher(26-n)\n",
    "\n",
    "\n",
    "def encypt_func(txt, s):  \n",
    "    result = \"\"  \n",
    "  \n",
    "  \n",
    "# transverse the plain txt  \n",
    "    for i in range(len(txt)):\n",
    "        txt = txt.strip()\n",
    "        char = txt[i]  \n",
    "        # encypt_func uppercase characters in plain txt  \n",
    "  \n",
    "        if (char.isupper()):  \n",
    "            result += chr((ord(char) + s - 64) % 26 + 65)  \n",
    "        # encypt_func lowercase characters in plain txt  \n",
    "        else:  \n",
    "            result += chr((ord(char) + s - 96) % 26 + 97)  \n",
    "    return result  \n",
    "# check the above function  \n",
    "txt = \"Hello Everyone\"  \n",
    "s = 4  \n",
    "  \n",
    "print(\"Plain txt : \" + txt)  \n",
    "print(\"Shift pattern : \" + str(s))  \n",
    "print(\"Cipher: \" + encypt_func(txt, s))  "
   ]
  },
  {
   "cell_type": "markdown",
   "id": "60018ade",
   "metadata": {},
   "source": [
    "# 43. Decode a Caesar cipher encoded string."
   ]
  },
  {
   "cell_type": "code",
   "execution_count": 13,
   "id": "6b2acf5c",
   "metadata": {},
   "outputs": [
    {
     "name": "stdout",
     "output_type": "stream",
     "text": [
      "encypted text : MjqqtsJajwdtsj\n",
      "Shift pattern : 4\n",
      "Cipher: HqxxazEhqdkazq\n"
     ]
    }
   ],
   "source": [
    "def decrypt(txt, s):\n",
    "    \n",
    "    \n",
    "\n",
    "    result = \"\"  \n",
    "  \n",
    "  \n",
    "# transverse the plain txt  \n",
    "    for i in range(len(txt)):\n",
    "        txt = txt.strip()\n",
    "        char = txt[i]  \n",
    "        # encypt_func uppercase characters in plain txt  \n",
    "  \n",
    "        if (char.isupper()):  \n",
    "            result += chr((ord(char) - s + 64) % 26 + 65)  \n",
    "        # encypt_func lowercase characters in plain txt  \n",
    "        else:  \n",
    "            result += chr((ord(char) - s + 96) % 26 + 97)  \n",
    "    return result \n",
    "\n",
    "#enter your encrypted message(string) below\n",
    "txt = 'MjqqtsJajwdtsj'\n",
    "s = 4\n",
    "\n",
    "print(\"encypted text : \" + txt)  \n",
    "print(\"Shift pattern : \" + str(s))  \n",
    "print(\"Cipher: \" + decrypt(txt, s))  "
   ]
  },
  {
   "cell_type": "code",
   "execution_count": null,
   "id": "6fd8464f",
   "metadata": {},
   "outputs": [],
   "source": []
  }
 ],
 "metadata": {
  "kernelspec": {
   "display_name": "Python 3 (ipykernel)",
   "language": "python",
   "name": "python3"
  },
  "language_info": {
   "codemirror_mode": {
    "name": "ipython",
    "version": 3
   },
   "file_extension": ".py",
   "mimetype": "text/x-python",
   "name": "python",
   "nbconvert_exporter": "python",
   "pygments_lexer": "ipython3",
   "version": "3.9.7"
  }
 },
 "nbformat": 4,
 "nbformat_minor": 5
}
